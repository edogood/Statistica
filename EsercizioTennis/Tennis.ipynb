{
 "cells": [
  {
   "cell_type": "markdown",
   "metadata": {},
   "source": [
    "# Tennis"
   ]
  },
  {
   "cell_type": "code",
   "execution_count": 2,
   "metadata": {},
   "outputs": [],
   "source": [
    "import pandas as pd\n",
    "import numpy as np\n",
    "import matplotlib.pyplot as plt\n",
    "import seaborn as sns\n",
    "import plotly.graph_objects as go\n",
    "import statsmodels.api as sm\n",
    "import plotly.express as px\n",
    "from plotly.subplots import make_subplots as sp\n",
    "from sklearn.linear_model import LogisticRegression\n",
    "from sklearn.metrics import log_loss"
   ]
  },
  {
   "cell_type": "code",
   "execution_count": 3,
   "metadata": {},
   "outputs": [],
   "source": [
    "df = pd.read_csv('matches.csv')\n",
    "#fammi il df dei giocatori su winner name, loser name\n",
    "df_players = pd.concat([df['winner_name'], df['loser_name']])\n",
    "df_players = df_players.to_frame()\n",
    "df_players.columns = ['name']\n",
    "df_players = df_players.drop_duplicates()\n",
    "df_players = df_players.reset_index(drop=True)\n",
    "df['tourney_name'] = df['tourney_name'].apply(lambda name: 'Davis Cup' if 'Davis Cup' in name else name)\n"
   ]
  },
  {
   "cell_type": "markdown",
   "metadata": {},
   "source": [
    "# 1. Quante partite ha vinto Tsisipas?"
   ]
  },
  {
   "cell_type": "code",
   "execution_count": 4,
   "metadata": {},
   "outputs": [
    {
     "data": {
      "application/vnd.plotly.v1+json": {
       "config": {
        "plotlyServerURL": "https://plot.ly"
       },
       "data": [
        {
         "marker": {
          "color": "#d2f644",
          "line": {
           "color": "black",
           "width": 2
          }
         },
         "name": "Vinte",
         "type": "bar",
         "x": [
          "Vinte"
         ],
         "y": [
          50
         ]
        },
        {
         "marker": {
          "color": "black",
          "line": {
           "color": "#d2f644",
           "width": 2
          }
         },
         "name": "Perse",
         "type": "bar",
         "x": [
          "Perse"
         ],
         "y": [
          24
         ]
        }
       ],
       "layout": {
        "template": {
         "data": {
          "bar": [
           {
            "error_x": {
             "color": "#2a3f5f"
            },
            "error_y": {
             "color": "#2a3f5f"
            },
            "marker": {
             "line": {
              "color": "white",
              "width": 0.5
             },
             "pattern": {
              "fillmode": "overlay",
              "size": 10,
              "solidity": 0.2
             }
            },
            "type": "bar"
           }
          ],
          "barpolar": [
           {
            "marker": {
             "line": {
              "color": "white",
              "width": 0.5
             },
             "pattern": {
              "fillmode": "overlay",
              "size": 10,
              "solidity": 0.2
             }
            },
            "type": "barpolar"
           }
          ],
          "carpet": [
           {
            "aaxis": {
             "endlinecolor": "#2a3f5f",
             "gridcolor": "#C8D4E3",
             "linecolor": "#C8D4E3",
             "minorgridcolor": "#C8D4E3",
             "startlinecolor": "#2a3f5f"
            },
            "baxis": {
             "endlinecolor": "#2a3f5f",
             "gridcolor": "#C8D4E3",
             "linecolor": "#C8D4E3",
             "minorgridcolor": "#C8D4E3",
             "startlinecolor": "#2a3f5f"
            },
            "type": "carpet"
           }
          ],
          "choropleth": [
           {
            "colorbar": {
             "outlinewidth": 0,
             "ticks": ""
            },
            "type": "choropleth"
           }
          ],
          "contour": [
           {
            "colorbar": {
             "outlinewidth": 0,
             "ticks": ""
            },
            "colorscale": [
             [
              0,
              "#0d0887"
             ],
             [
              0.1111111111111111,
              "#46039f"
             ],
             [
              0.2222222222222222,
              "#7201a8"
             ],
             [
              0.3333333333333333,
              "#9c179e"
             ],
             [
              0.4444444444444444,
              "#bd3786"
             ],
             [
              0.5555555555555556,
              "#d8576b"
             ],
             [
              0.6666666666666666,
              "#ed7953"
             ],
             [
              0.7777777777777778,
              "#fb9f3a"
             ],
             [
              0.8888888888888888,
              "#fdca26"
             ],
             [
              1,
              "#f0f921"
             ]
            ],
            "type": "contour"
           }
          ],
          "contourcarpet": [
           {
            "colorbar": {
             "outlinewidth": 0,
             "ticks": ""
            },
            "type": "contourcarpet"
           }
          ],
          "heatmap": [
           {
            "colorbar": {
             "outlinewidth": 0,
             "ticks": ""
            },
            "colorscale": [
             [
              0,
              "#0d0887"
             ],
             [
              0.1111111111111111,
              "#46039f"
             ],
             [
              0.2222222222222222,
              "#7201a8"
             ],
             [
              0.3333333333333333,
              "#9c179e"
             ],
             [
              0.4444444444444444,
              "#bd3786"
             ],
             [
              0.5555555555555556,
              "#d8576b"
             ],
             [
              0.6666666666666666,
              "#ed7953"
             ],
             [
              0.7777777777777778,
              "#fb9f3a"
             ],
             [
              0.8888888888888888,
              "#fdca26"
             ],
             [
              1,
              "#f0f921"
             ]
            ],
            "type": "heatmap"
           }
          ],
          "histogram": [
           {
            "marker": {
             "pattern": {
              "fillmode": "overlay",
              "size": 10,
              "solidity": 0.2
             }
            },
            "type": "histogram"
           }
          ],
          "histogram2d": [
           {
            "colorbar": {
             "outlinewidth": 0,
             "ticks": ""
            },
            "colorscale": [
             [
              0,
              "#0d0887"
             ],
             [
              0.1111111111111111,
              "#46039f"
             ],
             [
              0.2222222222222222,
              "#7201a8"
             ],
             [
              0.3333333333333333,
              "#9c179e"
             ],
             [
              0.4444444444444444,
              "#bd3786"
             ],
             [
              0.5555555555555556,
              "#d8576b"
             ],
             [
              0.6666666666666666,
              "#ed7953"
             ],
             [
              0.7777777777777778,
              "#fb9f3a"
             ],
             [
              0.8888888888888888,
              "#fdca26"
             ],
             [
              1,
              "#f0f921"
             ]
            ],
            "type": "histogram2d"
           }
          ],
          "histogram2dcontour": [
           {
            "colorbar": {
             "outlinewidth": 0,
             "ticks": ""
            },
            "colorscale": [
             [
              0,
              "#0d0887"
             ],
             [
              0.1111111111111111,
              "#46039f"
             ],
             [
              0.2222222222222222,
              "#7201a8"
             ],
             [
              0.3333333333333333,
              "#9c179e"
             ],
             [
              0.4444444444444444,
              "#bd3786"
             ],
             [
              0.5555555555555556,
              "#d8576b"
             ],
             [
              0.6666666666666666,
              "#ed7953"
             ],
             [
              0.7777777777777778,
              "#fb9f3a"
             ],
             [
              0.8888888888888888,
              "#fdca26"
             ],
             [
              1,
              "#f0f921"
             ]
            ],
            "type": "histogram2dcontour"
           }
          ],
          "mesh3d": [
           {
            "colorbar": {
             "outlinewidth": 0,
             "ticks": ""
            },
            "type": "mesh3d"
           }
          ],
          "parcoords": [
           {
            "line": {
             "colorbar": {
              "outlinewidth": 0,
              "ticks": ""
             }
            },
            "type": "parcoords"
           }
          ],
          "pie": [
           {
            "automargin": true,
            "type": "pie"
           }
          ],
          "scatter": [
           {
            "fillpattern": {
             "fillmode": "overlay",
             "size": 10,
             "solidity": 0.2
            },
            "type": "scatter"
           }
          ],
          "scatter3d": [
           {
            "line": {
             "colorbar": {
              "outlinewidth": 0,
              "ticks": ""
             }
            },
            "marker": {
             "colorbar": {
              "outlinewidth": 0,
              "ticks": ""
             }
            },
            "type": "scatter3d"
           }
          ],
          "scattercarpet": [
           {
            "marker": {
             "colorbar": {
              "outlinewidth": 0,
              "ticks": ""
             }
            },
            "type": "scattercarpet"
           }
          ],
          "scattergeo": [
           {
            "marker": {
             "colorbar": {
              "outlinewidth": 0,
              "ticks": ""
             }
            },
            "type": "scattergeo"
           }
          ],
          "scattergl": [
           {
            "marker": {
             "colorbar": {
              "outlinewidth": 0,
              "ticks": ""
             }
            },
            "type": "scattergl"
           }
          ],
          "scattermap": [
           {
            "marker": {
             "colorbar": {
              "outlinewidth": 0,
              "ticks": ""
             }
            },
            "type": "scattermap"
           }
          ],
          "scattermapbox": [
           {
            "marker": {
             "colorbar": {
              "outlinewidth": 0,
              "ticks": ""
             }
            },
            "type": "scattermapbox"
           }
          ],
          "scatterpolar": [
           {
            "marker": {
             "colorbar": {
              "outlinewidth": 0,
              "ticks": ""
             }
            },
            "type": "scatterpolar"
           }
          ],
          "scatterpolargl": [
           {
            "marker": {
             "colorbar": {
              "outlinewidth": 0,
              "ticks": ""
             }
            },
            "type": "scatterpolargl"
           }
          ],
          "scatterternary": [
           {
            "marker": {
             "colorbar": {
              "outlinewidth": 0,
              "ticks": ""
             }
            },
            "type": "scatterternary"
           }
          ],
          "surface": [
           {
            "colorbar": {
             "outlinewidth": 0,
             "ticks": ""
            },
            "colorscale": [
             [
              0,
              "#0d0887"
             ],
             [
              0.1111111111111111,
              "#46039f"
             ],
             [
              0.2222222222222222,
              "#7201a8"
             ],
             [
              0.3333333333333333,
              "#9c179e"
             ],
             [
              0.4444444444444444,
              "#bd3786"
             ],
             [
              0.5555555555555556,
              "#d8576b"
             ],
             [
              0.6666666666666666,
              "#ed7953"
             ],
             [
              0.7777777777777778,
              "#fb9f3a"
             ],
             [
              0.8888888888888888,
              "#fdca26"
             ],
             [
              1,
              "#f0f921"
             ]
            ],
            "type": "surface"
           }
          ],
          "table": [
           {
            "cells": {
             "fill": {
              "color": "#EBF0F8"
             },
             "line": {
              "color": "white"
             }
            },
            "header": {
             "fill": {
              "color": "#C8D4E3"
             },
             "line": {
              "color": "white"
             }
            },
            "type": "table"
           }
          ]
         },
         "layout": {
          "annotationdefaults": {
           "arrowcolor": "#2a3f5f",
           "arrowhead": 0,
           "arrowwidth": 1
          },
          "autotypenumbers": "strict",
          "coloraxis": {
           "colorbar": {
            "outlinewidth": 0,
            "ticks": ""
           }
          },
          "colorscale": {
           "diverging": [
            [
             0,
             "#8e0152"
            ],
            [
             0.1,
             "#c51b7d"
            ],
            [
             0.2,
             "#de77ae"
            ],
            [
             0.3,
             "#f1b6da"
            ],
            [
             0.4,
             "#fde0ef"
            ],
            [
             0.5,
             "#f7f7f7"
            ],
            [
             0.6,
             "#e6f5d0"
            ],
            [
             0.7,
             "#b8e186"
            ],
            [
             0.8,
             "#7fbc41"
            ],
            [
             0.9,
             "#4d9221"
            ],
            [
             1,
             "#276419"
            ]
           ],
           "sequential": [
            [
             0,
             "#0d0887"
            ],
            [
             0.1111111111111111,
             "#46039f"
            ],
            [
             0.2222222222222222,
             "#7201a8"
            ],
            [
             0.3333333333333333,
             "#9c179e"
            ],
            [
             0.4444444444444444,
             "#bd3786"
            ],
            [
             0.5555555555555556,
             "#d8576b"
            ],
            [
             0.6666666666666666,
             "#ed7953"
            ],
            [
             0.7777777777777778,
             "#fb9f3a"
            ],
            [
             0.8888888888888888,
             "#fdca26"
            ],
            [
             1,
             "#f0f921"
            ]
           ],
           "sequentialminus": [
            [
             0,
             "#0d0887"
            ],
            [
             0.1111111111111111,
             "#46039f"
            ],
            [
             0.2222222222222222,
             "#7201a8"
            ],
            [
             0.3333333333333333,
             "#9c179e"
            ],
            [
             0.4444444444444444,
             "#bd3786"
            ],
            [
             0.5555555555555556,
             "#d8576b"
            ],
            [
             0.6666666666666666,
             "#ed7953"
            ],
            [
             0.7777777777777778,
             "#fb9f3a"
            ],
            [
             0.8888888888888888,
             "#fdca26"
            ],
            [
             1,
             "#f0f921"
            ]
           ]
          },
          "colorway": [
           "#636efa",
           "#EF553B",
           "#00cc96",
           "#ab63fa",
           "#FFA15A",
           "#19d3f3",
           "#FF6692",
           "#B6E880",
           "#FF97FF",
           "#FECB52"
          ],
          "font": {
           "color": "#2a3f5f"
          },
          "geo": {
           "bgcolor": "white",
           "lakecolor": "white",
           "landcolor": "white",
           "showlakes": true,
           "showland": true,
           "subunitcolor": "#C8D4E3"
          },
          "hoverlabel": {
           "align": "left"
          },
          "hovermode": "closest",
          "mapbox": {
           "style": "light"
          },
          "paper_bgcolor": "white",
          "plot_bgcolor": "white",
          "polar": {
           "angularaxis": {
            "gridcolor": "#EBF0F8",
            "linecolor": "#EBF0F8",
            "ticks": ""
           },
           "bgcolor": "white",
           "radialaxis": {
            "gridcolor": "#EBF0F8",
            "linecolor": "#EBF0F8",
            "ticks": ""
           }
          },
          "scene": {
           "xaxis": {
            "backgroundcolor": "white",
            "gridcolor": "#DFE8F3",
            "gridwidth": 2,
            "linecolor": "#EBF0F8",
            "showbackground": true,
            "ticks": "",
            "zerolinecolor": "#EBF0F8"
           },
           "yaxis": {
            "backgroundcolor": "white",
            "gridcolor": "#DFE8F3",
            "gridwidth": 2,
            "linecolor": "#EBF0F8",
            "showbackground": true,
            "ticks": "",
            "zerolinecolor": "#EBF0F8"
           },
           "zaxis": {
            "backgroundcolor": "white",
            "gridcolor": "#DFE8F3",
            "gridwidth": 2,
            "linecolor": "#EBF0F8",
            "showbackground": true,
            "ticks": "",
            "zerolinecolor": "#EBF0F8"
           }
          },
          "shapedefaults": {
           "line": {
            "color": "#2a3f5f"
           }
          },
          "ternary": {
           "aaxis": {
            "gridcolor": "#DFE8F3",
            "linecolor": "#A2B1C6",
            "ticks": ""
           },
           "baxis": {
            "gridcolor": "#DFE8F3",
            "linecolor": "#A2B1C6",
            "ticks": ""
           },
           "bgcolor": "white",
           "caxis": {
            "gridcolor": "#DFE8F3",
            "linecolor": "#A2B1C6",
            "ticks": ""
           }
          },
          "title": {
           "x": 0.05
          },
          "xaxis": {
           "automargin": true,
           "gridcolor": "#EBF0F8",
           "linecolor": "#EBF0F8",
           "ticks": "",
           "title": {
            "standoff": 15
           },
           "zerolinecolor": "#EBF0F8",
           "zerolinewidth": 2
          },
          "yaxis": {
           "automargin": true,
           "gridcolor": "#EBF0F8",
           "linecolor": "#EBF0F8",
           "ticks": "",
           "title": {
            "standoff": 15
           },
           "zerolinecolor": "#EBF0F8",
           "zerolinewidth": 2
          }
         }
        },
        "title": {
         "text": "Partite vinte e perse da Stefanos Tsitsipas"
        },
        "xaxis": {
         "title": {
          "text": "Esito"
         }
        },
        "yaxis": {
         "title": {
          "text": "Numero di partite"
         }
        }
       }
      }
     },
     "metadata": {},
     "output_type": "display_data"
    },
    {
     "name": "stdout",
     "output_type": "stream",
     "text": [
      "Partite vinte: 50\n",
      "Partite perse: 24\n"
     ]
    }
   ],
   "source": [
    "# Verifica il nome del giocatore\n",
    "player_name = \"Stefanos Tsitsipas\"\n",
    "\n",
    "# Filtra le partite vinte e perse\n",
    "matches_won = df[df['winner_name'] == player_name].shape[0]\n",
    "matches_lost = df[df['loser_name'] == player_name].shape[0]\n",
    "\n",
    "# Crea il grafico con edge color\n",
    "fig = go.Figure(data=[\n",
    "    go.Bar(\n",
    "        name='Vinte',\n",
    "        x=['Vinte'],\n",
    "        y=[matches_won],\n",
    "        marker=dict(\n",
    "            color='#d2f644',\n",
    "            line=dict(color='black', width=2)  # bordo nero\n",
    "        )\n",
    "    ),\n",
    "    go.Bar(\n",
    "        name='Perse',\n",
    "        x=['Perse'],\n",
    "        y=[matches_lost],\n",
    "        marker=dict(\n",
    "            color='black',\n",
    "            line=dict(color='#d2f644', width=2)  # bordo giallo lime\n",
    "        )\n",
    "    )\n",
    "])\n",
    "\n",
    "# Layout figo\n",
    "fig.update_layout(\n",
    "    title=f'Partite vinte e perse da {player_name}',\n",
    "    xaxis_title='Esito',\n",
    "    yaxis_title='Numero di partite',\n",
    "    template='plotly_white'\n",
    ")\n",
    "\n",
    "fig.show()\n",
    "\n",
    "# Fammi il print delle partite vinte e perse\n",
    "print(f\"Partite vinte: {matches_won}\")\n",
    "print(f\"Partite perse: {matches_lost}\")"
   ]
  },
  {
   "cell_type": "markdown",
   "metadata": {},
   "source": [
    "# 2. Qual è l’altezza media dei giocatori nel circuito?"
   ]
  },
  {
   "cell_type": "code",
   "execution_count": 5,
   "metadata": {},
   "outputs": [
    {
     "data": {
      "application/vnd.plotly.v1+json": {
       "config": {
        "plotlyServerURL": "https://plot.ly"
       },
       "data": [
        {
         "marker": {
          "color": "#d2f644",
          "line": {
           "color": "black",
           "width": 1.5
          }
         },
         "name": "Numero di giocatori",
         "type": "bar",
         "x": {
          "bdata": "qgCsAK0ArwCyALQAtwC5ALwAvgC/AMEAxADGAMkAywDOAA==",
          "dtype": "i2"
         },
         "y": {
          "bdata": "BQEDBwwYMjktBRQTEQgCAQE=",
          "dtype": "i1"
         }
        },
        {
         "line": {
          "color": "red",
          "dash": "dash"
         },
         "mode": "lines",
         "name": "Media: 186.07 cm",
         "type": "scatter",
         "x": [
          186.07,
          186.07
         ],
         "y": [
          0,
          57
         ]
        },
        {
         "line": {
          "color": "black",
          "shape": "spline",
          "width": 2
         },
         "mode": "lines",
         "name": "Curva altezza",
         "type": "scatter",
         "x": {
          "bdata": "qgCsAK0ArwCyALQAtwC5ALwAvgC/AMEAxADGAMkAywDOAA==",
          "dtype": "i2"
         },
         "y": {
          "bdata": "BQEDBwwYMjktBRQTEQgCAQE=",
          "dtype": "i1"
         }
        }
       ],
       "layout": {
        "height": 500,
        "margin": {
         "b": 40,
         "l": 30,
         "r": 30,
         "t": 50
        },
        "showlegend": true,
        "template": {
         "data": {
          "bar": [
           {
            "error_x": {
             "color": "#2a3f5f"
            },
            "error_y": {
             "color": "#2a3f5f"
            },
            "marker": {
             "line": {
              "color": "white",
              "width": 0.5
             },
             "pattern": {
              "fillmode": "overlay",
              "size": 10,
              "solidity": 0.2
             }
            },
            "type": "bar"
           }
          ],
          "barpolar": [
           {
            "marker": {
             "line": {
              "color": "white",
              "width": 0.5
             },
             "pattern": {
              "fillmode": "overlay",
              "size": 10,
              "solidity": 0.2
             }
            },
            "type": "barpolar"
           }
          ],
          "carpet": [
           {
            "aaxis": {
             "endlinecolor": "#2a3f5f",
             "gridcolor": "#C8D4E3",
             "linecolor": "#C8D4E3",
             "minorgridcolor": "#C8D4E3",
             "startlinecolor": "#2a3f5f"
            },
            "baxis": {
             "endlinecolor": "#2a3f5f",
             "gridcolor": "#C8D4E3",
             "linecolor": "#C8D4E3",
             "minorgridcolor": "#C8D4E3",
             "startlinecolor": "#2a3f5f"
            },
            "type": "carpet"
           }
          ],
          "choropleth": [
           {
            "colorbar": {
             "outlinewidth": 0,
             "ticks": ""
            },
            "type": "choropleth"
           }
          ],
          "contour": [
           {
            "colorbar": {
             "outlinewidth": 0,
             "ticks": ""
            },
            "colorscale": [
             [
              0,
              "#0d0887"
             ],
             [
              0.1111111111111111,
              "#46039f"
             ],
             [
              0.2222222222222222,
              "#7201a8"
             ],
             [
              0.3333333333333333,
              "#9c179e"
             ],
             [
              0.4444444444444444,
              "#bd3786"
             ],
             [
              0.5555555555555556,
              "#d8576b"
             ],
             [
              0.6666666666666666,
              "#ed7953"
             ],
             [
              0.7777777777777778,
              "#fb9f3a"
             ],
             [
              0.8888888888888888,
              "#fdca26"
             ],
             [
              1,
              "#f0f921"
             ]
            ],
            "type": "contour"
           }
          ],
          "contourcarpet": [
           {
            "colorbar": {
             "outlinewidth": 0,
             "ticks": ""
            },
            "type": "contourcarpet"
           }
          ],
          "heatmap": [
           {
            "colorbar": {
             "outlinewidth": 0,
             "ticks": ""
            },
            "colorscale": [
             [
              0,
              "#0d0887"
             ],
             [
              0.1111111111111111,
              "#46039f"
             ],
             [
              0.2222222222222222,
              "#7201a8"
             ],
             [
              0.3333333333333333,
              "#9c179e"
             ],
             [
              0.4444444444444444,
              "#bd3786"
             ],
             [
              0.5555555555555556,
              "#d8576b"
             ],
             [
              0.6666666666666666,
              "#ed7953"
             ],
             [
              0.7777777777777778,
              "#fb9f3a"
             ],
             [
              0.8888888888888888,
              "#fdca26"
             ],
             [
              1,
              "#f0f921"
             ]
            ],
            "type": "heatmap"
           }
          ],
          "histogram": [
           {
            "marker": {
             "pattern": {
              "fillmode": "overlay",
              "size": 10,
              "solidity": 0.2
             }
            },
            "type": "histogram"
           }
          ],
          "histogram2d": [
           {
            "colorbar": {
             "outlinewidth": 0,
             "ticks": ""
            },
            "colorscale": [
             [
              0,
              "#0d0887"
             ],
             [
              0.1111111111111111,
              "#46039f"
             ],
             [
              0.2222222222222222,
              "#7201a8"
             ],
             [
              0.3333333333333333,
              "#9c179e"
             ],
             [
              0.4444444444444444,
              "#bd3786"
             ],
             [
              0.5555555555555556,
              "#d8576b"
             ],
             [
              0.6666666666666666,
              "#ed7953"
             ],
             [
              0.7777777777777778,
              "#fb9f3a"
             ],
             [
              0.8888888888888888,
              "#fdca26"
             ],
             [
              1,
              "#f0f921"
             ]
            ],
            "type": "histogram2d"
           }
          ],
          "histogram2dcontour": [
           {
            "colorbar": {
             "outlinewidth": 0,
             "ticks": ""
            },
            "colorscale": [
             [
              0,
              "#0d0887"
             ],
             [
              0.1111111111111111,
              "#46039f"
             ],
             [
              0.2222222222222222,
              "#7201a8"
             ],
             [
              0.3333333333333333,
              "#9c179e"
             ],
             [
              0.4444444444444444,
              "#bd3786"
             ],
             [
              0.5555555555555556,
              "#d8576b"
             ],
             [
              0.6666666666666666,
              "#ed7953"
             ],
             [
              0.7777777777777778,
              "#fb9f3a"
             ],
             [
              0.8888888888888888,
              "#fdca26"
             ],
             [
              1,
              "#f0f921"
             ]
            ],
            "type": "histogram2dcontour"
           }
          ],
          "mesh3d": [
           {
            "colorbar": {
             "outlinewidth": 0,
             "ticks": ""
            },
            "type": "mesh3d"
           }
          ],
          "parcoords": [
           {
            "line": {
             "colorbar": {
              "outlinewidth": 0,
              "ticks": ""
             }
            },
            "type": "parcoords"
           }
          ],
          "pie": [
           {
            "automargin": true,
            "type": "pie"
           }
          ],
          "scatter": [
           {
            "fillpattern": {
             "fillmode": "overlay",
             "size": 10,
             "solidity": 0.2
            },
            "type": "scatter"
           }
          ],
          "scatter3d": [
           {
            "line": {
             "colorbar": {
              "outlinewidth": 0,
              "ticks": ""
             }
            },
            "marker": {
             "colorbar": {
              "outlinewidth": 0,
              "ticks": ""
             }
            },
            "type": "scatter3d"
           }
          ],
          "scattercarpet": [
           {
            "marker": {
             "colorbar": {
              "outlinewidth": 0,
              "ticks": ""
             }
            },
            "type": "scattercarpet"
           }
          ],
          "scattergeo": [
           {
            "marker": {
             "colorbar": {
              "outlinewidth": 0,
              "ticks": ""
             }
            },
            "type": "scattergeo"
           }
          ],
          "scattergl": [
           {
            "marker": {
             "colorbar": {
              "outlinewidth": 0,
              "ticks": ""
             }
            },
            "type": "scattergl"
           }
          ],
          "scattermap": [
           {
            "marker": {
             "colorbar": {
              "outlinewidth": 0,
              "ticks": ""
             }
            },
            "type": "scattermap"
           }
          ],
          "scattermapbox": [
           {
            "marker": {
             "colorbar": {
              "outlinewidth": 0,
              "ticks": ""
             }
            },
            "type": "scattermapbox"
           }
          ],
          "scatterpolar": [
           {
            "marker": {
             "colorbar": {
              "outlinewidth": 0,
              "ticks": ""
             }
            },
            "type": "scatterpolar"
           }
          ],
          "scatterpolargl": [
           {
            "marker": {
             "colorbar": {
              "outlinewidth": 0,
              "ticks": ""
             }
            },
            "type": "scatterpolargl"
           }
          ],
          "scatterternary": [
           {
            "marker": {
             "colorbar": {
              "outlinewidth": 0,
              "ticks": ""
             }
            },
            "type": "scatterternary"
           }
          ],
          "surface": [
           {
            "colorbar": {
             "outlinewidth": 0,
             "ticks": ""
            },
            "colorscale": [
             [
              0,
              "#0d0887"
             ],
             [
              0.1111111111111111,
              "#46039f"
             ],
             [
              0.2222222222222222,
              "#7201a8"
             ],
             [
              0.3333333333333333,
              "#9c179e"
             ],
             [
              0.4444444444444444,
              "#bd3786"
             ],
             [
              0.5555555555555556,
              "#d8576b"
             ],
             [
              0.6666666666666666,
              "#ed7953"
             ],
             [
              0.7777777777777778,
              "#fb9f3a"
             ],
             [
              0.8888888888888888,
              "#fdca26"
             ],
             [
              1,
              "#f0f921"
             ]
            ],
            "type": "surface"
           }
          ],
          "table": [
           {
            "cells": {
             "fill": {
              "color": "#EBF0F8"
             },
             "line": {
              "color": "white"
             }
            },
            "header": {
             "fill": {
              "color": "#C8D4E3"
             },
             "line": {
              "color": "white"
             }
            },
            "type": "table"
           }
          ]
         },
         "layout": {
          "annotationdefaults": {
           "arrowcolor": "#2a3f5f",
           "arrowhead": 0,
           "arrowwidth": 1
          },
          "autotypenumbers": "strict",
          "coloraxis": {
           "colorbar": {
            "outlinewidth": 0,
            "ticks": ""
           }
          },
          "colorscale": {
           "diverging": [
            [
             0,
             "#8e0152"
            ],
            [
             0.1,
             "#c51b7d"
            ],
            [
             0.2,
             "#de77ae"
            ],
            [
             0.3,
             "#f1b6da"
            ],
            [
             0.4,
             "#fde0ef"
            ],
            [
             0.5,
             "#f7f7f7"
            ],
            [
             0.6,
             "#e6f5d0"
            ],
            [
             0.7,
             "#b8e186"
            ],
            [
             0.8,
             "#7fbc41"
            ],
            [
             0.9,
             "#4d9221"
            ],
            [
             1,
             "#276419"
            ]
           ],
           "sequential": [
            [
             0,
             "#0d0887"
            ],
            [
             0.1111111111111111,
             "#46039f"
            ],
            [
             0.2222222222222222,
             "#7201a8"
            ],
            [
             0.3333333333333333,
             "#9c179e"
            ],
            [
             0.4444444444444444,
             "#bd3786"
            ],
            [
             0.5555555555555556,
             "#d8576b"
            ],
            [
             0.6666666666666666,
             "#ed7953"
            ],
            [
             0.7777777777777778,
             "#fb9f3a"
            ],
            [
             0.8888888888888888,
             "#fdca26"
            ],
            [
             1,
             "#f0f921"
            ]
           ],
           "sequentialminus": [
            [
             0,
             "#0d0887"
            ],
            [
             0.1111111111111111,
             "#46039f"
            ],
            [
             0.2222222222222222,
             "#7201a8"
            ],
            [
             0.3333333333333333,
             "#9c179e"
            ],
            [
             0.4444444444444444,
             "#bd3786"
            ],
            [
             0.5555555555555556,
             "#d8576b"
            ],
            [
             0.6666666666666666,
             "#ed7953"
            ],
            [
             0.7777777777777778,
             "#fb9f3a"
            ],
            [
             0.8888888888888888,
             "#fdca26"
            ],
            [
             1,
             "#f0f921"
            ]
           ]
          },
          "colorway": [
           "#636efa",
           "#EF553B",
           "#00cc96",
           "#ab63fa",
           "#FFA15A",
           "#19d3f3",
           "#FF6692",
           "#B6E880",
           "#FF97FF",
           "#FECB52"
          ],
          "font": {
           "color": "#2a3f5f"
          },
          "geo": {
           "bgcolor": "white",
           "lakecolor": "white",
           "landcolor": "white",
           "showlakes": true,
           "showland": true,
           "subunitcolor": "#C8D4E3"
          },
          "hoverlabel": {
           "align": "left"
          },
          "hovermode": "closest",
          "mapbox": {
           "style": "light"
          },
          "paper_bgcolor": "white",
          "plot_bgcolor": "white",
          "polar": {
           "angularaxis": {
            "gridcolor": "#EBF0F8",
            "linecolor": "#EBF0F8",
            "ticks": ""
           },
           "bgcolor": "white",
           "radialaxis": {
            "gridcolor": "#EBF0F8",
            "linecolor": "#EBF0F8",
            "ticks": ""
           }
          },
          "scene": {
           "xaxis": {
            "backgroundcolor": "white",
            "gridcolor": "#DFE8F3",
            "gridwidth": 2,
            "linecolor": "#EBF0F8",
            "showbackground": true,
            "ticks": "",
            "zerolinecolor": "#EBF0F8"
           },
           "yaxis": {
            "backgroundcolor": "white",
            "gridcolor": "#DFE8F3",
            "gridwidth": 2,
            "linecolor": "#EBF0F8",
            "showbackground": true,
            "ticks": "",
            "zerolinecolor": "#EBF0F8"
           },
           "zaxis": {
            "backgroundcolor": "white",
            "gridcolor": "#DFE8F3",
            "gridwidth": 2,
            "linecolor": "#EBF0F8",
            "showbackground": true,
            "ticks": "",
            "zerolinecolor": "#EBF0F8"
           }
          },
          "shapedefaults": {
           "line": {
            "color": "#2a3f5f"
           }
          },
          "ternary": {
           "aaxis": {
            "gridcolor": "#DFE8F3",
            "linecolor": "#A2B1C6",
            "ticks": ""
           },
           "baxis": {
            "gridcolor": "#DFE8F3",
            "linecolor": "#A2B1C6",
            "ticks": ""
           },
           "bgcolor": "white",
           "caxis": {
            "gridcolor": "#DFE8F3",
            "linecolor": "#A2B1C6",
            "ticks": ""
           }
          },
          "title": {
           "x": 0.05
          },
          "xaxis": {
           "automargin": true,
           "gridcolor": "#EBF0F8",
           "linecolor": "#EBF0F8",
           "ticks": "",
           "title": {
            "standoff": 15
           },
           "zerolinecolor": "#EBF0F8",
           "zerolinewidth": 2
          },
          "yaxis": {
           "automargin": true,
           "gridcolor": "#EBF0F8",
           "linecolor": "#EBF0F8",
           "ticks": "",
           "title": {
            "standoff": 15
           },
           "zerolinecolor": "#EBF0F8",
           "zerolinewidth": 2
          }
         }
        },
        "title": {
         "text": "Distribuzione delle Altezze dei Giocatori ATP (2023)"
        },
        "width": 1000,
        "xaxis": {
         "dtick": 1,
         "title": {
          "text": "Altezza (cm)"
         }
        },
        "yaxis": {
         "title": {
          "text": "Numero di giocatori"
         }
        }
       }
      }
     },
     "metadata": {},
     "output_type": "display_data"
    },
    {
     "name": "stdout",
     "output_type": "stream",
     "text": [
      "Media altezza giocatori: 186.07 cm\n"
     ]
    }
   ],
   "source": [
    "# Crea il DataFrame dei giocatori unici con altezza\n",
    "players_unique = pd.concat([\n",
    "    df[['winner_name', 'winner_ht']].rename(columns={'winner_name': 'name', 'winner_ht': 'height'}),\n",
    "    df[['loser_name', 'loser_ht']].rename(columns={'loser_name': 'name', 'loser_ht': 'height'})\n",
    "]).drop_duplicates(subset='name').dropna(subset=['height'])\n",
    "\n",
    "# Filtra nulli e arrotonda le altezze\n",
    "players_clean = players_unique.copy()\n",
    "players_clean['height_rounded'] = players_clean['height'].round().astype(int)\n",
    "\n",
    "# Conta le occorrenze per altezza\n",
    "height_counts = players_clean['height_rounded'].value_counts().sort_index()\n",
    "height_df = height_counts[height_counts > 0].reset_index()\n",
    "height_df.columns = ['height_cm', 'num_players']\n",
    "\n",
    "# Calcola la media\n",
    "height_avg = round(players_clean['height'].mean(), 2)\n",
    "\n",
    "# Crea la figura\n",
    "fig = go.Figure()\n",
    "\n",
    "# Istogramma con colore lime e bordo nero\n",
    "fig.add_trace(go.Bar(\n",
    "    x=height_df['height_cm'],\n",
    "    y=height_df['num_players'],\n",
    "    name='Numero di giocatori',\n",
    "    marker=dict(\n",
    "        color='#d2f644',\n",
    "        line=dict(color='black', width=1.5)\n",
    "    )\n",
    "))\n",
    "\n",
    "# Linea verticale della media\n",
    "fig.add_trace(go.Scatter(\n",
    "    x=[height_avg, height_avg],\n",
    "    y=[0, height_df['num_players'].max()],\n",
    "    mode='lines',\n",
    "    line=dict(color='red', dash='dash'),\n",
    "    name=f\"Media: {height_avg} cm\"\n",
    "))\n",
    "\n",
    "# Linea curva spline che segue le punte\n",
    "fig.add_trace(go.Scatter(\n",
    "    x=height_df['height_cm'],\n",
    "    y=height_df['num_players'],\n",
    "    mode='lines',\n",
    "    line=dict(color='black', width=2, shape='spline'),\n",
    "    name='Curva altezza'\n",
    "))\n",
    "\n",
    "# Layout finale tight\n",
    "fig.update_layout(\n",
    "    title='Distribuzione delle Altezze dei Giocatori ATP (2023)',\n",
    "    xaxis=dict(dtick=1),\n",
    "    xaxis_title='Altezza (cm)',\n",
    "    yaxis_title='Numero di giocatori',\n",
    "    height=500,\n",
    "    width=1000,\n",
    "    template='plotly_white',\n",
    "    showlegend=True,\n",
    "    margin=dict(l=30, r=30, t=50, b=40)\n",
    ")\n",
    "\n",
    "fig.show()\n",
    "\n",
    "#Fammi l'output della media\n",
    "print(f\"Media altezza giocatori: {height_avg} cm\")"
   ]
  },
  {
   "cell_type": "markdown",
   "metadata": {},
   "source": [
    "# 3. Qual è la nazionalità con l’età media più bassa?"
   ]
  },
  {
   "cell_type": "code",
   "execution_count": 6,
   "metadata": {},
   "outputs": [
    {
     "data": {
      "application/vnd.plotly.v1+json": {
       "config": {
        "plotlyServerURL": "https://plot.ly"
       },
       "data": [
        {
         "hovertemplate": "Nazione=%{x}<br>Età media=%{marker.color}<extra></extra>",
         "legendgroup": "",
         "marker": {
          "color": {
           "bdata": "ZmZmZmbmM0AzMzMzM7M0QDMzMzMz8zRAexSuR+E6NUAzMzMzM7M1QGZmZmZm5jVArkfhehTuNUAAAAAAAAA2QJqZmZmZGTZArkfhehQuNkAzMzMzMzM2QM3MzMzMTDZAuB6F61F4NkAUrkfhepQ2QM3MzMzMzDZAFK5H4XoUN0AzMzMzMzM3QJqZmZmZmTdAMzMzMzOzN0B7FK5H4bo3QA==",
           "dtype": "f8"
          },
          "coloraxis": "coloraxis",
          "pattern": {
           "shape": ""
          }
         },
         "name": "",
         "orientation": "v",
         "showlegend": false,
         "text": {
          "bdata": "ZmZmZmbmM0AzMzMzM7M0QDMzMzMz8zRAexSuR+E6NUAzMzMzM7M1QGZmZmZm5jVArkfhehTuNUAAAAAAAAA2QJqZmZmZGTZArkfhehQuNkAzMzMzMzM2QM3MzMzMTDZAuB6F61F4NkAUrkfhepQ2QM3MzMzMzDZAFK5H4XoUN0AzMzMzMzM3QJqZmZmZmTdAMzMzMzOzN0B7FK5H4bo3QA==",
          "dtype": "f8"
         },
         "textposition": "outside",
         "texttemplate": "%{text:.2f}",
         "type": "bar",
         "x": [
          "VUT",
          "MAR",
          "URU",
          "UZB",
          "DEN",
          "LBN",
          "JOR",
          "GRE",
          "HKG",
          "IRL",
          "THA",
          "CZE",
          "ROU",
          "NOR",
          "BOL",
          "EST",
          "LTU",
          "FIN",
          "JAM",
          "SLO"
         ],
         "xaxis": "x",
         "y": {
          "bdata": "ZmZmZmbmM0AzMzMzM7M0QDMzMzMz8zRAexSuR+E6NUAzMzMzM7M1QGZmZmZm5jVArkfhehTuNUAAAAAAAAA2QJqZmZmZGTZArkfhehQuNkAzMzMzMzM2QM3MzMzMTDZAuB6F61F4NkAUrkfhepQ2QM3MzMzMzDZAFK5H4XoUN0AzMzMzMzM3QJqZmZmZmTdAMzMzMzOzN0B7FK5H4bo3QA==",
          "dtype": "f8"
         },
         "yaxis": "y"
        }
       ],
       "layout": {
        "barmode": "relative",
        "coloraxis": {
         "colorbar": {
          "title": {
           "text": "Età media"
          }
         },
         "colorscale": [
          [
           0,
           "rgb(36, 86, 104)"
          ],
          [
           0.16666666666666666,
           "rgb(15, 114, 121)"
          ],
          [
           0.3333333333333333,
           "rgb(13, 143, 129)"
          ],
          [
           0.5,
           "rgb(57, 171, 126)"
          ],
          [
           0.6666666666666666,
           "rgb(110, 197, 116)"
          ],
          [
           0.8333333333333334,
           "rgb(169, 220, 103)"
          ],
          [
           1,
           "rgb(237, 239, 93)"
          ]
         ]
        },
        "legend": {
         "tracegroupgap": 0
        },
        "template": {
         "data": {
          "bar": [
           {
            "error_x": {
             "color": "#2a3f5f"
            },
            "error_y": {
             "color": "#2a3f5f"
            },
            "marker": {
             "line": {
              "color": "#E5ECF6",
              "width": 0.5
             },
             "pattern": {
              "fillmode": "overlay",
              "size": 10,
              "solidity": 0.2
             }
            },
            "type": "bar"
           }
          ],
          "barpolar": [
           {
            "marker": {
             "line": {
              "color": "#E5ECF6",
              "width": 0.5
             },
             "pattern": {
              "fillmode": "overlay",
              "size": 10,
              "solidity": 0.2
             }
            },
            "type": "barpolar"
           }
          ],
          "carpet": [
           {
            "aaxis": {
             "endlinecolor": "#2a3f5f",
             "gridcolor": "white",
             "linecolor": "white",
             "minorgridcolor": "white",
             "startlinecolor": "#2a3f5f"
            },
            "baxis": {
             "endlinecolor": "#2a3f5f",
             "gridcolor": "white",
             "linecolor": "white",
             "minorgridcolor": "white",
             "startlinecolor": "#2a3f5f"
            },
            "type": "carpet"
           }
          ],
          "choropleth": [
           {
            "colorbar": {
             "outlinewidth": 0,
             "ticks": ""
            },
            "type": "choropleth"
           }
          ],
          "contour": [
           {
            "colorbar": {
             "outlinewidth": 0,
             "ticks": ""
            },
            "colorscale": [
             [
              0,
              "#0d0887"
             ],
             [
              0.1111111111111111,
              "#46039f"
             ],
             [
              0.2222222222222222,
              "#7201a8"
             ],
             [
              0.3333333333333333,
              "#9c179e"
             ],
             [
              0.4444444444444444,
              "#bd3786"
             ],
             [
              0.5555555555555556,
              "#d8576b"
             ],
             [
              0.6666666666666666,
              "#ed7953"
             ],
             [
              0.7777777777777778,
              "#fb9f3a"
             ],
             [
              0.8888888888888888,
              "#fdca26"
             ],
             [
              1,
              "#f0f921"
             ]
            ],
            "type": "contour"
           }
          ],
          "contourcarpet": [
           {
            "colorbar": {
             "outlinewidth": 0,
             "ticks": ""
            },
            "type": "contourcarpet"
           }
          ],
          "heatmap": [
           {
            "colorbar": {
             "outlinewidth": 0,
             "ticks": ""
            },
            "colorscale": [
             [
              0,
              "#0d0887"
             ],
             [
              0.1111111111111111,
              "#46039f"
             ],
             [
              0.2222222222222222,
              "#7201a8"
             ],
             [
              0.3333333333333333,
              "#9c179e"
             ],
             [
              0.4444444444444444,
              "#bd3786"
             ],
             [
              0.5555555555555556,
              "#d8576b"
             ],
             [
              0.6666666666666666,
              "#ed7953"
             ],
             [
              0.7777777777777778,
              "#fb9f3a"
             ],
             [
              0.8888888888888888,
              "#fdca26"
             ],
             [
              1,
              "#f0f921"
             ]
            ],
            "type": "heatmap"
           }
          ],
          "histogram": [
           {
            "marker": {
             "pattern": {
              "fillmode": "overlay",
              "size": 10,
              "solidity": 0.2
             }
            },
            "type": "histogram"
           }
          ],
          "histogram2d": [
           {
            "colorbar": {
             "outlinewidth": 0,
             "ticks": ""
            },
            "colorscale": [
             [
              0,
              "#0d0887"
             ],
             [
              0.1111111111111111,
              "#46039f"
             ],
             [
              0.2222222222222222,
              "#7201a8"
             ],
             [
              0.3333333333333333,
              "#9c179e"
             ],
             [
              0.4444444444444444,
              "#bd3786"
             ],
             [
              0.5555555555555556,
              "#d8576b"
             ],
             [
              0.6666666666666666,
              "#ed7953"
             ],
             [
              0.7777777777777778,
              "#fb9f3a"
             ],
             [
              0.8888888888888888,
              "#fdca26"
             ],
             [
              1,
              "#f0f921"
             ]
            ],
            "type": "histogram2d"
           }
          ],
          "histogram2dcontour": [
           {
            "colorbar": {
             "outlinewidth": 0,
             "ticks": ""
            },
            "colorscale": [
             [
              0,
              "#0d0887"
             ],
             [
              0.1111111111111111,
              "#46039f"
             ],
             [
              0.2222222222222222,
              "#7201a8"
             ],
             [
              0.3333333333333333,
              "#9c179e"
             ],
             [
              0.4444444444444444,
              "#bd3786"
             ],
             [
              0.5555555555555556,
              "#d8576b"
             ],
             [
              0.6666666666666666,
              "#ed7953"
             ],
             [
              0.7777777777777778,
              "#fb9f3a"
             ],
             [
              0.8888888888888888,
              "#fdca26"
             ],
             [
              1,
              "#f0f921"
             ]
            ],
            "type": "histogram2dcontour"
           }
          ],
          "mesh3d": [
           {
            "colorbar": {
             "outlinewidth": 0,
             "ticks": ""
            },
            "type": "mesh3d"
           }
          ],
          "parcoords": [
           {
            "line": {
             "colorbar": {
              "outlinewidth": 0,
              "ticks": ""
             }
            },
            "type": "parcoords"
           }
          ],
          "pie": [
           {
            "automargin": true,
            "type": "pie"
           }
          ],
          "scatter": [
           {
            "fillpattern": {
             "fillmode": "overlay",
             "size": 10,
             "solidity": 0.2
            },
            "type": "scatter"
           }
          ],
          "scatter3d": [
           {
            "line": {
             "colorbar": {
              "outlinewidth": 0,
              "ticks": ""
             }
            },
            "marker": {
             "colorbar": {
              "outlinewidth": 0,
              "ticks": ""
             }
            },
            "type": "scatter3d"
           }
          ],
          "scattercarpet": [
           {
            "marker": {
             "colorbar": {
              "outlinewidth": 0,
              "ticks": ""
             }
            },
            "type": "scattercarpet"
           }
          ],
          "scattergeo": [
           {
            "marker": {
             "colorbar": {
              "outlinewidth": 0,
              "ticks": ""
             }
            },
            "type": "scattergeo"
           }
          ],
          "scattergl": [
           {
            "marker": {
             "colorbar": {
              "outlinewidth": 0,
              "ticks": ""
             }
            },
            "type": "scattergl"
           }
          ],
          "scattermap": [
           {
            "marker": {
             "colorbar": {
              "outlinewidth": 0,
              "ticks": ""
             }
            },
            "type": "scattermap"
           }
          ],
          "scattermapbox": [
           {
            "marker": {
             "colorbar": {
              "outlinewidth": 0,
              "ticks": ""
             }
            },
            "type": "scattermapbox"
           }
          ],
          "scatterpolar": [
           {
            "marker": {
             "colorbar": {
              "outlinewidth": 0,
              "ticks": ""
             }
            },
            "type": "scatterpolar"
           }
          ],
          "scatterpolargl": [
           {
            "marker": {
             "colorbar": {
              "outlinewidth": 0,
              "ticks": ""
             }
            },
            "type": "scatterpolargl"
           }
          ],
          "scatterternary": [
           {
            "marker": {
             "colorbar": {
              "outlinewidth": 0,
              "ticks": ""
             }
            },
            "type": "scatterternary"
           }
          ],
          "surface": [
           {
            "colorbar": {
             "outlinewidth": 0,
             "ticks": ""
            },
            "colorscale": [
             [
              0,
              "#0d0887"
             ],
             [
              0.1111111111111111,
              "#46039f"
             ],
             [
              0.2222222222222222,
              "#7201a8"
             ],
             [
              0.3333333333333333,
              "#9c179e"
             ],
             [
              0.4444444444444444,
              "#bd3786"
             ],
             [
              0.5555555555555556,
              "#d8576b"
             ],
             [
              0.6666666666666666,
              "#ed7953"
             ],
             [
              0.7777777777777778,
              "#fb9f3a"
             ],
             [
              0.8888888888888888,
              "#fdca26"
             ],
             [
              1,
              "#f0f921"
             ]
            ],
            "type": "surface"
           }
          ],
          "table": [
           {
            "cells": {
             "fill": {
              "color": "#EBF0F8"
             },
             "line": {
              "color": "white"
             }
            },
            "header": {
             "fill": {
              "color": "#C8D4E3"
             },
             "line": {
              "color": "white"
             }
            },
            "type": "table"
           }
          ]
         },
         "layout": {
          "annotationdefaults": {
           "arrowcolor": "#2a3f5f",
           "arrowhead": 0,
           "arrowwidth": 1
          },
          "autotypenumbers": "strict",
          "coloraxis": {
           "colorbar": {
            "outlinewidth": 0,
            "ticks": ""
           }
          },
          "colorscale": {
           "diverging": [
            [
             0,
             "#8e0152"
            ],
            [
             0.1,
             "#c51b7d"
            ],
            [
             0.2,
             "#de77ae"
            ],
            [
             0.3,
             "#f1b6da"
            ],
            [
             0.4,
             "#fde0ef"
            ],
            [
             0.5,
             "#f7f7f7"
            ],
            [
             0.6,
             "#e6f5d0"
            ],
            [
             0.7,
             "#b8e186"
            ],
            [
             0.8,
             "#7fbc41"
            ],
            [
             0.9,
             "#4d9221"
            ],
            [
             1,
             "#276419"
            ]
           ],
           "sequential": [
            [
             0,
             "#0d0887"
            ],
            [
             0.1111111111111111,
             "#46039f"
            ],
            [
             0.2222222222222222,
             "#7201a8"
            ],
            [
             0.3333333333333333,
             "#9c179e"
            ],
            [
             0.4444444444444444,
             "#bd3786"
            ],
            [
             0.5555555555555556,
             "#d8576b"
            ],
            [
             0.6666666666666666,
             "#ed7953"
            ],
            [
             0.7777777777777778,
             "#fb9f3a"
            ],
            [
             0.8888888888888888,
             "#fdca26"
            ],
            [
             1,
             "#f0f921"
            ]
           ],
           "sequentialminus": [
            [
             0,
             "#0d0887"
            ],
            [
             0.1111111111111111,
             "#46039f"
            ],
            [
             0.2222222222222222,
             "#7201a8"
            ],
            [
             0.3333333333333333,
             "#9c179e"
            ],
            [
             0.4444444444444444,
             "#bd3786"
            ],
            [
             0.5555555555555556,
             "#d8576b"
            ],
            [
             0.6666666666666666,
             "#ed7953"
            ],
            [
             0.7777777777777778,
             "#fb9f3a"
            ],
            [
             0.8888888888888888,
             "#fdca26"
            ],
            [
             1,
             "#f0f921"
            ]
           ]
          },
          "colorway": [
           "#636efa",
           "#EF553B",
           "#00cc96",
           "#ab63fa",
           "#FFA15A",
           "#19d3f3",
           "#FF6692",
           "#B6E880",
           "#FF97FF",
           "#FECB52"
          ],
          "font": {
           "color": "#2a3f5f"
          },
          "geo": {
           "bgcolor": "white",
           "lakecolor": "white",
           "landcolor": "#E5ECF6",
           "showlakes": true,
           "showland": true,
           "subunitcolor": "white"
          },
          "hoverlabel": {
           "align": "left"
          },
          "hovermode": "closest",
          "mapbox": {
           "style": "light"
          },
          "paper_bgcolor": "white",
          "plot_bgcolor": "#E5ECF6",
          "polar": {
           "angularaxis": {
            "gridcolor": "white",
            "linecolor": "white",
            "ticks": ""
           },
           "bgcolor": "#E5ECF6",
           "radialaxis": {
            "gridcolor": "white",
            "linecolor": "white",
            "ticks": ""
           }
          },
          "scene": {
           "xaxis": {
            "backgroundcolor": "#E5ECF6",
            "gridcolor": "white",
            "gridwidth": 2,
            "linecolor": "white",
            "showbackground": true,
            "ticks": "",
            "zerolinecolor": "white"
           },
           "yaxis": {
            "backgroundcolor": "#E5ECF6",
            "gridcolor": "white",
            "gridwidth": 2,
            "linecolor": "white",
            "showbackground": true,
            "ticks": "",
            "zerolinecolor": "white"
           },
           "zaxis": {
            "backgroundcolor": "#E5ECF6",
            "gridcolor": "white",
            "gridwidth": 2,
            "linecolor": "white",
            "showbackground": true,
            "ticks": "",
            "zerolinecolor": "white"
           }
          },
          "shapedefaults": {
           "line": {
            "color": "#2a3f5f"
           }
          },
          "ternary": {
           "aaxis": {
            "gridcolor": "white",
            "linecolor": "white",
            "ticks": ""
           },
           "baxis": {
            "gridcolor": "white",
            "linecolor": "white",
            "ticks": ""
           },
           "bgcolor": "#E5ECF6",
           "caxis": {
            "gridcolor": "white",
            "linecolor": "white",
            "ticks": ""
           }
          },
          "title": {
           "x": 0.05
          },
          "xaxis": {
           "automargin": true,
           "gridcolor": "white",
           "linecolor": "white",
           "ticks": "",
           "title": {
            "standoff": 15
           },
           "zerolinecolor": "white",
           "zerolinewidth": 2
          },
          "yaxis": {
           "automargin": true,
           "gridcolor": "white",
           "linecolor": "white",
           "ticks": "",
           "title": {
            "standoff": 15
           },
           "zerolinecolor": "white",
           "zerolinewidth": 2
          }
         }
        },
        "title": {
         "text": "Età media dei giocatori per nazione (Top 20 più giovani)"
        },
        "xaxis": {
         "anchor": "y",
         "domain": [
          0,
          1
         ],
         "tickangle": -45,
         "title": {
          "text": "Nazione"
         }
        },
        "yaxis": {
         "anchor": "x",
         "domain": [
          0,
          1
         ],
         "range": [
          19.4,
          24.23
         ],
         "tickformat": ".2f",
         "title": {
          "text": "Età media"
         }
        }
       }
      }
     },
     "metadata": {},
     "output_type": "display_data"
    },
    {
     "data": {
      "application/vnd.plotly.v1+json": {
       "config": {
        "plotlyServerURL": "https://plot.ly"
       },
       "data": [
        {
         "coloraxis": "coloraxis",
         "geo": "geo",
         "hovertemplate": "country=%{location}<br>Età media=%{z}<extra></extra>",
         "locationmode": "ISO-3",
         "locations": [
          "VUT",
          "MAR",
          "URU",
          "UZB",
          "DEN",
          "LBN",
          "JOR",
          "GRE",
          "HKG",
          "IRL",
          "THA",
          "CZE",
          "ROU",
          "NOR",
          "BOL",
          "EST",
          "LTU",
          "FIN",
          "JAM",
          "SLO",
          "SWE",
          "LAT",
          "POL",
          "PER",
          "LUX",
          "CHN",
          "GEO",
          "BRA",
          "KOR",
          "USA",
          "ESA",
          "UKR",
          "CYP",
          "BAR",
          "ITA",
          "ISR",
          "ECU",
          "RSA",
          "PAR",
          "NZL",
          "BEL",
          "TUR",
          "CAN",
          "RUS",
          "TPE",
          "VIE",
          "AUT",
          "BUL",
          "CRO",
          "GER",
          "FRA",
          "SVK",
          "AUS",
          "JPN",
          "CHI",
          "MON",
          "SUI",
          "SRB",
          "ARG",
          "GBR",
          "KAZ",
          "BIH",
          "HUN",
          "IND",
          "MEX",
          "POR",
          "COL",
          "INA",
          "ESP",
          "NED",
          "EGY",
          "BLR",
          "ZIM",
          "TUN",
          "MDA",
          "PAK"
         ],
         "name": "",
         "type": "choropleth",
         "z": {
          "bdata": "ZmZmZmbmM0AzMzMzM7M0QDMzMzMz8zRAexSuR+E6NUAzMzMzM7M1QGZmZmZm5jVArkfhehTuNUAAAAAAAAA2QJqZmZmZGTZArkfhehQuNkAzMzMzMzM2QM3MzMzMTDZAuB6F61F4NkAUrkfhepQ2QM3MzMzMzDZAFK5H4XoUN0AzMzMzMzM3QJqZmZmZmTdAMzMzMzOzN0B7FK5H4bo3QOxRuB6F6zdAmpmZmZkZOEAzMzMzMzM4QLgehetRODhArkfhehRuOECF61G4HoU4QJqZmZmZGTlACtejcD1KOUDNzMzMzEw5QK5H4XoUbjlA4XoUrkehOUDhehSuR6E5QHsUrkfhujlAAAAAAADAOUDNzMzMzMw5QBSuR+F61DlAmpmZmZnZOUDhehSuR+E5QDMzMzMz8zlAAAAAAAAAOkDNzMzMzAw6QOxRuB6FKzpAFK5H4XpUOkDXo3A9Clc6QJqZmZmZWTpAH4XrUbheOkDhehSuR2E6QOxRuB6FazpAPQrXo3B9OkAUrkfhepQ6QClcj8L1qDpAzczMzMzMOkCuR+F6FO46QK5H4XoU7jpA9ihcj8L1OkAAAAAAAAA7QMP1KFyPAjtASOF6FK4HO0CPwvUoXA87QAAAAAAAQDtAXI/C9ShcO0CF61G4HoU7QI/C9ShcjztAuB6F61G4O0AAAAAAAAA8QJqZmZmZWTxAZmZmZmZmPECuR+F6FK48QK5H4XoUrjxAMzMzMzMzPUB7FK5H4bo9QGZmZmZm5j1AAAAAAACAPkC4HoXrUbg+QJqZmZmZmUBApHA9CtcjQUA=",
          "dtype": "f8"
         }
        }
       ],
       "layout": {
        "coloraxis": {
         "colorbar": {
          "title": {
           "text": "Età media"
          }
         },
         "colorscale": [
          [
           0,
           "rgb(0,104,55)"
          ],
          [
           0.1,
           "rgb(26,152,80)"
          ],
          [
           0.2,
           "rgb(102,189,99)"
          ],
          [
           0.3,
           "rgb(166,217,106)"
          ],
          [
           0.4,
           "rgb(217,239,139)"
          ],
          [
           0.5,
           "rgb(255,255,191)"
          ],
          [
           0.6,
           "rgb(254,224,139)"
          ],
          [
           0.7,
           "rgb(253,174,97)"
          ],
          [
           0.8,
           "rgb(244,109,67)"
          ],
          [
           0.9,
           "rgb(215,48,39)"
          ],
          [
           1,
           "rgb(165,0,38)"
          ]
         ]
        },
        "geo": {
         "center": {},
         "domain": {
          "x": [
           0,
           1
          ],
          "y": [
           0,
           1
          ]
         },
         "showcoastlines": false,
         "showframe": false
        },
        "legend": {
         "tracegroupgap": 0
        },
        "template": {
         "data": {
          "bar": [
           {
            "error_x": {
             "color": "#2a3f5f"
            },
            "error_y": {
             "color": "#2a3f5f"
            },
            "marker": {
             "line": {
              "color": "#E5ECF6",
              "width": 0.5
             },
             "pattern": {
              "fillmode": "overlay",
              "size": 10,
              "solidity": 0.2
             }
            },
            "type": "bar"
           }
          ],
          "barpolar": [
           {
            "marker": {
             "line": {
              "color": "#E5ECF6",
              "width": 0.5
             },
             "pattern": {
              "fillmode": "overlay",
              "size": 10,
              "solidity": 0.2
             }
            },
            "type": "barpolar"
           }
          ],
          "carpet": [
           {
            "aaxis": {
             "endlinecolor": "#2a3f5f",
             "gridcolor": "white",
             "linecolor": "white",
             "minorgridcolor": "white",
             "startlinecolor": "#2a3f5f"
            },
            "baxis": {
             "endlinecolor": "#2a3f5f",
             "gridcolor": "white",
             "linecolor": "white",
             "minorgridcolor": "white",
             "startlinecolor": "#2a3f5f"
            },
            "type": "carpet"
           }
          ],
          "choropleth": [
           {
            "colorbar": {
             "outlinewidth": 0,
             "ticks": ""
            },
            "type": "choropleth"
           }
          ],
          "contour": [
           {
            "colorbar": {
             "outlinewidth": 0,
             "ticks": ""
            },
            "colorscale": [
             [
              0,
              "#0d0887"
             ],
             [
              0.1111111111111111,
              "#46039f"
             ],
             [
              0.2222222222222222,
              "#7201a8"
             ],
             [
              0.3333333333333333,
              "#9c179e"
             ],
             [
              0.4444444444444444,
              "#bd3786"
             ],
             [
              0.5555555555555556,
              "#d8576b"
             ],
             [
              0.6666666666666666,
              "#ed7953"
             ],
             [
              0.7777777777777778,
              "#fb9f3a"
             ],
             [
              0.8888888888888888,
              "#fdca26"
             ],
             [
              1,
              "#f0f921"
             ]
            ],
            "type": "contour"
           }
          ],
          "contourcarpet": [
           {
            "colorbar": {
             "outlinewidth": 0,
             "ticks": ""
            },
            "type": "contourcarpet"
           }
          ],
          "heatmap": [
           {
            "colorbar": {
             "outlinewidth": 0,
             "ticks": ""
            },
            "colorscale": [
             [
              0,
              "#0d0887"
             ],
             [
              0.1111111111111111,
              "#46039f"
             ],
             [
              0.2222222222222222,
              "#7201a8"
             ],
             [
              0.3333333333333333,
              "#9c179e"
             ],
             [
              0.4444444444444444,
              "#bd3786"
             ],
             [
              0.5555555555555556,
              "#d8576b"
             ],
             [
              0.6666666666666666,
              "#ed7953"
             ],
             [
              0.7777777777777778,
              "#fb9f3a"
             ],
             [
              0.8888888888888888,
              "#fdca26"
             ],
             [
              1,
              "#f0f921"
             ]
            ],
            "type": "heatmap"
           }
          ],
          "histogram": [
           {
            "marker": {
             "pattern": {
              "fillmode": "overlay",
              "size": 10,
              "solidity": 0.2
             }
            },
            "type": "histogram"
           }
          ],
          "histogram2d": [
           {
            "colorbar": {
             "outlinewidth": 0,
             "ticks": ""
            },
            "colorscale": [
             [
              0,
              "#0d0887"
             ],
             [
              0.1111111111111111,
              "#46039f"
             ],
             [
              0.2222222222222222,
              "#7201a8"
             ],
             [
              0.3333333333333333,
              "#9c179e"
             ],
             [
              0.4444444444444444,
              "#bd3786"
             ],
             [
              0.5555555555555556,
              "#d8576b"
             ],
             [
              0.6666666666666666,
              "#ed7953"
             ],
             [
              0.7777777777777778,
              "#fb9f3a"
             ],
             [
              0.8888888888888888,
              "#fdca26"
             ],
             [
              1,
              "#f0f921"
             ]
            ],
            "type": "histogram2d"
           }
          ],
          "histogram2dcontour": [
           {
            "colorbar": {
             "outlinewidth": 0,
             "ticks": ""
            },
            "colorscale": [
             [
              0,
              "#0d0887"
             ],
             [
              0.1111111111111111,
              "#46039f"
             ],
             [
              0.2222222222222222,
              "#7201a8"
             ],
             [
              0.3333333333333333,
              "#9c179e"
             ],
             [
              0.4444444444444444,
              "#bd3786"
             ],
             [
              0.5555555555555556,
              "#d8576b"
             ],
             [
              0.6666666666666666,
              "#ed7953"
             ],
             [
              0.7777777777777778,
              "#fb9f3a"
             ],
             [
              0.8888888888888888,
              "#fdca26"
             ],
             [
              1,
              "#f0f921"
             ]
            ],
            "type": "histogram2dcontour"
           }
          ],
          "mesh3d": [
           {
            "colorbar": {
             "outlinewidth": 0,
             "ticks": ""
            },
            "type": "mesh3d"
           }
          ],
          "parcoords": [
           {
            "line": {
             "colorbar": {
              "outlinewidth": 0,
              "ticks": ""
             }
            },
            "type": "parcoords"
           }
          ],
          "pie": [
           {
            "automargin": true,
            "type": "pie"
           }
          ],
          "scatter": [
           {
            "fillpattern": {
             "fillmode": "overlay",
             "size": 10,
             "solidity": 0.2
            },
            "type": "scatter"
           }
          ],
          "scatter3d": [
           {
            "line": {
             "colorbar": {
              "outlinewidth": 0,
              "ticks": ""
             }
            },
            "marker": {
             "colorbar": {
              "outlinewidth": 0,
              "ticks": ""
             }
            },
            "type": "scatter3d"
           }
          ],
          "scattercarpet": [
           {
            "marker": {
             "colorbar": {
              "outlinewidth": 0,
              "ticks": ""
             }
            },
            "type": "scattercarpet"
           }
          ],
          "scattergeo": [
           {
            "marker": {
             "colorbar": {
              "outlinewidth": 0,
              "ticks": ""
             }
            },
            "type": "scattergeo"
           }
          ],
          "scattergl": [
           {
            "marker": {
             "colorbar": {
              "outlinewidth": 0,
              "ticks": ""
             }
            },
            "type": "scattergl"
           }
          ],
          "scattermap": [
           {
            "marker": {
             "colorbar": {
              "outlinewidth": 0,
              "ticks": ""
             }
            },
            "type": "scattermap"
           }
          ],
          "scattermapbox": [
           {
            "marker": {
             "colorbar": {
              "outlinewidth": 0,
              "ticks": ""
             }
            },
            "type": "scattermapbox"
           }
          ],
          "scatterpolar": [
           {
            "marker": {
             "colorbar": {
              "outlinewidth": 0,
              "ticks": ""
             }
            },
            "type": "scatterpolar"
           }
          ],
          "scatterpolargl": [
           {
            "marker": {
             "colorbar": {
              "outlinewidth": 0,
              "ticks": ""
             }
            },
            "type": "scatterpolargl"
           }
          ],
          "scatterternary": [
           {
            "marker": {
             "colorbar": {
              "outlinewidth": 0,
              "ticks": ""
             }
            },
            "type": "scatterternary"
           }
          ],
          "surface": [
           {
            "colorbar": {
             "outlinewidth": 0,
             "ticks": ""
            },
            "colorscale": [
             [
              0,
              "#0d0887"
             ],
             [
              0.1111111111111111,
              "#46039f"
             ],
             [
              0.2222222222222222,
              "#7201a8"
             ],
             [
              0.3333333333333333,
              "#9c179e"
             ],
             [
              0.4444444444444444,
              "#bd3786"
             ],
             [
              0.5555555555555556,
              "#d8576b"
             ],
             [
              0.6666666666666666,
              "#ed7953"
             ],
             [
              0.7777777777777778,
              "#fb9f3a"
             ],
             [
              0.8888888888888888,
              "#fdca26"
             ],
             [
              1,
              "#f0f921"
             ]
            ],
            "type": "surface"
           }
          ],
          "table": [
           {
            "cells": {
             "fill": {
              "color": "#EBF0F8"
             },
             "line": {
              "color": "white"
             }
            },
            "header": {
             "fill": {
              "color": "#C8D4E3"
             },
             "line": {
              "color": "white"
             }
            },
            "type": "table"
           }
          ]
         },
         "layout": {
          "annotationdefaults": {
           "arrowcolor": "#2a3f5f",
           "arrowhead": 0,
           "arrowwidth": 1
          },
          "autotypenumbers": "strict",
          "coloraxis": {
           "colorbar": {
            "outlinewidth": 0,
            "ticks": ""
           }
          },
          "colorscale": {
           "diverging": [
            [
             0,
             "#8e0152"
            ],
            [
             0.1,
             "#c51b7d"
            ],
            [
             0.2,
             "#de77ae"
            ],
            [
             0.3,
             "#f1b6da"
            ],
            [
             0.4,
             "#fde0ef"
            ],
            [
             0.5,
             "#f7f7f7"
            ],
            [
             0.6,
             "#e6f5d0"
            ],
            [
             0.7,
             "#b8e186"
            ],
            [
             0.8,
             "#7fbc41"
            ],
            [
             0.9,
             "#4d9221"
            ],
            [
             1,
             "#276419"
            ]
           ],
           "sequential": [
            [
             0,
             "#0d0887"
            ],
            [
             0.1111111111111111,
             "#46039f"
            ],
            [
             0.2222222222222222,
             "#7201a8"
            ],
            [
             0.3333333333333333,
             "#9c179e"
            ],
            [
             0.4444444444444444,
             "#bd3786"
            ],
            [
             0.5555555555555556,
             "#d8576b"
            ],
            [
             0.6666666666666666,
             "#ed7953"
            ],
            [
             0.7777777777777778,
             "#fb9f3a"
            ],
            [
             0.8888888888888888,
             "#fdca26"
            ],
            [
             1,
             "#f0f921"
            ]
           ],
           "sequentialminus": [
            [
             0,
             "#0d0887"
            ],
            [
             0.1111111111111111,
             "#46039f"
            ],
            [
             0.2222222222222222,
             "#7201a8"
            ],
            [
             0.3333333333333333,
             "#9c179e"
            ],
            [
             0.4444444444444444,
             "#bd3786"
            ],
            [
             0.5555555555555556,
             "#d8576b"
            ],
            [
             0.6666666666666666,
             "#ed7953"
            ],
            [
             0.7777777777777778,
             "#fb9f3a"
            ],
            [
             0.8888888888888888,
             "#fdca26"
            ],
            [
             1,
             "#f0f921"
            ]
           ]
          },
          "colorway": [
           "#636efa",
           "#EF553B",
           "#00cc96",
           "#ab63fa",
           "#FFA15A",
           "#19d3f3",
           "#FF6692",
           "#B6E880",
           "#FF97FF",
           "#FECB52"
          ],
          "font": {
           "color": "#2a3f5f"
          },
          "geo": {
           "bgcolor": "white",
           "lakecolor": "white",
           "landcolor": "#E5ECF6",
           "showlakes": true,
           "showland": true,
           "subunitcolor": "white"
          },
          "hoverlabel": {
           "align": "left"
          },
          "hovermode": "closest",
          "mapbox": {
           "style": "light"
          },
          "paper_bgcolor": "white",
          "plot_bgcolor": "#E5ECF6",
          "polar": {
           "angularaxis": {
            "gridcolor": "white",
            "linecolor": "white",
            "ticks": ""
           },
           "bgcolor": "#E5ECF6",
           "radialaxis": {
            "gridcolor": "white",
            "linecolor": "white",
            "ticks": ""
           }
          },
          "scene": {
           "xaxis": {
            "backgroundcolor": "#E5ECF6",
            "gridcolor": "white",
            "gridwidth": 2,
            "linecolor": "white",
            "showbackground": true,
            "ticks": "",
            "zerolinecolor": "white"
           },
           "yaxis": {
            "backgroundcolor": "#E5ECF6",
            "gridcolor": "white",
            "gridwidth": 2,
            "linecolor": "white",
            "showbackground": true,
            "ticks": "",
            "zerolinecolor": "white"
           },
           "zaxis": {
            "backgroundcolor": "#E5ECF6",
            "gridcolor": "white",
            "gridwidth": 2,
            "linecolor": "white",
            "showbackground": true,
            "ticks": "",
            "zerolinecolor": "white"
           }
          },
          "shapedefaults": {
           "line": {
            "color": "#2a3f5f"
           }
          },
          "ternary": {
           "aaxis": {
            "gridcolor": "white",
            "linecolor": "white",
            "ticks": ""
           },
           "baxis": {
            "gridcolor": "white",
            "linecolor": "white",
            "ticks": ""
           },
           "bgcolor": "#E5ECF6",
           "caxis": {
            "gridcolor": "white",
            "linecolor": "white",
            "ticks": ""
           }
          },
          "title": {
           "x": 0.05
          },
          "xaxis": {
           "automargin": true,
           "gridcolor": "white",
           "linecolor": "white",
           "ticks": "",
           "title": {
            "standoff": 15
           },
           "zerolinecolor": "white",
           "zerolinewidth": 2
          },
          "yaxis": {
           "automargin": true,
           "gridcolor": "white",
           "linecolor": "white",
           "ticks": "",
           "title": {
            "standoff": 15
           },
           "zerolinecolor": "white",
           "zerolinewidth": 2
          }
         }
        },
        "title": {
         "text": "Età media dei giocatori per nazione (2023)"
        }
       }
      }
     },
     "metadata": {},
     "output_type": "display_data"
    },
    {
     "name": "stdout",
     "output_type": "stream",
     "text": [
      "country\n",
      "VUT    19.90\n",
      "MAR    20.70\n",
      "URU    20.95\n",
      "UZB    21.23\n",
      "DEN    21.70\n",
      "       ...  \n",
      "BLR    29.90\n",
      "ZIM    30.50\n",
      "TUN    30.72\n",
      "MDA    33.20\n",
      "PAK    34.28\n",
      "Name: age, Length: 76, dtype: float64\n"
     ]
    }
   ],
   "source": [
    "# Estrai età e nazione da vincitori e perdenti\n",
    "winners = df[['winner_name', 'winner_age', 'winner_ioc']].dropna().rename(\n",
    "    columns={'winner_name': 'player_name', 'winner_age': 'age', 'winner_ioc': 'country'}\n",
    ")\n",
    "losers = df[['loser_name', 'loser_age', 'loser_ioc']].dropna().rename(\n",
    "    columns={'loser_name': 'player_name', 'loser_age': 'age', 'loser_ioc': 'country'}\n",
    ")\n",
    " \n",
    "# Unisci e rimuovi duplicati per giocatore\n",
    "players_age_country = pd.concat([winners, losers]).drop_duplicates(subset='player_name')\n",
    " \n",
    "# Calcola età media per nazione\n",
    "avg_age_by_country = players_age_country.groupby('country')['age'].mean().round(2).sort_values()\n",
    "top_20_youngest_countries = avg_age_by_country.head(20).reset_index()\n",
    " \n",
    "# Crea il grafico con personalizzazioni per evidenziare differenze\n",
    "fig = px.bar(\n",
    "    top_20_youngest_countries,\n",
    "    x='country',\n",
    "    y='age',\n",
    "    title='Età media dei giocatori per nazione (Top 20 più giovani)',\n",
    "    labels={'country': 'Nazione', 'age': 'Età media'},\n",
    "    text='age',  # Etichette sui valori\n",
    "    color='age',  # Colorazione dinamica\n",
    "    color_continuous_scale='aggrnyl'  # Scala di colore graduale\n",
    ")\n",
    " \n",
    "# Zoom sull'intervallo delle età presenti (con margine)\n",
    "min_age = top_20_youngest_countries['age'].min()\n",
    "max_age = top_20_youngest_countries['age'].max()\n",
    "fig.update_layout(\n",
    "    yaxis=dict(range=[min_age - 0.5, max_age + 0.5], tickformat=\".2f\"),\n",
    "    xaxis_tickangle=-45\n",
    ")\n",
    "fig.update_traces(texttemplate='%{text:.2f}', textposition='outside')\n",
    " \n",
    "fig.show()\n",
    "\n",
    "# Estrai età e nazionalità (codice IOC) di vincitori e perdenti\n",
    "winners = df[['winner_name', 'winner_age', 'winner_ioc']].dropna().rename(\n",
    "    columns={'winner_name': 'player_name', 'winner_age': 'age', 'winner_ioc': 'country'}\n",
    ")\n",
    "losers = df[['loser_name', 'loser_age', 'loser_ioc']].dropna().rename(\n",
    "    columns={'loser_name': 'player_name', 'loser_age': 'age', 'loser_ioc': 'country'}\n",
    ")\n",
    " \n",
    "# Unisci i due set e rimuovi duplicati per giocatore\n",
    "players_age_country = pd.concat([winners, losers]).drop_duplicates(subset='player_name')\n",
    " \n",
    "# Calcola età media per paese\n",
    "avg_age_by_country = players_age_country.groupby('country')['age'].mean().round(2).sort_values()\n",
    "age_map_df = avg_age_by_country.reset_index()\n",
    " \n",
    "# Crea la mappa\n",
    "fig = px.choropleth(\n",
    "    age_map_df,\n",
    "    locations='country',  # Codici IOC (ISO Alpha-3)\n",
    "    locationmode='ISO-3',\n",
    "    color='age',\n",
    "    color_continuous_scale='RdYlGn_r',\n",
    "    title='Età media dei giocatori per nazione (2023)',\n",
    "    labels={'age': 'Età media'},\n",
    ")\n",
    " \n",
    "fig.update_layout(\n",
    "    geo=dict(showframe=False, showcoastlines=False),\n",
    "    coloraxis_colorbar=dict(title='Età media')\n",
    ")\n",
    " \n",
    "fig.show()\n",
    "\n",
    "#Fammi il print dell'età media per nazione\n",
    "print(avg_age_by_country)\n"
   ]
  },
  {
   "cell_type": "markdown",
   "metadata": {},
   "source": [
    "# 4. Qual è la nazionalità con la deviazione standard dell’età media più alta, fra quelle per cui hanno giocato almeno 10 giocatori?\n",
    " "
   ]
  },
  {
   "cell_type": "code",
   "execution_count": 7,
   "metadata": {},
   "outputs": [
    {
     "data": {
      "application/vnd.plotly.v1+json": {
       "config": {
        "plotlyServerURL": "https://plot.ly"
       },
       "data": [
        {
         "hovertemplate": "Nazione=%{x}<br>Deviazione standard=%{marker.color}<extra></extra>",
         "legendgroup": "",
         "marker": {
          "color": {
           "bdata": "pP0YwgNvHEBs+A8J41cUQGr293/8VRRAZrk8vcCoE0DkM23m4VgSQNkCfzWdWBJAtGKyLLnIEUD72A4P/F0OQM+H2A5I9QtABVs0bM9EC0A=",
           "dtype": "f8"
          },
          "coloraxis": "coloraxis",
          "pattern": {
           "shape": ""
          }
         },
         "name": "",
         "orientation": "v",
         "showlegend": false,
         "text": {
          "bdata": "pP0YwgNvHEBs+A8J41cUQGr293/8VRRAZrk8vcCoE0DkM23m4VgSQNkCfzWdWBJAtGKyLLnIEUD72A4P/F0OQM+H2A5I9QtABVs0bM9EC0A=",
          "dtype": "f8"
         },
         "textposition": "outside",
         "texttemplate": "%{text:.2f}",
         "type": "bar",
         "x": [
          "ESP",
          "CHN",
          "FRA",
          "ITA",
          "GBR",
          "ARG",
          "USA",
          "GER",
          "AUS",
          "RUS"
         ],
         "xaxis": "x",
         "y": {
          "bdata": "pP0YwgNvHEBs+A8J41cUQGr293/8VRRAZrk8vcCoE0DkM23m4VgSQNkCfzWdWBJAtGKyLLnIEUD72A4P/F0OQM+H2A5I9QtABVs0bM9EC0A=",
          "dtype": "f8"
         },
         "yaxis": "y"
        }
       ],
       "layout": {
        "barmode": "relative",
        "coloraxis": {
         "colorbar": {
          "title": {
           "text": "Deviazione standard"
          }
         },
         "colorscale": [
          [
           0,
           "rgb(36, 86, 104)"
          ],
          [
           0.16666666666666666,
           "rgb(15, 114, 121)"
          ],
          [
           0.3333333333333333,
           "rgb(13, 143, 129)"
          ],
          [
           0.5,
           "rgb(57, 171, 126)"
          ],
          [
           0.6666666666666666,
           "rgb(110, 197, 116)"
          ],
          [
           0.8333333333333334,
           "rgb(169, 220, 103)"
          ],
          [
           1,
           "rgb(237, 239, 93)"
          ]
         ]
        },
        "legend": {
         "tracegroupgap": 0
        },
        "template": {
         "data": {
          "bar": [
           {
            "error_x": {
             "color": "#2a3f5f"
            },
            "error_y": {
             "color": "#2a3f5f"
            },
            "marker": {
             "line": {
              "color": "white",
              "width": 0.5
             },
             "pattern": {
              "fillmode": "overlay",
              "size": 10,
              "solidity": 0.2
             }
            },
            "type": "bar"
           }
          ],
          "barpolar": [
           {
            "marker": {
             "line": {
              "color": "white",
              "width": 0.5
             },
             "pattern": {
              "fillmode": "overlay",
              "size": 10,
              "solidity": 0.2
             }
            },
            "type": "barpolar"
           }
          ],
          "carpet": [
           {
            "aaxis": {
             "endlinecolor": "#2a3f5f",
             "gridcolor": "#C8D4E3",
             "linecolor": "#C8D4E3",
             "minorgridcolor": "#C8D4E3",
             "startlinecolor": "#2a3f5f"
            },
            "baxis": {
             "endlinecolor": "#2a3f5f",
             "gridcolor": "#C8D4E3",
             "linecolor": "#C8D4E3",
             "minorgridcolor": "#C8D4E3",
             "startlinecolor": "#2a3f5f"
            },
            "type": "carpet"
           }
          ],
          "choropleth": [
           {
            "colorbar": {
             "outlinewidth": 0,
             "ticks": ""
            },
            "type": "choropleth"
           }
          ],
          "contour": [
           {
            "colorbar": {
             "outlinewidth": 0,
             "ticks": ""
            },
            "colorscale": [
             [
              0,
              "#0d0887"
             ],
             [
              0.1111111111111111,
              "#46039f"
             ],
             [
              0.2222222222222222,
              "#7201a8"
             ],
             [
              0.3333333333333333,
              "#9c179e"
             ],
             [
              0.4444444444444444,
              "#bd3786"
             ],
             [
              0.5555555555555556,
              "#d8576b"
             ],
             [
              0.6666666666666666,
              "#ed7953"
             ],
             [
              0.7777777777777778,
              "#fb9f3a"
             ],
             [
              0.8888888888888888,
              "#fdca26"
             ],
             [
              1,
              "#f0f921"
             ]
            ],
            "type": "contour"
           }
          ],
          "contourcarpet": [
           {
            "colorbar": {
             "outlinewidth": 0,
             "ticks": ""
            },
            "type": "contourcarpet"
           }
          ],
          "heatmap": [
           {
            "colorbar": {
             "outlinewidth": 0,
             "ticks": ""
            },
            "colorscale": [
             [
              0,
              "#0d0887"
             ],
             [
              0.1111111111111111,
              "#46039f"
             ],
             [
              0.2222222222222222,
              "#7201a8"
             ],
             [
              0.3333333333333333,
              "#9c179e"
             ],
             [
              0.4444444444444444,
              "#bd3786"
             ],
             [
              0.5555555555555556,
              "#d8576b"
             ],
             [
              0.6666666666666666,
              "#ed7953"
             ],
             [
              0.7777777777777778,
              "#fb9f3a"
             ],
             [
              0.8888888888888888,
              "#fdca26"
             ],
             [
              1,
              "#f0f921"
             ]
            ],
            "type": "heatmap"
           }
          ],
          "histogram": [
           {
            "marker": {
             "pattern": {
              "fillmode": "overlay",
              "size": 10,
              "solidity": 0.2
             }
            },
            "type": "histogram"
           }
          ],
          "histogram2d": [
           {
            "colorbar": {
             "outlinewidth": 0,
             "ticks": ""
            },
            "colorscale": [
             [
              0,
              "#0d0887"
             ],
             [
              0.1111111111111111,
              "#46039f"
             ],
             [
              0.2222222222222222,
              "#7201a8"
             ],
             [
              0.3333333333333333,
              "#9c179e"
             ],
             [
              0.4444444444444444,
              "#bd3786"
             ],
             [
              0.5555555555555556,
              "#d8576b"
             ],
             [
              0.6666666666666666,
              "#ed7953"
             ],
             [
              0.7777777777777778,
              "#fb9f3a"
             ],
             [
              0.8888888888888888,
              "#fdca26"
             ],
             [
              1,
              "#f0f921"
             ]
            ],
            "type": "histogram2d"
           }
          ],
          "histogram2dcontour": [
           {
            "colorbar": {
             "outlinewidth": 0,
             "ticks": ""
            },
            "colorscale": [
             [
              0,
              "#0d0887"
             ],
             [
              0.1111111111111111,
              "#46039f"
             ],
             [
              0.2222222222222222,
              "#7201a8"
             ],
             [
              0.3333333333333333,
              "#9c179e"
             ],
             [
              0.4444444444444444,
              "#bd3786"
             ],
             [
              0.5555555555555556,
              "#d8576b"
             ],
             [
              0.6666666666666666,
              "#ed7953"
             ],
             [
              0.7777777777777778,
              "#fb9f3a"
             ],
             [
              0.8888888888888888,
              "#fdca26"
             ],
             [
              1,
              "#f0f921"
             ]
            ],
            "type": "histogram2dcontour"
           }
          ],
          "mesh3d": [
           {
            "colorbar": {
             "outlinewidth": 0,
             "ticks": ""
            },
            "type": "mesh3d"
           }
          ],
          "parcoords": [
           {
            "line": {
             "colorbar": {
              "outlinewidth": 0,
              "ticks": ""
             }
            },
            "type": "parcoords"
           }
          ],
          "pie": [
           {
            "automargin": true,
            "type": "pie"
           }
          ],
          "scatter": [
           {
            "fillpattern": {
             "fillmode": "overlay",
             "size": 10,
             "solidity": 0.2
            },
            "type": "scatter"
           }
          ],
          "scatter3d": [
           {
            "line": {
             "colorbar": {
              "outlinewidth": 0,
              "ticks": ""
             }
            },
            "marker": {
             "colorbar": {
              "outlinewidth": 0,
              "ticks": ""
             }
            },
            "type": "scatter3d"
           }
          ],
          "scattercarpet": [
           {
            "marker": {
             "colorbar": {
              "outlinewidth": 0,
              "ticks": ""
             }
            },
            "type": "scattercarpet"
           }
          ],
          "scattergeo": [
           {
            "marker": {
             "colorbar": {
              "outlinewidth": 0,
              "ticks": ""
             }
            },
            "type": "scattergeo"
           }
          ],
          "scattergl": [
           {
            "marker": {
             "colorbar": {
              "outlinewidth": 0,
              "ticks": ""
             }
            },
            "type": "scattergl"
           }
          ],
          "scattermap": [
           {
            "marker": {
             "colorbar": {
              "outlinewidth": 0,
              "ticks": ""
             }
            },
            "type": "scattermap"
           }
          ],
          "scattermapbox": [
           {
            "marker": {
             "colorbar": {
              "outlinewidth": 0,
              "ticks": ""
             }
            },
            "type": "scattermapbox"
           }
          ],
          "scatterpolar": [
           {
            "marker": {
             "colorbar": {
              "outlinewidth": 0,
              "ticks": ""
             }
            },
            "type": "scatterpolar"
           }
          ],
          "scatterpolargl": [
           {
            "marker": {
             "colorbar": {
              "outlinewidth": 0,
              "ticks": ""
             }
            },
            "type": "scatterpolargl"
           }
          ],
          "scatterternary": [
           {
            "marker": {
             "colorbar": {
              "outlinewidth": 0,
              "ticks": ""
             }
            },
            "type": "scatterternary"
           }
          ],
          "surface": [
           {
            "colorbar": {
             "outlinewidth": 0,
             "ticks": ""
            },
            "colorscale": [
             [
              0,
              "#0d0887"
             ],
             [
              0.1111111111111111,
              "#46039f"
             ],
             [
              0.2222222222222222,
              "#7201a8"
             ],
             [
              0.3333333333333333,
              "#9c179e"
             ],
             [
              0.4444444444444444,
              "#bd3786"
             ],
             [
              0.5555555555555556,
              "#d8576b"
             ],
             [
              0.6666666666666666,
              "#ed7953"
             ],
             [
              0.7777777777777778,
              "#fb9f3a"
             ],
             [
              0.8888888888888888,
              "#fdca26"
             ],
             [
              1,
              "#f0f921"
             ]
            ],
            "type": "surface"
           }
          ],
          "table": [
           {
            "cells": {
             "fill": {
              "color": "#EBF0F8"
             },
             "line": {
              "color": "white"
             }
            },
            "header": {
             "fill": {
              "color": "#C8D4E3"
             },
             "line": {
              "color": "white"
             }
            },
            "type": "table"
           }
          ]
         },
         "layout": {
          "annotationdefaults": {
           "arrowcolor": "#2a3f5f",
           "arrowhead": 0,
           "arrowwidth": 1
          },
          "autotypenumbers": "strict",
          "coloraxis": {
           "colorbar": {
            "outlinewidth": 0,
            "ticks": ""
           }
          },
          "colorscale": {
           "diverging": [
            [
             0,
             "#8e0152"
            ],
            [
             0.1,
             "#c51b7d"
            ],
            [
             0.2,
             "#de77ae"
            ],
            [
             0.3,
             "#f1b6da"
            ],
            [
             0.4,
             "#fde0ef"
            ],
            [
             0.5,
             "#f7f7f7"
            ],
            [
             0.6,
             "#e6f5d0"
            ],
            [
             0.7,
             "#b8e186"
            ],
            [
             0.8,
             "#7fbc41"
            ],
            [
             0.9,
             "#4d9221"
            ],
            [
             1,
             "#276419"
            ]
           ],
           "sequential": [
            [
             0,
             "#0d0887"
            ],
            [
             0.1111111111111111,
             "#46039f"
            ],
            [
             0.2222222222222222,
             "#7201a8"
            ],
            [
             0.3333333333333333,
             "#9c179e"
            ],
            [
             0.4444444444444444,
             "#bd3786"
            ],
            [
             0.5555555555555556,
             "#d8576b"
            ],
            [
             0.6666666666666666,
             "#ed7953"
            ],
            [
             0.7777777777777778,
             "#fb9f3a"
            ],
            [
             0.8888888888888888,
             "#fdca26"
            ],
            [
             1,
             "#f0f921"
            ]
           ],
           "sequentialminus": [
            [
             0,
             "#0d0887"
            ],
            [
             0.1111111111111111,
             "#46039f"
            ],
            [
             0.2222222222222222,
             "#7201a8"
            ],
            [
             0.3333333333333333,
             "#9c179e"
            ],
            [
             0.4444444444444444,
             "#bd3786"
            ],
            [
             0.5555555555555556,
             "#d8576b"
            ],
            [
             0.6666666666666666,
             "#ed7953"
            ],
            [
             0.7777777777777778,
             "#fb9f3a"
            ],
            [
             0.8888888888888888,
             "#fdca26"
            ],
            [
             1,
             "#f0f921"
            ]
           ]
          },
          "colorway": [
           "#636efa",
           "#EF553B",
           "#00cc96",
           "#ab63fa",
           "#FFA15A",
           "#19d3f3",
           "#FF6692",
           "#B6E880",
           "#FF97FF",
           "#FECB52"
          ],
          "font": {
           "color": "#2a3f5f"
          },
          "geo": {
           "bgcolor": "white",
           "lakecolor": "white",
           "landcolor": "white",
           "showlakes": true,
           "showland": true,
           "subunitcolor": "#C8D4E3"
          },
          "hoverlabel": {
           "align": "left"
          },
          "hovermode": "closest",
          "mapbox": {
           "style": "light"
          },
          "paper_bgcolor": "white",
          "plot_bgcolor": "white",
          "polar": {
           "angularaxis": {
            "gridcolor": "#EBF0F8",
            "linecolor": "#EBF0F8",
            "ticks": ""
           },
           "bgcolor": "white",
           "radialaxis": {
            "gridcolor": "#EBF0F8",
            "linecolor": "#EBF0F8",
            "ticks": ""
           }
          },
          "scene": {
           "xaxis": {
            "backgroundcolor": "white",
            "gridcolor": "#DFE8F3",
            "gridwidth": 2,
            "linecolor": "#EBF0F8",
            "showbackground": true,
            "ticks": "",
            "zerolinecolor": "#EBF0F8"
           },
           "yaxis": {
            "backgroundcolor": "white",
            "gridcolor": "#DFE8F3",
            "gridwidth": 2,
            "linecolor": "#EBF0F8",
            "showbackground": true,
            "ticks": "",
            "zerolinecolor": "#EBF0F8"
           },
           "zaxis": {
            "backgroundcolor": "white",
            "gridcolor": "#DFE8F3",
            "gridwidth": 2,
            "linecolor": "#EBF0F8",
            "showbackground": true,
            "ticks": "",
            "zerolinecolor": "#EBF0F8"
           }
          },
          "shapedefaults": {
           "line": {
            "color": "#2a3f5f"
           }
          },
          "ternary": {
           "aaxis": {
            "gridcolor": "#DFE8F3",
            "linecolor": "#A2B1C6",
            "ticks": ""
           },
           "baxis": {
            "gridcolor": "#DFE8F3",
            "linecolor": "#A2B1C6",
            "ticks": ""
           },
           "bgcolor": "white",
           "caxis": {
            "gridcolor": "#DFE8F3",
            "linecolor": "#A2B1C6",
            "ticks": ""
           }
          },
          "title": {
           "x": 0.05
          },
          "xaxis": {
           "automargin": true,
           "gridcolor": "#EBF0F8",
           "linecolor": "#EBF0F8",
           "ticks": "",
           "title": {
            "standoff": 15
           },
           "zerolinecolor": "#EBF0F8",
           "zerolinewidth": 2
          },
          "yaxis": {
           "automargin": true,
           "gridcolor": "#EBF0F8",
           "linecolor": "#EBF0F8",
           "ticks": "",
           "title": {
            "standoff": 15
           },
           "zerolinecolor": "#EBF0F8",
           "zerolinewidth": 2
          }
         }
        },
        "title": {
         "text": "Top 10 nazionalità per deviazione standard dell'età"
        },
        "xaxis": {
         "anchor": "y",
         "domain": [
          0,
          1
         ],
         "tickangle": -45,
         "title": {
          "text": "Nazione"
         }
        },
        "yaxis": {
         "anchor": "x",
         "domain": [
          0,
          1
         ],
         "title": {
          "text": "Deviazione standard"
         }
        }
       }
      }
     },
     "metadata": {},
     "output_type": "display_data"
    },
    {
     "name": "stdout",
     "output_type": "stream",
     "text": [
      "country\n",
      "ARG    4.586537\n",
      "AUS    3.494766\n",
      "AUT    3.461503\n",
      "BAR    7.000357\n",
      "BEL    6.022458\n",
      "         ...   \n",
      "USA    4.446019\n",
      "UZB    3.350124\n",
      "VIE    2.631223\n",
      "VUT         NaN\n",
      "ZIM         NaN\n",
      "Name: age, Length: 76, dtype: float64\n"
     ]
    }
   ],
   "source": [
    "# Calcola la deviazione standard dell'età per nazione\n",
    "winners = df[['winner_name', 'winner_age', 'winner_ioc']].dropna().rename(\n",
    "    columns={'winner_name': 'player_name', 'winner_age': 'age', 'winner_ioc': 'country'}\n",
    ")\n",
    "losers = df[['loser_name', 'loser_age', 'loser_ioc']].dropna().rename(\n",
    "    columns={'loser_name': 'player_name', 'loser_age': 'age', 'loser_ioc': 'country'}\n",
    ")\n",
    "players_age_country = pd.concat([winners, losers]).drop_duplicates(subset='player_name')\n",
    "std_age_by_country = players_age_country.groupby('country')['age'].std()\n",
    " \n",
    "# Conta il numero di giocatori per nazione\n",
    "players_per_country = players_age_country['country'].value_counts()\n",
    " \n",
    "# Filtra le nazionalità con almeno 10 giocatori\n",
    "filtered_countries = std_age_by_country[players_per_country >= 10]\n",
    " \n",
    "# Ordina per deviazione standard decrescente\n",
    "sorted_std_countries = filtered_countries.sort_values(ascending=False)\n",
    " \n",
    "# Trova la nazionalità con la deviazione standard più alta\n",
    "country_with_highest_std = sorted_std_countries.idxmax()\n",
    "highest_std_value = sorted_std_countries.max()\n",
    " \n",
    "# Seleziona le top 10 nazionalità\n",
    "top_10_std_countries = sorted_std_countries.head(10).reset_index()\n",
    "top_10_std_countries.columns = ['country', 'std_age']\n",
    " \n",
    "# Crea il grafico\n",
    "fig = px.bar(\n",
    "    top_10_std_countries,\n",
    "    x='country',\n",
    "    y='std_age',\n",
    "    title=\"Top 10 nazionalità per deviazione standard dell'età\",\n",
    "    labels={'country': 'Nazione', 'std_age': 'Deviazione standard'},\n",
    "    text='std_age',\n",
    "    color='std_age',\n",
    "    color_continuous_scale='Aggrnyl'\n",
    ")\n",
    " \n",
    "fig.update_layout(\n",
    "    yaxis=dict(title='Deviazione standard'),\n",
    "    xaxis=dict(title='Nazione', tickangle=-45),\n",
    "    template='plotly_white'\n",
    ")\n",
    "fig.update_traces(texttemplate='%{text:.2f}', textposition='outside')\n",
    "fig.show()\n",
    "\n",
    "#Fammi il print della deviazione standard dell'età per nazione\n",
    "print(std_age_by_country)"
   ]
  },
  {
   "cell_type": "markdown",
   "metadata": {},
   "source": [
    "# 5. Quanti giocatori mancini ci sono nel circuito? "
   ]
  },
  {
   "cell_type": "code",
   "execution_count": 25,
   "metadata": {},
   "outputs": [
    {
     "name": "stdout",
     "output_type": "stream",
     "text": [
      "Totale giocatori mancini: 51\n",
      "Totale destri: 305\n",
      "Totale sconosciuti: 84\n"
     ]
    },
    {
     "data": {
      "image/png": "[encoded data removed]",
      "text/plain": [
       "<Figure size 1000x500 with 1 Axes>"
      ]
     },
     "metadata": {},
     "output_type": "display_data"
    }
   ],
   "source": [
    "# Estrai tutti i giocatori con la mano\n",
    "winners = df[['winner_name', 'winner_hand']].rename(columns={'winner_name': 'player_name', 'winner_hand': 'hand'})\n",
    "losers = df[['loser_name', 'loser_hand']].rename(columns={'loser_name': 'player_name', 'loser_hand': 'hand'})\n",
    "\n",
    "# Unisci e deduplica\n",
    "all_players = pd.concat([winners, losers])\n",
    "all_players = all_players.dropna(subset=['player_name', 'hand'])\n",
    "all_players = all_players.drop_duplicates(subset='player_name', keep='first')\n",
    "\n",
    "# Conta le mani\n",
    "hand_counts = all_players['hand'].value_counts()\n",
    "left_handed = hand_counts.get('L', 0)\n",
    "right_handed = hand_counts.get('R', 0)\n",
    "unknown_handed = hand_counts.get('U', 0)\n",
    "\n",
    "# Dati per il grafico\n",
    "labels = ['Mancini', 'Destri', 'Unknown']\n",
    "values = [left_handed, right_handed, unknown_handed]\n",
    "colors = ['black', '#d2f644', 'white']\n",
    "\n",
    "# Stampa console\n",
    "print(f\"Totale giocatori mancini: {left_handed}\")\n",
    "print(f\"Totale destri: {right_handed}\")\n",
    "print(f\"Totale sconosciuti: {unknown_handed}\")\n",
    "\n",
    "# Grafico\n",
    "plt.figure(figsize=(10, 5))\n",
    "bars = plt.bar(labels, values, color=colors, edgecolor='black')\n",
    "\n",
    "# Numerini al centro delle barre\n",
    "for bar in bars:\n",
    "    yval = bar.get_height()\n",
    "    plt.text(bar.get_x() + bar.get_width()/2, yval/2, f'{int(yval)}',\n",
    "             ha='center', va='center', fontsize=14, fontweight='bold', color='white' if bar.get_facecolor()[:3] == (0, 0, 0) else 'black')\n",
    "\n",
    "plt.title('Giocatori per tipo di mano nel circuito')\n",
    "plt.xlabel('Tipo di giocatore')\n",
    "plt.ylabel('Numero giocatori')\n",
    "plt.tight_layout()\n",
    "plt.show()"
   ]
  },
  {
   "cell_type": "markdown",
   "metadata": {},
   "source": [
    "# 6. Quante partite sono finite con un ritiro? "
   ]
  },
  {
   "cell_type": "code",
   "execution_count": 27,
   "metadata": {},
   "outputs": [
    {
     "data": {
      "image/png": "[encoded data removed]",
      "text/plain": [
       "<Figure size 1000x500 with 1 Axes>"
      ]
     },
     "metadata": {},
     "output_type": "display_data"
    },
    {
     "name": "stdout",
     "output_type": "stream",
     "text": [
      "Totale partite: 2986\n",
      "Partite ritirate: 76\n"
     ]
    }
   ],
   "source": [
    "\n",
    "\n",
    "# Conta i match totali e i ritiri\n",
    "total_matches = df.shape[0]\n",
    "retired_matches = df[df['score'].str.contains('RET', na=False)].shape[0]\n",
    "non_retired_matches = total_matches - retired_matches\n",
    "\n",
    "# Dati per grafico\n",
    "labels = ['Non Ritirate', 'Ritirate']\n",
    "values = [non_retired_matches, retired_matches]\n",
    "colors = ['#d2f644', 'black']\n",
    "\n",
    "# Plot\n",
    "plt.figure(figsize=(10, 5))\n",
    "bars = plt.bar(labels, values, color=colors, edgecolor='black')\n",
    "\n",
    "# Numeri centrati dentro le barre\n",
    "for bar, value in zip(bars, values):\n",
    "    height = bar.get_height()\n",
    "    plt.text(\n",
    "        bar.get_x() + bar.get_width() / 2,\n",
    "        height / 2,\n",
    "        f'{value}',\n",
    "        ha='center',\n",
    "        va='center',\n",
    "        fontsize=14,\n",
    "        fontweight='bold',\n",
    "        color='white' if bar.get_facecolor()[:3] == (0.0, 0.0, 0.0) else 'black'\n",
    "    )\n",
    "\n",
    "plt.title('Distribuzione delle Partite Ritirate nel Circuito')\n",
    "plt.xlabel('Tipo di Partita')\n",
    "plt.ylabel('Numero di Partite')\n",
    "plt.tight_layout()\n",
    "plt.show()\n",
    "\n",
    "# Stampa a console\n",
    "print(f\"Totale partite: {total_matches}\")\n",
    "print(f\"Partite ritirate: {retired_matches}\")\n"
   ]
  },
  {
   "cell_type": "markdown",
   "metadata": {},
   "source": [
    "# 7. Qual è stato il miglior giocatore sulla terra della stagione in termini di partite vinte?"
   ]
  },
  {
   "cell_type": "code",
   "execution_count": 10,
   "metadata": {
    "vscode": {
     "languageId": "ruby"
    }
   },
   "outputs": [
    {
     "data": {
      "image/png": "[encoded data removed]",
      "text/plain": [
       "<Figure size 1000x500 with 1 Axes>"
      ]
     },
     "metadata": {},
     "output_type": "display_data"
    },
    {
     "name": "stdout",
     "output_type": "stream",
     "text": [
      "Miglior giocatore su hard: Jannik Sinner\n",
      "Miglior giocatore su grass: Adrian Mannarino\n",
      "Miglior giocatore su clay: Carlos Alcaraz\n"
     ]
    }
   ],
   "source": [
    "#7) miglior giocatore su hard, grass e clay della stagione in termini di partite vinte\n",
    "\n",
    "# Filtra il DataFrame per superficie\n",
    "hard = df[df['surface'] == 'Hard']\n",
    "grass = df[df['surface'] == 'Grass']\n",
    "clay = df[df['surface'] == 'Clay']\n",
    "\n",
    "# Trova il miglior giocatore per ogni superficie\n",
    "hard_best = hard['winner_name'].value_counts().idxmax()\n",
    "grass_best = grass['winner_name'].value_counts().idxmax()\n",
    "clay_best = clay['winner_name'].value_counts().idxmax()\n",
    "\n",
    "# Conta le vittorie per ogni miglior giocatore\n",
    "hard_wins = hard[hard['winner_name'] == hard_best].shape[0]\n",
    "grass_wins = grass[grass['winner_name'] == grass_best].shape[0]\n",
    "clay_wins = clay[clay['winner_name'] == clay_best].shape[0]\n",
    "\n",
    "# Crea il grafico\n",
    "plt.figure(figsize=(10, 5))\n",
    "bars = plt.bar(['Hard', 'Grass', 'Clay'], [hard_wins, grass_wins, clay_wins], color=['#d2f644', 'black', 'white'], edgecolor='black')\n",
    "\n",
    "# Aggiungi etichette con i nomi dei giocatori\n",
    "for bar, surface, best_player in zip(bars, ['Hard', 'Grass', 'Clay'], [hard_best, grass_best, clay_best]):\n",
    "    yval = bar.get_height()\n",
    "    plt.text(bar.get_x() + bar.get_width()/2, yval + 1, f'{best_player}', ha='center', va='bottom', fontsize=10)\n",
    "\n",
    "# Imposta il titolo e le etichette degli assi\n",
    "plt.title('Miglior giocatore su erba, cemento e terra battuta')\n",
    "plt.xlabel('Tipo di superficie')\n",
    "plt.ylabel('Numero partite vinte')\n",
    "plt.show()\n",
    "\n",
    "#Fammi il print di ogni giocatore per superficie\n",
    "print(f\"Miglior giocatore su hard: {hard_best}\")\n",
    "print(f\"Miglior giocatore su grass: {grass_best}\")\n",
    "print(f\"Miglior giocatore su clay: {clay_best}\")"
   ]
  },
  {
   "cell_type": "markdown",
   "metadata": {},
   "source": [
    "# 8. Qual è stato il torneo con il maggior numero di ace per partita? \n"
   ]
  },
  {
   "cell_type": "code",
   "execution_count": 11,
   "metadata": {},
   "outputs": [
    {
     "data": {
      "application/vnd.plotly.v1+json": {
       "config": {
        "plotlyServerURL": "https://plot.ly"
       },
       "data": [
        {
         "hovertemplate": "Torneo=%{x}<br>Ace medi per partita=%{marker.color}<extra></extra>",
         "legendgroup": "",
         "marker": {
          "color": {
           "bdata": "XS6Xy+VyNEAmtJfQXkI0QJjQXkJ7CTRAf7/f7/f7M0AiIiIiIiIyQC6Xy+VyuTFAEUIIIYQQMUCF9hLaS2gwQIX2EtpLaDBACCGEEEIIL0A=",
           "dtype": "f8"
          },
          "coloraxis": "coloraxis",
          "pattern": {
           "shape": ""
          }
         },
         "name": "",
         "orientation": "v",
         "showlegend": false,
         "text": {
          "bdata": "XS6Xy+VyNEAmtJfQXkI0QJjQXkJ7CTRAf7/f7/f7M0AiIiIiIiIyQC6Xy+VyuTFAEUIIIYQQMUCF9hLaS2gwQIX2EtpLaDBACCGEEEIIL0A=",
          "dtype": "f8"
         },
         "textposition": "outside",
         "texttemplate": "%{text:.2f}",
         "type": "bar",
         "x": [
          "Wimbledon",
          "Stuttgart",
          "Dallas",
          "Australian Open",
          "Tour Finals",
          "Us Open",
          "Halle",
          "Adelaide 2",
          "Atlanta",
          "Basel"
         ],
         "xaxis": "x",
         "y": {
          "bdata": "XS6Xy+VyNEAmtJfQXkI0QJjQXkJ7CTRAf7/f7/f7M0AiIiIiIiIyQC6Xy+VyuTFAEUIIIYQQMUCF9hLaS2gwQIX2EtpLaDBACCGEEEIIL0A=",
          "dtype": "f8"
         },
         "yaxis": "y"
        }
       ],
       "layout": {
        "barmode": "relative",
        "coloraxis": {
         "colorbar": {
          "title": {
           "text": "Ace medi per partita"
          }
         },
         "colorscale": [
          [
           0,
           "rgb(36, 86, 104)"
          ],
          [
           0.16666666666666666,
           "rgb(15, 114, 121)"
          ],
          [
           0.3333333333333333,
           "rgb(13, 143, 129)"
          ],
          [
           0.5,
           "rgb(57, 171, 126)"
          ],
          [
           0.6666666666666666,
           "rgb(110, 197, 116)"
          ],
          [
           0.8333333333333334,
           "rgb(169, 220, 103)"
          ],
          [
           1,
           "rgb(237, 239, 93)"
          ]
         ]
        },
        "legend": {
         "tracegroupgap": 0
        },
        "template": {
         "data": {
          "bar": [
           {
            "error_x": {
             "color": "#2a3f5f"
            },
            "error_y": {
             "color": "#2a3f5f"
            },
            "marker": {
             "line": {
              "color": "#E5ECF6",
              "width": 0.5
             },
             "pattern": {
              "fillmode": "overlay",
              "size": 10,
              "solidity": 0.2
             }
            },
            "type": "bar"
           }
          ],
          "barpolar": [
           {
            "marker": {
             "line": {
              "color": "#E5ECF6",
              "width": 0.5
             },
             "pattern": {
              "fillmode": "overlay",
              "size": 10,
              "solidity": 0.2
             }
            },
            "type": "barpolar"
           }
          ],
          "carpet": [
           {
            "aaxis": {
             "endlinecolor": "#2a3f5f",
             "gridcolor": "white",
             "linecolor": "white",
             "minorgridcolor": "white",
             "startlinecolor": "#2a3f5f"
            },
            "baxis": {
             "endlinecolor": "#2a3f5f",
             "gridcolor": "white",
             "linecolor": "white",
             "minorgridcolor": "white",
             "startlinecolor": "#2a3f5f"
            },
            "type": "carpet"
           }
          ],
          "choropleth": [
           {
            "colorbar": {
             "outlinewidth": 0,
             "ticks": ""
            },
            "type": "choropleth"
           }
          ],
          "contour": [
           {
            "colorbar": {
             "outlinewidth": 0,
             "ticks": ""
            },
            "colorscale": [
             [
              0,
              "#0d0887"
             ],
             [
              0.1111111111111111,
              "#46039f"
             ],
             [
              0.2222222222222222,
              "#7201a8"
             ],
             [
              0.3333333333333333,
              "#9c179e"
             ],
             [
              0.4444444444444444,
              "#bd3786"
             ],
             [
              0.5555555555555556,
              "#d8576b"
             ],
             [
              0.6666666666666666,
              "#ed7953"
             ],
             [
              0.7777777777777778,
              "#fb9f3a"
             ],
             [
              0.8888888888888888,
              "#fdca26"
             ],
             [
              1,
              "#f0f921"
             ]
            ],
            "type": "contour"
           }
          ],
          "contourcarpet": [
           {
            "colorbar": {
             "outlinewidth": 0,
             "ticks": ""
            },
            "type": "contourcarpet"
           }
          ],
          "heatmap": [
           {
            "colorbar": {
             "outlinewidth": 0,
             "ticks": ""
            },
            "colorscale": [
             [
              0,
              "#0d0887"
             ],
             [
              0.1111111111111111,
              "#46039f"
             ],
             [
              0.2222222222222222,
              "#7201a8"
             ],
             [
              0.3333333333333333,
              "#9c179e"
             ],
             [
              0.4444444444444444,
              "#bd3786"
             ],
             [
              0.5555555555555556,
              "#d8576b"
             ],
             [
              0.6666666666666666,
              "#ed7953"
             ],
             [
              0.7777777777777778,
              "#fb9f3a"
             ],
             [
              0.8888888888888888,
              "#fdca26"
             ],
             [
              1,
              "#f0f921"
             ]
            ],
            "type": "heatmap"
           }
          ],
          "histogram": [
           {
            "marker": {
             "pattern": {
              "fillmode": "overlay",
              "size": 10,
              "solidity": 0.2
             }
            },
            "type": "histogram"
           }
          ],
          "histogram2d": [
           {
            "colorbar": {
             "outlinewidth": 0,
             "ticks": ""
            },
            "colorscale": [
             [
              0,
              "#0d0887"
             ],
             [
              0.1111111111111111,
              "#46039f"
             ],
             [
              0.2222222222222222,
              "#7201a8"
             ],
             [
              0.3333333333333333,
              "#9c179e"
             ],
             [
              0.4444444444444444,
              "#bd3786"
             ],
             [
              0.5555555555555556,
              "#d8576b"
             ],
             [
              0.6666666666666666,
              "#ed7953"
             ],
             [
              0.7777777777777778,
              "#fb9f3a"
             ],
             [
              0.8888888888888888,
              "#fdca26"
             ],
             [
              1,
              "#f0f921"
             ]
            ],
            "type": "histogram2d"
           }
          ],
          "histogram2dcontour": [
           {
            "colorbar": {
             "outlinewidth": 0,
             "ticks": ""
            },
            "colorscale": [
             [
              0,
              "#0d0887"
             ],
             [
              0.1111111111111111,
              "#46039f"
             ],
             [
              0.2222222222222222,
              "#7201a8"
             ],
             [
              0.3333333333333333,
              "#9c179e"
             ],
             [
              0.4444444444444444,
              "#bd3786"
             ],
             [
              0.5555555555555556,
              "#d8576b"
             ],
             [
              0.6666666666666666,
              "#ed7953"
             ],
             [
              0.7777777777777778,
              "#fb9f3a"
             ],
             [
              0.8888888888888888,
              "#fdca26"
             ],
             [
              1,
              "#f0f921"
             ]
            ],
            "type": "histogram2dcontour"
           }
          ],
          "mesh3d": [
           {
            "colorbar": {
             "outlinewidth": 0,
             "ticks": ""
            },
            "type": "mesh3d"
           }
          ],
          "parcoords": [
           {
            "line": {
             "colorbar": {
              "outlinewidth": 0,
              "ticks": ""
             }
            },
            "type": "parcoords"
           }
          ],
          "pie": [
           {
            "automargin": true,
            "type": "pie"
           }
          ],
          "scatter": [
           {
            "fillpattern": {
             "fillmode": "overlay",
             "size": 10,
             "solidity": 0.2
            },
            "type": "scatter"
           }
          ],
          "scatter3d": [
           {
            "line": {
             "colorbar": {
              "outlinewidth": 0,
              "ticks": ""
             }
            },
            "marker": {
             "colorbar": {
              "outlinewidth": 0,
              "ticks": ""
             }
            },
            "type": "scatter3d"
           }
          ],
          "scattercarpet": [
           {
            "marker": {
             "colorbar": {
              "outlinewidth": 0,
              "ticks": ""
             }
            },
            "type": "scattercarpet"
           }
          ],
          "scattergeo": [
           {
            "marker": {
             "colorbar": {
              "outlinewidth": 0,
              "ticks": ""
             }
            },
            "type": "scattergeo"
           }
          ],
          "scattergl": [
           {
            "marker": {
             "colorbar": {
              "outlinewidth": 0,
              "ticks": ""
             }
            },
            "type": "scattergl"
           }
          ],
          "scattermap": [
           {
            "marker": {
             "colorbar": {
              "outlinewidth": 0,
              "ticks": ""
             }
            },
            "type": "scattermap"
           }
          ],
          "scattermapbox": [
           {
            "marker": {
             "colorbar": {
              "outlinewidth": 0,
              "ticks": ""
             }
            },
            "type": "scattermapbox"
           }
          ],
          "scatterpolar": [
           {
            "marker": {
             "colorbar": {
              "outlinewidth": 0,
              "ticks": ""
             }
            },
            "type": "scatterpolar"
           }
          ],
          "scatterpolargl": [
           {
            "marker": {
             "colorbar": {
              "outlinewidth": 0,
              "ticks": ""
             }
            },
            "type": "scatterpolargl"
           }
          ],
          "scatterternary": [
           {
            "marker": {
             "colorbar": {
              "outlinewidth": 0,
              "ticks": ""
             }
            },
            "type": "scatterternary"
           }
          ],
          "surface": [
           {
            "colorbar": {
             "outlinewidth": 0,
             "ticks": ""
            },
            "colorscale": [
             [
              0,
              "#0d0887"
             ],
             [
              0.1111111111111111,
              "#46039f"
             ],
             [
              0.2222222222222222,
              "#7201a8"
             ],
             [
              0.3333333333333333,
              "#9c179e"
             ],
             [
              0.4444444444444444,
              "#bd3786"
             ],
             [
              0.5555555555555556,
              "#d8576b"
             ],
             [
              0.6666666666666666,
              "#ed7953"
             ],
             [
              0.7777777777777778,
              "#fb9f3a"
             ],
             [
              0.8888888888888888,
              "#fdca26"
             ],
             [
              1,
              "#f0f921"
             ]
            ],
            "type": "surface"
           }
          ],
          "table": [
           {
            "cells": {
             "fill": {
              "color": "#EBF0F8"
             },
             "line": {
              "color": "white"
             }
            },
            "header": {
             "fill": {
              "color": "#C8D4E3"
             },
             "line": {
              "color": "white"
             }
            },
            "type": "table"
           }
          ]
         },
         "layout": {
          "annotationdefaults": {
           "arrowcolor": "#2a3f5f",
           "arrowhead": 0,
           "arrowwidth": 1
          },
          "autotypenumbers": "strict",
          "coloraxis": {
           "colorbar": {
            "outlinewidth": 0,
            "ticks": ""
           }
          },
          "colorscale": {
           "diverging": [
            [
             0,
             "#8e0152"
            ],
            [
             0.1,
             "#c51b7d"
            ],
            [
             0.2,
             "#de77ae"
            ],
            [
             0.3,
             "#f1b6da"
            ],
            [
             0.4,
             "#fde0ef"
            ],
            [
             0.5,
             "#f7f7f7"
            ],
            [
             0.6,
             "#e6f5d0"
            ],
            [
             0.7,
             "#b8e186"
            ],
            [
             0.8,
             "#7fbc41"
            ],
            [
             0.9,
             "#4d9221"
            ],
            [
             1,
             "#276419"
            ]
           ],
           "sequential": [
            [
             0,
             "#0d0887"
            ],
            [
             0.1111111111111111,
             "#46039f"
            ],
            [
             0.2222222222222222,
             "#7201a8"
            ],
            [
             0.3333333333333333,
             "#9c179e"
            ],
            [
             0.4444444444444444,
             "#bd3786"
            ],
            [
             0.5555555555555556,
             "#d8576b"
            ],
            [
             0.6666666666666666,
             "#ed7953"
            ],
            [
             0.7777777777777778,
             "#fb9f3a"
            ],
            [
             0.8888888888888888,
             "#fdca26"
            ],
            [
             1,
             "#f0f921"
            ]
           ],
           "sequentialminus": [
            [
             0,
             "#0d0887"
            ],
            [
             0.1111111111111111,
             "#46039f"
            ],
            [
             0.2222222222222222,
             "#7201a8"
            ],
            [
             0.3333333333333333,
             "#9c179e"
            ],
            [
             0.4444444444444444,
             "#bd3786"
            ],
            [
             0.5555555555555556,
             "#d8576b"
            ],
            [
             0.6666666666666666,
             "#ed7953"
            ],
            [
             0.7777777777777778,
             "#fb9f3a"
            ],
            [
             0.8888888888888888,
             "#fdca26"
            ],
            [
             1,
             "#f0f921"
            ]
           ]
          },
          "colorway": [
           "#636efa",
           "#EF553B",
           "#00cc96",
           "#ab63fa",
           "#FFA15A",
           "#19d3f3",
           "#FF6692",
           "#B6E880",
           "#FF97FF",
           "#FECB52"
          ],
          "font": {
           "color": "#2a3f5f"
          },
          "geo": {
           "bgcolor": "white",
           "lakecolor": "white",
           "landcolor": "#E5ECF6",
           "showlakes": true,
           "showland": true,
           "subunitcolor": "white"
          },
          "hoverlabel": {
           "align": "left"
          },
          "hovermode": "closest",
          "mapbox": {
           "style": "light"
          },
          "paper_bgcolor": "white",
          "plot_bgcolor": "#E5ECF6",
          "polar": {
           "angularaxis": {
            "gridcolor": "white",
            "linecolor": "white",
            "ticks": ""
           },
           "bgcolor": "#E5ECF6",
           "radialaxis": {
            "gridcolor": "white",
            "linecolor": "white",
            "ticks": ""
           }
          },
          "scene": {
           "xaxis": {
            "backgroundcolor": "#E5ECF6",
            "gridcolor": "white",
            "gridwidth": 2,
            "linecolor": "white",
            "showbackground": true,
            "ticks": "",
            "zerolinecolor": "white"
           },
           "yaxis": {
            "backgroundcolor": "#E5ECF6",
            "gridcolor": "white",
            "gridwidth": 2,
            "linecolor": "white",
            "showbackground": true,
            "ticks": "",
            "zerolinecolor": "white"
           },
           "zaxis": {
            "backgroundcolor": "#E5ECF6",
            "gridcolor": "white",
            "gridwidth": 2,
            "linecolor": "white",
            "showbackground": true,
            "ticks": "",
            "zerolinecolor": "white"
           }
          },
          "shapedefaults": {
           "line": {
            "color": "#2a3f5f"
           }
          },
          "ternary": {
           "aaxis": {
            "gridcolor": "white",
            "linecolor": "white",
            "ticks": ""
           },
           "baxis": {
            "gridcolor": "white",
            "linecolor": "white",
            "ticks": ""
           },
           "bgcolor": "#E5ECF6",
           "caxis": {
            "gridcolor": "white",
            "linecolor": "white",
            "ticks": ""
           }
          },
          "title": {
           "x": 0.05
          },
          "xaxis": {
           "automargin": true,
           "gridcolor": "white",
           "linecolor": "white",
           "ticks": "",
           "title": {
            "standoff": 15
           },
           "zerolinecolor": "white",
           "zerolinewidth": 2
          },
          "yaxis": {
           "automargin": true,
           "gridcolor": "white",
           "linecolor": "white",
           "ticks": "",
           "title": {
            "standoff": 15
           },
           "zerolinecolor": "white",
           "zerolinewidth": 2
          }
         }
        },
        "title": {
         "text": "Top 10 tornei per ace medi a partita (ATP 2023)"
        },
        "xaxis": {
         "anchor": "y",
         "domain": [
          0,
          1
         ],
         "tickangle": -45,
         "title": {
          "text": "Torneo"
         }
        },
        "yaxis": {
         "anchor": "x",
         "domain": [
          0,
          1
         ],
         "title": {
          "text": "Ace medi per partita"
         }
        }
       }
      }
     },
     "metadata": {},
     "output_type": "display_data"
    },
    {
     "name": "stdout",
     "output_type": "stream",
     "text": [
      "tourney_name\n",
      "Wimbledon          20.448819\n",
      "Stuttgart          20.259259\n",
      "Dallas             20.037037\n",
      "Australian Open    19.984252\n",
      "Tour Finals        18.133333\n",
      "                     ...    \n",
      "Umag                5.518519\n",
      "Buenos Aires        4.962963\n",
      "Banja Luka          4.851852\n",
      "Barcelona           4.787234\n",
      "Davis Cup           4.368182\n",
      "Name: total_aces, Length: 68, dtype: float64\n"
     ]
    }
   ],
   "source": [
    "# Calcoliamo gli ace totali per partita sommando quelli del vincitore e del perdente\n",
    "df['total_aces'] = df['w_ace'].fillna(0) + df['l_ace'].fillna(0)\n",
    " \n",
    "# Calcoliamo il numero medio di ace per partita per ogni torneo\n",
    "aces_per_match_by_tourney = df.groupby('tourney_name')['total_aces'].mean().sort_values(ascending=False)\n",
    " \n",
    "# Estraiamo la top 10 dei tornei con più ace medi per partita\n",
    "top_10_aces_per_match = aces_per_match_by_tourney.head(10).reset_index()\n",
    "top_10_aces_per_match.columns = ['tourney_name', 'avg_aces']\n",
    " \n",
    "# Creiamo il grafico a barre\n",
    "fig = px.bar(\n",
    "    top_10_aces_per_match,\n",
    "    x='tourney_name',\n",
    "    y='avg_aces',\n",
    "    title='Top 10 tornei per ace medi a partita (ATP 2023)',\n",
    "    labels={'tourney_name': 'Torneo', 'avg_aces': 'Ace medi per partita'},\n",
    "    text='avg_aces',\n",
    "    color='avg_aces',\n",
    "    color_continuous_scale='Aggrnyl'\n",
    ")\n",
    " \n",
    "fig.update_layout(xaxis_tickangle=-45)\n",
    "fig.update_traces(texttemplate='%{text:.2f}', textposition='outside')\n",
    " \n",
    "fig.show()\n",
    "\n",
    "#Fammi il print del numero medio di ace per partita per ogni torneo\n",
    "print(aces_per_match_by_tourney)\n",
    " "
   ]
  },
  {
   "cell_type": "markdown",
   "metadata": {},
   "source": [
    "# 9. Qual è stata la superficie con il minor numero di set per partita?\n"
   ]
  },
  {
   "cell_type": "code",
   "execution_count": 12,
   "metadata": {},
   "outputs": [
    {
     "data": {
      "application/vnd.plotly.v1+json": {
       "config": {
        "plotlyServerURL": "https://plot.ly"
       },
       "data": [
        {
         "insidetextanchor": "middle",
         "marker": {
          "color": "#000000",
          "line": {
           "color": "black",
           "width": 1.5
          }
         },
         "name": "Clay",
         "text": "2289",
         "textfont": {
          "color": "white"
         },
         "textposition": "inside",
         "type": "bar",
         "x": [
          "Clay"
         ],
         "y": [
          2289
         ]
        },
        {
         "insidetextanchor": "middle",
         "marker": {
          "color": "#d2f644",
          "line": {
           "color": "black",
           "width": 1.5
          }
         },
         "name": "Hard",
         "text": "4361",
         "textfont": {
          "color": "black"
         },
         "textposition": "inside",
         "type": "bar",
         "x": [
          "Hard"
         ],
         "y": [
          4361
         ]
        },
        {
         "insidetextanchor": "middle",
         "marker": {
          "color": "#ffffff",
          "line": {
           "color": "black",
           "width": 1.5
          }
         },
         "name": "Grass",
         "text": "937",
         "textfont": {
          "color": "black"
         },
         "textposition": "inside",
         "type": "bar",
         "x": [
          "Grass"
         ],
         "y": [
          937
         ]
        }
       ],
       "layout": {
        "height": 500,
        "margin": {
         "b": 40,
         "l": 30,
         "r": 30,
         "t": 50
        },
        "showlegend": false,
        "template": {
         "data": {
          "bar": [
           {
            "error_x": {
             "color": "#2a3f5f"
            },
            "error_y": {
             "color": "#2a3f5f"
            },
            "marker": {
             "line": {
              "color": "white",
              "width": 0.5
             },
             "pattern": {
              "fillmode": "overlay",
              "size": 10,
              "solidity": 0.2
             }
            },
            "type": "bar"
           }
          ],
          "barpolar": [
           {
            "marker": {
             "line": {
              "color": "white",
              "width": 0.5
             },
             "pattern": {
              "fillmode": "overlay",
              "size": 10,
              "solidity": 0.2
             }
            },
            "type": "barpolar"
           }
          ],
          "carpet": [
           {
            "aaxis": {
             "endlinecolor": "#2a3f5f",
             "gridcolor": "#C8D4E3",
             "linecolor": "#C8D4E3",
             "minorgridcolor": "#C8D4E3",
             "startlinecolor": "#2a3f5f"
            },
            "baxis": {
             "endlinecolor": "#2a3f5f",
             "gridcolor": "#C8D4E3",
             "linecolor": "#C8D4E3",
             "minorgridcolor": "#C8D4E3",
             "startlinecolor": "#2a3f5f"
            },
            "type": "carpet"
           }
          ],
          "choropleth": [
           {
            "colorbar": {
             "outlinewidth": 0,
             "ticks": ""
            },
            "type": "choropleth"
           }
          ],
          "contour": [
           {
            "colorbar": {
             "outlinewidth": 0,
             "ticks": ""
            },
            "colorscale": [
             [
              0,
              "#0d0887"
             ],
             [
              0.1111111111111111,
              "#46039f"
             ],
             [
              0.2222222222222222,
              "#7201a8"
             ],
             [
              0.3333333333333333,
              "#9c179e"
             ],
             [
              0.4444444444444444,
              "#bd3786"
             ],
             [
              0.5555555555555556,
              "#d8576b"
             ],
             [
              0.6666666666666666,
              "#ed7953"
             ],
             [
              0.7777777777777778,
              "#fb9f3a"
             ],
             [
              0.8888888888888888,
              "#fdca26"
             ],
             [
              1,
              "#f0f921"
             ]
            ],
            "type": "contour"
           }
          ],
          "contourcarpet": [
           {
            "colorbar": {
             "outlinewidth": 0,
             "ticks": ""
            },
            "type": "contourcarpet"
           }
          ],
          "heatmap": [
           {
            "colorbar": {
             "outlinewidth": 0,
             "ticks": ""
            },
            "colorscale": [
             [
              0,
              "#0d0887"
             ],
             [
              0.1111111111111111,
              "#46039f"
             ],
             [
              0.2222222222222222,
              "#7201a8"
             ],
             [
              0.3333333333333333,
              "#9c179e"
             ],
             [
              0.4444444444444444,
              "#bd3786"
             ],
             [
              0.5555555555555556,
              "#d8576b"
             ],
             [
              0.6666666666666666,
              "#ed7953"
             ],
             [
              0.7777777777777778,
              "#fb9f3a"
             ],
             [
              0.8888888888888888,
              "#fdca26"
             ],
             [
              1,
              "#f0f921"
             ]
            ],
            "type": "heatmap"
           }
          ],
          "histogram": [
           {
            "marker": {
             "pattern": {
              "fillmode": "overlay",
              "size": 10,
              "solidity": 0.2
             }
            },
            "type": "histogram"
           }
          ],
          "histogram2d": [
           {
            "colorbar": {
             "outlinewidth": 0,
             "ticks": ""
            },
            "colorscale": [
             [
              0,
              "#0d0887"
             ],
             [
              0.1111111111111111,
              "#46039f"
             ],
             [
              0.2222222222222222,
              "#7201a8"
             ],
             [
              0.3333333333333333,
              "#9c179e"
             ],
             [
              0.4444444444444444,
              "#bd3786"
             ],
             [
              0.5555555555555556,
              "#d8576b"
             ],
             [
              0.6666666666666666,
              "#ed7953"
             ],
             [
              0.7777777777777778,
              "#fb9f3a"
             ],
             [
              0.8888888888888888,
              "#fdca26"
             ],
             [
              1,
              "#f0f921"
             ]
            ],
            "type": "histogram2d"
           }
          ],
          "histogram2dcontour": [
           {
            "colorbar": {
             "outlinewidth": 0,
             "ticks": ""
            },
            "colorscale": [
             [
              0,
              "#0d0887"
             ],
             [
              0.1111111111111111,
              "#46039f"
             ],
             [
              0.2222222222222222,
              "#7201a8"
             ],
             [
              0.3333333333333333,
              "#9c179e"
             ],
             [
              0.4444444444444444,
              "#bd3786"
             ],
             [
              0.5555555555555556,
              "#d8576b"
             ],
             [
              0.6666666666666666,
              "#ed7953"
             ],
             [
              0.7777777777777778,
              "#fb9f3a"
             ],
             [
              0.8888888888888888,
              "#fdca26"
             ],
             [
              1,
              "#f0f921"
             ]
            ],
            "type": "histogram2dcontour"
           }
          ],
          "mesh3d": [
           {
            "colorbar": {
             "outlinewidth": 0,
             "ticks": ""
            },
            "type": "mesh3d"
           }
          ],
          "parcoords": [
           {
            "line": {
             "colorbar": {
              "outlinewidth": 0,
              "ticks": ""
             }
            },
            "type": "parcoords"
           }
          ],
          "pie": [
           {
            "automargin": true,
            "type": "pie"
           }
          ],
          "scatter": [
           {
            "fillpattern": {
             "fillmode": "overlay",
             "size": 10,
             "solidity": 0.2
            },
            "type": "scatter"
           }
          ],
          "scatter3d": [
           {
            "line": {
             "colorbar": {
              "outlinewidth": 0,
              "ticks": ""
             }
            },
            "marker": {
             "colorbar": {
              "outlinewidth": 0,
              "ticks": ""
             }
            },
            "type": "scatter3d"
           }
          ],
          "scattercarpet": [
           {
            "marker": {
             "colorbar": {
              "outlinewidth": 0,
              "ticks": ""
             }
            },
            "type": "scattercarpet"
           }
          ],
          "scattergeo": [
           {
            "marker": {
             "colorbar": {
              "outlinewidth": 0,
              "ticks": ""
             }
            },
            "type": "scattergeo"
           }
          ],
          "scattergl": [
           {
            "marker": {
             "colorbar": {
              "outlinewidth": 0,
              "ticks": ""
             }
            },
            "type": "scattergl"
           }
          ],
          "scattermap": [
           {
            "marker": {
             "colorbar": {
              "outlinewidth": 0,
              "ticks": ""
             }
            },
            "type": "scattermap"
           }
          ],
          "scattermapbox": [
           {
            "marker": {
             "colorbar": {
              "outlinewidth": 0,
              "ticks": ""
             }
            },
            "type": "scattermapbox"
           }
          ],
          "scatterpolar": [
           {
            "marker": {
             "colorbar": {
              "outlinewidth": 0,
              "ticks": ""
             }
            },
            "type": "scatterpolar"
           }
          ],
          "scatterpolargl": [
           {
            "marker": {
             "colorbar": {
              "outlinewidth": 0,
              "ticks": ""
             }
            },
            "type": "scatterpolargl"
           }
          ],
          "scatterternary": [
           {
            "marker": {
             "colorbar": {
              "outlinewidth": 0,
              "ticks": ""
             }
            },
            "type": "scatterternary"
           }
          ],
          "surface": [
           {
            "colorbar": {
             "outlinewidth": 0,
             "ticks": ""
            },
            "colorscale": [
             [
              0,
              "#0d0887"
             ],
             [
              0.1111111111111111,
              "#46039f"
             ],
             [
              0.2222222222222222,
              "#7201a8"
             ],
             [
              0.3333333333333333,
              "#9c179e"
             ],
             [
              0.4444444444444444,
              "#bd3786"
             ],
             [
              0.5555555555555556,
              "#d8576b"
             ],
             [
              0.6666666666666666,
              "#ed7953"
             ],
             [
              0.7777777777777778,
              "#fb9f3a"
             ],
             [
              0.8888888888888888,
              "#fdca26"
             ],
             [
              1,
              "#f0f921"
             ]
            ],
            "type": "surface"
           }
          ],
          "table": [
           {
            "cells": {
             "fill": {
              "color": "#EBF0F8"
             },
             "line": {
              "color": "white"
             }
            },
            "header": {
             "fill": {
              "color": "#C8D4E3"
             },
             "line": {
              "color": "white"
             }
            },
            "type": "table"
           }
          ]
         },
         "layout": {
          "annotationdefaults": {
           "arrowcolor": "#2a3f5f",
           "arrowhead": 0,
           "arrowwidth": 1
          },
          "autotypenumbers": "strict",
          "coloraxis": {
           "colorbar": {
            "outlinewidth": 0,
            "ticks": ""
           }
          },
          "colorscale": {
           "diverging": [
            [
             0,
             "#8e0152"
            ],
            [
             0.1,
             "#c51b7d"
            ],
            [
             0.2,
             "#de77ae"
            ],
            [
             0.3,
             "#f1b6da"
            ],
            [
             0.4,
             "#fde0ef"
            ],
            [
             0.5,
             "#f7f7f7"
            ],
            [
             0.6,
             "#e6f5d0"
            ],
            [
             0.7,
             "#b8e186"
            ],
            [
             0.8,
             "#7fbc41"
            ],
            [
             0.9,
             "#4d9221"
            ],
            [
             1,
             "#276419"
            ]
           ],
           "sequential": [
            [
             0,
             "#0d0887"
            ],
            [
             0.1111111111111111,
             "#46039f"
            ],
            [
             0.2222222222222222,
             "#7201a8"
            ],
            [
             0.3333333333333333,
             "#9c179e"
            ],
            [
             0.4444444444444444,
             "#bd3786"
            ],
            [
             0.5555555555555556,
             "#d8576b"
            ],
            [
             0.6666666666666666,
             "#ed7953"
            ],
            [
             0.7777777777777778,
             "#fb9f3a"
            ],
            [
             0.8888888888888888,
             "#fdca26"
            ],
            [
             1,
             "#f0f921"
            ]
           ],
           "sequentialminus": [
            [
             0,
             "#0d0887"
            ],
            [
             0.1111111111111111,
             "#46039f"
            ],
            [
             0.2222222222222222,
             "#7201a8"
            ],
            [
             0.3333333333333333,
             "#9c179e"
            ],
            [
             0.4444444444444444,
             "#bd3786"
            ],
            [
             0.5555555555555556,
             "#d8576b"
            ],
            [
             0.6666666666666666,
             "#ed7953"
            ],
            [
             0.7777777777777778,
             "#fb9f3a"
            ],
            [
             0.8888888888888888,
             "#fdca26"
            ],
            [
             1,
             "#f0f921"
            ]
           ]
          },
          "colorway": [
           "#636efa",
           "#EF553B",
           "#00cc96",
           "#ab63fa",
           "#FFA15A",
           "#19d3f3",
           "#FF6692",
           "#B6E880",
           "#FF97FF",
           "#FECB52"
          ],
          "font": {
           "color": "#2a3f5f"
          },
          "geo": {
           "bgcolor": "white",
           "lakecolor": "white",
           "landcolor": "white",
           "showlakes": true,
           "showland": true,
           "subunitcolor": "#C8D4E3"
          },
          "hoverlabel": {
           "align": "left"
          },
          "hovermode": "closest",
          "mapbox": {
           "style": "light"
          },
          "paper_bgcolor": "white",
          "plot_bgcolor": "white",
          "polar": {
           "angularaxis": {
            "gridcolor": "#EBF0F8",
            "linecolor": "#EBF0F8",
            "ticks": ""
           },
           "bgcolor": "white",
           "radialaxis": {
            "gridcolor": "#EBF0F8",
            "linecolor": "#EBF0F8",
            "ticks": ""
           }
          },
          "scene": {
           "xaxis": {
            "backgroundcolor": "white",
            "gridcolor": "#DFE8F3",
            "gridwidth": 2,
            "linecolor": "#EBF0F8",
            "showbackground": true,
            "ticks": "",
            "zerolinecolor": "#EBF0F8"
           },
           "yaxis": {
            "backgroundcolor": "white",
            "gridcolor": "#DFE8F3",
            "gridwidth": 2,
            "linecolor": "#EBF0F8",
            "showbackground": true,
            "ticks": "",
            "zerolinecolor": "#EBF0F8"
           },
           "zaxis": {
            "backgroundcolor": "white",
            "gridcolor": "#DFE8F3",
            "gridwidth": 2,
            "linecolor": "#EBF0F8",
            "showbackground": true,
            "ticks": "",
            "zerolinecolor": "#EBF0F8"
           }
          },
          "shapedefaults": {
           "line": {
            "color": "#2a3f5f"
           }
          },
          "ternary": {
           "aaxis": {
            "gridcolor": "#DFE8F3",
            "linecolor": "#A2B1C6",
            "ticks": ""
           },
           "baxis": {
            "gridcolor": "#DFE8F3",
            "linecolor": "#A2B1C6",
            "ticks": ""
           },
           "bgcolor": "white",
           "caxis": {
            "gridcolor": "#DFE8F3",
            "linecolor": "#A2B1C6",
            "ticks": ""
           }
          },
          "title": {
           "x": 0.05
          },
          "xaxis": {
           "automargin": true,
           "gridcolor": "#EBF0F8",
           "linecolor": "#EBF0F8",
           "ticks": "",
           "title": {
            "standoff": 15
           },
           "zerolinecolor": "#EBF0F8",
           "zerolinewidth": 2
          },
          "yaxis": {
           "automargin": true,
           "gridcolor": "#EBF0F8",
           "linecolor": "#EBF0F8",
           "ticks": "",
           "title": {
            "standoff": 15
           },
           "zerolinecolor": "#EBF0F8",
           "zerolinewidth": 2
          }
         }
        },
        "title": {
         "text": "Totale Set Giocati per Superficie"
        },
        "width": 800,
        "xaxis": {
         "title": {
          "text": "Superficie"
         }
        },
        "yaxis": {
         "title": {
          "text": "Numero di Set Giocati"
         }
        }
       }
      }
     },
     "metadata": {},
     "output_type": "display_data"
    },
    {
     "name": "stdout",
     "output_type": "stream",
     "text": [
      "Superficie meno giocata: Grass\n"
     ]
    }
   ],
   "source": [
    "\n",
    "# Conta i set: ogni \"-\" rappresenta un set\n",
    "df['num_sets'] = df['score'].apply(lambda x: str(x).count('-'))\n",
    "\n",
    "# Rimuove righe senza superficie o punteggio valido\n",
    "df_clean = df.dropna(subset=['surface', 'score'])\n",
    "\n",
    "# Totale set giocati per superficie\n",
    "surface_set_counts = df_clean.groupby('surface')['num_sets'].sum().reset_index()\n",
    "\n",
    "# Ordine richiesto: nero (Clay), lime (Hard), bianco (Grass)\n",
    "surface_order = ['Clay', 'Hard', 'Grass']\n",
    "palette = ['#000000', '#d2f644', '#ffffff']\n",
    "\n",
    "# Filtro e ordina le superfici\n",
    "surface_set_counts = surface_set_counts[surface_set_counts['surface'].isin(surface_order)]\n",
    "surface_set_counts = surface_set_counts.set_index('surface').loc[surface_order].reset_index()\n",
    "\n",
    "# Crea la figura\n",
    "fig = go.Figure()\n",
    "\n",
    "for i, row in surface_set_counts.iterrows():\n",
    "    color = palette[i]\n",
    "    text_color = 'white' if color == '#000000' else 'black'\n",
    "    \n",
    "    fig.add_trace(go.Bar(\n",
    "        x=[row['surface']],\n",
    "        y=[row['num_sets']],\n",
    "        marker=dict(\n",
    "            color=color,\n",
    "            line=dict(color='black', width=1.5)\n",
    "        ),\n",
    "        name=row['surface'],\n",
    "        text=f\"{row['num_sets']}\",\n",
    "        textposition='inside',\n",
    "        insidetextanchor='middle',\n",
    "        textfont=dict(color=text_color)\n",
    "    ))\n",
    "\n",
    "# Layout finale\n",
    "fig.update_layout(\n",
    "    title='Totale Set Giocati per Superficie',\n",
    "    xaxis_title='Superficie',\n",
    "    yaxis_title='Numero di Set Giocati',\n",
    "    template='plotly_white',\n",
    "    height=500,\n",
    "    width=800,\n",
    "    margin=dict(l=30, r=30, t=50, b=40),\n",
    "    showlegend=False\n",
    ")\n",
    "\n",
    "fig.show()\n",
    "\n",
    "# Fammi l'output della superficie meno giocata\n",
    "least_played_surface = surface_set_counts['surface'].iloc[surface_set_counts['num_sets'].idxmin()]\n",
    "print(f\"Superficie meno giocata: {least_played_surface}\")\n",
    "\n"
   ]
  },
  {
   "cell_type": "markdown",
   "metadata": {},
   "source": [
    "# 10.Quanti set ha vinto Berrettini sull’erba?"
   ]
  },
  {
   "cell_type": "code",
   "execution_count": 13,
   "metadata": {},
   "outputs": [
    {
     "data": {
      "application/vnd.plotly.v1+json": {
       "config": {
        "plotlyServerURL": "https://plot.ly"
       },
       "data": [
        {
         "customdata": [
          [
           "Hard"
          ],
          [
           "Grass"
          ],
          [
           "Clay"
          ]
         ],
         "domain": {
          "x": [
           0,
           1
          ],
          "y": [
           0,
           1
          ]
         },
         "hole": 0.4,
         "hovertemplate": "label=%{label}<br>value=%{value}<br>color=%{customdata[0]}<extra></extra>",
         "labels": [
          "Hard",
          "Grass",
          "Clay"
         ],
         "legendgroup": "",
         "marker": {
          "colors": [
           "rgb(237, 239, 93)",
           "rgb(169, 220, 103)",
           "rgb(110, 197, 116)"
          ]
         },
         "name": "",
         "showlegend": true,
         "textinfo": "value+label",
         "type": "pie",
         "values": {
          "bdata": "EgcD",
          "dtype": "i1"
         }
        }
       ],
       "layout": {
        "legend": {
         "orientation": "v",
         "tracegroupgap": 0,
         "x": 1.05,
         "xanchor": "left",
         "y": 0.5,
         "yanchor": "middle"
        },
        "piecolorway": [
         "rgb(237, 239, 93)",
         "rgb(169, 220, 103)",
         "rgb(110, 197, 116)",
         "rgb(57, 171, 126)",
         "rgb(13, 143, 129)",
         "rgb(15, 114, 121)",
         "rgb(36, 86, 104)"
        ],
        "template": {
         "data": {
          "bar": [
           {
            "error_x": {
             "color": "#2a3f5f"
            },
            "error_y": {
             "color": "#2a3f5f"
            },
            "marker": {
             "line": {
              "color": "#E5ECF6",
              "width": 0.5
             },
             "pattern": {
              "fillmode": "overlay",
              "size": 10,
              "solidity": 0.2
             }
            },
            "type": "bar"
           }
          ],
          "barpolar": [
           {
            "marker": {
             "line": {
              "color": "#E5ECF6",
              "width": 0.5
             },
             "pattern": {
              "fillmode": "overlay",
              "size": 10,
              "solidity": 0.2
             }
            },
            "type": "barpolar"
           }
          ],
          "carpet": [
           {
            "aaxis": {
             "endlinecolor": "#2a3f5f",
             "gridcolor": "white",
             "linecolor": "white",
             "minorgridcolor": "white",
             "startlinecolor": "#2a3f5f"
            },
            "baxis": {
             "endlinecolor": "#2a3f5f",
             "gridcolor": "white",
             "linecolor": "white",
             "minorgridcolor": "white",
             "startlinecolor": "#2a3f5f"
            },
            "type": "carpet"
           }
          ],
          "choropleth": [
           {
            "colorbar": {
             "outlinewidth": 0,
             "ticks": ""
            },
            "type": "choropleth"
           }
          ],
          "contour": [
           {
            "colorbar": {
             "outlinewidth": 0,
             "ticks": ""
            },
            "colorscale": [
             [
              0,
              "#0d0887"
             ],
             [
              0.1111111111111111,
              "#46039f"
             ],
             [
              0.2222222222222222,
              "#7201a8"
             ],
             [
              0.3333333333333333,
              "#9c179e"
             ],
             [
              0.4444444444444444,
              "#bd3786"
             ],
             [
              0.5555555555555556,
              "#d8576b"
             ],
             [
              0.6666666666666666,
              "#ed7953"
             ],
             [
              0.7777777777777778,
              "#fb9f3a"
             ],
             [
              0.8888888888888888,
              "#fdca26"
             ],
             [
              1,
              "#f0f921"
             ]
            ],
            "type": "contour"
           }
          ],
          "contourcarpet": [
           {
            "colorbar": {
             "outlinewidth": 0,
             "ticks": ""
            },
            "type": "contourcarpet"
           }
          ],
          "heatmap": [
           {
            "colorbar": {
             "outlinewidth": 0,
             "ticks": ""
            },
            "colorscale": [
             [
              0,
              "#0d0887"
             ],
             [
              0.1111111111111111,
              "#46039f"
             ],
             [
              0.2222222222222222,
              "#7201a8"
             ],
             [
              0.3333333333333333,
              "#9c179e"
             ],
             [
              0.4444444444444444,
              "#bd3786"
             ],
             [
              0.5555555555555556,
              "#d8576b"
             ],
             [
              0.6666666666666666,
              "#ed7953"
             ],
             [
              0.7777777777777778,
              "#fb9f3a"
             ],
             [
              0.8888888888888888,
              "#fdca26"
             ],
             [
              1,
              "#f0f921"
             ]
            ],
            "type": "heatmap"
           }
          ],
          "histogram": [
           {
            "marker": {
             "pattern": {
              "fillmode": "overlay",
              "size": 10,
              "solidity": 0.2
             }
            },
            "type": "histogram"
           }
          ],
          "histogram2d": [
           {
            "colorbar": {
             "outlinewidth": 0,
             "ticks": ""
            },
            "colorscale": [
             [
              0,
              "#0d0887"
             ],
             [
              0.1111111111111111,
              "#46039f"
             ],
             [
              0.2222222222222222,
              "#7201a8"
             ],
             [
              0.3333333333333333,
              "#9c179e"
             ],
             [
              0.4444444444444444,
              "#bd3786"
             ],
             [
              0.5555555555555556,
              "#d8576b"
             ],
             [
              0.6666666666666666,
              "#ed7953"
             ],
             [
              0.7777777777777778,
              "#fb9f3a"
             ],
             [
              0.8888888888888888,
              "#fdca26"
             ],
             [
              1,
              "#f0f921"
             ]
            ],
            "type": "histogram2d"
           }
          ],
          "histogram2dcontour": [
           {
            "colorbar": {
             "outlinewidth": 0,
             "ticks": ""
            },
            "colorscale": [
             [
              0,
              "#0d0887"
             ],
             [
              0.1111111111111111,
              "#46039f"
             ],
             [
              0.2222222222222222,
              "#7201a8"
             ],
             [
              0.3333333333333333,
              "#9c179e"
             ],
             [
              0.4444444444444444,
              "#bd3786"
             ],
             [
              0.5555555555555556,
              "#d8576b"
             ],
             [
              0.6666666666666666,
              "#ed7953"
             ],
             [
              0.7777777777777778,
              "#fb9f3a"
             ],
             [
              0.8888888888888888,
              "#fdca26"
             ],
             [
              1,
              "#f0f921"
             ]
            ],
            "type": "histogram2dcontour"
           }
          ],
          "mesh3d": [
           {
            "colorbar": {
             "outlinewidth": 0,
             "ticks": ""
            },
            "type": "mesh3d"
           }
          ],
          "parcoords": [
           {
            "line": {
             "colorbar": {
              "outlinewidth": 0,
              "ticks": ""
             }
            },
            "type": "parcoords"
           }
          ],
          "pie": [
           {
            "automargin": true,
            "type": "pie"
           }
          ],
          "scatter": [
           {
            "fillpattern": {
             "fillmode": "overlay",
             "size": 10,
             "solidity": 0.2
            },
            "type": "scatter"
           }
          ],
          "scatter3d": [
           {
            "line": {
             "colorbar": {
              "outlinewidth": 0,
              "ticks": ""
             }
            },
            "marker": {
             "colorbar": {
              "outlinewidth": 0,
              "ticks": ""
             }
            },
            "type": "scatter3d"
           }
          ],
          "scattercarpet": [
           {
            "marker": {
             "colorbar": {
              "outlinewidth": 0,
              "ticks": ""
             }
            },
            "type": "scattercarpet"
           }
          ],
          "scattergeo": [
           {
            "marker": {
             "colorbar": {
              "outlinewidth": 0,
              "ticks": ""
             }
            },
            "type": "scattergeo"
           }
          ],
          "scattergl": [
           {
            "marker": {
             "colorbar": {
              "outlinewidth": 0,
              "ticks": ""
             }
            },
            "type": "scattergl"
           }
          ],
          "scattermap": [
           {
            "marker": {
             "colorbar": {
              "outlinewidth": 0,
              "ticks": ""
             }
            },
            "type": "scattermap"
           }
          ],
          "scattermapbox": [
           {
            "marker": {
             "colorbar": {
              "outlinewidth": 0,
              "ticks": ""
             }
            },
            "type": "scattermapbox"
           }
          ],
          "scatterpolar": [
           {
            "marker": {
             "colorbar": {
              "outlinewidth": 0,
              "ticks": ""
             }
            },
            "type": "scatterpolar"
           }
          ],
          "scatterpolargl": [
           {
            "marker": {
             "colorbar": {
              "outlinewidth": 0,
              "ticks": ""
             }
            },
            "type": "scatterpolargl"
           }
          ],
          "scatterternary": [
           {
            "marker": {
             "colorbar": {
              "outlinewidth": 0,
              "ticks": ""
             }
            },
            "type": "scatterternary"
           }
          ],
          "surface": [
           {
            "colorbar": {
             "outlinewidth": 0,
             "ticks": ""
            },
            "colorscale": [
             [
              0,
              "#0d0887"
             ],
             [
              0.1111111111111111,
              "#46039f"
             ],
             [
              0.2222222222222222,
              "#7201a8"
             ],
             [
              0.3333333333333333,
              "#9c179e"
             ],
             [
              0.4444444444444444,
              "#bd3786"
             ],
             [
              0.5555555555555556,
              "#d8576b"
             ],
             [
              0.6666666666666666,
              "#ed7953"
             ],
             [
              0.7777777777777778,
              "#fb9f3a"
             ],
             [
              0.8888888888888888,
              "#fdca26"
             ],
             [
              1,
              "#f0f921"
             ]
            ],
            "type": "surface"
           }
          ],
          "table": [
           {
            "cells": {
             "fill": {
              "color": "#EBF0F8"
             },
             "line": {
              "color": "white"
             }
            },
            "header": {
             "fill": {
              "color": "#C8D4E3"
             },
             "line": {
              "color": "white"
             }
            },
            "type": "table"
           }
          ]
         },
         "layout": {
          "annotationdefaults": {
           "arrowcolor": "#2a3f5f",
           "arrowhead": 0,
           "arrowwidth": 1
          },
          "autotypenumbers": "strict",
          "coloraxis": {
           "colorbar": {
            "outlinewidth": 0,
            "ticks": ""
           }
          },
          "colorscale": {
           "diverging": [
            [
             0,
             "#8e0152"
            ],
            [
             0.1,
             "#c51b7d"
            ],
            [
             0.2,
             "#de77ae"
            ],
            [
             0.3,
             "#f1b6da"
            ],
            [
             0.4,
             "#fde0ef"
            ],
            [
             0.5,
             "#f7f7f7"
            ],
            [
             0.6,
             "#e6f5d0"
            ],
            [
             0.7,
             "#b8e186"
            ],
            [
             0.8,
             "#7fbc41"
            ],
            [
             0.9,
             "#4d9221"
            ],
            [
             1,
             "#276419"
            ]
           ],
           "sequential": [
            [
             0,
             "#0d0887"
            ],
            [
             0.1111111111111111,
             "#46039f"
            ],
            [
             0.2222222222222222,
             "#7201a8"
            ],
            [
             0.3333333333333333,
             "#9c179e"
            ],
            [
             0.4444444444444444,
             "#bd3786"
            ],
            [
             0.5555555555555556,
             "#d8576b"
            ],
            [
             0.6666666666666666,
             "#ed7953"
            ],
            [
             0.7777777777777778,
             "#fb9f3a"
            ],
            [
             0.8888888888888888,
             "#fdca26"
            ],
            [
             1,
             "#f0f921"
            ]
           ],
           "sequentialminus": [
            [
             0,
             "#0d0887"
            ],
            [
             0.1111111111111111,
             "#46039f"
            ],
            [
             0.2222222222222222,
             "#7201a8"
            ],
            [
             0.3333333333333333,
             "#9c179e"
            ],
            [
             0.4444444444444444,
             "#bd3786"
            ],
            [
             0.5555555555555556,
             "#d8576b"
            ],
            [
             0.6666666666666666,
             "#ed7953"
            ],
            [
             0.7777777777777778,
             "#fb9f3a"
            ],
            [
             0.8888888888888888,
             "#fdca26"
            ],
            [
             1,
             "#f0f921"
            ]
           ]
          },
          "colorway": [
           "#636efa",
           "#EF553B",
           "#00cc96",
           "#ab63fa",
           "#FFA15A",
           "#19d3f3",
           "#FF6692",
           "#B6E880",
           "#FF97FF",
           "#FECB52"
          ],
          "font": {
           "color": "#2a3f5f"
          },
          "geo": {
           "bgcolor": "white",
           "lakecolor": "white",
           "landcolor": "#E5ECF6",
           "showlakes": true,
           "showland": true,
           "subunitcolor": "white"
          },
          "hoverlabel": {
           "align": "left"
          },
          "hovermode": "closest",
          "mapbox": {
           "style": "light"
          },
          "paper_bgcolor": "white",
          "plot_bgcolor": "#E5ECF6",
          "polar": {
           "angularaxis": {
            "gridcolor": "white",
            "linecolor": "white",
            "ticks": ""
           },
           "bgcolor": "#E5ECF6",
           "radialaxis": {
            "gridcolor": "white",
            "linecolor": "white",
            "ticks": ""
           }
          },
          "scene": {
           "xaxis": {
            "backgroundcolor": "#E5ECF6",
            "gridcolor": "white",
            "gridwidth": 2,
            "linecolor": "white",
            "showbackground": true,
            "ticks": "",
            "zerolinecolor": "white"
           },
           "yaxis": {
            "backgroundcolor": "#E5ECF6",
            "gridcolor": "white",
            "gridwidth": 2,
            "linecolor": "white",
            "showbackground": true,
            "ticks": "",
            "zerolinecolor": "white"
           },
           "zaxis": {
            "backgroundcolor": "#E5ECF6",
            "gridcolor": "white",
            "gridwidth": 2,
            "linecolor": "white",
            "showbackground": true,
            "ticks": "",
            "zerolinecolor": "white"
           }
          },
          "shapedefaults": {
           "line": {
            "color": "#2a3f5f"
           }
          },
          "ternary": {
           "aaxis": {
            "gridcolor": "white",
            "linecolor": "white",
            "ticks": ""
           },
           "baxis": {
            "gridcolor": "white",
            "linecolor": "white",
            "ticks": ""
           },
           "bgcolor": "#E5ECF6",
           "caxis": {
            "gridcolor": "white",
            "linecolor": "white",
            "ticks": ""
           }
          },
          "title": {
           "x": 0.05
          },
          "xaxis": {
           "automargin": true,
           "gridcolor": "white",
           "linecolor": "white",
           "ticks": "",
           "title": {
            "standoff": 15
           },
           "zerolinecolor": "white",
           "zerolinewidth": 2
          },
          "yaxis": {
           "automargin": true,
           "gridcolor": "white",
           "linecolor": "white",
           "ticks": "",
           "title": {
            "standoff": 15
           },
           "zerolinecolor": "white",
           "zerolinewidth": 2
          }
         }
        },
        "title": {
         "text": "Set vinti da Matteo Berrettini per superficie (in tutte le partite)"
        }
       }
      }
     },
     "metadata": {},
     "output_type": "display_data"
    },
    {
     "name": "stdout",
     "output_type": "stream",
     "text": [
      "Set vinti da Berrettini su erba (tutte le partite): 7\n"
     ]
    }
   ],
   "source": [
    "# Funzione per contare i set vinti da un giocatore (in qualsiasi match)\n",
    "def count_sets_won_general(row):\n",
    "    sets_won = 0\n",
    "    score_str = str(row['score'])\n",
    "    is_winner = row['winner_name'] == 'Matteo Berrettini'\n",
    "    for s in score_str.split():\n",
    "        if '-' in s:\n",
    "            try:\n",
    "                p1, p2 = map(int, s.split('-')[:2])\n",
    "                if (is_winner and p1 > p2) or (not is_winner and p2 > p1):\n",
    "                    sets_won += 1\n",
    "            except:\n",
    "                continue\n",
    "    return sets_won\n",
    "\n",
    "# Filtra tutte le partite giocate da Berrettini\n",
    "berrettini_matches = df[\n",
    "    (df['winner_name'] == 'Matteo Berrettini') | (df['loser_name'] == 'Matteo Berrettini')\n",
    "].copy()\n",
    "\n",
    "# Calcola i set vinti in ogni partita (indipendentemente dall'esito)\n",
    "berrettini_matches['sets_won'] = berrettini_matches.apply(count_sets_won_general, axis=1)\n",
    "\n",
    "# Raggruppa per superficie\n",
    "sets_won_all_matches = berrettini_matches.groupby('surface')['sets_won'].sum().sort_values(ascending=False)\n",
    "\n",
    "# Pie chart\n",
    "import plotly.express as px\n",
    "\n",
    "fig = px.pie(\n",
    "    names=sets_won_all_matches.index,\n",
    "    values=sets_won_all_matches.values,\n",
    "    title=\"Set vinti da Matteo Berrettini per superficie (in tutte le partite)\",\n",
    "    hole=0.4,\n",
    "    color=sets_won_all_matches.index,\n",
    "    color_discrete_sequence=px.colors.sequential.Aggrnyl[::-1]\n",
    ")\n",
    "\n",
    "fig.update_traces(textinfo='value+label')\n",
    "\n",
    "fig.update_layout(\n",
    "    legend=dict(\n",
    "        orientation=\"v\",\n",
    "        yanchor=\"middle\",\n",
    "        y=0.5,\n",
    "        xanchor=\"left\",\n",
    "        x=1.05\n",
    "    )\n",
    ")\n",
    "\n",
    "fig.show()\n",
    "\n",
    "# Stampa i set vinti su erba (anche da partite perse)\n",
    "print(f\"Set vinti da Berrettini su erba (tutte le partite): {sets_won_all_matches.get('Grass', 0)}\")\n"
   ]
  },
  {
   "cell_type": "markdown",
   "metadata": {},
   "source": [
    "# 11. Esiste una relazione fra numero di set vinti e ranking?"
   ]
  },
  {
   "cell_type": "code",
   "execution_count": 14,
   "metadata": {},
   "outputs": [
    {
     "data": {
      "application/vnd.plotly.v1+json": {
       "config": {
        "plotlyServerURL": "https://plot.ly"
       },
       "data": [
        {
         "customdata": [
          [
           "Abedallah Shelbayh"
          ],
          [
           "Abedallah Shelbayh"
          ],
          [
           "Abedallah Shelbayh"
          ],
          [
           "Adrian Mannarino"
          ],
          [
           "Adrian Mannarino"
          ],
          [
           "Adrian Mannarino"
          ],
          [
           "Adrian Mannarino"
          ],
          [
           "Adrian Mannarino"
          ],
          [
           "Adrian Mannarino"
          ],
          [
           "Adrian Mannarino"
          ],
          [
           "Adrian Mannarino"
          ],
          [
           "Adrian Mannarino"
          ],
          [
           "Adrian Mannarino"
          ],
          [
           "Adrian Mannarino"
          ],
          [
           "Adrian Mannarino"
          ],
          [
           "Adrian Mannarino"
          ],
          [
           "Adrian Mannarino"
          ],
          [
           "Adrian Mannarino"
          ],
          [
           "Adrian Mannarino"
          ],
          [
           "Adrian Mannarino"
          ],
          [
           "Albert Ramos"
          ],
          [
           "Albert Ramos"
          ],
          [
           "Albert Ramos"
          ],
          [
           "Albert Ramos"
          ],
          [
           "Albert Ramos"
          ],
          [
           "Albert Ramos"
          ],
          [
           "Albert Ramos"
          ],
          [
           "Alejandro Davidovich Fokina"
          ],
          [
           "Alejandro Davidovich Fokina"
          ],
          [
           "Alejandro Davidovich Fokina"
          ],
          [
           "Alejandro Davidovich Fokina"
          ],
          [
           "Alejandro Davidovich Fokina"
          ],
          [
           "Alejandro Davidovich Fokina"
          ],
          [
           "Alejandro Davidovich Fokina"
          ],
          [
           "Alejandro Davidovich Fokina"
          ],
          [
           "Alejandro Davidovich Fokina"
          ],
          [
           "Alejandro Davidovich Fokina"
          ],
          [
           "Alejandro Davidovich Fokina"
          ],
          [
           "Alejandro Davidovich Fokina"
          ],
          [
           "Alejandro Davidovich Fokina"
          ],
          [
           "Alejandro Tabilo"
          ],
          [
           "Aleksandar Kovacevic"
          ],
          [
           "Aleksandar Kovacevic"
          ],
          [
           "Aleksandar Vukic"
          ],
          [
           "Aleksandar Vukic"
          ],
          [
           "Aleksandar Vukic"
          ],
          [
           "Aleksandar Vukic"
          ],
          [
           "Aleksandar Vukic"
          ],
          [
           "Aleksandar Vukic"
          ],
          [
           "Aleksandar Vukic"
          ],
          [
           "Aleksandre Bakshi"
          ],
          [
           "Alex Bolt"
          ],
          [
           "Alex De Minaur"
          ],
          [
           "Alex De Minaur"
          ],
          [
           "Alex De Minaur"
          ],
          [
           "Alex De Minaur"
          ],
          [
           "Alex De Minaur"
          ],
          [
           "Alex De Minaur"
          ],
          [
           "Alex De Minaur"
          ],
          [
           "Alex De Minaur"
          ],
          [
           "Alex De Minaur"
          ],
          [
           "Alex Knaff"
          ],
          [
           "Alex Knaff"
          ],
          [
           "Alex Michelsen"
          ],
          [
           "Alex Michelsen"
          ],
          [
           "Alex Michelsen"
          ],
          [
           "Alex Molcan"
          ],
          [
           "Alex Molcan"
          ],
          [
           "Alex Molcan"
          ],
          [
           "Alex Molcan"
          ],
          [
           "Alex Molcan"
          ],
          [
           "Alex Molcan"
          ],
          [
           "Alex Molcan"
          ],
          [
           "Alex Molcan"
          ],
          [
           "Alex Molcan"
          ],
          [
           "Alex Molcan"
          ],
          [
           "Alexander Bublik"
          ],
          [
           "Alexander Bublik"
          ],
          [
           "Alexander Bublik"
          ],
          [
           "Alexander Bublik"
          ],
          [
           "Alexander Bublik"
          ],
          [
           "Alexander Bublik"
          ],
          [
           "Alexander Bublik"
          ],
          [
           "Alexander Bublik"
          ],
          [
           "Alexander Bublik"
          ],
          [
           "Alexander Bublik"
          ],
          [
           "Alexander Ritschard"
          ],
          [
           "Alexander Ritschard"
          ],
          [
           "Alexander Shevchenko"
          ],
          [
           "Alexander Shevchenko"
          ],
          [
           "Alexander Shevchenko"
          ],
          [
           "Alexander Shevchenko"
          ],
          [
           "Alexander Shevchenko"
          ],
          [
           "Alexander Shevchenko"
          ],
          [
           "Alexander Shevchenko"
          ],
          [
           "Alexander Shevchenko"
          ],
          [
           "Alexander Zverev"
          ],
          [
           "Alexander Zverev"
          ],
          [
           "Alexander Zverev"
          ],
          [
           "Alexander Zverev"
          ],
          [
           "Alexander Zverev"
          ],
          [
           "Alexander Zverev"
          ],
          [
           "Alexander Zverev"
          ],
          [
           "Alexander Zverev"
          ],
          [
           "Alexander Zverev"
          ],
          [
           "Alexander Zverev"
          ],
          [
           "Alexander Zverev"
          ],
          [
           "Alexander Zverev"
          ],
          [
           "Alexandre Muller"
          ],
          [
           "Alexandre Muller"
          ],
          [
           "Alexandre Muller"
          ],
          [
           "Alexandre Muller"
          ],
          [
           "Alexei Popyrin"
          ],
          [
           "Alexei Popyrin"
          ],
          [
           "Alexei Popyrin"
          ],
          [
           "Alexei Popyrin"
          ],
          [
           "Alexei Popyrin"
          ],
          [
           "Alexei Popyrin"
          ],
          [
           "Alexei Popyrin"
          ],
          [
           "Alexei Popyrin"
          ],
          [
           "Alexei Popyrin"
          ],
          [
           "Alexei Popyrin"
          ],
          [
           "Alexei Popyrin"
          ],
          [
           "Alexei Popyrin"
          ],
          [
           "Alexis Galarneau"
          ],
          [
           "Alibek Kachmazov"
          ],
          [
           "Altug Celikbilek"
          ],
          [
           "Alvaro Guillen Meza"
          ],
          [
           "Amr Elsayed Abdou Ahmed Mohamed"
          ],
          [
           "Andrea Vavassori"
          ],
          [
           "Andrea Vavassori"
          ],
          [
           "Andrea Vavassori"
          ],
          [
           "Andrey Rublev"
          ],
          [
           "Andrey Rublev"
          ],
          [
           "Andrey Rublev"
          ],
          [
           "Andrey Rublev"
          ],
          [
           "Andy Murray"
          ],
          [
           "Andy Murray"
          ],
          [
           "Andy Murray"
          ],
          [
           "Andy Murray"
          ],
          [
           "Andy Murray"
          ],
          [
           "Andy Murray"
          ],
          [
           "Andy Murray"
          ],
          [
           "Arklon Huertas Del Pino"
          ],
          [
           "Arthur Fils"
          ],
          [
           "Arthur Fils"
          ],
          [
           "Arthur Fils"
          ],
          [
           "Arthur Fils"
          ],
          [
           "Arthur Fils"
          ],
          [
           "Arthur Fils"
          ],
          [
           "Arthur Fils"
          ],
          [
           "Arthur Fils"
          ],
          [
           "Arthur Fils"
          ],
          [
           "Arthur Rinderknech"
          ],
          [
           "Arthur Rinderknech"
          ],
          [
           "Arthur Rinderknech"
          ],
          [
           "Arthur Rinderknech"
          ],
          [
           "Arthur Rinderknech"
          ],
          [
           "Arthur Rinderknech"
          ],
          [
           "Arthur Rinderknech"
          ],
          [
           "Aslan Karatsev"
          ],
          [
           "Aslan Karatsev"
          ],
          [
           "Aslan Karatsev"
          ],
          [
           "Aslan Karatsev"
          ],
          [
           "Aslan Karatsev"
          ],
          [
           "Aslan Karatsev"
          ],
          [
           "Aslan Karatsev"
          ],
          [
           "Aslan Karatsev"
          ],
          [
           "Aslan Karatsev"
          ],
          [
           "Beibit Zhukayev"
          ],
          [
           "Ben Shelton"
          ],
          [
           "Ben Shelton"
          ],
          [
           "Ben Shelton"
          ],
          [
           "Ben Shelton"
          ],
          [
           "Ben Shelton"
          ],
          [
           "Ben Shelton"
          ],
          [
           "Ben Shelton"
          ],
          [
           "Ben Shelton"
          ],
          [
           "Ben Shelton"
          ],
          [
           "Ben Shelton"
          ],
          [
           "Ben Shelton"
          ],
          [
           "Benjamin Bonzi"
          ],
          [
           "Benjamin Bonzi"
          ],
          [
           "Benjamin Bonzi"
          ],
          [
           "Benjamin Bonzi"
          ],
          [
           "Benjamin Bonzi"
          ],
          [
           "Benjamin Hassan"
          ],
          [
           "Benjamin Hassan"
          ],
          [
           "Bernabe Zapata Miralles"
          ],
          [
           "Bernabe Zapata Miralles"
          ],
          [
           "Bernabe Zapata Miralles"
          ],
          [
           "Bernabe Zapata Miralles"
          ],
          [
           "Bernabe Zapata Miralles"
          ],
          [
           "Bernabe Zapata Miralles"
          ],
          [
           "Bernabe Zapata Miralles"
          ],
          [
           "Bernabe Zapata Miralles"
          ],
          [
           "Bernabe Zapata Miralles"
          ],
          [
           "Bernabe Zapata Miralles"
          ],
          [
           "Billy Harris"
          ],
          [
           "Blaise Bicknell"
          ],
          [
           "Blaz Rola"
          ],
          [
           "Borna Coric"
          ],
          [
           "Borna Coric"
          ],
          [
           "Borna Coric"
          ],
          [
           "Borna Coric"
          ],
          [
           "Borna Coric"
          ],
          [
           "Borna Coric"
          ],
          [
           "Borna Gojo"
          ],
          [
           "Borna Gojo"
          ],
          [
           "Borna Gojo"
          ],
          [
           "Borna Gojo"
          ],
          [
           "Borna Gojo"
          ],
          [
           "Botic Van De Zandschulp"
          ],
          [
           "Botic Van De Zandschulp"
          ],
          [
           "Botic Van De Zandschulp"
          ],
          [
           "Botic Van De Zandschulp"
          ],
          [
           "Botic Van De Zandschulp"
          ],
          [
           "Botic Van De Zandschulp"
          ],
          [
           "Botic Van De Zandschulp"
          ],
          [
           "Botic Van De Zandschulp"
          ],
          [
           "Botic Van De Zandschulp"
          ],
          [
           "Botic Van De Zandschulp"
          ],
          [
           "Botic Van De Zandschulp"
          ],
          [
           "Botic Van De Zandschulp"
          ],
          [
           "Brandon Holt"
          ],
          [
           "Brandon Nakashima"
          ],
          [
           "Brandon Nakashima"
          ],
          [
           "Brandon Nakashima"
          ],
          [
           "Brandon Nakashima"
          ],
          [
           "Brandon Nakashima"
          ],
          [
           "Brandon Nakashima"
          ],
          [
           "Brandon Nakashima"
          ],
          [
           "Brandon Nakashima"
          ],
          [
           "Brandon Nakashima"
          ],
          [
           "Bu Yunchaokete"
          ],
          [
           "Cameron Norrie"
          ],
          [
           "Cameron Norrie"
          ],
          [
           "Cameron Norrie"
          ],
          [
           "Cameron Norrie"
          ],
          [
           "Cameron Norrie"
          ],
          [
           "Cameron Norrie"
          ],
          [
           "Cameron Norrie"
          ],
          [
           "Camilo Ugo Carabelli"
          ],
          [
           "Carlos Alcaraz"
          ],
          [
           "Carlos Alcaraz"
          ],
          [
           "Casper Ruud"
          ],
          [
           "Casper Ruud"
          ],
          [
           "Casper Ruud"
          ],
          [
           "Casper Ruud"
          ],
          [
           "Casper Ruud"
          ],
          [
           "Cem Ilkel"
          ],
          [
           "Cem Ilkel"
          ],
          [
           "Chris Rodesch"
          ],
          [
           "Chris Rodesch"
          ],
          [
           "Christopher Eubanks"
          ],
          [
           "Christopher Eubanks"
          ],
          [
           "Christopher Eubanks"
          ],
          [
           "Christopher Eubanks"
          ],
          [
           "Christopher Eubanks"
          ],
          [
           "Christopher Eubanks"
          ],
          [
           "Christopher Eubanks"
          ],
          [
           "Christopher Eubanks"
          ],
          [
           "Christopher Eubanks"
          ],
          [
           "Christopher Oconnell"
          ],
          [
           "Christopher Oconnell"
          ],
          [
           "Christopher Oconnell"
          ],
          [
           "Christopher Oconnell"
          ],
          [
           "Christopher Oconnell"
          ],
          [
           "Christopher Oconnell"
          ],
          [
           "Christopher Oconnell"
          ],
          [
           "Christopher Oconnell"
          ],
          [
           "Christopher Oconnell"
          ],
          [
           "Christopher Oconnell"
          ],
          [
           "Christopher Oconnell"
          ],
          [
           "Chun Hsin Tseng"
          ],
          [
           "Coleman Wong"
          ],
          [
           "Colin Sinclair"
          ],
          [
           "Conner Huertas Del Pino"
          ],
          [
           "Constant Lestienne"
          ],
          [
           "Constant Lestienne"
          ],
          [
           "Constant Lestienne"
          ],
          [
           "Constant Lestienne"
          ],
          [
           "Corentin Moutet"
          ],
          [
           "Corentin Moutet"
          ],
          [
           "Corentin Moutet"
          ],
          [
           "Corentin Moutet"
          ],
          [
           "Corentin Moutet"
          ],
          [
           "Corentin Moutet"
          ],
          [
           "Cristian Garin"
          ],
          [
           "Cristian Garin"
          ],
          [
           "Cristian Garin"
          ],
          [
           "Cristian Garin"
          ],
          [
           "Cristian Garin"
          ],
          [
           "Cristian Garin"
          ],
          [
           "Cristian Garin"
          ],
          [
           "Cristian Garin"
          ],
          [
           "Cristian Garin"
          ],
          [
           "Cristian Garin"
          ],
          [
           "Cristian Garin"
          ],
          [
           "Cristian Garin"
          ],
          [
           "Dalibor Svrcina"
          ],
          [
           "Dalibor Svrcina"
          ],
          [
           "Damir Dzumhur"
          ],
          [
           "Dane Sweeny"
          ],
          [
           "Daniel Altmaier"
          ],
          [
           "Daniel Altmaier"
          ],
          [
           "Daniel Altmaier"
          ],
          [
           "Daniel Altmaier"
          ],
          [
           "Daniel Altmaier"
          ],
          [
           "Daniel Altmaier"
          ],
          [
           "Daniel Altmaier"
          ],
          [
           "Daniel Altmaier"
          ],
          [
           "Daniel Altmaier"
          ],
          [
           "Daniel Altmaier"
          ],
          [
           "Daniel Cukierman"
          ],
          [
           "Daniel Cukierman"
          ],
          [
           "Daniel Elahi Galan"
          ],
          [
           "Daniel Elahi Galan"
          ],
          [
           "Daniel Elahi Galan"
          ],
          [
           "Daniel Elahi Galan"
          ],
          [
           "Daniel Elahi Galan"
          ],
          [
           "Daniel Evans"
          ],
          [
           "Daniel Evans"
          ],
          [
           "Daniel Evans"
          ],
          [
           "Daniel Evans"
          ],
          [
           "Daniel Evans"
          ],
          [
           "Daniil Medvedev"
          ],
          [
           "Daniil Medvedev"
          ],
          [
           "Daniil Medvedev"
          ],
          [
           "Daniil Medvedev"
          ],
          [
           "Daniil Medvedev"
          ],
          [
           "Daniil Medvedev"
          ],
          [
           "Darian King"
          ],
          [
           "David Goffin"
          ],
          [
           "David Goffin"
          ],
          [
           "David Goffin"
          ],
          [
           "David Goffin"
          ],
          [
           "David Goffin"
          ],
          [
           "David Goffin"
          ],
          [
           "David Goffin"
          ],
          [
           "Denis Kudla"
          ],
          [
           "Denis Kudla"
          ],
          [
           "Denis Kudla"
          ],
          [
           "Denis Kudla"
          ],
          [
           "Denis Shapovalov"
          ],
          [
           "Denis Shapovalov"
          ],
          [
           "Denis Shapovalov"
          ],
          [
           "Denis Shapovalov"
          ],
          [
           "Denis Shapovalov"
          ],
          [
           "Denis Shapovalov"
          ],
          [
           "Denis Shapovalov"
          ],
          [
           "Diego Schwartzman"
          ],
          [
           "Diego Schwartzman"
          ],
          [
           "Diego Schwartzman"
          ],
          [
           "Diego Schwartzman"
          ],
          [
           "Diego Schwartzman"
          ],
          [
           "Diego Schwartzman"
          ],
          [
           "Diego Schwartzman"
          ],
          [
           "Diego Schwartzman"
          ],
          [
           "Diego Schwartzman"
          ],
          [
           "Digvijaypratap Singh"
          ],
          [
           "Dimitar Kuzmanov"
          ],
          [
           "Dimitar Kuzmanov"
          ],
          [
           "Dino Prizmic"
          ],
          [
           "Dino Prizmic"
          ],
          [
           "Dominic Stricker"
          ],
          [
           "Dominic Stricker"
          ],
          [
           "Dominic Stricker"
          ],
          [
           "Dominic Stricker"
          ],
          [
           "Dominic Stricker"
          ],
          [
           "Dominic Thiem"
          ],
          [
           "Dominic Thiem"
          ],
          [
           "Dominic Thiem"
          ],
          [
           "Dominic Thiem"
          ],
          [
           "Dominic Thiem"
          ],
          [
           "Dominic Thiem"
          ],
          [
           "Dominic Thiem"
          ],
          [
           "Dominic Thiem"
          ],
          [
           "Dominic Thiem"
          ],
          [
           "Dominic Thiem"
          ],
          [
           "Dominic Thiem"
          ],
          [
           "Dominic Thiem"
          ],
          [
           "Dominik Koepfer"
          ],
          [
           "Dominik Koepfer"
          ],
          [
           "Dominik Koepfer"
          ],
          [
           "Dusan Lajovic"
          ],
          [
           "Dusan Lajovic"
          ],
          [
           "Dusan Lajovic"
          ],
          [
           "Dusan Lajovic"
          ],
          [
           "Dusan Lajovic"
          ],
          [
           "Dusan Lajovic"
          ],
          [
           "Dusan Lajovic"
          ],
          [
           "Dusan Lajovic"
          ],
          [
           "Dusan Lajovic"
          ],
          [
           "Dusan Lajovic"
          ],
          [
           "Dusan Lajovic"
          ],
          [
           "Dusan Lajovic"
          ],
          [
           "Edas Butvilas"
          ],
          [
           "Egor Gerasimov"
          ],
          [
           "Elias Ymer"
          ],
          [
           "Elias Ymer"
          ],
          [
           "Elias Ymer"
          ],
          [
           "Elias Ymer"
          ],
          [
           "Elmer Moller"
          ],
          [
           "Emil Ruusuvuori"
          ],
          [
           "Emil Ruusuvuori"
          ],
          [
           "Emil Ruusuvuori"
          ],
          [
           "Emil Ruusuvuori"
          ],
          [
           "Emil Ruusuvuori"
          ],
          [
           "Emil Ruusuvuori"
          ],
          [
           "Emil Ruusuvuori"
          ],
          [
           "Emil Ruusuvuori"
          ],
          [
           "Emil Ruusuvuori"
          ],
          [
           "Emil Ruusuvuori"
          ],
          [
           "Emil Ruusuvuori"
          ],
          [
           "Emil Ruusuvuori"
          ],
          [
           "Emil Ruusuvuori"
          ],
          [
           "Emilio Gomez"
          ],
          [
           "Emilio Gomez"
          ],
          [
           "Emilio Gomez"
          ],
          [
           "Emilio Gomez"
          ],
          [
           "Emilio Nava"
          ],
          [
           "Enzo Couacaud"
          ],
          [
           "Ergi Kirkin"
          ],
          [
           "Ernesto Escobedo"
          ],
          [
           "Ernests Gulbis"
          ],
          [
           "Ethan Quinn"
          ],
          [
           "Fabian Marozsan"
          ],
          [
           "Fabian Marozsan"
          ],
          [
           "Fabian Marozsan"
          ],
          [
           "Fabian Marozsan"
          ],
          [
           "Fabian Marozsan"
          ],
          [
           "Fabio Fognini"
          ],
          [
           "Fabio Fognini"
          ],
          [
           "Fabio Fognini"
          ],
          [
           "Fabio Fognini"
          ],
          [
           "Facundo Bagnis"
          ],
          [
           "Facundo Bagnis"
          ],
          [
           "Facundo Diaz Acosta"
          ],
          [
           "Facundo Diaz Acosta"
          ],
          [
           "Federico Coria"
          ],
          [
           "Federico Coria"
          ],
          [
           "Federico Coria"
          ],
          [
           "Federico Delbonis"
          ],
          [
           "Feliciano Lopez"
          ],
          [
           "Feliciano Lopez"
          ],
          [
           "Felipe Meligeni Alves"
          ],
          [
           "Felipe Meligeni Alves"
          ],
          [
           "Felipe Meligeni Alves"
          ],
          [
           "Felix Auger Aliassime"
          ],
          [
           "Felix Auger Aliassime"
          ],
          [
           "Felix Auger Aliassime"
          ],
          [
           "Felix Auger Aliassime"
          ],
          [
           "Felix Auger Aliassime"
          ],
          [
           "Felix Auger Aliassime"
          ],
          [
           "Felix Auger Aliassime"
          ],
          [
           "Felix Auger Aliassime"
          ],
          [
           "Filip Cristian Jianu"
          ],
          [
           "Filip Krajinovic"
          ],
          [
           "Filip Krajinovic"
          ],
          [
           "Filip Misolic"
          ],
          [
           "Filip Misolic"
          ],
          [
           "Fitriadi M Rifqi"
          ],
          [
           "Flavio Cobolli"
          ],
          [
           "Flavio Cobolli"
          ],
          [
           "Flavio Cobolli"
          ],
          [
           "Flavio Cobolli"
          ],
          [
           "Frances Tiafoe"
          ],
          [
           "Frances Tiafoe"
          ],
          [
           "Frances Tiafoe"
          ],
          [
           "Frances Tiafoe"
          ],
          [
           "Frances Tiafoe"
          ],
          [
           "Frances Tiafoe"
          ],
          [
           "Frances Tiafoe"
          ],
          [
           "Frances Tiafoe"
          ],
          [
           "Francesco Passaro"
          ],
          [
           "Francesco Passaro"
          ],
          [
           "Francisco Cerundolo"
          ],
          [
           "Francisco Cerundolo"
          ],
          [
           "Francisco Cerundolo"
          ],
          [
           "Francisco Cerundolo"
          ],
          [
           "Francisco Cerundolo"
          ],
          [
           "Francisco Cerundolo"
          ],
          [
           "Francisco Cerundolo"
          ],
          [
           "Francisco Cerundolo"
          ],
          [
           "Francisco Cerundolo"
          ],
          [
           "Francisco Cerundolo"
          ],
          [
           "Francisco Cerundolo"
          ],
          [
           "Gabriel Diallo"
          ],
          [
           "Gabriel Diallo"
          ],
          [
           "Gael Monfils"
          ],
          [
           "Gael Monfils"
          ],
          [
           "Gael Monfils"
          ],
          [
           "Gael Monfils"
          ],
          [
           "Gael Monfils"
          ],
          [
           "Gael Monfils"
          ],
          [
           "Gael Monfils"
          ],
          [
           "Genaro Alberto Olivieri"
          ],
          [
           "Gijs Brouwer"
          ],
          [
           "Gijs Brouwer"
          ],
          [
           "Gijs Brouwer"
          ],
          [
           "Gijs Brouwer"
          ],
          [
           "Gijs Brouwer"
          ],
          [
           "Giovanni Mpetshi Perricard"
          ],
          [
           "Giulio Zeppieri"
          ],
          [
           "Gonzalo Bueno"
          ],
          [
           "Gregoire Barrere"
          ],
          [
           "Gregoire Barrere"
          ],
          [
           "Gregoire Barrere"
          ],
          [
           "Gregoire Barrere"
          ],
          [
           "Gregoire Barrere"
          ],
          [
           "Gregoire Barrere"
          ],
          [
           "Gregoire Barrere"
          ],
          [
           "Gregoire Barrere"
          ],
          [
           "Gregoire Barrere"
          ],
          [
           "Gregoire Barrere"
          ],
          [
           "Gregoire Barrere"
          ],
          [
           "Gregoire Barrere"
          ],
          [
           "Gregoire Barrere"
          ],
          [
           "Gregoire Barrere"
          ],
          [
           "Grigor Dimitrov"
          ],
          [
           "Grigor Dimitrov"
          ],
          [
           "Grigor Dimitrov"
          ],
          [
           "Grigor Dimitrov"
          ],
          [
           "Grigor Dimitrov"
          ],
          [
           "Grigor Dimitrov"
          ],
          [
           "Grigor Dimitrov"
          ],
          [
           "Grigor Dimitrov"
          ],
          [
           "Grigor Dimitrov"
          ],
          [
           "Grigor Dimitrov"
          ],
          [
           "Grigor Dimitrov"
          ],
          [
           "Grigor Dimitrov"
          ],
          [
           "Guido Andreozzi"
          ],
          [
           "Guido Pella"
          ],
          [
           "Guido Pella"
          ],
          [
           "Guido Pella"
          ],
          [
           "Guido Pella"
          ],
          [
           "Guido Pella"
          ],
          [
           "Guido Pella"
          ],
          [
           "Guido Pella"
          ],
          [
           "Guido Pella"
          ],
          [
           "Gustavo Heide"
          ],
          [
           "Hady Habib"
          ],
          [
           "Hamad Medjedovic"
          ],
          [
           "Hamad Medjedovic"
          ],
          [
           "Hamad Medjedovic"
          ],
          [
           "Hamad Medjedovic"
          ],
          [
           "Harold Mayot"
          ],
          [
           "Harold Mayot"
          ],
          [
           "Holger Rune"
          ],
          [
           "Holger Rune"
          ],
          [
           "Holger Rune"
          ],
          [
           "Holger Rune"
          ],
          [
           "Holger Rune"
          ],
          [
           "Holger Rune"
          ],
          [
           "Hubert Hurkacz"
          ],
          [
           "Hubert Hurkacz"
          ],
          [
           "Hubert Hurkacz"
          ],
          [
           "Hubert Hurkacz"
          ],
          [
           "Hubert Hurkacz"
          ],
          [
           "Hubert Hurkacz"
          ],
          [
           "Hubert Hurkacz"
          ],
          [
           "Hubert Hurkacz"
          ],
          [
           "Hubert Hurkacz"
          ],
          [
           "Hugo Dellien"
          ],
          [
           "Hugo Dellien"
          ],
          [
           "Hugo Gaston"
          ],
          [
           "Hugo Gaston"
          ],
          [
           "Hugo Gaston"
          ],
          [
           "Hugo Gaston"
          ],
          [
           "Hugo Grenier"
          ],
          [
           "Ignacio Buse"
          ],
          [
           "Ilya Ivashka"
          ],
          [
           "Ilya Ivashka"
          ],
          [
           "Ilya Ivashka"
          ],
          [
           "Ilya Ivashka"
          ],
          [
           "Ilya Ivashka"
          ],
          [
           "Ilya Ivashka"
          ],
          [
           "Ivan Gakhov"
          ],
          [
           "J J Wolf"
          ],
          [
           "J J Wolf"
          ],
          [
           "J J Wolf"
          ],
          [
           "J J Wolf"
          ],
          [
           "J J Wolf"
          ],
          [
           "J J Wolf"
          ],
          [
           "J J Wolf"
          ],
          [
           "J J Wolf"
          ],
          [
           "J J Wolf"
          ],
          [
           "J J Wolf"
          ],
          [
           "J J Wolf"
          ],
          [
           "J J Wolf"
          ],
          [
           "Jack Draper"
          ],
          [
           "Jack Draper"
          ],
          [
           "Jack Draper"
          ],
          [
           "Jack Draper"
          ],
          [
           "Jack Draper"
          ],
          [
           "Jack Draper"
          ],
          [
           "Jack Draper"
          ],
          [
           "Jack Draper"
          ],
          [
           "Jack Sock"
          ],
          [
           "Jack Sock"
          ],
          [
           "Jacopo Berrettini"
          ],
          [
           "Jakub Mensik"
          ],
          [
           "Jakub Mensik"
          ],
          [
           "James Duckworth"
          ],
          [
           "James Duckworth"
          ],
          [
           "Jan Choinski"
          ],
          [
           "Jan Lennard Struff"
          ],
          [
           "Jan Lennard Struff"
          ],
          [
           "Jan Lennard Struff"
          ],
          [
           "Jan Lennard Struff"
          ],
          [
           "Jan Lennard Struff"
          ],
          [
           "Jan Lennard Struff"
          ],
          [
           "Jan Lennard Struff"
          ],
          [
           "Jan Lennard Struff"
          ],
          [
           "Jan Lennard Struff"
          ],
          [
           "Jannik Sinner"
          ],
          [
           "Jannik Sinner"
          ],
          [
           "Jannik Sinner"
          ],
          [
           "Jannik Sinner"
          ],
          [
           "Jannik Sinner"
          ],
          [
           "Jannik Sinner"
          ],
          [
           "Jannik Sinner"
          ],
          [
           "Jannik Sinner"
          ],
          [
           "Jannik Sinner"
          ],
          [
           "Jannik Sinner"
          ],
          [
           "Jannik Sinner"
          ],
          [
           "Jason Jung"
          ],
          [
           "Jason Kubler"
          ],
          [
           "Jason Kubler"
          ],
          [
           "Jason Kubler"
          ],
          [
           "Jason Kubler"
          ],
          [
           "Jason Kubler"
          ],
          [
           "Jason Kubler"
          ],
          [
           "Jason Kubler"
          ],
          [
           "Jason Kubler"
          ],
          [
           "Jason Kubler"
          ],
          [
           "Jaume Munar"
          ],
          [
           "Jaume Munar"
          ],
          [
           "Jaume Munar"
          ],
          [
           "Jaume Munar"
          ],
          [
           "Jaume Munar"
          ],
          [
           "Jaume Munar"
          ],
          [
           "Jaume Munar"
          ],
          [
           "Jaume Munar"
          ],
          [
           "Jenson Brooksby"
          ],
          [
           "Jenson Brooksby"
          ],
          [
           "Jiri Lehecka"
          ],
          [
           "Jiri Lehecka"
          ],
          [
           "Jiri Lehecka"
          ],
          [
           "Jiri Lehecka"
          ],
          [
           "Jiri Lehecka"
          ],
          [
           "Jiri Lehecka"
          ],
          [
           "Jiri Lehecka"
          ],
          [
           "Jiri Lehecka"
          ],
          [
           "Jiri Lehecka"
          ],
          [
           "Jiri Lehecka"
          ],
          [
           "Jiri Lehecka"
          ],
          [
           "Jiri Lehecka"
          ],
          [
           "Jiri Lehecka"
          ],
          [
           "Jiri Lehecka"
          ],
          [
           "Jiri Lehecka"
          ],
          [
           "Jiri Lehecka"
          ],
          [
           "Jiri Vesely"
          ],
          [
           "Jiri Vesely"
          ],
          [
           "Joao Sousa"
          ],
          [
           "Joao Sousa"
          ],
          [
           "Joao Sousa"
          ],
          [
           "Joaquin  Aguilar Cardozo "
          ],
          [
           "John Isner"
          ],
          [
           "John Isner"
          ],
          [
           "John Isner"
          ],
          [
           "John Isner"
          ],
          [
           "John Millman"
          ],
          [
           "John Millman"
          ],
          [
           "Jordan Thompson"
          ],
          [
           "Jordan Thompson"
          ],
          [
           "Jordan Thompson"
          ],
          [
           "Jordan Thompson"
          ],
          [
           "Jordan Thompson"
          ],
          [
           "Jordan Thompson"
          ],
          [
           "Jordan Thompson"
          ],
          [
           "Jordan Thompson"
          ],
          [
           "Jordan Thompson"
          ],
          [
           "Jordan Thompson"
          ],
          [
           "Jozef Kovalik"
          ],
          [
           "Jozef Kovalik"
          ],
          [
           "Jozef Kovalik"
          ],
          [
           "Juan Manuel Cerundolo"
          ],
          [
           "Juan Manuel Cerundolo"
          ],
          [
           "Juan Manuel Cerundolo"
          ],
          [
           "Juan Manuel Cerundolo"
          ],
          [
           "Juan Pablo Varillas"
          ],
          [
           "Juan Pablo Varillas"
          ],
          [
           "Juan Pablo Varillas"
          ],
          [
           "Juan Pablo Varillas"
          ],
          [
           "Juan Pablo Varillas"
          ],
          [
           "Juan Pablo Varillas"
          ],
          [
           "Juan Pablo Varillas"
          ],
          [
           "Juan Pablo Varillas"
          ],
          [
           "Juan Pablo Varillas"
          ],
          [
           "Juncheng Shang"
          ],
          [
           "Juncheng Shang"
          ],
          [
           "Juncheng Shang"
          ],
          [
           "Jurij Rodionov"
          ],
          [
           "Jurij Rodionov"
          ],
          [
           "Jurij Rodionov"
          ],
          [
           "Jurij Rodionov"
          ],
          [
           "Karen Khachanov"
          ],
          [
           "Karen Khachanov"
          ],
          [
           "Karen Khachanov"
          ],
          [
           "Karen Khachanov"
          ],
          [
           "Karen Khachanov"
          ],
          [
           "Karen Khachanov"
          ],
          [
           "Karim Mohamed Maamoun"
          ],
          [
           "Karlis Ozolins"
          ],
          [
           "Kei Nishikori"
          ],
          [
           "Kimmer Coppejans"
          ],
          [
           "Laslo Djere"
          ],
          [
           "Laslo Djere"
          ],
          [
           "Laslo Djere"
          ],
          [
           "Laslo Djere"
          ],
          [
           "Laslo Djere"
          ],
          [
           "Laslo Djere"
          ],
          [
           "Laslo Djere"
          ],
          [
           "Laslo Djere"
          ],
          [
           "Laslo Djere"
          ],
          [
           "Laslo Djere"
          ],
          [
           "Laslo Djere"
          ],
          [
           "Laslo Djere"
          ],
          [
           "Laslo Djere"
          ],
          [
           "Leandro Riedi"
          ],
          [
           "Leo Borg"
          ],
          [
           "Li Tu"
          ],
          [
           "Liam Broady"
          ],
          [
           "Liam Broady"
          ],
          [
           "Liam Broady"
          ],
          [
           "Liam Broady"
          ],
          [
           "Lloyd Harris"
          ],
          [
           "Lloyd Harris"
          ],
          [
           "Lloyd Harris"
          ],
          [
           "Lloyd Harris"
          ],
          [
           "Lloyd Harris"
          ],
          [
           "Lorenzo Musetti"
          ],
          [
           "Lorenzo Musetti"
          ],
          [
           "Lorenzo Musetti"
          ],
          [
           "Lorenzo Musetti"
          ],
          [
           "Lorenzo Musetti"
          ],
          [
           "Lorenzo Musetti"
          ],
          [
           "Lorenzo Musetti"
          ],
          [
           "Lorenzo Sonego"
          ],
          [
           "Lorenzo Sonego"
          ],
          [
           "Lorenzo Sonego"
          ],
          [
           "Lorenzo Sonego"
          ],
          [
           "Lorenzo Sonego"
          ],
          [
           "Lorenzo Sonego"
          ],
          [
           "Lorenzo Sonego"
          ],
          [
           "Lorenzo Sonego"
          ],
          [
           "Lorenzo Sonego"
          ],
          [
           "Lorenzo Sonego"
          ],
          [
           "Lorenzo Sonego"
          ],
          [
           "Lorenzo Sonego"
          ],
          [
           "Lorenzo Sonego"
          ],
          [
           "Luca Nardi"
          ],
          [
           "Luca Nardi"
          ],
          [
           "Luca Van Assche"
          ],
          [
           "Luca Van Assche"
          ],
          [
           "Luca Van Assche"
          ],
          [
           "Luca Van Assche"
          ],
          [
           "Luca Van Assche"
          ],
          [
           "Luca Van Assche"
          ],
          [
           "Luca Van Assche"
          ],
          [
           "Lucas Catarina"
          ],
          [
           "Lucas Pouille"
          ],
          [
           "Luciano Darderi"
          ],
          [
           "Mackenzie Mcdonald"
          ],
          [
           "Mackenzie Mcdonald"
          ],
          [
           "Mackenzie Mcdonald"
          ],
          [
           "Mackenzie Mcdonald"
          ],
          [
           "Mackenzie Mcdonald"
          ],
          [
           "Mackenzie Mcdonald"
          ],
          [
           "Mackenzie Mcdonald"
          ],
          [
           "Mackenzie Mcdonald"
          ],
          [
           "Mackenzie Mcdonald"
          ],
          [
           "Mackenzie Mcdonald"
          ],
          [
           "Mackenzie Mcdonald"
          ],
          [
           "Mackenzie Mcdonald"
          ],
          [
           "Mackenzie Mcdonald"
          ],
          [
           "Mackenzie Mcdonald"
          ],
          [
           "Mackenzie Mcdonald"
          ],
          [
           "Mackenzie Mcdonald"
          ],
          [
           "Marc Andrea Huesler"
          ],
          [
           "Marc Andrea Huesler"
          ],
          [
           "Marc Andrea Huesler"
          ],
          [
           "Marc Andrea Huesler"
          ],
          [
           "Marc Andrea Huesler"
          ],
          [
           "Marc Andrea Huesler"
          ],
          [
           "Marc Andrea Huesler"
          ],
          [
           "Marc Andrea Huesler"
          ],
          [
           "Marc Andrea Huesler"
          ],
          [
           "Marc Polmans"
          ],
          [
           "Marco Cecchinato"
          ],
          [
           "Marco Cecchinato"
          ],
          [
           "Marco Cecchinato"
          ],
          [
           "Marco Cecchinato"
          ],
          [
           "Marco Cecchinato"
          ],
          [
           "Marco Cecchinato"
          ],
          [
           "Marco Cecchinato"
          ],
          [
           "Marcos Giron"
          ],
          [
           "Marcos Giron"
          ],
          [
           "Marcos Giron"
          ],
          [
           "Marcos Giron"
          ],
          [
           "Marcos Giron"
          ],
          [
           "Marcos Giron"
          ],
          [
           "Marcos Giron"
          ],
          [
           "Marcos Giron"
          ],
          [
           "Marcos Giron"
          ],
          [
           "Marcos Giron"
          ],
          [
           "Marcos Giron"
          ],
          [
           "Marcos Giron"
          ],
          [
           "Marcos Giron"
          ],
          [
           "Marcos Giron"
          ],
          [
           "Marin Cilic"
          ],
          [
           "Mark Lajal"
          ],
          [
           "Marton Fucsovics"
          ],
          [
           "Marton Fucsovics"
          ],
          [
           "Marton Fucsovics"
          ],
          [
           "Marton Fucsovics"
          ],
          [
           "Marton Fucsovics"
          ],
          [
           "Marton Fucsovics"
          ],
          [
           "Marton Fucsovics"
          ],
          [
           "Marton Fucsovics"
          ],
          [
           "Marton Fucsovics"
          ],
          [
           "Marton Fucsovics"
          ],
          [
           "Marton Fucsovics"
          ],
          [
           "Marton Fucsovics"
          ],
          [
           "Mate Valkusz"
          ],
          [
           "Matheus Pucinelli De Almeida"
          ],
          [
           "Matija Pecotic"
          ],
          [
           "Matteo Arnaldi"
          ],
          [
           "Matteo Arnaldi"
          ],
          [
           "Matteo Arnaldi"
          ],
          [
           "Matteo Arnaldi"
          ],
          [
           "Matteo Arnaldi"
          ],
          [
           "Matteo Arnaldi"
          ],
          [
           "Matteo Arnaldi"
          ],
          [
           "Matteo Arnaldi"
          ],
          [
           "Matteo Arnaldi"
          ],
          [
           "Matteo Arnaldi"
          ],
          [
           "Matteo Arnaldi"
          ],
          [
           "Matteo Arnaldi"
          ],
          [
           "Matteo Berrettini"
          ],
          [
           "Matteo Berrettini"
          ],
          [
           "Matteo Berrettini"
          ],
          [
           "Matteo Berrettini"
          ],
          [
           "Matteo Berrettini"
          ],
          [
           "Max Purcell"
          ],
          [
           "Max Purcell"
          ],
          [
           "Max Purcell"
          ],
          [
           "Max Purcell"
          ],
          [
           "Max Purcell"
          ],
          [
           "Max Purcell"
          ],
          [
           "Maxime Cressy"
          ],
          [
           "Maxime Cressy"
          ],
          [
           "Maxime Cressy"
          ],
          [
           "Maxime Cressy"
          ],
          [
           "Maxime Cressy"
          ],
          [
           "Maxime Cressy"
          ],
          [
           "Maximilian Marterer"
          ],
          [
           "Maximilian Marterer"
          ],
          [
           "Maximilian Marterer"
          ],
          [
           "Maximilian Marterer"
          ],
          [
           "Menelaos Efstathiou"
          ],
          [
           "Michael Mmoh"
          ],
          [
           "Michael Mmoh"
          ],
          [
           "Michael Mmoh"
          ],
          [
           "Michael Mmoh"
          ],
          [
           "Michael Mmoh"
          ],
          [
           "Michael Mmoh"
          ],
          [
           "Michael Mmoh"
          ],
          [
           "Michael Mmoh"
          ],
          [
           "Mikael Ymer"
          ],
          [
           "Mikael Ymer"
          ],
          [
           "Mikael Ymer"
          ],
          [
           "Mikael Ymer"
          ],
          [
           "Mikael Ymer"
          ],
          [
           "Mikael Ymer"
          ],
          [
           "Mikhail Kukushkin"
          ],
          [
           "Milos Raonic"
          ],
          [
           "Milos Raonic"
          ],
          [
           "Milos Raonic"
          ],
          [
           "Miomir Kecmanovic"
          ],
          [
           "Miomir Kecmanovic"
          ],
          [
           "Miomir Kecmanovic"
          ],
          [
           "Miomir Kecmanovic"
          ],
          [
           "Miomir Kecmanovic"
          ],
          [
           "Miomir Kecmanovic"
          ],
          [
           "Miomir Kecmanovic"
          ],
          [
           "Miomir Kecmanovic"
          ],
          [
           "Miomir Kecmanovic"
          ],
          [
           "Miomir Kecmanovic"
          ],
          [
           "Miomir Kecmanovic"
          ],
          [
           "Miomir Kecmanovic"
          ],
          [
           "Mitchell Krueger"
          ],
          [
           "Moez Echargui"
          ],
          [
           "Mohamed Safwat"
          ],
          [
           "Mohamed Safwat"
          ],
          [
           "Mousa Alkotop"
          ],
          [
           "Nam Hoang Ly"
          ],
          [
           "Nicholas David Ionel"
          ],
          [
           "Nicolas Jarry"
          ],
          [
           "Nicolas Jarry"
          ],
          [
           "Nicolas Jarry"
          ],
          [
           "Nicolas Jarry"
          ],
          [
           "Nicolas Jarry"
          ],
          [
           "Nicolas Jarry"
          ],
          [
           "Nicolas Jarry"
          ],
          [
           "Nicolas Jarry"
          ],
          [
           "Nicolas Jarry"
          ],
          [
           "Nicolas Jarry"
          ],
          [
           "Nicolas Jarry"
          ],
          [
           "Nicolas Jarry"
          ],
          [
           "Nicolas Jarry"
          ],
          [
           "Nicolas Jarry"
          ],
          [
           "Nicolas Mejia"
          ],
          [
           "Nikoloz Basilashvili"
          ],
          [
           "Novak Djokovic"
          ],
          [
           "Novak Djokovic"
          ],
          [
           "Novak Djokovic"
          ],
          [
           "Novak Djokovic"
          ],
          [
           "Nuno Borges"
          ],
          [
           "Nuno Borges"
          ],
          [
           "Nuno Borges"
          ],
          [
           "Nuno Borges"
          ],
          [
           "Nuno Borges"
          ],
          [
           "Nuno Borges"
          ],
          [
           "Nuno Borges"
          ],
          [
           "Nuno Borges"
          ],
          [
           "Oleksii Krutykh"
          ],
          [
           "Omni Kumar"
          ],
          [
           "Oscar Otte"
          ],
          [
           "Oscar Otte"
          ],
          [
           "Oscar Otte"
          ],
          [
           "Oscar Otte"
          ],
          [
           "Oscar Otte"
          ],
          [
           "Oscar Otte"
          ],
          [
           "Osgar Ohoisin"
          ],
          [
           "Otto Virtanen"
          ],
          [
           "Otto Virtanen"
          ],
          [
           "Pablo Carreno Busta"
          ],
          [
           "Pablo Llamas Ruiz"
          ],
          [
           "Pavel Kotov"
          ],
          [
           "Pavel Kotov"
          ],
          [
           "Pavel Kotov"
          ],
          [
           "Pavel Kotov"
          ],
          [
           "Pavel Kotov"
          ],
          [
           "Pavel Kotov"
          ],
          [
           "Pavel Kotov"
          ],
          [
           "Pavel Kotov"
          ],
          [
           "Pedro Cachin"
          ],
          [
           "Pedro Cachin"
          ],
          [
           "Pedro Cachin"
          ],
          [
           "Pedro Cachin"
          ],
          [
           "Pedro Cachin"
          ],
          [
           "Pedro Cachin"
          ],
          [
           "Pedro Cachin"
          ],
          [
           "Pedro Cachin"
          ],
          [
           "Pedro Martinez"
          ],
          [
           "Pedro Martinez"
          ],
          [
           "Pedro Martinez"
          ],
          [
           "Petros Chrysochos"
          ],
          [
           "Philip Sekulic"
          ],
          [
           "Pierre Hugues Herbert"
          ],
          [
           "Prajnesh Gunneswaran"
          ],
          [
           "Quentin Halys"
          ],
          [
           "Quentin Halys"
          ],
          [
           "Quentin Halys"
          ],
          [
           "Quentin Halys"
          ],
          [
           "Quentin Halys"
          ],
          [
           "Quentin Halys"
          ],
          [
           "Radu Albot"
          ],
          [
           "Radu Albot"
          ],
          [
           "Radu Albot"
          ],
          [
           "Radu Albot"
          ],
          [
           "Rafael Nadal"
          ],
          [
           "Ricardas Berankis"
          ],
          [
           "Riccardo Bonadio"
          ],
          [
           "Richard Gasquet"
          ],
          [
           "Richard Gasquet"
          ],
          [
           "Richard Gasquet"
          ],
          [
           "Richard Gasquet"
          ],
          [
           "Richard Gasquet"
          ],
          [
           "Richard Gasquet"
          ],
          [
           "Richard Gasquet"
          ],
          [
           "Rigele Te"
          ],
          [
           "Rinky Hijikata"
          ],
          [
           "Rinky Hijikata"
          ],
          [
           "Rinky Hijikata"
          ],
          [
           "Rinky Hijikata"
          ],
          [
           "Rinky Hijikata"
          ],
          [
           "Rinky Hijikata"
          ],
          [
           "Rinky Hijikata"
          ],
          [
           "Robert Strombachs"
          ],
          [
           "Roberto Bautista Agut"
          ],
          [
           "Roberto Bautista Agut"
          ],
          [
           "Roberto Bautista Agut"
          ],
          [
           "Roberto Bautista Agut"
          ],
          [
           "Roberto Bautista Agut"
          ],
          [
           "Roberto Bautista Agut"
          ],
          [
           "Roberto Bautista Agut"
          ],
          [
           "Roberto Bautista Agut"
          ],
          [
           "Roberto Bautista Agut"
          ],
          [
           "Roberto Carballes Baena"
          ],
          [
           "Roberto Carballes Baena"
          ],
          [
           "Roberto Carballes Baena"
          ],
          [
           "Roberto Carballes Baena"
          ],
          [
           "Roberto Carballes Baena"
          ],
          [
           "Roberto Carballes Baena"
          ],
          [
           "Roberto Carballes Baena"
          ],
          [
           "Roberto Carballes Baena"
          ],
          [
           "Roberto Carballes Baena"
          ],
          [
           "Roberto Carballes Baena"
          ],
          [
           "Roberto Carballes Baena"
          ],
          [
           "Robin Haase"
          ],
          [
           "Rodrigo Pacheco Mendez"
          ],
          [
           "Roman Safiullin"
          ],
          [
           "Roman Safiullin"
          ],
          [
           "Roman Safiullin"
          ],
          [
           "Roman Safiullin"
          ],
          [
           "Roman Safiullin"
          ],
          [
           "Roman Safiullin"
          ],
          [
           "Roman Safiullin"
          ],
          [
           "Roman Safiullin"
          ],
          [
           "Roman Safiullin"
          ],
          [
           "Roman Safiullin"
          ],
          [
           "Rowland Phillips"
          ],
          [
           "Ryan Peniston"
          ],
          [
           "Saba Purtseladze"
          ],
          [
           "Sebastian Baez"
          ],
          [
           "Sebastian Baez"
          ],
          [
           "Sebastian Baez"
          ],
          [
           "Sebastian Baez"
          ],
          [
           "Sebastian Baez"
          ],
          [
           "Sebastian Baez"
          ],
          [
           "Sebastian Baez"
          ],
          [
           "Sebastian Baez"
          ],
          [
           "Sebastian Baez"
          ],
          [
           "Sebastian Baez"
          ],
          [
           "Sebastian Korda"
          ],
          [
           "Sebastian Korda"
          ],
          [
           "Sebastian Korda"
          ],
          [
           "Sebastian Korda"
          ],
          [
           "Sebastian Korda"
          ],
          [
           "Sebastian Korda"
          ],
          [
           "Sebastian Ofner"
          ],
          [
           "Sebastian Ofner"
          ],
          [
           "Sebastian Ofner"
          ],
          [
           "Sebastian Ofner"
          ],
          [
           "Sebastian Ofner"
          ],
          [
           "Seong Chan Hong"
          ],
          [
           "Shintaro Mochizuki"
          ],
          [
           "Sho Shimabukuro"
          ],
          [
           "Sho Shimabukuro"
          ],
          [
           "Sho Shimabukuro"
          ],
          [
           "Soon Woo Kwon"
          ],
          [
           "Soon Woo Kwon"
          ],
          [
           "Soon Woo Kwon"
          ],
          [
           "Stan Wawrinka"
          ],
          [
           "Stan Wawrinka"
          ],
          [
           "Stan Wawrinka"
          ],
          [
           "Stan Wawrinka"
          ],
          [
           "Stan Wawrinka"
          ],
          [
           "Stan Wawrinka"
          ],
          [
           "Stan Wawrinka"
          ],
          [
           "Stan Wawrinka"
          ],
          [
           "Stan Wawrinka"
          ],
          [
           "Stan Wawrinka"
          ],
          [
           "Stan Wawrinka"
          ],
          [
           "Stan Wawrinka"
          ],
          [
           "Stan Wawrinka"
          ],
          [
           "Stan Wawrinka"
          ],
          [
           "Stan Wawrinka"
          ],
          [
           "Stan Wawrinka"
          ],
          [
           "Stefanos Sakellaridis"
          ],
          [
           "Stefanos Tsitsipas"
          ],
          [
           "Stefanos Tsitsipas"
          ],
          [
           "Stefanos Tsitsipas"
          ],
          [
           "Stefanos Tsitsipas"
          ],
          [
           "Stefanos Tsitsipas"
          ],
          [
           "Steve Johnson"
          ],
          [
           "Steve Johnson"
          ],
          [
           "Sumit Nagal"
          ],
          [
           "Sumit Nagal"
          ],
          [
           "Tallon Griekspoor"
          ],
          [
           "Tallon Griekspoor"
          ],
          [
           "Tallon Griekspoor"
          ],
          [
           "Tallon Griekspoor"
          ],
          [
           "Tallon Griekspoor"
          ],
          [
           "Tallon Griekspoor"
          ],
          [
           "Tallon Griekspoor"
          ],
          [
           "Tallon Griekspoor"
          ],
          [
           "Tallon Griekspoor"
          ],
          [
           "Tallon Griekspoor"
          ],
          [
           "Tallon Griekspoor"
          ],
          [
           "Tallon Griekspoor"
          ],
          [
           "Tallon Griekspoor"
          ],
          [
           "Tallon Griekspoor"
          ],
          [
           "Taro Daniel"
          ],
          [
           "Taro Daniel"
          ],
          [
           "Taro Daniel"
          ],
          [
           "Taro Daniel"
          ],
          [
           "Taro Daniel"
          ],
          [
           "Taro Daniel"
          ],
          [
           "Taro Daniel"
          ],
          [
           "Taro Daniel"
          ],
          [
           "Taylor Fritz"
          ],
          [
           "Taylor Fritz"
          ],
          [
           "Taylor Fritz"
          ],
          [
           "Taylor Fritz"
          ],
          [
           "Taylor Fritz"
          ],
          [
           "Terence Atmane"
          ],
          [
           "Thanasi Kokkinakis"
          ],
          [
           "Thanasi Kokkinakis"
          ],
          [
           "Thanasi Kokkinakis"
          ],
          [
           "Thanasi Kokkinakis"
          ],
          [
           "Thanasi Kokkinakis"
          ],
          [
           "Thanasi Kokkinakis"
          ],
          [
           "Thanasi Kokkinakis"
          ],
          [
           "Thanasi Kokkinakis"
          ],
          [
           "Thanasi Kokkinakis"
          ],
          [
           "Thanasi Kokkinakis"
          ],
          [
           "Thiago Agustin Tirante"
          ],
          [
           "Thiago Agustin Tirante"
          ],
          [
           "Thiago Monteiro"
          ],
          [
           "Thiago Monteiro"
          ],
          [
           "Thiago Monteiro"
          ],
          [
           "Thiago Monteiro"
          ],
          [
           "Thiago Monteiro"
          ],
          [
           "Thiago Monteiro"
          ],
          [
           "Thiago Monteiro"
          ],
          [
           "Thiago Monteiro"
          ],
          [
           "Thiago Seyboth Wild"
          ],
          [
           "Thiago Seyboth Wild"
          ],
          [
           "Thiago Seyboth Wild"
          ],
          [
           "Tim Van Rijthoven"
          ],
          [
           "Tim Van Rijthoven"
          ],
          [
           "Timofey Skatov"
          ],
          [
           "Timofey Skatov"
          ],
          [
           "Timofey Skatov"
          ],
          [
           "Titouan Droguet"
          ],
          [
           "Tomas Barrios Vera"
          ],
          [
           "Tomas Barrios Vera"
          ],
          [
           "Tomas Machac"
          ],
          [
           "Tomas Machac"
          ],
          [
           "Tomas Machac"
          ],
          [
           "Tomas Machac"
          ],
          [
           "Tomas Machac"
          ],
          [
           "Tomas Machac"
          ],
          [
           "Tomas Martin Etcheverry"
          ],
          [
           "Tomas Martin Etcheverry"
          ],
          [
           "Tomas Martin Etcheverry"
          ],
          [
           "Tomas Martin Etcheverry"
          ],
          [
           "Tomas Martin Etcheverry"
          ],
          [
           "Tomas Martin Etcheverry"
          ],
          [
           "Tomas Martin Etcheverry"
          ],
          [
           "Tomas Martin Etcheverry"
          ],
          [
           "Tomas Martin Etcheverry"
          ],
          [
           "Tomas Martin Etcheverry"
          ],
          [
           "Tomas Martin Etcheverry"
          ],
          [
           "Tommy Paul"
          ],
          [
           "Tommy Paul"
          ],
          [
           "Tommy Paul"
          ],
          [
           "Tommy Paul"
          ],
          [
           "Tommy Paul"
          ],
          [
           "Tommy Paul"
          ],
          [
           "Tommy Paul"
          ],
          [
           "Tommy Paul"
          ],
          [
           "Tommy Paul"
          ],
          [
           "Tommy Paul"
          ],
          [
           "Tung Lin Wu"
          ],
          [
           "Ugo Humbert"
          ],
          [
           "Ugo Humbert"
          ],
          [
           "Ugo Humbert"
          ],
          [
           "Ugo Humbert"
          ],
          [
           "Ugo Humbert"
          ],
          [
           "Ugo Humbert"
          ],
          [
           "Ugo Humbert"
          ],
          [
           "Ugo Humbert"
          ],
          [
           "Ugo Humbert"
          ],
          [
           "Ugo Humbert"
          ],
          [
           "Ugo Humbert"
          ],
          [
           "Ugo Humbert"
          ],
          [
           "Vasek Pospisil"
          ],
          [
           "Viacheslav Bielinskyi"
          ],
          [
           "Viktor Durasovic"
          ],
          [
           "Vilius Gaubas"
          ],
          [
           "Vladyslav Orlov"
          ],
          [
           "Vladyslav Orlov"
          ],
          [
           "Yannick Hanfmann"
          ],
          [
           "Yannick Hanfmann"
          ],
          [
           "Yannick Hanfmann"
          ],
          [
           "Yannick Hanfmann"
          ],
          [
           "Yannick Hanfmann"
          ],
          [
           "Yannick Hanfmann"
          ],
          [
           "Yannick Hanfmann"
          ],
          [
           "Yannick Hanfmann"
          ],
          [
           "Yannick Hanfmann"
          ],
          [
           "Yannick Hanfmann"
          ],
          [
           "Yannick Hanfmann"
          ],
          [
           "Yannick Hanfmann"
          ],
          [
           "Yassine Dlimi"
          ],
          [
           "Yibing Wu"
          ],
          [
           "Yibing Wu"
          ],
          [
           "Yibing Wu"
          ],
          [
           "Yibing Wu"
          ],
          [
           "Yibing Wu"
          ],
          [
           "Yibing Wu"
          ],
          [
           "Yibing Wu"
          ],
          [
           "Yoshihito Nishioka"
          ],
          [
           "Yoshihito Nishioka"
          ],
          [
           "Yoshihito Nishioka"
          ],
          [
           "Yoshihito Nishioka"
          ],
          [
           "Yoshihito Nishioka"
          ],
          [
           "Yoshihito Nishioka"
          ],
          [
           "Yoshihito Nishioka"
          ],
          [
           "Yoshihito Nishioka"
          ],
          [
           "Yoshihito Nishioka"
          ],
          [
           "Yosuke Watanuki"
          ],
          [
           "Yosuke Watanuki"
          ],
          [
           "Yosuke Watanuki"
          ],
          [
           "Yosuke Watanuki"
          ],
          [
           "Yosuke Watanuki"
          ],
          [
           "Yosuke Watanuki"
          ],
          [
           "Yosuke Watanuki"
          ],
          [
           "Yshai Oliel"
          ],
          [
           "Yshai Oliel"
          ],
          [
           "Yu Hsiou Hsu"
          ],
          [
           "Yu Hsiou Hsu"
          ],
          [
           "Yuttana Charoenphon"
          ],
          [
           "Zachary Svajda"
          ],
          [
           "Zhizhen Zhang"
          ],
          [
           "Zhizhen Zhang"
          ],
          [
           "Zhizhen Zhang"
          ],
          [
           "Zhizhen Zhang"
          ],
          [
           "Zhizhen Zhang"
          ],
          [
           "Zhizhen Zhang"
          ],
          [
           "Zhizhen Zhang"
          ],
          [
           "Zhizhen Zhang"
          ],
          [
           "Zizou Bergs"
          ],
          [
           "Zizou Bergs"
          ],
          [
           "Zsombor Piros"
          ],
          [
           "Zsombor Piros"
          ],
          [
           "Zura Tkemaladze"
          ]
         ],
         "hovertemplate": "Ranking=%{x}<br>Set vinti=%{y}<br>player_name=%{customdata[0]}<extra></extra>",
         "legendgroup": "",
         "marker": {
          "color": "#d2f644",
          "line": {
           "color": "black",
           "width": 1
          },
          "size": 8,
          "symbol": "circle"
         },
         "mode": "markers",
         "name": "",
         "showlegend": false,
         "type": "scattergl",
         "x": {
          "bdata": "AAAAAACwcEAAAAAAAOBqQAAAAAAAIGdAAAAAAAAAR0AAAAAAAIBGQAAAAAAAgE9AAAAAAACATUAAAAAAAABRQAAAAAAAAE9AAAAAAACAR0AAAAAAAABKQAAAAAAAgEVAAAAAAACAQUAAAAAAAABDQAAAAAAAAEBAAAAAAAAAQUAAAAAAAAA3QAAAAAAAADhAAAAAAAAAOUAAAAAAAABNQAAAAAAAAEtAAAAAAACAR0AAAAAAAABOQAAAAAAAAFJAAAAAAADAU0AAAAAAAIBUQAAAAAAAgFdAAAAAAAAAQEAAAAAAAAA/QAAAAAAAAD1AAAAAAAAAPEAAAAAAAAA5QAAAAAAAADhAAAAAAAAAQ0AAAAAAAIBBQAAAAAAAAEFAAAAAAACAQ0AAAAAAAIBCQAAAAAAAADdAAAAAAAAANUAAAAAAAGBnQAAAAAAAgFlAAAAAAAAgYEAAAAAAAGBlQAAAAAAAwFZAAAAAAADAVUAAAAAAAIBUQAAAAAAAAE9AAAAAAACASUAAAAAAAABLQAAAAAAAAIZAAAAAAAAwdEAAAAAAAAA4QAAAAAAAADlAAAAAAAAAN0AAAAAAAAA2QAAAAAAAADNAAAAAAAAAMkAAAAAAAAAxQAAAAAAAAChAAAAAAAAAKkAAAAAAAGB+QAAAAAAAAINAAAAAAADAZ0AAAAAAAKBgQAAAAAAAwF9AAAAAAACASkAAAAAAAABLQAAAAAAAgE9AAAAAAAAATEAAAAAAAEBSQAAAAAAAAE1AAAAAAACATUAAAAAAAIBVQAAAAAAAAF5AAAAAAABAXEAAAAAAAABJQAAAAAAAAEdAAAAAAACAS0AAAAAAAIBIQAAAAAAAgEdAAAAAAAAASEAAAAAAAAA6QAAAAAAAAEJAAAAAAACAQEAAAAAAAAA9QAAAAAAAYGdAAAAAAAAgakAAAAAAAIBYQAAAAAAAAFhAAAAAAABAV0AAAAAAAMBVQAAAAAAAQFVAAAAAAAAAVUAAAAAAAMBUQAAAAAAAgE9AAAAAAAAAKkAAAAAAAAAxQAAAAAAAADBAAAAAAAAALEAAAAAAAAA2QAAAAAAAADtAAAAAAAAANUAAAAAAAAAzQAAAAAAAAChAAAAAAAAAJEAAAAAAAAAiQAAAAAAAABxAAAAAAABAZUAAAAAAAIBfQAAAAAAAAFlAAAAAAAAAVUAAAAAAAABeQAAAAAAAQFxAAAAAAABAWUAAAAAAAEBXQAAAAAAAwFdAAAAAAACAV0AAAAAAAEBUQAAAAAAAQFNAAAAAAACAVkAAAAAAAABNQAAAAAAAgERAAAAAAAAAREAAAAAAAABpQAAAAAAAsHNAAAAAAACgaUAAAAAAADB4QAAAAAAA8IFAAAAAAAAgaUAAAAAAAIBkQAAAAAAAgGJAAAAAAAAAGEAAAAAAAAAUQAAAAAAAABxAAAAAAAAAIEAAAAAAAIBQQAAAAAAAgFFAAAAAAACAS0AAAAAAAABEQAAAAAAAAEZAAAAAAACAQkAAAAAAAIBEQAAAAAAAsH5AAAAAAABgZEAAAAAAAIBdQAAAAAAAwF1AAAAAAAAAXEAAAAAAAMBRQAAAAAAAAEhAAAAAAAAARkAAAAAAAABDQAAAAAAAAEJAAAAAAAAARkAAAAAAAABRQAAAAAAAQFZAAAAAAACAU0AAAAAAAEBVQAAAAAAAwFBAAAAAAABAUkAAAAAAAIBNQAAAAAAAIGBAAAAAAABAXkAAAAAAAABPQAAAAAAAAEhAAAAAAAAASUAAAAAAAMBSQAAAAAAAQFNAAAAAAACAT0AAAAAAAOByQAAAAAAAAFdAAAAAAABAVkAAAAAAAIBEQAAAAAAAgENAAAAAAACAQkAAAAAAAIBBQAAAAAAAAEJAAAAAAAAAREAAAAAAAIBHQAAAAAAAADRAAAAAAAAAM0AAAAAAAABOQAAAAAAAAEhAAAAAAAAASUAAAAAAAEBZQAAAAAAAAFtAAAAAAABAdEAAAAAAACBqQAAAAAAAAFNAAAAAAACAUkAAAAAAAIBPQAAAAAAAgEVAAAAAAACAREAAAAAAAABFQAAAAAAAAENAAAAAAACAQkAAAAAAAIBKQAAAAAAAwFJAAAAAAACga0AAAAAAAAiIQAAAAAAAkHxAAAAAAAAAOkAAAAAAAAA3QAAAAAAAADRAAAAAAAAAMEAAAAAAAAAuQAAAAAAAAD1AAAAAAAAAYkAAAAAAAMBcQAAAAAAAQFpAAAAAAABAU0AAAAAAAEBeQAAAAAAAgEFAAAAAAAAAQUAAAAAAAIBAQAAAAAAAAEBAAAAAAAAAP0AAAAAAAAA9QAAAAAAAAEZAAAAAAABAUEAAAAAAAMBQQAAAAAAAAE5AAAAAAAAAUUAAAAAAAIBJQAAAAAAA4GpAAAAAAACASEAAAAAAAABIQAAAAAAAgEZAAAAAAAAASkAAAAAAAABLQAAAAAAAAE1AAAAAAACAUUAAAAAAAABSQAAAAAAAgF5AAAAAAABAZ0AAAAAAAAAsQAAAAAAAAChAAAAAAAAAKkAAAAAAAAAwQAAAAAAAADFAAAAAAAAAMkAAAAAAAAAmQAAAAAAAwF9AAAAAAAAAAEAAAAAAAADwPwAAAAAAAAhAAAAAAAAAEEAAAAAAAAAUQAAAAAAAACJAAAAAAAAAIEAAAAAAADBwQAAAAAAAAHNAAAAAAAAIg0AAAAAAAKCGQAAAAAAAwF5AAAAAAAAAXUAAAAAAAMBdQAAAAAAAwFJAAAAAAABAU0AAAAAAAIBFQAAAAAAAAEBAAAAAAAAAPUAAAAAAAAA+QAAAAAAAgFdAAAAAAAAAV0AAAAAAAMBVQAAAAAAAgFRAAAAAAABAVEAAAAAAAEBVQAAAAAAAgFJAAAAAAABAUkAAAAAAAEBRQAAAAAAAgEpAAAAAAACAUEAAAAAAAMB3QAAAAAAAsIBAAAAAAADQfEAAAAAAAFCCQAAAAAAAQFBAAAAAAACAS0AAAAAAAEBSQAAAAAAAgFZAAAAAAAAAT0AAAAAAAIBOQAAAAAAAAFRAAAAAAADAUUAAAAAAAEBSQAAAAAAAgF5AAAAAAADAWUAAAAAAAABZQAAAAAAAQFhAAAAAAACAVEAAAAAAAIBSQAAAAAAAgFVAAAAAAABAUkAAAAAAAMBTQAAAAAAAAF5AAAAAAACAWUAAAAAAAIBYQAAAAAAAgFdAAAAAAAAAa0AAAAAAAOBkQAAAAAAAQGlAAAAAAAAQcUAAAAAAAMBYQAAAAAAAAFdAAAAAAABAUEAAAAAAAMBTQAAAAAAAAFBAAAAAAACATkAAAAAAAIBJQAAAAAAAgEpAAAAAAAAAS0AAAAAAAIBIQAAAAAAAQHdAAAAAAADwdkAAAAAAAABWQAAAAAAAgFdAAAAAAABAVUAAAAAAAABTQAAAAAAAgFFAAAAAAAAAO0AAAAAAAAA+QAAAAAAAADpAAAAAAAAAPEAAAAAAAIBAQAAAAAAAABxAAAAAAAAAIEAAAAAAAAAmQAAAAAAAABhAAAAAAAAAFEAAAAAAAAAIQAAAAAAA6IdAAAAAAACASkAAAAAAAIBEQAAAAAAAwFhAAAAAAADAWkAAAAAAAEBcQAAAAAAAwF5AAAAAAABAWkAAAAAAAABbQAAAAAAAwFdAAAAAAAAgYUAAAAAAAEBXQAAAAAAAADJAAAAAAAAANkAAAAAAAAA+QAAAAAAAADxAAAAAAAAAQEAAAAAAAAA7QAAAAAAAAD1AAAAAAAAAOkAAAAAAAABDQAAAAAAAgEJAAAAAAAAASEAAAAAAAMBXQAAAAAAAwFpAAAAAAACAWEAAAAAAAEBgQAAAAAAAQFxAAAAAAAAAgUAAAAAAAIBoQAAAAAAA4GlAAAAAAADwcUAAAAAAAKBkQAAAAAAAQF1AAAAAAACAWkAAAAAAAABgQAAAAAAAAFhAAAAAAACAV0AAAAAAAMBYQAAAAAAAwFtAAAAAAACAWkAAAAAAAEBZQAAAAAAAQFdAAAAAAACAV0AAAAAAAABcQAAAAAAAAF1AAAAAAABAVEAAAAAAAIBVQAAAAAAAAFtAAAAAAADAV0AAAAAAAABWQAAAAAAAAFVAAAAAAACAU0AAAAAAAEBWQAAAAAAAgFZAAAAAAAAAVEAAAAAAAMBSQAAAAAAAAFNAAAAAAACAUUAAAAAAAABEQAAAAAAAAE5AAAAAAACAUEAAAAAAAABKQAAAAAAAgEtAAAAAAAAASEAAAAAAAICIQAAAAAAAqIRAAAAAAABAZUAAAAAAAKBjQAAAAAAAAGVAAAAAAAAAXkAAAAAAAGB5QAAAAAAAAEdAAAAAAACASkAAAAAAAIBJQAAAAAAAgE1AAAAAAAAAS0AAAAAAAABEQAAAAAAAgERAAAAAAACARUAAAAAAAABFQAAAAAAAgEtAAAAAAAAATkAAAAAAAIBOQAAAAAAAgExAAAAAAACAWUAAAAAAAIBXQAAAAAAAAF5AAAAAAAAgZ0AAAAAAAMBmQAAAAAAA4GdAAAAAAACgd0AAAAAAAPB4QAAAAAAAEHJAAAAAAAAge0AAAAAAAOBgQAAAAAAAwFVAAAAAAAAAV0AAAAAAAMBWQAAAAAAAAE9AAAAAAACAVUAAAAAAAEBYQAAAAAAAQGBAAAAAAABgYkAAAAAAAABZQAAAAAAAAGFAAAAAAADgZ0AAAAAAAEBXQAAAAAAAwFBAAAAAAABAXEAAAAAAAABbQAAAAAAAYGBAAAAAAAAskEAAAAAAANCDQAAAAAAAwGRAAAAAAAAgZkAAAAAAAABlQAAAAAAAABxAAAAAAAAAIEAAAAAAAAAiQAAAAAAAACRAAAAAAAAAGEAAAAAAAAAsQAAAAAAAADFAAAAAAAAAM0AAAAAAALBwQAAAAAAAAEtAAAAAAADAUUAAAAAAAGBhQAAAAAAAoGZAAAAAAACwkUAAAAAAAGBlQAAAAAAAAGpAAAAAAACAYkAAAAAAAABZQAAAAAAAADNAAAAAAAAAMUAAAAAAAAAsQAAAAAAAAC5AAAAAAAAAMEAAAAAAAAAmQAAAAAAAAChAAAAAAAAAJEAAAAAAAMBcQAAAAAAAQF9AAAAAAAAAPUAAAAAAAAA/QAAAAAAAAD5AAAAAAACAQEAAAAAAAABAQAAAAAAAADxAAAAAAAAAN0AAAAAAAAAzQAAAAAAAADRAAAAAAAAANkAAAAAAAAA1QAAAAAAAoGFAAAAAAADAY0AAAAAAAKB4QAAAAAAAMHRAAAAAAABAcUAAAAAAAGBqQAAAAAAAQGRAAAAAAACAYUAAAAAAAEBWQAAAAAAA4GxAAAAAAAAAZEAAAAAAAABdQAAAAAAAwF5AAAAAAAAgYkAAAAAAAABiQAAAAAAAQGxAAAAAAAAgYEAAAAAAAACBQAAAAAAAAFZAAAAAAADAUkAAAAAAAMBRQAAAAAAAAE1AAAAAAABAUEAAAAAAAIBMQAAAAAAAAExAAAAAAACAT0AAAAAAAIBLQAAAAAAAgEhAAAAAAACATUAAAAAAAEBSQAAAAAAAAFJAAAAAAABAVUAAAAAAAAA8QAAAAAAAADlAAAAAAAAAO0AAAAAAAAA/QAAAAAAAAEBAAAAAAACAQEAAAAAAAAA9QAAAAAAAADpAAAAAAAAAOEAAAAAAAAA0QAAAAAAAADNAAAAAAAAAMUAAAAAAAABuQAAAAAAA0I9AAAAAAAAYh0AAAAAAACiCQAAAAAAAQH5AAAAAAABwekAAAAAAAOB0QAAAAAAAQHNAAAAAAACAbEAAAAAAAOB5QAAAAAAAYHhAAAAAAADgZkAAAAAAAABeQAAAAAAAgFtAAAAAAAAgcEAAAAAAAKBmQAAAAAAAAGZAAAAAAAAAJEAAAAAAAAAiQAAAAAAAACBAAAAAAAAAHEAAAAAAAAAYQAAAAAAAABBAAAAAAAAAJEAAAAAAAAAmQAAAAAAAACJAAAAAAAAAKkAAAAAAAAAuQAAAAAAAACxAAAAAAAAAMUAAAAAAAAAyQAAAAAAAADRAAAAAAABAYUAAAAAAAMBbQAAAAAAAAFpAAAAAAACAWkAAAAAAAMBYQAAAAAAAAFhAAAAAAAAAYEAAAAAAAFiFQAAAAAAAQFVAAAAAAAAAVEAAAAAAAIBSQAAAAAAAgFVAAAAAAACAWUAAAAAAAEBcQAAAAAAAwGhAAAAAAACAUEAAAAAAAMBQQAAAAAAAgEVAAAAAAACAQ0AAAAAAAABJQAAAAAAAAEtAAAAAAACASEAAAAAAAABHQAAAAAAAAEhAAAAAAACARkAAAAAAAIBJQAAAAAAAAE1AAAAAAAAARUAAAAAAAABEQAAAAAAAAExAAAAAAAAATkAAAAAAAIBdQAAAAAAAwF5AAAAAAACAVEAAAAAAAIBaQAAAAAAAoGFAAAAAAABAY0AAAAAAAFCKQAAAAAAAwGlAAAAAAADgYkAAAAAAACBgQAAAAAAAwF5AAAAAAACAZEAAAAAAAMBgQAAAAAAAwFlAAAAAAAAAWUAAAAAAAEBQQAAAAAAAADhAAAAAAAAANUAAAAAAAAA3QAAAAAAAADtAAAAAAAAAPEAAAAAAAAAuQAAAAAAAADBAAAAAAAAAMUAAAAAAAAAsQAAAAAAAACpAAAAAAAAAJkAAAAAAAAAgQAAAAAAAACJAAAAAAAAAGEAAAAAAAAAcQAAAAAAAABBAAAAAAABAcUAAAAAAAMBaQAAAAAAAgFVAAAAAAAAAVUAAAAAAAIBSQAAAAAAAwFJAAAAAAADAUUAAAAAAAIBQQAAAAAAAQFFAAAAAAABAU0AAAAAAAMBQQAAAAAAAgFBAAAAAAADAVEAAAAAAAABWQAAAAAAAQFtAAAAAAACAW0AAAAAAAABaQAAAAAAAgFRAAAAAAAAASEAAAAAAAIBDQAAAAAAAQFRAAAAAAACAU0AAAAAAAMBRQAAAAAAAAEpAAAAAAACAR0AAAAAAAABGQAAAAAAAAEVAAAAAAAAAQkAAAAAAAIBEQAAAAAAAgEJAAAAAAACAQEAAAAAAAIBBQAAAAAAAAD1AAAAAAAAAP0AAAAAAAAA+QAAAAAAAgENAAAAAAACAgEAAAAAAAFB7QAAAAAAAQGRAAAAAAABgYkAAAAAAABByQAAAAAAAJJNAAAAAAACAQ0AAAAAAAIBfQAAAAAAAgFxAAAAAAACgY0AAAAAAAIBiQAAAAAAAgGFAAAAAAAAAVUAAAAAAAMBVQAAAAAAAwFlAAAAAAAAAU0AAAAAAAMBRQAAAAAAAgFFAAAAAAABAUUAAAAAAAIBLQAAAAAAAAExAAAAAAAAATkAAAAAAAGBjQAAAAAAA4GNAAAAAAACAZUAAAAAAAIBcQAAAAAAAAFtAAAAAAAAAWUAAAAAAAEBXQAAAAAAAQFlAAAAAAABAVEAAAAAAAABXQAAAAAAAQFhAAAAAAACAV0AAAAAAAIBQQAAAAAAAgFJAAAAAAACAUUAAAAAAAEBRQAAAAAAAQGhAAAAAAACAY0AAAAAAAKBiQAAAAAAAAF5AAAAAAACAXUAAAAAAAMBaQAAAAAAAgFtAAAAAAAAANEAAAAAAAAAuQAAAAAAAADBAAAAAAAAAKEAAAAAAAAAmQAAAAAAAACxAAAAAAACIhkAAAAAAAPySQAAAAAAAcHtAAAAAAABAZ0AAAAAAAIBRQAAAAAAAAFFAAAAAAACATEAAAAAAAIBLQAAAAAAAAE1AAAAAAACAU0AAAAAAAABPQAAAAAAAAE5AAAAAAABAUEAAAAAAAABDQAAAAAAAAEFAAAAAAACAQUAAAAAAAIBCQAAAAAAAoGBAAAAAAABQe0AAAAAAAIBvQAAAAAAAYGJAAAAAAADAYUAAAAAAAEBgQAAAAAAAQF9AAAAAAABAZ0AAAAAAAKByQAAAAAAAgGlAAAAAAAAgZkAAAAAAAEBkQAAAAAAAADdAAAAAAAAANEAAAAAAAAA1QAAAAAAAADNAAAAAAAAAMkAAAAAAAAAxQAAAAAAAADBAAAAAAACAR0AAAAAAAABMQAAAAAAAwFBAAAAAAACATUAAAAAAAIBGQAAAAAAAAEhAAAAAAACAREAAAAAAAIBDQAAAAAAAgEVAAAAAAACAS0AAAAAAAABKQAAAAAAAgEhAAAAAAAAAQ0AAAAAAAOBjQAAAAAAAwFxAAAAAAADAVkAAAAAAAMBVQAAAAAAAgFRAAAAAAADAU0AAAAAAAEBTQAAAAAAAQFBAAAAAAACAUUAAAAAAAEB8QAAAAAAAGIVAAAAAAAAAaUAAAAAAAIBPQAAAAAAAQFBAAAAAAACATUAAAAAAAABMQAAAAAAAAE9AAAAAAACASkAAAAAAAIBLQAAAAAAAAFFAAAAAAAAAUEAAAAAAAABOQAAAAAAAgEVAAAAAAAAAREAAAAAAAIBDQAAAAAAAAENAAAAAAACAQkAAAAAAAABFQAAAAAAAAExAAAAAAACAS0AAAAAAAIBIQAAAAAAAgEdAAAAAAACAT0AAAAAAAIBUQAAAAAAAwFRAAAAAAADAVUAAAAAAAIBKQAAAAAAAAGNAAAAAAABAWUAAAAAAAEBXQAAAAAAAwFZAAAAAAAAAWEAAAAAAAEBVQAAAAAAAwFRAAAAAAABAUkAAAAAAAIBOQAAAAAAAAE5AAAAAAACAS0AAAAAAAEBSQAAAAAAAQFFAAAAAAAAAUUAAAAAAAIBSQAAAAAAAwFJAAAAAAABAUEAAAAAAAIBRQAAAAAAAAFBAAAAAAACAVEAAAAAAAABUQAAAAAAAwFNAAAAAAAAAMUAAAAAAAKBsQAAAAAAAgFNAAAAAAABAUUAAAAAAAABVQAAAAAAAgFJAAAAAAADAUkAAAAAAAABXQAAAAAAAwFRAAAAAAACAVUAAAAAAAMBQQAAAAAAAAE1AAAAAAACATEAAAAAAAIBHQAAAAAAAAG1AAAAAAACAakAAAAAAAICIQAAAAAAAQFpAAAAAAADAWEAAAAAAAIBaQAAAAAAAwFJAAAAAAAAAU0AAAAAAAIBQQAAAAAAAgE5AAAAAAAAASEAAAAAAAABFQAAAAAAAAEdAAAAAAACAR0AAAAAAAABGQAAAAAAAADBAAAAAAAAAOEAAAAAAAAA2QAAAAAAAAENAAAAAAAAAQkAAAAAAAIBVQAAAAAAAAFFAAAAAAACAU0AAAAAAAIBRQAAAAAAAgEdAAAAAAACARkAAAAAAAIBEQAAAAAAAgElAAAAAAAAAREAAAAAAAIBCQAAAAAAAgEtAAAAAAABAWkAAAAAAAOBjQAAAAAAAQGVAAAAAAAAAYkAAAAAAAMBfQAAAAAAA8ItAAAAAAABAXEAAAAAAAMBaQAAAAAAAwFVAAAAAAACAVUAAAAAAAMBdQAAAAAAAAFxAAAAAAACAV0AAAAAAAEBWQAAAAAAAQFNAAAAAAABAUUAAAAAAAIBNQAAAAAAAgEpAAAAAAACATkAAAAAAAABOQAAAAAAAoG5AAAAAAACIikAAAAAAAAiBQAAAAAAA4HNAAAAAAAAAPUAAAAAAAAA8QAAAAAAAgEBAAAAAAACAQUAAAAAAAABEQAAAAAAAAEJAAAAAAACAREAAAAAAAABGQAAAAAAAgEdAAAAAAACASkAAAAAAAIBLQAAAAAAAAEFAAAAAAAAwcUAAAAAAAMB2QAAAAAAA8HxAAAAAAADQhEAAAAAAAOiYQAAAAAAAYG5AAAAAAAAgbEAAAAAAAEBjQAAAAAAAYGFAAAAAAADAVUAAAAAAAABNQAAAAAAAgElAAAAAAAAAS0AAAAAAAIBBQAAAAAAAADxAAAAAAAAAOkAAAAAAAAA5QAAAAAAAADdAAAAAAAAANkAAAAAAAAA0QAAAAAAAgF9AAAAAAACgb0AAAAAAAMBVQAAAAAAAABRAAAAAAAAA8D8AAAAAAAAIQAAAAAAAAABAAAAAAAAAWkAAAAAAAEBVQAAAAAAAwFNAAAAAAAAAVkAAAAAAAABUQAAAAAAAgFVAAAAAAACAUkAAAAAAAEBWQAAAAAAAoG9AAAAAAAAQeEAAAAAAAABTQAAAAAAAAFRAAAAAAACAVEAAAAAAAIBXQAAAAAAAgFhAAAAAAAAgbUAAAAAAANiKQAAAAAAAQF9AAAAAAABgZUAAAAAAAAAuQAAAAAAAAG5AAAAAAABAYUAAAAAAAIBcQAAAAAAAAFtAAAAAAAAAXUAAAAAAAEBWQAAAAAAAgFpAAAAAAABAW0AAAAAAAABUQAAAAAAAAFFAAAAAAACAUEAAAAAAAMBQQAAAAAAAQFFAAAAAAACAT0AAAAAAAABQQAAAAAAAgFZAAAAAAAAAS0AAAAAAAABPQAAAAAAAAFNAAAAAAAAAXkAAAAAAAPCOQAAAAAAAUHRAAAAAAACAdUAAAAAAAGB1QAAAAAAAAFBAAAAAAACAUUAAAAAAAMBTQAAAAAAAAFRAAAAAAACAUEAAAAAAAABTQAAAAAAAwF5AAAAAAABAXEAAAAAAAIBbQAAAAAAAQFhAAAAAAAAAAEAAAAAAACBoQAAAAAAAwGZAAAAAAADAUEAAAAAAAIBGQAAAAAAAgEVAAAAAAAAAREAAAAAAAABFQAAAAAAAgEtAAAAAAACATEAAAAAAAMB+QAAAAAAAIGVAAAAAAABAYEAAAAAAAKBgQAAAAAAAAF1AAAAAAADAW0AAAAAAAIBbQAAAAAAAwFJAAAAAAAAQeEAAAAAAAAA1QAAAAAAAADpAAAAAAAAAOUAAAAAAAAA8QAAAAAAAAD1AAAAAAAAAOEAAAAAAAAA3QAAAAAAAgFBAAAAAAAAATkAAAAAAAIBSQAAAAAAAAFNAAAAAAAAAVUAAAAAAAIBUQAAAAAAAgEpAAAAAAACASUAAAAAAAABNQAAAAAAAgExAAAAAAACATUAAAAAAAABQQAAAAAAAgE9AAAAAAAAQcEAAAAAAACiFQAAAAAAAAFZAAAAAAAAAXEAAAAAAAMBZQAAAAAAAgFdAAAAAAAAAV0AAAAAAAABOQAAAAAAAgEtAAAAAAAAASUAAAAAAAABFQAAAAAAAgEZAAAAAAACslUAAAAAAAJBwQAAAAAAAOIFAAAAAAACAR0AAAAAAAIBBQAAAAAAAAEBAAAAAAAAAP0AAAAAAAABEQAAAAAAAAEZAAAAAAAAAUkAAAAAAAABFQAAAAAAAAD1AAAAAAAAAPEAAAAAAAIBAQAAAAAAAAD9AAAAAAAAAPkAAAAAAAABAQAAAAAAAADxAAAAAAAAAOkAAAAAAAIBdQAAAAAAAAE1AAAAAAACASEAAAAAAAIBHQAAAAAAAAEZAAAAAAACgbUAAAAAAAOBqQAAAAAAAIGRAAAAAAACAYkAAAAAAAEBiQAAAAAAAAFVAAAAAAAAAUUAAAAAAAIBOQAAAAAAAgGJAAAAAAABAYEAAAAAAAEBaQAAAAAAAAFlAAAAAAACAVkAAAAAAAABVQAAAAAAAQFZAAAAAAAAAVkAAAAAAAIBSQAAAAAAAAFJAAAAAAACASUAAAAAAAIBIQAAAAAAAAEdAAAAAAACASkAAAAAAAABEQAAAAAAA4GBAAAAAAAAYiUAAAAAAAAAQQAAAAAAAAAhAAAAAAAAAFEAAAAAAAAAcQAAAAAAAABhAAAAAAAAAY0AAAAAAAKBoQAAAAAAAoH9AAAAAAACAY0AAAAAAAMBXQAAAAAAAgE9AAAAAAACATkAAAAAAAABEQAAAAAAAgENAAAAAAAAAQkAAAAAAAIBBQAAAAAAAAENAAAAAAAAAPUAAAAAAAIBCQAAAAAAAADlAAAAAAAAAOEAAAAAAAAA3QAAAAAAAgE1AAAAAAACAV0AAAAAAAEBfQAAAAAAAwFlAAAAAAABAWEAAAAAAAABcQAAAAAAAQFxAAAAAAADAXEAAAAAAAMBXQAAAAAAAACJAAAAAAAAAIEAAAAAAAAAcQAAAAAAAABRAAAAAAAAAJEAAAAAAAIBiQAAAAAAAQFdAAAAAAACAW0AAAAAAAOBjQAAAAAAAQFlAAAAAAACAV0AAAAAAAABaQAAAAAAAAFtAAAAAAACAVUAAAAAAAEBRQAAAAAAAgFJAAAAAAAAgY0AAAAAAAABhQAAAAAAAwFRAAAAAAAAAVUAAAAAAAEBUQAAAAAAAQFhAAAAAAACAWEAAAAAAAIBeQAAAAAAAAF1AAAAAAACAU0AAAAAAAIBlQAAAAAAAQF1AAAAAAAAAU0AAAAAAAMBbQAAAAAAAwFpAAAAAAADAYUAAAAAAACBgQAAAAAAAwF5AAAAAAABgZUAAAAAAAIBqQAAAAAAAoGBAAAAAAABAYUAAAAAAAEBUQAAAAAAAgFJAAAAAAADAXUAAAAAAAIBTQAAAAAAAgF5AAAAAAADAU0AAAAAAAIBUQAAAAAAAAFNAAAAAAABAUkAAAAAAAIBNQAAAAAAAgE5AAAAAAACASEAAAAAAAABAQAAAAAAAAEFAAAAAAACAQUAAAAAAAAA/QAAAAAAAgEFAAAAAAAAAMkAAAAAAAAA3QAAAAAAAADNAAAAAAAAAMUAAAAAAAAAwQAAAAAAAAC5AAAAAAAAALEAAAAAAAAAqQAAAAAAAAChAAAAAAADgZUAAAAAAAIBaQAAAAAAAQFNAAAAAAACAU0AAAAAAAABEQAAAAAAAAEJAAAAAAAAAQ0AAAAAAAABBQAAAAAAAgEBAAAAAAAAAPEAAAAAAAAA6QAAAAAAAADdAAAAAAACAVUAAAAAAAGBnQAAAAAAAcINAAAAAAADgdkAAAAAAAMCHQAAAAAAAgHlAAAAAAAAQeEAAAAAAACBjQAAAAAAAwGBAAAAAAAAAXEAAAAAAAABbQAAAAAAAQFlAAAAAAABAUEAAAAAAAIBKQAAAAAAAAEhAAAAAAAAAR0AAAAAAAIBGQAAAAAAAAExAAAAAAAAAS0AAAAAAAGiBQAAAAAAAQFhAAAAAAADAUEAAAAAAAABQQAAAAAAAgExAAAAAAACATUAAAAAAAEBWQAAAAAAAgFVAAAAAAAAAQkAAAAAAAIBAQAAAAAAAAEFAAAAAAACAQUAAAAAAAIBGQAAAAAAAAEdAAAAAAAAAQ0AAAAAAAABIQAAAAAAAgEhAAAAAAABAYUAAAAAAAMBeQAAAAAAAQF1AAAAAAABAXkAAAAAAAABdQAAAAAAAwFhAAAAAAADAU0AAAAAAAGB9QAAAAAAAwH1AAAAAAACgbUAAAAAAAABnQAAAAAAAgI5AAAAAAAAgbUAAAAAAAMBYQAAAAAAAwFFAAAAAAAAAS0AAAAAAAMBTQAAAAAAAgEpAAAAAAADAUEAAAAAAAABOQAAAAAAAgExAAAAAAADgZUAAAAAAAMBcQAAAAAAAAF9AAAAAAADAZkAAAAAAAEiFQA==",
          "dtype": "f8"
         },
         "xaxis": "x",
         "y": {
          "bdata": "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",
          "dtype": "i2"
         },
         "yaxis": "y"
        }
       ],
       "layout": {
        "legend": {
         "tracegroupgap": 0
        },
        "template": {
         "data": {
          "bar": [
           {
            "error_x": {
             "color": "#2a3f5f"
            },
            "error_y": {
             "color": "#2a3f5f"
            },
            "marker": {
             "line": {
              "color": "white",
              "width": 0.5
             },
             "pattern": {
              "fillmode": "overlay",
              "size": 10,
              "solidity": 0.2
             }
            },
            "type": "bar"
           }
          ],
          "barpolar": [
           {
            "marker": {
             "line": {
              "color": "white",
              "width": 0.5
             },
             "pattern": {
              "fillmode": "overlay",
              "size": 10,
              "solidity": 0.2
             }
            },
            "type": "barpolar"
           }
          ],
          "carpet": [
           {
            "aaxis": {
             "endlinecolor": "#2a3f5f",
             "gridcolor": "#C8D4E3",
             "linecolor": "#C8D4E3",
             "minorgridcolor": "#C8D4E3",
             "startlinecolor": "#2a3f5f"
            },
            "baxis": {
             "endlinecolor": "#2a3f5f",
             "gridcolor": "#C8D4E3",
             "linecolor": "#C8D4E3",
             "minorgridcolor": "#C8D4E3",
             "startlinecolor": "#2a3f5f"
            },
            "type": "carpet"
           }
          ],
          "choropleth": [
           {
            "colorbar": {
             "outlinewidth": 0,
             "ticks": ""
            },
            "type": "choropleth"
           }
          ],
          "contour": [
           {
            "colorbar": {
             "outlinewidth": 0,
             "ticks": ""
            },
            "colorscale": [
             [
              0,
              "#0d0887"
             ],
             [
              0.1111111111111111,
              "#46039f"
             ],
             [
              0.2222222222222222,
              "#7201a8"
             ],
             [
              0.3333333333333333,
              "#9c179e"
             ],
             [
              0.4444444444444444,
              "#bd3786"
             ],
             [
              0.5555555555555556,
              "#d8576b"
             ],
             [
              0.6666666666666666,
              "#ed7953"
             ],
             [
              0.7777777777777778,
              "#fb9f3a"
             ],
             [
              0.8888888888888888,
              "#fdca26"
             ],
             [
              1,
              "#f0f921"
             ]
            ],
            "type": "contour"
           }
          ],
          "contourcarpet": [
           {
            "colorbar": {
             "outlinewidth": 0,
             "ticks": ""
            },
            "type": "contourcarpet"
           }
          ],
          "heatmap": [
           {
            "colorbar": {
             "outlinewidth": 0,
             "ticks": ""
            },
            "colorscale": [
             [
              0,
              "#0d0887"
             ],
             [
              0.1111111111111111,
              "#46039f"
             ],
             [
              0.2222222222222222,
              "#7201a8"
             ],
             [
              0.3333333333333333,
              "#9c179e"
             ],
             [
              0.4444444444444444,
              "#bd3786"
             ],
             [
              0.5555555555555556,
              "#d8576b"
             ],
             [
              0.6666666666666666,
              "#ed7953"
             ],
             [
              0.7777777777777778,
              "#fb9f3a"
             ],
             [
              0.8888888888888888,
              "#fdca26"
             ],
             [
              1,
              "#f0f921"
             ]
            ],
            "type": "heatmap"
           }
          ],
          "histogram": [
           {
            "marker": {
             "pattern": {
              "fillmode": "overlay",
              "size": 10,
              "solidity": 0.2
             }
            },
            "type": "histogram"
           }
          ],
          "histogram2d": [
           {
            "colorbar": {
             "outlinewidth": 0,
             "ticks": ""
            },
            "colorscale": [
             [
              0,
              "#0d0887"
             ],
             [
              0.1111111111111111,
              "#46039f"
             ],
             [
              0.2222222222222222,
              "#7201a8"
             ],
             [
              0.3333333333333333,
              "#9c179e"
             ],
             [
              0.4444444444444444,
              "#bd3786"
             ],
             [
              0.5555555555555556,
              "#d8576b"
             ],
             [
              0.6666666666666666,
              "#ed7953"
             ],
             [
              0.7777777777777778,
              "#fb9f3a"
             ],
             [
              0.8888888888888888,
              "#fdca26"
             ],
             [
              1,
              "#f0f921"
             ]
            ],
            "type": "histogram2d"
           }
          ],
          "histogram2dcontour": [
           {
            "colorbar": {
             "outlinewidth": 0,
             "ticks": ""
            },
            "colorscale": [
             [
              0,
              "#0d0887"
             ],
             [
              0.1111111111111111,
              "#46039f"
             ],
             [
              0.2222222222222222,
              "#7201a8"
             ],
             [
              0.3333333333333333,
              "#9c179e"
             ],
             [
              0.4444444444444444,
              "#bd3786"
             ],
             [
              0.5555555555555556,
              "#d8576b"
             ],
             [
              0.6666666666666666,
              "#ed7953"
             ],
             [
              0.7777777777777778,
              "#fb9f3a"
             ],
             [
              0.8888888888888888,
              "#fdca26"
             ],
             [
              1,
              "#f0f921"
             ]
            ],
            "type": "histogram2dcontour"
           }
          ],
          "mesh3d": [
           {
            "colorbar": {
             "outlinewidth": 0,
             "ticks": ""
            },
            "type": "mesh3d"
           }
          ],
          "parcoords": [
           {
            "line": {
             "colorbar": {
              "outlinewidth": 0,
              "ticks": ""
             }
            },
            "type": "parcoords"
           }
          ],
          "pie": [
           {
            "automargin": true,
            "type": "pie"
           }
          ],
          "scatter": [
           {
            "fillpattern": {
             "fillmode": "overlay",
             "size": 10,
             "solidity": 0.2
            },
            "type": "scatter"
           }
          ],
          "scatter3d": [
           {
            "line": {
             "colorbar": {
              "outlinewidth": 0,
              "ticks": ""
             }
            },
            "marker": {
             "colorbar": {
              "outlinewidth": 0,
              "ticks": ""
             }
            },
            "type": "scatter3d"
           }
          ],
          "scattercarpet": [
           {
            "marker": {
             "colorbar": {
              "outlinewidth": 0,
              "ticks": ""
             }
            },
            "type": "scattercarpet"
           }
          ],
          "scattergeo": [
           {
            "marker": {
             "colorbar": {
              "outlinewidth": 0,
              "ticks": ""
             }
            },
            "type": "scattergeo"
           }
          ],
          "scattergl": [
           {
            "marker": {
             "colorbar": {
              "outlinewidth": 0,
              "ticks": ""
             }
            },
            "type": "scattergl"
           }
          ],
          "scattermap": [
           {
            "marker": {
             "colorbar": {
              "outlinewidth": 0,
              "ticks": ""
             }
            },
            "type": "scattermap"
           }
          ],
          "scattermapbox": [
           {
            "marker": {
             "colorbar": {
              "outlinewidth": 0,
              "ticks": ""
             }
            },
            "type": "scattermapbox"
           }
          ],
          "scatterpolar": [
           {
            "marker": {
             "colorbar": {
              "outlinewidth": 0,
              "ticks": ""
             }
            },
            "type": "scatterpolar"
           }
          ],
          "scatterpolargl": [
           {
            "marker": {
             "colorbar": {
              "outlinewidth": 0,
              "ticks": ""
             }
            },
            "type": "scatterpolargl"
           }
          ],
          "scatterternary": [
           {
            "marker": {
             "colorbar": {
              "outlinewidth": 0,
              "ticks": ""
             }
            },
            "type": "scatterternary"
           }
          ],
          "surface": [
           {
            "colorbar": {
             "outlinewidth": 0,
             "ticks": ""
            },
            "colorscale": [
             [
              0,
              "#0d0887"
             ],
             [
              0.1111111111111111,
              "#46039f"
             ],
             [
              0.2222222222222222,
              "#7201a8"
             ],
             [
              0.3333333333333333,
              "#9c179e"
             ],
             [
              0.4444444444444444,
              "#bd3786"
             ],
             [
              0.5555555555555556,
              "#d8576b"
             ],
             [
              0.6666666666666666,
              "#ed7953"
             ],
             [
              0.7777777777777778,
              "#fb9f3a"
             ],
             [
              0.8888888888888888,
              "#fdca26"
             ],
             [
              1,
              "#f0f921"
             ]
            ],
            "type": "surface"
           }
          ],
          "table": [
           {
            "cells": {
             "fill": {
              "color": "#EBF0F8"
             },
             "line": {
              "color": "white"
             }
            },
            "header": {
             "fill": {
              "color": "#C8D4E3"
             },
             "line": {
              "color": "white"
             }
            },
            "type": "table"
           }
          ]
         },
         "layout": {
          "annotationdefaults": {
           "arrowcolor": "#2a3f5f",
           "arrowhead": 0,
           "arrowwidth": 1
          },
          "autotypenumbers": "strict",
          "coloraxis": {
           "colorbar": {
            "outlinewidth": 0,
            "ticks": ""
           }
          },
          "colorscale": {
           "diverging": [
            [
             0,
             "#8e0152"
            ],
            [
             0.1,
             "#c51b7d"
            ],
            [
             0.2,
             "#de77ae"
            ],
            [
             0.3,
             "#f1b6da"
            ],
            [
             0.4,
             "#fde0ef"
            ],
            [
             0.5,
             "#f7f7f7"
            ],
            [
             0.6,
             "#e6f5d0"
            ],
            [
             0.7,
             "#b8e186"
            ],
            [
             0.8,
             "#7fbc41"
            ],
            [
             0.9,
             "#4d9221"
            ],
            [
             1,
             "#276419"
            ]
           ],
           "sequential": [
            [
             0,
             "#0d0887"
            ],
            [
             0.1111111111111111,
             "#46039f"
            ],
            [
             0.2222222222222222,
             "#7201a8"
            ],
            [
             0.3333333333333333,
             "#9c179e"
            ],
            [
             0.4444444444444444,
             "#bd3786"
            ],
            [
             0.5555555555555556,
             "#d8576b"
            ],
            [
             0.6666666666666666,
             "#ed7953"
            ],
            [
             0.7777777777777778,
             "#fb9f3a"
            ],
            [
             0.8888888888888888,
             "#fdca26"
            ],
            [
             1,
             "#f0f921"
            ]
           ],
           "sequentialminus": [
            [
             0,
             "#0d0887"
            ],
            [
             0.1111111111111111,
             "#46039f"
            ],
            [
             0.2222222222222222,
             "#7201a8"
            ],
            [
             0.3333333333333333,
             "#9c179e"
            ],
            [
             0.4444444444444444,
             "#bd3786"
            ],
            [
             0.5555555555555556,
             "#d8576b"
            ],
            [
             0.6666666666666666,
             "#ed7953"
            ],
            [
             0.7777777777777778,
             "#fb9f3a"
            ],
            [
             0.8888888888888888,
             "#fdca26"
            ],
            [
             1,
             "#f0f921"
            ]
           ]
          },
          "colorway": [
           "#636efa",
           "#EF553B",
           "#00cc96",
           "#ab63fa",
           "#FFA15A",
           "#19d3f3",
           "#FF6692",
           "#B6E880",
           "#FF97FF",
           "#FECB52"
          ],
          "font": {
           "color": "#2a3f5f"
          },
          "geo": {
           "bgcolor": "white",
           "lakecolor": "white",
           "landcolor": "white",
           "showlakes": true,
           "showland": true,
           "subunitcolor": "#C8D4E3"
          },
          "hoverlabel": {
           "align": "left"
          },
          "hovermode": "closest",
          "mapbox": {
           "style": "light"
          },
          "paper_bgcolor": "white",
          "plot_bgcolor": "white",
          "polar": {
           "angularaxis": {
            "gridcolor": "#EBF0F8",
            "linecolor": "#EBF0F8",
            "ticks": ""
           },
           "bgcolor": "white",
           "radialaxis": {
            "gridcolor": "#EBF0F8",
            "linecolor": "#EBF0F8",
            "ticks": ""
           }
          },
          "scene": {
           "xaxis": {
            "backgroundcolor": "white",
            "gridcolor": "#DFE8F3",
            "gridwidth": 2,
            "linecolor": "#EBF0F8",
            "showbackground": true,
            "ticks": "",
            "zerolinecolor": "#EBF0F8"
           },
           "yaxis": {
            "backgroundcolor": "white",
            "gridcolor": "#DFE8F3",
            "gridwidth": 2,
            "linecolor": "#EBF0F8",
            "showbackground": true,
            "ticks": "",
            "zerolinecolor": "#EBF0F8"
           },
           "zaxis": {
            "backgroundcolor": "white",
            "gridcolor": "#DFE8F3",
            "gridwidth": 2,
            "linecolor": "#EBF0F8",
            "showbackground": true,
            "ticks": "",
            "zerolinecolor": "#EBF0F8"
           }
          },
          "shapedefaults": {
           "line": {
            "color": "#2a3f5f"
           }
          },
          "ternary": {
           "aaxis": {
            "gridcolor": "#DFE8F3",
            "linecolor": "#A2B1C6",
            "ticks": ""
           },
           "baxis": {
            "gridcolor": "#DFE8F3",
            "linecolor": "#A2B1C6",
            "ticks": ""
           },
           "bgcolor": "white",
           "caxis": {
            "gridcolor": "#DFE8F3",
            "linecolor": "#A2B1C6",
            "ticks": ""
           }
          },
          "title": {
           "x": 0.05
          },
          "xaxis": {
           "automargin": true,
           "gridcolor": "#EBF0F8",
           "linecolor": "#EBF0F8",
           "ticks": "",
           "title": {
            "standoff": 15
           },
           "zerolinecolor": "#EBF0F8",
           "zerolinewidth": 2
          },
          "yaxis": {
           "automargin": true,
           "gridcolor": "#EBF0F8",
           "linecolor": "#EBF0F8",
           "ticks": "",
           "title": {
            "standoff": 15
           },
           "zerolinecolor": "#EBF0F8",
           "zerolinewidth": 2
          }
         }
        },
        "title": {
         "text": "Relazione fra numero di set vinti e ranking (Correlazione: -0.49)"
        },
        "xaxis": {
         "anchor": "y",
         "domain": [
          0,
          1
         ],
         "title": {
          "text": "Ranking"
         }
        },
        "yaxis": {
         "anchor": "x",
         "domain": [
          0,
          1
         ],
         "title": {
          "text": "Set vinti"
         }
        }
       }
      }
     },
     "metadata": {},
     "output_type": "display_data"
    },
    {
     "name": "stdout",
     "output_type": "stream",
     "text": [
      "Correlazione fra set vinti e ranking: -0.49\n"
     ]
    }
   ],
   "source": [
    " \n",
    "df_filtered = df.dropna(subset=['winner_rank', 'num_sets'])\n",
    " \n",
    "# Raggruppa per vincitore e calcola il totale dei set vinti\n",
    "sets_won_by_player = df_filtered.groupby('winner_name')['num_sets'].sum().reset_index()\n",
    "sets_won_by_player.columns = ['player_name', 'total_sets_won']\n",
    " \n",
    "# Aggiungi il ranking dei vincitori\n",
    "ranking_by_player = df_filtered[['winner_name', 'winner_rank']].drop_duplicates().rename(\n",
    "    columns={'winner_name': 'player_name', 'winner_rank': 'rank'}\n",
    ")\n",
    " \n",
    "# Unisci i dati\n",
    "sets_vs_rank = pd.merge(sets_won_by_player, ranking_by_player, on='player_name')\n",
    " \n",
    "# Calcola il coefficiente di correlazione\n",
    "correlation = sets_vs_rank['total_sets_won'].corr(sets_vs_rank['rank'])\n",
    " \n",
    "# Crea il grafico a dispersione\n",
    "fig = px.scatter(\n",
    "    sets_vs_rank,\n",
    "    x='rank',\n",
    "    y='total_sets_won',\n",
    "    title=f'Relazione fra numero di set vinti e ranking (Correlazione: {correlation:.2f})',\n",
    "    labels={'rank': 'Ranking', 'total_sets_won': 'Set vinti'},\n",
    "    hover_data=['player_name']\n",
    ")\n",
    " \n",
    "fig.update_traces(marker=dict(size=8, color='#d2f644', line=dict(width=1, color='black')))\n",
    "fig.update_layout(template='plotly_white')\n",
    " \n",
    "fig.show()\n",
    "\n",
    "# Fammi il print della correlazione\n",
    "print(f\"Correlazione fra set vinti e ranking: {correlation:.2f}\")"
   ]
  },
  {
   "cell_type": "markdown",
   "metadata": {},
   "source": [
    "# 12.Qual è il rapporto fra set vinti e persi di Sinner per ciascun trimestre\n"
   ]
  },
  {
   "cell_type": "code",
   "execution_count": 15,
   "metadata": {},
   "outputs": [
    {
     "data": {
      "application/vnd.plotly.v1+json": {
       "config": {
        "plotlyServerURL": "https://plot.ly"
       },
       "data": [
        {
         "hovertemplate": "Trimestre=%{x}<br>Rapporto Set Vinti/Persi=%{marker.color}<extra></extra>",
         "legendgroup": "",
         "marker": {
          "color": {
           "bdata": "JUmSJEmSCEAAAAAAAAAAQBdddNFFFw1AJUmSJEmSDEA=",
           "dtype": "f8"
          },
          "coloraxis": "coloraxis",
          "pattern": {
           "shape": ""
          }
         },
         "name": "",
         "orientation": "v",
         "showlegend": false,
         "textposition": "auto",
         "type": "bar",
         "x": [
          "2023-03-31T00:00:00.000000000",
          "2023-06-30T00:00:00.000000000",
          "2023-09-30T00:00:00.000000000",
          "2023-12-31T00:00:00.000000000"
         ],
         "xaxis": "x",
         "y": {
          "bdata": "JUmSJEmSCEAAAAAAAAAAQBdddNFFFw1AJUmSJEmSDEA=",
          "dtype": "f8"
         },
         "yaxis": "y"
        }
       ],
       "layout": {
        "barmode": "relative",
        "coloraxis": {
         "colorbar": {
          "title": {
           "text": "Rapporto Set Vinti/Persi"
          }
         },
         "colorscale": [
          [
           0,
           "rgb(36, 86, 104)"
          ],
          [
           0.16666666666666666,
           "rgb(15, 114, 121)"
          ],
          [
           0.3333333333333333,
           "rgb(13, 143, 129)"
          ],
          [
           0.5,
           "rgb(57, 171, 126)"
          ],
          [
           0.6666666666666666,
           "rgb(110, 197, 116)"
          ],
          [
           0.8333333333333334,
           "rgb(169, 220, 103)"
          ],
          [
           1,
           "rgb(237, 239, 93)"
          ]
         ]
        },
        "legend": {
         "tracegroupgap": 0
        },
        "template": {
         "data": {
          "bar": [
           {
            "error_x": {
             "color": "#2a3f5f"
            },
            "error_y": {
             "color": "#2a3f5f"
            },
            "marker": {
             "line": {
              "color": "white",
              "width": 0.5
             },
             "pattern": {
              "fillmode": "overlay",
              "size": 10,
              "solidity": 0.2
             }
            },
            "type": "bar"
           }
          ],
          "barpolar": [
           {
            "marker": {
             "line": {
              "color": "white",
              "width": 0.5
             },
             "pattern": {
              "fillmode": "overlay",
              "size": 10,
              "solidity": 0.2
             }
            },
            "type": "barpolar"
           }
          ],
          "carpet": [
           {
            "aaxis": {
             "endlinecolor": "#2a3f5f",
             "gridcolor": "#C8D4E3",
             "linecolor": "#C8D4E3",
             "minorgridcolor": "#C8D4E3",
             "startlinecolor": "#2a3f5f"
            },
            "baxis": {
             "endlinecolor": "#2a3f5f",
             "gridcolor": "#C8D4E3",
             "linecolor": "#C8D4E3",
             "minorgridcolor": "#C8D4E3",
             "startlinecolor": "#2a3f5f"
            },
            "type": "carpet"
           }
          ],
          "choropleth": [
           {
            "colorbar": {
             "outlinewidth": 0,
             "ticks": ""
            },
            "type": "choropleth"
           }
          ],
          "contour": [
           {
            "colorbar": {
             "outlinewidth": 0,
             "ticks": ""
            },
            "colorscale": [
             [
              0,
              "#0d0887"
             ],
             [
              0.1111111111111111,
              "#46039f"
             ],
             [
              0.2222222222222222,
              "#7201a8"
             ],
             [
              0.3333333333333333,
              "#9c179e"
             ],
             [
              0.4444444444444444,
              "#bd3786"
             ],
             [
              0.5555555555555556,
              "#d8576b"
             ],
             [
              0.6666666666666666,
              "#ed7953"
             ],
             [
              0.7777777777777778,
              "#fb9f3a"
             ],
             [
              0.8888888888888888,
              "#fdca26"
             ],
             [
              1,
              "#f0f921"
             ]
            ],
            "type": "contour"
           }
          ],
          "contourcarpet": [
           {
            "colorbar": {
             "outlinewidth": 0,
             "ticks": ""
            },
            "type": "contourcarpet"
           }
          ],
          "heatmap": [
           {
            "colorbar": {
             "outlinewidth": 0,
             "ticks": ""
            },
            "colorscale": [
             [
              0,
              "#0d0887"
             ],
             [
              0.1111111111111111,
              "#46039f"
             ],
             [
              0.2222222222222222,
              "#7201a8"
             ],
             [
              0.3333333333333333,
              "#9c179e"
             ],
             [
              0.4444444444444444,
              "#bd3786"
             ],
             [
              0.5555555555555556,
              "#d8576b"
             ],
             [
              0.6666666666666666,
              "#ed7953"
             ],
             [
              0.7777777777777778,
              "#fb9f3a"
             ],
             [
              0.8888888888888888,
              "#fdca26"
             ],
             [
              1,
              "#f0f921"
             ]
            ],
            "type": "heatmap"
           }
          ],
          "histogram": [
           {
            "marker": {
             "pattern": {
              "fillmode": "overlay",
              "size": 10,
              "solidity": 0.2
             }
            },
            "type": "histogram"
           }
          ],
          "histogram2d": [
           {
            "colorbar": {
             "outlinewidth": 0,
             "ticks": ""
            },
            "colorscale": [
             [
              0,
              "#0d0887"
             ],
             [
              0.1111111111111111,
              "#46039f"
             ],
             [
              0.2222222222222222,
              "#7201a8"
             ],
             [
              0.3333333333333333,
              "#9c179e"
             ],
             [
              0.4444444444444444,
              "#bd3786"
             ],
             [
              0.5555555555555556,
              "#d8576b"
             ],
             [
              0.6666666666666666,
              "#ed7953"
             ],
             [
              0.7777777777777778,
              "#fb9f3a"
             ],
             [
              0.8888888888888888,
              "#fdca26"
             ],
             [
              1,
              "#f0f921"
             ]
            ],
            "type": "histogram2d"
           }
          ],
          "histogram2dcontour": [
           {
            "colorbar": {
             "outlinewidth": 0,
             "ticks": ""
            },
            "colorscale": [
             [
              0,
              "#0d0887"
             ],
             [
              0.1111111111111111,
              "#46039f"
             ],
             [
              0.2222222222222222,
              "#7201a8"
             ],
             [
              0.3333333333333333,
              "#9c179e"
             ],
             [
              0.4444444444444444,
              "#bd3786"
             ],
             [
              0.5555555555555556,
              "#d8576b"
             ],
             [
              0.6666666666666666,
              "#ed7953"
             ],
             [
              0.7777777777777778,
              "#fb9f3a"
             ],
             [
              0.8888888888888888,
              "#fdca26"
             ],
             [
              1,
              "#f0f921"
             ]
            ],
            "type": "histogram2dcontour"
           }
          ],
          "mesh3d": [
           {
            "colorbar": {
             "outlinewidth": 0,
             "ticks": ""
            },
            "type": "mesh3d"
           }
          ],
          "parcoords": [
           {
            "line": {
             "colorbar": {
              "outlinewidth": 0,
              "ticks": ""
             }
            },
            "type": "parcoords"
           }
          ],
          "pie": [
           {
            "automargin": true,
            "type": "pie"
           }
          ],
          "scatter": [
           {
            "fillpattern": {
             "fillmode": "overlay",
             "size": 10,
             "solidity": 0.2
            },
            "type": "scatter"
           }
          ],
          "scatter3d": [
           {
            "line": {
             "colorbar": {
              "outlinewidth": 0,
              "ticks": ""
             }
            },
            "marker": {
             "colorbar": {
              "outlinewidth": 0,
              "ticks": ""
             }
            },
            "type": "scatter3d"
           }
          ],
          "scattercarpet": [
           {
            "marker": {
             "colorbar": {
              "outlinewidth": 0,
              "ticks": ""
             }
            },
            "type": "scattercarpet"
           }
          ],
          "scattergeo": [
           {
            "marker": {
             "colorbar": {
              "outlinewidth": 0,
              "ticks": ""
             }
            },
            "type": "scattergeo"
           }
          ],
          "scattergl": [
           {
            "marker": {
             "colorbar": {
              "outlinewidth": 0,
              "ticks": ""
             }
            },
            "type": "scattergl"
           }
          ],
          "scattermap": [
           {
            "marker": {
             "colorbar": {
              "outlinewidth": 0,
              "ticks": ""
             }
            },
            "type": "scattermap"
           }
          ],
          "scattermapbox": [
           {
            "marker": {
             "colorbar": {
              "outlinewidth": 0,
              "ticks": ""
             }
            },
            "type": "scattermapbox"
           }
          ],
          "scatterpolar": [
           {
            "marker": {
             "colorbar": {
              "outlinewidth": 0,
              "ticks": ""
             }
            },
            "type": "scatterpolar"
           }
          ],
          "scatterpolargl": [
           {
            "marker": {
             "colorbar": {
              "outlinewidth": 0,
              "ticks": ""
             }
            },
            "type": "scatterpolargl"
           }
          ],
          "scatterternary": [
           {
            "marker": {
             "colorbar": {
              "outlinewidth": 0,
              "ticks": ""
             }
            },
            "type": "scatterternary"
           }
          ],
          "surface": [
           {
            "colorbar": {
             "outlinewidth": 0,
             "ticks": ""
            },
            "colorscale": [
             [
              0,
              "#0d0887"
             ],
             [
              0.1111111111111111,
              "#46039f"
             ],
             [
              0.2222222222222222,
              "#7201a8"
             ],
             [
              0.3333333333333333,
              "#9c179e"
             ],
             [
              0.4444444444444444,
              "#bd3786"
             ],
             [
              0.5555555555555556,
              "#d8576b"
             ],
             [
              0.6666666666666666,
              "#ed7953"
             ],
             [
              0.7777777777777778,
              "#fb9f3a"
             ],
             [
              0.8888888888888888,
              "#fdca26"
             ],
             [
              1,
              "#f0f921"
             ]
            ],
            "type": "surface"
           }
          ],
          "table": [
           {
            "cells": {
             "fill": {
              "color": "#EBF0F8"
             },
             "line": {
              "color": "white"
             }
            },
            "header": {
             "fill": {
              "color": "#C8D4E3"
             },
             "line": {
              "color": "white"
             }
            },
            "type": "table"
           }
          ]
         },
         "layout": {
          "annotationdefaults": {
           "arrowcolor": "#2a3f5f",
           "arrowhead": 0,
           "arrowwidth": 1
          },
          "autotypenumbers": "strict",
          "coloraxis": {
           "colorbar": {
            "outlinewidth": 0,
            "ticks": ""
           }
          },
          "colorscale": {
           "diverging": [
            [
             0,
             "#8e0152"
            ],
            [
             0.1,
             "#c51b7d"
            ],
            [
             0.2,
             "#de77ae"
            ],
            [
             0.3,
             "#f1b6da"
            ],
            [
             0.4,
             "#fde0ef"
            ],
            [
             0.5,
             "#f7f7f7"
            ],
            [
             0.6,
             "#e6f5d0"
            ],
            [
             0.7,
             "#b8e186"
            ],
            [
             0.8,
             "#7fbc41"
            ],
            [
             0.9,
             "#4d9221"
            ],
            [
             1,
             "#276419"
            ]
           ],
           "sequential": [
            [
             0,
             "#0d0887"
            ],
            [
             0.1111111111111111,
             "#46039f"
            ],
            [
             0.2222222222222222,
             "#7201a8"
            ],
            [
             0.3333333333333333,
             "#9c179e"
            ],
            [
             0.4444444444444444,
             "#bd3786"
            ],
            [
             0.5555555555555556,
             "#d8576b"
            ],
            [
             0.6666666666666666,
             "#ed7953"
            ],
            [
             0.7777777777777778,
             "#fb9f3a"
            ],
            [
             0.8888888888888888,
             "#fdca26"
            ],
            [
             1,
             "#f0f921"
            ]
           ],
           "sequentialminus": [
            [
             0,
             "#0d0887"
            ],
            [
             0.1111111111111111,
             "#46039f"
            ],
            [
             0.2222222222222222,
             "#7201a8"
            ],
            [
             0.3333333333333333,
             "#9c179e"
            ],
            [
             0.4444444444444444,
             "#bd3786"
            ],
            [
             0.5555555555555556,
             "#d8576b"
            ],
            [
             0.6666666666666666,
             "#ed7953"
            ],
            [
             0.7777777777777778,
             "#fb9f3a"
            ],
            [
             0.8888888888888888,
             "#fdca26"
            ],
            [
             1,
             "#f0f921"
            ]
           ]
          },
          "colorway": [
           "#636efa",
           "#EF553B",
           "#00cc96",
           "#ab63fa",
           "#FFA15A",
           "#19d3f3",
           "#FF6692",
           "#B6E880",
           "#FF97FF",
           "#FECB52"
          ],
          "font": {
           "color": "#2a3f5f"
          },
          "geo": {
           "bgcolor": "white",
           "lakecolor": "white",
           "landcolor": "white",
           "showlakes": true,
           "showland": true,
           "subunitcolor": "#C8D4E3"
          },
          "hoverlabel": {
           "align": "left"
          },
          "hovermode": "closest",
          "mapbox": {
           "style": "light"
          },
          "paper_bgcolor": "white",
          "plot_bgcolor": "white",
          "polar": {
           "angularaxis": {
            "gridcolor": "#EBF0F8",
            "linecolor": "#EBF0F8",
            "ticks": ""
           },
           "bgcolor": "white",
           "radialaxis": {
            "gridcolor": "#EBF0F8",
            "linecolor": "#EBF0F8",
            "ticks": ""
           }
          },
          "scene": {
           "xaxis": {
            "backgroundcolor": "white",
            "gridcolor": "#DFE8F3",
            "gridwidth": 2,
            "linecolor": "#EBF0F8",
            "showbackground": true,
            "ticks": "",
            "zerolinecolor": "#EBF0F8"
           },
           "yaxis": {
            "backgroundcolor": "white",
            "gridcolor": "#DFE8F3",
            "gridwidth": 2,
            "linecolor": "#EBF0F8",
            "showbackground": true,
            "ticks": "",
            "zerolinecolor": "#EBF0F8"
           },
           "zaxis": {
            "backgroundcolor": "white",
            "gridcolor": "#DFE8F3",
            "gridwidth": 2,
            "linecolor": "#EBF0F8",
            "showbackground": true,
            "ticks": "",
            "zerolinecolor": "#EBF0F8"
           }
          },
          "shapedefaults": {
           "line": {
            "color": "#2a3f5f"
           }
          },
          "ternary": {
           "aaxis": {
            "gridcolor": "#DFE8F3",
            "linecolor": "#A2B1C6",
            "ticks": ""
           },
           "baxis": {
            "gridcolor": "#DFE8F3",
            "linecolor": "#A2B1C6",
            "ticks": ""
           },
           "bgcolor": "white",
           "caxis": {
            "gridcolor": "#DFE8F3",
            "linecolor": "#A2B1C6",
            "ticks": ""
           }
          },
          "title": {
           "x": 0.05
          },
          "xaxis": {
           "automargin": true,
           "gridcolor": "#EBF0F8",
           "linecolor": "#EBF0F8",
           "ticks": "",
           "title": {
            "standoff": 15
           },
           "zerolinecolor": "#EBF0F8",
           "zerolinewidth": 2
          },
          "yaxis": {
           "automargin": true,
           "gridcolor": "#EBF0F8",
           "linecolor": "#EBF0F8",
           "ticks": "",
           "title": {
            "standoff": 15
           },
           "zerolinecolor": "#EBF0F8",
           "zerolinewidth": 2
          }
         }
        },
        "title": {
         "text": "Rapporto fra set vinti e persi da Sinner per trimestre"
        },
        "xaxis": {
         "anchor": "y",
         "domain": [
          0,
          1
         ],
         "title": {
          "text": "Trimestre"
         }
        },
        "yaxis": {
         "anchor": "x",
         "domain": [
          0,
          1
         ],
         "title": {
          "text": "Rapporto Set Vinti/Persi"
         }
        }
       }
      }
     },
     "metadata": {},
     "output_type": "display_data"
    },
    {
     "name": "stdout",
     "output_type": "stream",
     "text": [
      "              sets_won  sets_lost  Rapporto set vinti/persi\n",
      "tourney_date                                               \n",
      "2023-03-31          43         14                  3.071429\n",
      "2023-06-30          24         12                  2.000000\n",
      "2023-09-30          40         11                  3.636364\n",
      "2023-12-31          25          7                  3.571429\n"
     ]
    }
   ],
   "source": [
    "# Funzione per contare i set vinti da un giocatore\n",
    "def count_sets(score_str, is_winner):\n",
    "    sets_won = 0\n",
    "    try:\n",
    "        sets = str(score_str).split()\n",
    "        for s in sets:\n",
    "            if '-' in s:\n",
    "                parts = s.split('-')\n",
    "                if len(parts) == 2 and parts[0].isdigit() and parts[1].isdigit():\n",
    "                    p1, p2 = int(parts[0]), int(parts[1])\n",
    "                    if (p1 > p2 and is_winner) or (p2 > p1 and not is_winner):\n",
    "                        sets_won += 1\n",
    "    except:\n",
    "        pass\n",
    "    return sets_won\n",
    "\n",
    "# Applichiamo la funzione a tutte le partite\n",
    "df['tourney_date'] = pd.to_datetime(df['tourney_date'], format='%Y%m%d')\n",
    "df['sets_won'] = df.apply(\n",
    "    lambda row: count_sets(row['score'], is_winner=(row['winner_name'] == 'Jannik Sinner'))\n",
    "    if 'Jannik Sinner' in [row['winner_name'], row['loser_name']] else 0,\n",
    "    axis=1\n",
    ")\n",
    "df['sets_lost'] = df.apply(\n",
    "    lambda row: count_sets(row['score'], is_winner=(row['loser_name'] == 'Jannik Sinner'))\n",
    "    if 'Jannik Sinner' in [row['winner_name'], row['loser_name']] else 0,\n",
    "    axis=1\n",
    ")\n",
    "\n",
    "# Filtra le partite di Sinner\n",
    "sinner_matches = df[(df['winner_name'] == 'Jannik Sinner') | (df['loser_name'] == 'Jannik Sinner')]\n",
    "\n",
    "# Raggruppa per trimestre\n",
    "sinner_sets = sinner_matches.resample('QE', on='tourney_date')[['sets_won', 'sets_lost']].sum()\n",
    "\n",
    "# Calcola il rapporto\n",
    "sinner_sets['Rapporto set vinti/persi'] = sinner_sets['sets_won'] / sinner_sets['sets_lost']\n",
    "sinner_ratio = sinner_sets.reset_index()\n",
    "\n",
    "# Visualizza il grafico\n",
    "fig = px.bar(\n",
    "    sinner_ratio,\n",
    "    x='tourney_date',\n",
    "    y='Rapporto set vinti/persi',\n",
    "    title=\"Rapporto fra set vinti e persi da Sinner per trimestre\",\n",
    "    labels={'tourney_date': 'Trimestre', 'Rapporto set vinti/persi': 'Rapporto Set Vinti/Persi'},\n",
    "    color='Rapporto set vinti/persi',\n",
    "    color_continuous_scale='Aggrnyl'\n",
    ")\n",
    "\n",
    "fig.update_layout(template='plotly_white')\n",
    "fig.show()\n",
    "\n",
    "#Fammi il print del rapporto set vinti/persi\n",
    "print(sinner_sets)\n"
   ]
  },
  {
   "cell_type": "markdown",
   "metadata": {},
   "source": [
    "# 13. Esiste un rapporto fra altezza e probabilità di ace? Come cambia questo rapporto in funzione della superficie?"
   ]
  },
  {
   "cell_type": "code",
   "execution_count": 16,
   "metadata": {},
   "outputs": [
    {
     "data": {
      "application/vnd.plotly.v1+json": {
       "config": {
        "plotlyServerURL": "https://plot.ly"
       },
       "data": [
        {
         "marker": {
          "color": "yellowgreen",
          "line": {
           "color": "black",
           "width": 1
          },
          "opacity": 0.6,
          "size": 8
         },
         "mode": "markers",
         "name": "Dati reali (globale)",
         "type": "scatter",
         "x": {
          "bdata": "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",
          "dtype": "f8"
         },
         "xaxis": "x",
         "y": {
          "bdata": "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",
          "dtype": "f8"
         },
         "yaxis": "y"
        },
        {
         "line": {
          "color": "firebrick",
          "width": 3
         },
         "mode": "lines",
         "name": "Regressione (globale)",
         "type": "scatter",
         "x": {
          "bdata": "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",
          "dtype": "f8"
         },
         "xaxis": "x",
         "y": {
          "bdata": "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",
          "dtype": "f8"
         },
         "yaxis": "y"
        },
        {
         "marker": {
          "color": "black",
          "line": {
           "color": "black",
           "width": 1
          },
          "size": 8
         },
         "mode": "markers",
         "name": "Clay (corr: 0.75)",
         "type": "scatter",
         "x": {
          "bdata": "AAAAAABAZUAAAAAAAIBlQAAAAAAAoGVAAAAAAADgZUAAAAAAAEBmQAAAAAAAgGZAAAAAAADgZkAAAAAAACBnQAAAAAAAgGdAAAAAAADAZ0AAAAAAAOBnQAAAAAAAIGhAAAAAAACAaEAAAAAAAMBoQAAAAAAAIGlAAAAAAADAaUA=",
          "dtype": "f8"
         },
         "xaxis": "x2",
         "y": {
          "bdata": "TwnylCBP+T9VVVVVVVXVP83MzMzMzAhAVVVVVVVVAUDZ55CaYLwFQPvORn1nowZAOL3pTW96C0Axa6GAjs0LQH0Y9+uSyhFAzczMzMzM/D85juM4juMTQGUI1tHmfRRAq8FzBIq2HkCoEZZ7GmEZQFVVVVVVVR1AAAAAAACANkA=",
          "dtype": "f8"
         },
         "yaxis": "y2"
        },
        {
         "line": {
          "color": "black",
          "dash": "dash"
         },
         "mode": "lines",
         "name": "Regressione Clay",
         "type": "scatter",
         "x": {
          "bdata": "AAAAAABAZUAAAAAAAIBlQAAAAAAAoGVAAAAAAADgZUAAAAAAAEBmQAAAAAAAgGZAAAAAAADgZkAAAAAAACBnQAAAAAAAgGdAAAAAAADAZ0AAAAAAAOBnQAAAAAAAIGhAAAAAAACAaEAAAAAAAMBoQAAAAAAAIGlAAAAAAADAaUA=",
          "dtype": "f8"
         },
         "xaxis": "x2",
         "y": {
          "bdata": "gIJrHD2o478AioClsv+zP4C2exogKNs/YLcsvyHe8T8gswAqJD4BQBCYRwYxyAZAcO+xUEQXD0A4anyWqFASQOiVsTsyeBZAWAjVqTg9GUCYwebgu58aQBg0Ck/CZB1A5K8f+iXGIEAcaTExqSgiQPz+ywNuPCRADE54DbayJ0A=",
          "dtype": "f8"
         },
         "yaxis": "y2"
        },
        {
         "marker": {
          "color": "yellowgreen",
          "line": {
           "color": "black",
           "width": 1
          },
          "size": 8
         },
         "mode": "markers",
         "name": "Grass (corr: 0.89)",
         "type": "scatter",
         "x": {
          "bdata": "AAAAAABAZUAAAAAAAOBlQAAAAAAAQGZAAAAAAACAZkAAAAAAAOBmQAAAAAAAIGdAAAAAAACAZ0AAAAAAAMBnQAAAAAAA4GdAAAAAAAAgaEAAAAAAAIBoQAAAAAAAwGhAAAAAAAAgaUAAAAAAAGBpQAAAAAAAwGlA",
          "dtype": "f8"
         },
         "xaxis": "x2",
         "y": {
          "bdata": "AAAAAAAA+D8AAAAAAAATQO0ltJfQXhpATGgvob2EIEAvuuiiiy4WQHZJ5cO4XxtA37D2DWvfIUCrqqqqqqoaQNFeQnsJ7SFAiMkVxOQKJkBPIyz3NMIrQAAAAAAA4CdAntiJndiJLUBVVVVVVVUjQM3MzMzMzDBA",
          "dtype": "f8"
         },
         "yaxis": "y2"
        },
        {
         "line": {
          "color": "yellowgreen",
          "dash": "dash"
         },
         "mode": "lines",
         "name": "Regressione Grass",
         "type": "scatter",
         "x": {
          "bdata": "AAAAAABAZUAAAAAAAOBlQAAAAAAAQGZAAAAAAACAZkAAAAAAAOBmQAAAAAAAIGdAAAAAAACAZ0AAAAAAAMBnQAAAAAAA4GdAAAAAAAAgaEAAAAAAAIBoQAAAAAAAwGhAAAAAAAAgaUAAAAAAAGBpQAAAAAAAwGlA",
          "dtype": "f8"
         },
         "xaxis": "x2",
         "y": {
          "bdata": "gNr9ajp/BEAgpz8XiQ4RQBB95tFJJBVAAGEA+XTdF0DwNqezNfMbQOAawdpgrB5AaPizyhBhIUBk6kBepr0iQFxjByjxayNAXFWUu4bIJEBMwOcYZ9MmQEyydKz8LyhAPB3ICd06KkA8D1WdcpcrQDR6qPpSoi1A",
          "dtype": "f8"
         },
         "yaxis": "y2"
        },
        {
         "marker": {
          "color": "gainsboro",
          "line": {
           "color": "black",
           "width": 1
          },
          "size": 8
         },
         "mode": "markers",
         "name": "Hard (corr: 0.89)",
         "type": "scatter",
         "x": {
          "bdata": "AAAAAABAZUAAAAAAAIBlQAAAAAAAoGVAAAAAAADgZUAAAAAAAEBmQAAAAAAAgGZAAAAAAADgZkAAAAAAACBnQAAAAAAAgGdAAAAAAADAZ0AAAAAAAOBnQAAAAAAAIGhAAAAAAACAaEAAAAAAAMBoQAAAAAAAIGlAAAAAAABgaUAAAAAAAMBpQA==",
          "dtype": "f8"
         },
         "xaxis": "x2",
         "y": {
          "bdata": "AAAAAAAAAEAAAAAAAADwP3Icx3EcxwlAO7ETO7ETEED70FgfGusRQGwj1qXH/BVAbty4cePGFUDAbo+1DB0YQBIkvUMxmBtAiYiIiIiIFEDteE4lBSQcQO4juI/gviFAZ0G152T6JUD7QUcFvrghQLETO7ETOyZAAAAAAAAALkAAAAAAAPA1QA==",
          "dtype": "f8"
         },
         "yaxis": "y2"
        },
        {
         "line": {
          "color": "gainsboro",
          "dash": "dash"
         },
         "mode": "lines",
         "name": "Regressione Hard",
         "type": "scatter",
         "x": {
          "bdata": "AAAAAABAZUAAAAAAAIBlQAAAAAAAoGVAAAAAAADgZUAAAAAAAEBmQAAAAAAAgGZAAAAAAADgZkAAAAAAACBnQAAAAAAAgGdAAAAAAADAZ0AAAAAAAOBnQAAAAAAAIGhAAAAAAACAaEAAAAAAAMBoQAAAAAAAIGlAAAAAAABgaUAAAAAAAMBpQA==",
          "dtype": "f8"
         },
         "xaxis": "x2",
         "y": {
          "bdata": "gPA2UAt24z9AMZKl45L2P4CNTaTS/vw/QCPiUFjrBEDgLfvOPo0OQCBF2+aWfBJAcMrnJYpNF0CweEWlgYMaQAD+UeR0VB9AGNbXMTZFIUCoQa8RtBIiQMAYXtGvrSNAaFvkcCkWJkCIMpMwJbEnQDB1GdCeGSpASEzIj5q0K0Dwjk4vFB0uQA==",
          "dtype": "f8"
         },
         "yaxis": "y2"
        }
       ],
       "layout": {
        "annotations": [
         {
          "font": {
           "size": 16
          },
          "showarrow": false,
          "text": "Altezza vs Ace Medi (correlazione: 0.53)",
          "x": 0.22,
          "xanchor": "center",
          "xref": "paper",
          "y": 1,
          "yanchor": "bottom",
          "yref": "paper"
         },
         {
          "font": {
           "size": 16
          },
          "showarrow": false,
          "text": "Altezza vs Ace Medi per Superficie",
          "x": 0.78,
          "xanchor": "center",
          "xref": "paper",
          "y": 1,
          "yanchor": "bottom",
          "yref": "paper"
         }
        ],
        "template": {
         "data": {
          "bar": [
           {
            "error_x": {
             "color": "#2a3f5f"
            },
            "error_y": {
             "color": "#2a3f5f"
            },
            "marker": {
             "line": {
              "color": "white",
              "width": 0.5
             },
             "pattern": {
              "fillmode": "overlay",
              "size": 10,
              "solidity": 0.2
             }
            },
            "type": "bar"
           }
          ],
          "barpolar": [
           {
            "marker": {
             "line": {
              "color": "white",
              "width": 0.5
             },
             "pattern": {
              "fillmode": "overlay",
              "size": 10,
              "solidity": 0.2
             }
            },
            "type": "barpolar"
           }
          ],
          "carpet": [
           {
            "aaxis": {
             "endlinecolor": "#2a3f5f",
             "gridcolor": "#C8D4E3",
             "linecolor": "#C8D4E3",
             "minorgridcolor": "#C8D4E3",
             "startlinecolor": "#2a3f5f"
            },
            "baxis": {
             "endlinecolor": "#2a3f5f",
             "gridcolor": "#C8D4E3",
             "linecolor": "#C8D4E3",
             "minorgridcolor": "#C8D4E3",
             "startlinecolor": "#2a3f5f"
            },
            "type": "carpet"
           }
          ],
          "choropleth": [
           {
            "colorbar": {
             "outlinewidth": 0,
             "ticks": ""
            },
            "type": "choropleth"
           }
          ],
          "contour": [
           {
            "colorbar": {
             "outlinewidth": 0,
             "ticks": ""
            },
            "colorscale": [
             [
              0,
              "#0d0887"
             ],
             [
              0.1111111111111111,
              "#46039f"
             ],
             [
              0.2222222222222222,
              "#7201a8"
             ],
             [
              0.3333333333333333,
              "#9c179e"
             ],
             [
              0.4444444444444444,
              "#bd3786"
             ],
             [
              0.5555555555555556,
              "#d8576b"
             ],
             [
              0.6666666666666666,
              "#ed7953"
             ],
             [
              0.7777777777777778,
              "#fb9f3a"
             ],
             [
              0.8888888888888888,
              "#fdca26"
             ],
             [
              1,
              "#f0f921"
             ]
            ],
            "type": "contour"
           }
          ],
          "contourcarpet": [
           {
            "colorbar": {
             "outlinewidth": 0,
             "ticks": ""
            },
            "type": "contourcarpet"
           }
          ],
          "heatmap": [
           {
            "colorbar": {
             "outlinewidth": 0,
             "ticks": ""
            },
            "colorscale": [
             [
              0,
              "#0d0887"
             ],
             [
              0.1111111111111111,
              "#46039f"
             ],
             [
              0.2222222222222222,
              "#7201a8"
             ],
             [
              0.3333333333333333,
              "#9c179e"
             ],
             [
              0.4444444444444444,
              "#bd3786"
             ],
             [
              0.5555555555555556,
              "#d8576b"
             ],
             [
              0.6666666666666666,
              "#ed7953"
             ],
             [
              0.7777777777777778,
              "#fb9f3a"
             ],
             [
              0.8888888888888888,
              "#fdca26"
             ],
             [
              1,
              "#f0f921"
             ]
            ],
            "type": "heatmap"
           }
          ],
          "histogram": [
           {
            "marker": {
             "pattern": {
              "fillmode": "overlay",
              "size": 10,
              "solidity": 0.2
             }
            },
            "type": "histogram"
           }
          ],
          "histogram2d": [
           {
            "colorbar": {
             "outlinewidth": 0,
             "ticks": ""
            },
            "colorscale": [
             [
              0,
              "#0d0887"
             ],
             [
              0.1111111111111111,
              "#46039f"
             ],
             [
              0.2222222222222222,
              "#7201a8"
             ],
             [
              0.3333333333333333,
              "#9c179e"
             ],
             [
              0.4444444444444444,
              "#bd3786"
             ],
             [
              0.5555555555555556,
              "#d8576b"
             ],
             [
              0.6666666666666666,
              "#ed7953"
             ],
             [
              0.7777777777777778,
              "#fb9f3a"
             ],
             [
              0.8888888888888888,
              "#fdca26"
             ],
             [
              1,
              "#f0f921"
             ]
            ],
            "type": "histogram2d"
           }
          ],
          "histogram2dcontour": [
           {
            "colorbar": {
             "outlinewidth": 0,
             "ticks": ""
            },
            "colorscale": [
             [
              0,
              "#0d0887"
             ],
             [
              0.1111111111111111,
              "#46039f"
             ],
             [
              0.2222222222222222,
              "#7201a8"
             ],
             [
              0.3333333333333333,
              "#9c179e"
             ],
             [
              0.4444444444444444,
              "#bd3786"
             ],
             [
              0.5555555555555556,
              "#d8576b"
             ],
             [
              0.6666666666666666,
              "#ed7953"
             ],
             [
              0.7777777777777778,
              "#fb9f3a"
             ],
             [
              0.8888888888888888,
              "#fdca26"
             ],
             [
              1,
              "#f0f921"
             ]
            ],
            "type": "histogram2dcontour"
           }
          ],
          "mesh3d": [
           {
            "colorbar": {
             "outlinewidth": 0,
             "ticks": ""
            },
            "type": "mesh3d"
           }
          ],
          "parcoords": [
           {
            "line": {
             "colorbar": {
              "outlinewidth": 0,
              "ticks": ""
             }
            },
            "type": "parcoords"
           }
          ],
          "pie": [
           {
            "automargin": true,
            "type": "pie"
           }
          ],
          "scatter": [
           {
            "fillpattern": {
             "fillmode": "overlay",
             "size": 10,
             "solidity": 0.2
            },
            "type": "scatter"
           }
          ],
          "scatter3d": [
           {
            "line": {
             "colorbar": {
              "outlinewidth": 0,
              "ticks": ""
             }
            },
            "marker": {
             "colorbar": {
              "outlinewidth": 0,
              "ticks": ""
             }
            },
            "type": "scatter3d"
           }
          ],
          "scattercarpet": [
           {
            "marker": {
             "colorbar": {
              "outlinewidth": 0,
              "ticks": ""
             }
            },
            "type": "scattercarpet"
           }
          ],
          "scattergeo": [
           {
            "marker": {
             "colorbar": {
              "outlinewidth": 0,
              "ticks": ""
             }
            },
            "type": "scattergeo"
           }
          ],
          "scattergl": [
           {
            "marker": {
             "colorbar": {
              "outlinewidth": 0,
              "ticks": ""
             }
            },
            "type": "scattergl"
           }
          ],
          "scattermap": [
           {
            "marker": {
             "colorbar": {
              "outlinewidth": 0,
              "ticks": ""
             }
            },
            "type": "scattermap"
           }
          ],
          "scattermapbox": [
           {
            "marker": {
             "colorbar": {
              "outlinewidth": 0,
              "ticks": ""
             }
            },
            "type": "scattermapbox"
           }
          ],
          "scatterpolar": [
           {
            "marker": {
             "colorbar": {
              "outlinewidth": 0,
              "ticks": ""
             }
            },
            "type": "scatterpolar"
           }
          ],
          "scatterpolargl": [
           {
            "marker": {
             "colorbar": {
              "outlinewidth": 0,
              "ticks": ""
             }
            },
            "type": "scatterpolargl"
           }
          ],
          "scatterternary": [
           {
            "marker": {
             "colorbar": {
              "outlinewidth": 0,
              "ticks": ""
             }
            },
            "type": "scatterternary"
           }
          ],
          "surface": [
           {
            "colorbar": {
             "outlinewidth": 0,
             "ticks": ""
            },
            "colorscale": [
             [
              0,
              "#0d0887"
             ],
             [
              0.1111111111111111,
              "#46039f"
             ],
             [
              0.2222222222222222,
              "#7201a8"
             ],
             [
              0.3333333333333333,
              "#9c179e"
             ],
             [
              0.4444444444444444,
              "#bd3786"
             ],
             [
              0.5555555555555556,
              "#d8576b"
             ],
             [
              0.6666666666666666,
              "#ed7953"
             ],
             [
              0.7777777777777778,
              "#fb9f3a"
             ],
             [
              0.8888888888888888,
              "#fdca26"
             ],
             [
              1,
              "#f0f921"
             ]
            ],
            "type": "surface"
           }
          ],
          "table": [
           {
            "cells": {
             "fill": {
              "color": "#EBF0F8"
             },
             "line": {
              "color": "white"
             }
            },
            "header": {
             "fill": {
              "color": "#C8D4E3"
             },
             "line": {
              "color": "white"
             }
            },
            "type": "table"
           }
          ]
         },
         "layout": {
          "annotationdefaults": {
           "arrowcolor": "#2a3f5f",
           "arrowhead": 0,
           "arrowwidth": 1
          },
          "autotypenumbers": "strict",
          "coloraxis": {
           "colorbar": {
            "outlinewidth": 0,
            "ticks": ""
           }
          },
          "colorscale": {
           "diverging": [
            [
             0,
             "#8e0152"
            ],
            [
             0.1,
             "#c51b7d"
            ],
            [
             0.2,
             "#de77ae"
            ],
            [
             0.3,
             "#f1b6da"
            ],
            [
             0.4,
             "#fde0ef"
            ],
            [
             0.5,
             "#f7f7f7"
            ],
            [
             0.6,
             "#e6f5d0"
            ],
            [
             0.7,
             "#b8e186"
            ],
            [
             0.8,
             "#7fbc41"
            ],
            [
             0.9,
             "#4d9221"
            ],
            [
             1,
             "#276419"
            ]
           ],
           "sequential": [
            [
             0,
             "#0d0887"
            ],
            [
             0.1111111111111111,
             "#46039f"
            ],
            [
             0.2222222222222222,
             "#7201a8"
            ],
            [
             0.3333333333333333,
             "#9c179e"
            ],
            [
             0.4444444444444444,
             "#bd3786"
            ],
            [
             0.5555555555555556,
             "#d8576b"
            ],
            [
             0.6666666666666666,
             "#ed7953"
            ],
            [
             0.7777777777777778,
             "#fb9f3a"
            ],
            [
             0.8888888888888888,
             "#fdca26"
            ],
            [
             1,
             "#f0f921"
            ]
           ],
           "sequentialminus": [
            [
             0,
             "#0d0887"
            ],
            [
             0.1111111111111111,
             "#46039f"
            ],
            [
             0.2222222222222222,
             "#7201a8"
            ],
            [
             0.3333333333333333,
             "#9c179e"
            ],
            [
             0.4444444444444444,
             "#bd3786"
            ],
            [
             0.5555555555555556,
             "#d8576b"
            ],
            [
             0.6666666666666666,
             "#ed7953"
            ],
            [
             0.7777777777777778,
             "#fb9f3a"
            ],
            [
             0.8888888888888888,
             "#fdca26"
            ],
            [
             1,
             "#f0f921"
            ]
           ]
          },
          "colorway": [
           "#636efa",
           "#EF553B",
           "#00cc96",
           "#ab63fa",
           "#FFA15A",
           "#19d3f3",
           "#FF6692",
           "#B6E880",
           "#FF97FF",
           "#FECB52"
          ],
          "font": {
           "color": "#2a3f5f"
          },
          "geo": {
           "bgcolor": "white",
           "lakecolor": "white",
           "landcolor": "white",
           "showlakes": true,
           "showland": true,
           "subunitcolor": "#C8D4E3"
          },
          "hoverlabel": {
           "align": "left"
          },
          "hovermode": "closest",
          "mapbox": {
           "style": "light"
          },
          "paper_bgcolor": "white",
          "plot_bgcolor": "white",
          "polar": {
           "angularaxis": {
            "gridcolor": "#EBF0F8",
            "linecolor": "#EBF0F8",
            "ticks": ""
           },
           "bgcolor": "white",
           "radialaxis": {
            "gridcolor": "#EBF0F8",
            "linecolor": "#EBF0F8",
            "ticks": ""
           }
          },
          "scene": {
           "xaxis": {
            "backgroundcolor": "white",
            "gridcolor": "#DFE8F3",
            "gridwidth": 2,
            "linecolor": "#EBF0F8",
            "showbackground": true,
            "ticks": "",
            "zerolinecolor": "#EBF0F8"
           },
           "yaxis": {
            "backgroundcolor": "white",
            "gridcolor": "#DFE8F3",
            "gridwidth": 2,
            "linecolor": "#EBF0F8",
            "showbackground": true,
            "ticks": "",
            "zerolinecolor": "#EBF0F8"
           },
           "zaxis": {
            "backgroundcolor": "white",
            "gridcolor": "#DFE8F3",
            "gridwidth": 2,
            "linecolor": "#EBF0F8",
            "showbackground": true,
            "ticks": "",
            "zerolinecolor": "#EBF0F8"
           }
          },
          "shapedefaults": {
           "line": {
            "color": "#2a3f5f"
           }
          },
          "ternary": {
           "aaxis": {
            "gridcolor": "#DFE8F3",
            "linecolor": "#A2B1C6",
            "ticks": ""
           },
           "baxis": {
            "gridcolor": "#DFE8F3",
            "linecolor": "#A2B1C6",
            "ticks": ""
           },
           "bgcolor": "white",
           "caxis": {
            "gridcolor": "#DFE8F3",
            "linecolor": "#A2B1C6",
            "ticks": ""
           }
          },
          "title": {
           "x": 0.05
          },
          "xaxis": {
           "automargin": true,
           "gridcolor": "#EBF0F8",
           "linecolor": "#EBF0F8",
           "ticks": "",
           "title": {
            "standoff": 15
           },
           "zerolinecolor": "#EBF0F8",
           "zerolinewidth": 2
          },
          "yaxis": {
           "automargin": true,
           "gridcolor": "#EBF0F8",
           "linecolor": "#EBF0F8",
           "ticks": "",
           "title": {
            "standoff": 15
           },
           "zerolinecolor": "#EBF0F8",
           "zerolinewidth": 2
          }
         }
        },
        "title": {
         "text": "Relazione tra Altezza e Ace Medi - Globale e per Superficie"
        },
        "xaxis": {
         "anchor": "y",
         "domain": [
          0,
          0.44
         ],
         "title": {
          "text": "Altezza (cm)"
         }
        },
        "xaxis2": {
         "anchor": "y2",
         "domain": [
          0.56,
          1
         ],
         "title": {
          "text": "Altezza (cm)"
         }
        },
        "yaxis": {
         "anchor": "x",
         "domain": [
          0,
          1
         ],
         "title": {
          "text": "Ace medi per partita"
         }
        },
        "yaxis2": {
         "anchor": "x2",
         "domain": [
          0,
          1
         ],
         "title": {
          "text": "Ace medi per partita"
         }
        }
       }
      }
     },
     "metadata": {},
     "output_type": "display_data"
    }
   ],
   "source": [
    "# Calcoliamo gli ace totali per partita sommando quelli del vincitore e del perdente\n",
    "winners = df[['winner_name', 'w_ace', 'winner_ht', 'surface']].dropna()\n",
    "losers = df[['loser_name', 'l_ace', 'loser_ht', 'surface']].dropna()\n",
    " \n",
    "winners.columns = ['player_name', 'aces', 'height', 'surface']\n",
    "losers.columns = ['player_name', 'aces', 'height', 'surface']\n",
    " \n",
    "ace_data = pd.concat([winners, losers], ignore_index=True)\n",
    " \n",
    "# Altezza vs ace medi globali\n",
    "player_ace_stats = ace_data.groupby('player_name').agg({\n",
    "    'aces': 'mean',\n",
    "    'height': 'first'\n",
    "}).reset_index()\n",
    " \n",
    "correlation = player_ace_stats['height'].corr(player_ace_stats['aces'])\n",
    " \n",
    "X = sm.add_constant(player_ace_stats['height'])\n",
    "model = sm.OLS(player_ace_stats['aces'], X).fit()\n",
    "player_ace_stats['predicted_aces'] = model.predict(X)\n",
    " \n",
    "# Altezza vs ace per superficie\n",
    "avg_aces_by_height_surface = ace_data.groupby(['height', 'surface'])['aces'].mean().reset_index()\n",
    " \n",
    "# Calcolo regressione e correlazione per ogni superficie\n",
    "regression_results = {}\n",
    "for surface in avg_aces_by_height_surface['surface'].unique():\n",
    "    data = avg_aces_by_height_surface[avg_aces_by_height_surface['surface'] == surface].copy()\n",
    "    X = sm.add_constant(data['height'])\n",
    "    model = sm.OLS(data['aces'], X).fit()\n",
    "    data['predicted_aces'] = model.predict(X)\n",
    "    regression_results[surface] = {\n",
    "        'data': data,\n",
    "        'correlation': data['height'].corr(data['aces'])\n",
    "    }\n",
    " \n",
    "\n",
    "# Crea il grafico combinato\n",
    "fig = sp(\n",
    "    rows=1, cols=2,\n",
    "    subplot_titles=[\n",
    "        f\"Altezza vs Ace Medi (correlazione: {correlation:.2f})\",\n",
    "        \"Altezza vs Ace Medi per Superficie\"\n",
    "    ],\n",
    "    horizontal_spacing=0.12\n",
    ")\n",
    " \n",
    "# Grafico globale\n",
    "fig.add_trace(go.Scatter(\n",
    "    x=player_ace_stats['height'],\n",
    "    y=player_ace_stats['aces'],\n",
    "    mode='markers',\n",
    "    name='Dati reali (globale)',\n",
    "    marker=dict(color='yellowgreen', size=8, line=dict(color='black', width=1), opacity=0.6)\n",
    "), row=1, col=1)\n",
    " \n",
    "fig.add_trace(go.Scatter(\n",
    "    x=player_ace_stats['height'],\n",
    "    y=player_ace_stats['predicted_aces'],\n",
    "    mode='lines',\n",
    "    name='Regressione (globale)',\n",
    "    line=dict(color='firebrick', width=3)\n",
    "), row=1, col=1)\n",
    " \n",
    "# Colori superficie\n",
    "colors = {'Hard': 'gainsboro', 'Clay': 'black', 'Grass': 'yellowgreen'}\n",
    " \n",
    "# Grafico per superficie\n",
    "for surface, result in regression_results.items():\n",
    "    data = result['data']\n",
    "    corr = result['correlation']\n",
    " \n",
    "    fig.add_trace(go.Scatter(\n",
    "        x=data['height'],\n",
    "        y=data['aces'],\n",
    "        mode='markers',\n",
    "        name=f'{surface} (corr: {corr:.2f})',\n",
    "        marker=dict(color=colors.get(surface, 'gray'), size=8, line=dict(color='black', width=1))\n",
    "    ), row=1, col=2)\n",
    " \n",
    "    fig.add_trace(go.Scatter(\n",
    "        x=data['height'],\n",
    "        y=data['predicted_aces'],\n",
    "        mode='lines',\n",
    "        name=f'Regressione {surface}',\n",
    "        line=dict(color=colors.get(surface, 'gray'), dash='dash')\n",
    "    ), row=1, col=2)\n",
    " \n",
    "# Layout finale\n",
    "fig.update_layout(\n",
    "    title=\"Relazione tra Altezza e Ace Medi - Globale e per Superficie\",\n",
    "    xaxis_title='Altezza (cm)',\n",
    "    yaxis_title='Ace medi per partita',\n",
    "    xaxis2_title='Altezza (cm)',\n",
    "    yaxis2_title='Ace medi per partita',\n",
    "    template='plotly_white'\n",
    ")\n",
    " \n",
    "fig.show()"
   ]
  },
  {
   "cell_type": "markdown",
   "metadata": {},
   "source": [
    "# 14.Come cambia la distribuzione del numero di break point subiti e salvati per un giocatore perdente o vincente?"
   ]
  },
  {
   "cell_type": "code",
   "execution_count": 17,
   "metadata": {},
   "outputs": [
    {
     "data": {
      "image/png": "[encoded data removed]",
      "text/plain": [
       "<Figure size 1600x600 with 2 Axes>"
      ]
     },
     "metadata": {},
     "output_type": "display_data"
    }
   ],
   "source": [
    "# Selezioniamo solo le colonne necessarie per vincitori e perdenti\n",
    "bp_data = df[['winner_name', 'w_bpFaced', 'w_bpSaved', 'loser_name', 'l_bpFaced', 'l_bpSaved']]\n",
    " \n",
    "# Riorganizziamo i dati in un formato unificato: una riga per ciascun giocatore per match\n",
    "winners = bp_data[['winner_name', 'w_bpFaced', 'w_bpSaved']].copy()\n",
    "winners.columns = ['player_name', 'bp_faced', 'bp_saved']\n",
    "winners['outcome'] = 'Vincente'\n",
    " \n",
    "losers = bp_data[['loser_name', 'l_bpFaced', 'l_bpSaved']].copy()\n",
    "losers.columns = ['player_name', 'bp_faced', 'bp_saved']\n",
    "losers['outcome'] = 'Perdente'\n",
    " \n",
    "# Uniamo i due dataset\n",
    "bp_combined = pd.concat([winners, losers], ignore_index=True).dropna()\n",
    " \n",
    "# Calcoliamo i break point subiti (non salvati)\n",
    "bp_combined['bp_conceded'] = bp_combined['bp_faced'] - bp_combined['bp_saved']\n",
    " \n",
    "# Creiamo un nuovo campo: percentuale di break point salvati (evitiamo divisioni per 0)\n",
    "bp_combined = bp_combined[bp_combined['bp_faced'] > 0]  # consideriamo solo i match dove si sono affrontati bp\n",
    "bp_combined['bp_saved_pct'] = bp_combined['bp_saved'] / bp_combined['bp_faced']\n",
    " \n",
    "# Ricoloreiamo il grafico con colori personalizzati: verde per vincitori, giallo per perdenti\n",
    "custom_palette = {'Vincente': 'green', 'Perdente': 'gold'}\n",
    " \n",
    "fig, axes = plt.subplots(1, 2, figsize=(16, 6))\n",
    " \n",
    "# Distribuzione: Break Point Affrontati\n",
    "sns.histplot(\n",
    "    data=bp_combined,\n",
    "    x='bp_faced',\n",
    "    hue='outcome',\n",
    "    kde=True,\n",
    "    element='step',\n",
    "    stat='density',\n",
    "    palette=custom_palette,\n",
    "    ax=axes[0]\n",
    ")\n",
    "axes[0].set_title('Distribuzione Break Point Affrontati - Vincitori vs Perdenti')\n",
    "axes[0].set_xlabel('Break Point Affrontati')\n",
    "axes[0].set_ylabel('Densità')\n",
    "axes[0].grid(True)\n",
    " \n",
    "# Distribuzione: Break Point Subiti (non salvati)\n",
    "sns.histplot(\n",
    "    data=bp_combined,\n",
    "    x='bp_conceded',\n",
    "    hue='outcome',\n",
    "    kde=True,\n",
    "    element='step',\n",
    "    stat='density',\n",
    "    palette=custom_palette,\n",
    "    ax=axes[1]\n",
    ")\n",
    "axes[1].set_title('Distribuzione Break Point Subiti - Vincitori vs Perdenti')\n",
    "axes[1].set_xlabel('Break Point Subiti')\n",
    "axes[1].set_ylabel('Densità')\n",
    "axes[1].grid(True)\n",
    " \n",
    "plt.suptitle('Distribuzione Break Point Affrontati e Subiti (ATP 2023)', fontsize=14)\n",
    "plt.tight_layout(rect=[0, 0, 1, 0.95])\n",
    "plt.show()"
   ]
  },
  {
   "cell_type": "markdown",
   "metadata": {},
   "source": [
    "# 15.Come cambia la distribuzione delle durate del tempo delle partite con la differenza di ranking dei giocatori?"
   ]
  },
  {
   "cell_type": "code",
   "execution_count": 18,
   "metadata": {},
   "outputs": [
    {
     "data": {
      "application/vnd.plotly.v1+json": {
       "config": {
        "plotlyServerURL": "https://plot.ly"
       },
       "data": [
        {
         "alignmentgroup": "True",
         "hovertemplate": "Differenza di Ranking=%{x}<br>Durata (minuti)=%{y}<extra></extra>",
         "legendgroup": "",
         "marker": {
          "color": "#d2f644"
         },
         "name": "",
         "notched": false,
         "offsetgroup": "",
         "orientation": "v",
         "showlegend": false,
         "type": "box",
         "x": [
          "0-10",
          "0-10",
          "0-10",
          "201-500",
          "11-50",
          "501+",
          "11-50",
          "501+",
          "0-10",
          "201-500",
          "0-10",
          "0-10",
          "11-50",
          "501+",
          "201-500",
          "11-50",
          "51-100",
          "101-200",
          "201-500",
          "11-50",
          "101-200",
          "101-200",
          "0-10",
          "51-100",
          "51-100",
          "51-100",
          "101-200",
          "11-50",
          "51-100",
          "11-50",
          "11-50",
          "51-100",
          "51-100",
          "11-50",
          "201-500",
          "51-100",
          "101-200",
          "11-50",
          "51-100",
          "11-50",
          "0-10",
          "51-100",
          "11-50",
          "0-10",
          "0-10",
          "11-50",
          "11-50",
          "11-50",
          "51-100",
          "51-100",
          "51-100",
          "11-50",
          "11-50",
          "51-100",
          "11-50",
          "11-50",
          "51-100",
          "51-100",
          "11-50",
          "11-50",
          "101-200",
          "11-50",
          "11-50",
          "11-50",
          "11-50",
          "501+",
          "51-100",
          "11-50",
          "11-50",
          "11-50",
          "0-10",
          "0-10",
          "101-200",
          "11-50",
          "11-50",
          "11-50",
          "51-100",
          "0-10",
          "0-10",
          "101-200",
          "51-100",
          "0-10",
          "11-50",
          "51-100",
          "51-100",
          "11-50",
          "51-100",
          "101-200",
          "0-10",
          "0-10",
          "11-50",
          "201-500",
          "0-10",
          "51-100",
          "201-500",
          "51-100",
          "11-50",
          "11-50",
          "101-200",
          "51-100",
          "0-10",
          "11-50",
          "0-10",
          "11-50",
          "11-50",
          "11-50",
          "51-100",
          "11-50",
          "11-50",
          "51-100",
          "11-50",
          "11-50",
          "0-10",
          "51-100",
          "0-10",
          "0-10",
          "11-50",
          "501+",
          "11-50",
          "11-50",
          "51-100",
          "0-10",
          "0-10",
          "11-50",
          "11-50",
          "0-10",
          "51-100",
          "51-100",
          "11-50",
          "51-100",
          "0-10",
          "11-50",
          "0-10",
          "101-200",
          "51-100",
          "201-500",
          "101-200",
          "0-10",
          "11-50",
          "11-50",
          "51-100",
          "0-10",
          "0-10",
          "501+",
          "201-500",
          "101-200",
          "11-50",
          "11-50",
          "0-10",
          "0-10",
          "11-50",
          "11-50",
          "11-50",
          "11-50",
          "11-50",
          "101-200",
          "11-50",
          "51-100",
          "11-50",
          "101-200",
          "51-100",
          "11-50",
          "51-100",
          "201-500",
          "51-100",
          "51-100",
          "51-100",
          "51-100",
          "11-50",
          "51-100",
          "11-50",
          "51-100",
          "11-50",
          "101-200",
          "0-10",
          "0-10",
          "501+",
          "101-200",
          "11-50",
          "51-100",
          "11-50",
          "51-100",
          "51-100",
          "51-100",
          "51-100",
          "101-200",
          "51-100",
          "11-50",
          "51-100",
          "0-10",
          "11-50",
          "11-50",
          "101-200",
          "0-10",
          "101-200",
          "51-100",
          "51-100",
          "51-100",
          "51-100",
          "51-100",
          "0-10",
          "0-10",
          "101-200",
          "101-200",
          "11-50",
          "51-100",
          "51-100",
          "51-100",
          "101-200",
          "51-100",
          "51-100",
          "0-10",
          "101-200",
          "11-50",
          "101-200",
          "51-100",
          "101-200",
          "51-100",
          "101-200",
          "11-50",
          "51-100",
          "101-200",
          "101-200",
          "101-200",
          "11-50",
          "101-200",
          "51-100",
          "11-50",
          "11-50",
          "11-50",
          "11-50",
          "11-50",
          "0-10",
          "11-50",
          "11-50",
          "11-50",
          "11-50",
          "101-200",
          "101-200",
          "51-100",
          "11-50",
          "51-100",
          "51-100",
          "101-200",
          "0-10",
          "11-50",
          "11-50",
          "0-10",
          "11-50",
          "11-50",
          "51-100",
          "51-100",
          "51-100",
          "11-50",
          "11-50",
          "51-100",
          "11-50",
          "11-50",
          "11-50",
          "11-50",
          "11-50",
          "0-10",
          "11-50",
          "11-50",
          "11-50",
          "51-100",
          "0-10",
          "11-50",
          "11-50",
          "0-10",
          "11-50",
          "51-100",
          "0-10",
          "51-100",
          "11-50",
          "11-50",
          "0-10",
          "11-50",
          "51-100",
          "11-50",
          "11-50",
          "101-200",
          "101-200",
          "11-50",
          "51-100",
          "501+",
          "101-200",
          "101-200",
          "51-100",
          "11-50",
          "11-50",
          "51-100",
          "11-50",
          "501+",
          "51-100",
          "51-100",
          "101-200",
          "0-10",
          "11-50",
          "51-100",
          "0-10",
          "11-50",
          "0-10",
          "11-50",
          "51-100",
          "51-100",
          "0-10",
          "11-50",
          "11-50",
          "51-100",
          "11-50",
          "101-200",
          "11-50",
          "51-100",
          "11-50",
          "51-100",
          "51-100",
          "51-100",
          "11-50",
          "51-100",
          "11-50",
          "201-500",
          "11-50",
          "0-10",
          "51-100",
          "51-100",
          "101-200",
          "101-200",
          "101-200",
          "51-100",
          "11-50",
          "11-50",
          "101-200",
          "51-100",
          "11-50",
          "51-100",
          "11-50",
          "11-50",
          "11-50",
          "11-50",
          "0-10",
          "11-50",
          "101-200",
          "11-50",
          "51-100",
          "51-100",
          "11-50",
          "11-50",
          "51-100",
          "101-200",
          "11-50",
          "51-100",
          "201-500",
          "101-200",
          "11-50",
          "11-50",
          "51-100",
          "11-50",
          "11-50",
          "51-100",
          "51-100",
          "11-50",
          "11-50",
          "51-100",
          "51-100",
          "11-50",
          "51-100",
          "11-50",
          "501+",
          "51-100",
          "51-100",
          "51-100",
          "51-100",
          "11-50",
          "11-50",
          "11-50",
          "11-50",
          "11-50",
          "11-50",
          "501+",
          "11-50",
          "51-100",
          "11-50",
          "0-10",
          "0-10",
          "51-100",
          "51-100",
          "51-100",
          "11-50",
          "51-100",
          "51-100",
          "51-100",
          "11-50",
          "11-50",
          "11-50",
          "0-10",
          "11-50",
          "0-10",
          "101-200",
          "0-10",
          "11-50",
          "51-100",
          "0-10",
          "501+",
          "101-200",
          "11-50",
          "11-50",
          "0-10",
          "11-50",
          "11-50",
          "101-200",
          "0-10",
          "11-50",
          "11-50",
          "101-200",
          "51-100",
          "0-10",
          "0-10",
          "11-50",
          "51-100",
          "101-200",
          "11-50",
          "11-50",
          "51-100",
          "11-50",
          "11-50",
          "11-50",
          "11-50",
          "51-100",
          "11-50",
          "11-50",
          "101-200",
          "11-50",
          "11-50",
          "11-50",
          "11-50",
          "11-50",
          "51-100",
          "11-50",
          "51-100",
          "51-100",
          "11-50",
          "51-100",
          "11-50",
          "0-10",
          "11-50",
          "51-100",
          "51-100",
          "11-50",
          "11-50",
          "0-10",
          "51-100",
          "101-200",
          "51-100",
          "101-200",
          "11-50",
          "51-100",
          "11-50",
          "101-200",
          "11-50",
          "0-10",
          "51-100",
          "11-50",
          "11-50",
          "51-100",
          "11-50",
          "11-50",
          "201-500",
          "11-50",
          "11-50",
          "101-200",
          "11-50",
          "51-100",
          "101-200",
          "11-50",
          "51-100",
          "51-100",
          "11-50",
          "51-100",
          "11-50",
          "11-50",
          "11-50",
          "51-100",
          "51-100",
          "501+",
          "101-200",
          "11-50",
          "11-50",
          "101-200",
          "11-50",
          "11-50",
          "501+",
          "11-50",
          "11-50",
          "0-10",
          "11-50",
          "501+",
          "11-50",
          "11-50",
          "51-100",
          "11-50",
          "11-50",
          "51-100",
          "51-100",
          "11-50",
          "11-50",
          "11-50",
          "101-200",
          "11-50",
          "51-100",
          "0-10",
          "11-50",
          "101-200",
          "51-100",
          "101-200",
          "51-100",
          "11-50",
          "101-200",
          "51-100",
          "11-50",
          "0-10",
          "101-200",
          "51-100",
          "11-50",
          "101-200",
          "11-50",
          "11-50",
          "0-10",
          "11-50",
          "11-50",
          "11-50",
          "0-10",
          "11-50",
          "101-200",
          "11-50",
          "51-100",
          "11-50",
          null,
          "101-200",
          "51-100",
          "501+",
          "101-200",
          "101-200",
          "11-50",
          "11-50",
          "51-100",
          "11-50",
          "0-10",
          "501+",
          "11-50",
          "101-200",
          "11-50",
          "201-500",
          "11-50",
          null,
          "501+",
          "51-100",
          "201-500",
          "0-10",
          "0-10",
          "0-10",
          "0-10",
          "11-50",
          "51-100",
          "11-50",
          "11-50",
          "101-200",
          "11-50",
          "51-100",
          "51-100",
          "51-100",
          "11-50",
          "11-50",
          "101-200",
          "11-50",
          "11-50",
          "101-200",
          "101-200",
          "201-500",
          "11-50",
          "0-10",
          "11-50",
          "11-50",
          "11-50",
          "11-50",
          "11-50",
          "51-100",
          "201-500",
          "51-100",
          "11-50",
          "11-50",
          "11-50",
          "11-50",
          "51-100",
          "11-50",
          "0-10",
          "11-50",
          "0-10",
          "11-50",
          "51-100",
          "101-200",
          "51-100",
          "11-50",
          "11-50",
          "101-200",
          "0-10",
          "11-50",
          "0-10",
          "11-50",
          "101-200",
          "51-100",
          "51-100",
          "0-10",
          "11-50",
          "11-50",
          "0-10",
          "0-10",
          "11-50",
          "0-10",
          "0-10",
          "0-10",
          "11-50",
          "0-10",
          "51-100",
          "0-10",
          "51-100",
          "51-100",
          "0-10",
          "51-100",
          "0-10",
          "101-200",
          "11-50",
          "0-10",
          "0-10",
          "11-50",
          "11-50",
          "11-50",
          "51-100",
          "51-100",
          "51-100",
          "11-50",
          "11-50",
          "51-100",
          "51-100",
          "51-100",
          "51-100",
          "51-100",
          "51-100",
          "501+",
          "11-50",
          "51-100",
          "51-100",
          "101-200",
          "101-200",
          "101-200",
          "11-50",
          "51-100",
          "11-50",
          "51-100",
          "11-50",
          "11-50",
          "51-100",
          "11-50",
          "11-50",
          "51-100",
          "11-50",
          "51-100",
          "51-100",
          "11-50",
          "51-100",
          "11-50",
          "11-50",
          "11-50",
          "51-100",
          "101-200",
          "51-100",
          "11-50",
          "101-200",
          "51-100",
          "51-100",
          "501+",
          "51-100",
          "0-10",
          "0-10",
          "51-100",
          "51-100",
          "51-100",
          "11-50",
          "51-100",
          "11-50",
          "11-50",
          "51-100",
          "11-50",
          "51-100",
          "11-50",
          "0-10",
          "11-50",
          "0-10",
          "51-100",
          "11-50",
          "0-10",
          "0-10",
          "11-50",
          "11-50",
          "11-50",
          "11-50",
          "101-200",
          "11-50",
          "11-50",
          "11-50",
          "101-200",
          "0-10",
          "0-10",
          "11-50",
          "0-10",
          "11-50",
          "101-200",
          "11-50",
          "11-50",
          "0-10",
          "11-50",
          "0-10",
          "51-100",
          "51-100",
          "11-50",
          "11-50",
          "51-100",
          "0-10",
          "11-50",
          "11-50",
          "11-50",
          "11-50",
          "11-50",
          "11-50",
          "51-100",
          "51-100",
          "11-50",
          "11-50",
          "11-50",
          "11-50",
          "51-100",
          "51-100",
          "11-50",
          "11-50",
          "11-50",
          "101-200",
          "501+",
          "11-50",
          "51-100",
          "51-100",
          "51-100",
          "11-50",
          "51-100",
          "11-50",
          "51-100",
          "11-50",
          "11-50",
          "51-100",
          "11-50",
          "51-100",
          "51-100",
          "51-100",
          "11-50",
          "11-50",
          "51-100",
          "51-100",
          "51-100",
          "11-50",
          "101-200",
          "51-100",
          "11-50",
          "11-50",
          "11-50",
          "51-100",
          "11-50",
          "11-50",
          "0-10",
          "101-200",
          "201-500",
          "201-500",
          "11-50",
          "11-50",
          "11-50",
          "11-50",
          "11-50",
          "101-200",
          "11-50",
          "201-500",
          "0-10",
          "11-50",
          "101-200",
          "0-10",
          "11-50",
          "11-50",
          "11-50",
          "11-50",
          "11-50",
          "11-50",
          "11-50",
          "11-50",
          "11-50",
          "11-50",
          "11-50",
          "11-50",
          "11-50",
          "11-50",
          "51-100",
          "51-100",
          "11-50",
          "11-50",
          "51-100",
          "0-10",
          "101-200",
          "11-50",
          "51-100",
          "51-100",
          "0-10",
          "51-100",
          "51-100",
          "11-50",
          "11-50",
          "51-100",
          "51-100",
          "11-50",
          "11-50",
          "11-50",
          "51-100",
          "101-200",
          "201-500",
          "101-200",
          "51-100",
          "501+",
          "51-100",
          "101-200",
          "51-100",
          "51-100",
          "51-100",
          "0-10",
          "0-10",
          "101-200",
          "11-50",
          "51-100",
          "51-100",
          "11-50",
          "51-100",
          "51-100",
          "101-200",
          "11-50",
          "0-10",
          "101-200",
          "11-50",
          "11-50",
          "11-50",
          "11-50",
          "11-50",
          "11-50",
          "11-50",
          "11-50",
          "11-50",
          "11-50",
          "11-50",
          "51-100",
          "101-200",
          "11-50",
          "11-50",
          "101-200",
          "51-100",
          "11-50",
          "51-100",
          "51-100",
          "101-200",
          "101-200",
          "101-200",
          "51-100",
          "0-10",
          "0-10",
          "51-100",
          "51-100",
          "11-50",
          "201-500",
          "11-50",
          "51-100",
          "501+",
          "101-200",
          "201-500",
          "501+",
          "0-10",
          "0-10",
          "0-10",
          "11-50",
          "0-10",
          "51-100",
          "0-10",
          "11-50",
          "0-10",
          "11-50",
          "11-50",
          "0-10",
          "51-100",
          "11-50",
          "51-100",
          "101-200",
          "101-200",
          "11-50",
          "11-50",
          "11-50",
          "11-50",
          "11-50",
          "51-100",
          "51-100",
          "51-100",
          "51-100",
          "11-50",
          "51-100",
          "11-50",
          "11-50",
          "11-50",
          "101-200",
          "101-200",
          "11-50",
          "11-50",
          "11-50",
          "11-50",
          "11-50",
          "11-50",
          "11-50",
          "11-50",
          "11-50",
          "51-100",
          "11-50",
          "11-50",
          "11-50",
          "11-50",
          "11-50",
          "11-50",
          "51-100",
          "11-50",
          "0-10",
          "11-50",
          "11-50",
          "0-10",
          "0-10",
          "11-50",
          "11-50",
          "11-50",
          "0-10",
          "11-50",
          "11-50",
          "11-50",
          "0-10",
          "11-50",
          "11-50",
          "0-10",
          "11-50",
          "11-50",
          "11-50",
          "51-100",
          "11-50",
          "11-50",
          "11-50",
          "11-50",
          "51-100",
          "51-100",
          "11-50",
          "51-100",
          "11-50",
          "51-100",
          "11-50",
          "51-100",
          "51-100",
          "101-200",
          "51-100",
          "11-50",
          "501+",
          "201-500",
          "11-50",
          "11-50",
          "101-200",
          "11-50",
          "101-200",
          "51-100",
          "201-500",
          "201-500",
          "0-10",
          "101-200",
          "51-100",
          "11-50",
          "51-100",
          "11-50",
          "51-100",
          "11-50",
          "51-100",
          "101-200",
          "11-50",
          "51-100",
          "101-200",
          "11-50",
          "51-100",
          "101-200",
          "101-200",
          "51-100",
          "11-50",
          "51-100",
          "11-50",
          "201-500",
          "11-50",
          "0-10",
          "101-200",
          "51-100",
          "11-50",
          "101-200",
          "11-50",
          "201-500",
          "11-50",
          "201-500",
          "51-100",
          "11-50",
          "51-100",
          "51-100",
          "0-10",
          "0-10",
          "101-200",
          "51-100",
          "11-50",
          "201-500",
          "51-100",
          "0-10",
          "51-100",
          "101-200",
          "51-100",
          "0-10",
          "0-10",
          "101-200",
          "101-200",
          "11-50",
          "201-500",
          "11-50",
          "11-50",
          "11-50",
          "201-500",
          "51-100",
          "11-50",
          "51-100",
          "11-50",
          "51-100",
          "0-10",
          "51-100",
          "51-100",
          "11-50",
          "11-50",
          "0-10",
          "0-10",
          "11-50",
          "0-10",
          "11-50",
          "51-100",
          "101-200",
          "11-50",
          "101-200",
          "11-50",
          "11-50",
          "11-50",
          "11-50",
          "0-10",
          "11-50",
          "11-50",
          "51-100",
          "51-100",
          "11-50",
          "51-100",
          "51-100",
          "101-200",
          "51-100",
          "11-50",
          "11-50",
          "51-100",
          "11-50",
          "51-100",
          "11-50",
          "11-50",
          "51-100",
          "101-200",
          "51-100",
          "0-10",
          "51-100",
          "11-50",
          "51-100",
          "11-50",
          "11-50",
          "11-50",
          "11-50",
          "11-50",
          "11-50",
          "51-100",
          "11-50",
          "11-50",
          "51-100",
          "51-100",
          "11-50",
          "51-100",
          "101-200",
          "51-100",
          "51-100",
          "51-100",
          "101-200",
          "11-50",
          "101-200",
          "51-100",
          "11-50",
          "11-50",
          "0-10",
          "0-10",
          "11-50",
          "51-100",
          "11-50",
          "0-10",
          "11-50",
          "501+",
          "501+",
          "0-10",
          "11-50",
          "11-50",
          "11-50",
          "101-200",
          "11-50",
          "51-100",
          "11-50",
          "11-50",
          "201-500",
          "0-10",
          "0-10",
          "11-50",
          "51-100",
          "0-10",
          "51-100",
          "11-50",
          "101-200",
          "0-10",
          "0-10",
          "0-10",
          "0-10",
          "11-50",
          "51-100",
          "11-50",
          "11-50",
          "51-100",
          "51-100",
          "11-50",
          "51-100",
          "11-50",
          "11-50",
          "101-200",
          "11-50",
          "51-100",
          "11-50",
          "101-200",
          "11-50",
          "11-50",
          "11-50",
          "51-100",
          "11-50",
          "11-50",
          "11-50",
          "11-50",
          "11-50",
          "0-10",
          "11-50",
          "101-200",
          "51-100",
          "51-100",
          "51-100",
          "51-100",
          "51-100",
          "51-100",
          "51-100",
          "101-200",
          "51-100",
          "11-50",
          "11-50",
          "51-100",
          "51-100",
          "11-50",
          "51-100",
          "51-100",
          "51-100",
          "201-500",
          "51-100",
          "51-100",
          "11-50",
          "51-100",
          "11-50",
          "11-50",
          "51-100",
          "11-50",
          "51-100",
          "51-100",
          "51-100",
          "11-50",
          "51-100",
          "51-100",
          "11-50",
          "11-50",
          "11-50",
          "201-500",
          "0-10",
          "11-50",
          "51-100",
          "11-50",
          "51-100",
          "51-100",
          "0-10",
          "11-50",
          "11-50",
          "11-50",
          "51-100",
          "11-50",
          "201-500",
          "201-500",
          "11-50",
          "11-50",
          "51-100",
          "11-50",
          "11-50",
          "0-10",
          "11-50",
          "501+",
          "0-10",
          "51-100",
          "51-100",
          "101-200",
          "51-100",
          "51-100",
          "11-50",
          "11-50",
          "11-50",
          "11-50",
          "11-50",
          "51-100",
          "51-100",
          "11-50",
          "11-50",
          "11-50",
          "11-50",
          "11-50",
          "11-50",
          "11-50",
          "51-100",
          "101-200",
          "0-10",
          "201-500",
          "51-100",
          "11-50",
          "11-50",
          "201-500",
          "201-500",
          "201-500",
          "11-50",
          "201-500",
          "11-50",
          "51-100",
          "51-100",
          "11-50",
          "101-200",
          "11-50",
          "11-50",
          "11-50",
          "201-500",
          "11-50",
          "11-50",
          "11-50",
          "51-100",
          "11-50",
          "51-100",
          "101-200",
          "11-50",
          "0-10",
          "0-10",
          "201-500",
          "11-50",
          "201-500",
          "11-50",
          "11-50",
          "11-50",
          "201-500",
          "101-200",
          "101-200",
          "11-50",
          "11-50",
          "11-50",
          "11-50",
          "11-50",
          "501+",
          "101-200",
          "101-200",
          "51-100",
          "51-100",
          "11-50",
          "51-100",
          "0-10",
          null,
          "201-500",
          "101-200",
          "11-50",
          "0-10",
          "11-50",
          "11-50",
          "101-200",
          "51-100",
          "51-100",
          "51-100",
          "201-500",
          "11-50",
          "51-100",
          "11-50",
          "0-10",
          "101-200",
          "51-100",
          "51-100",
          "201-500",
          "0-10",
          "101-200",
          "51-100",
          "11-50",
          "11-50",
          "101-200",
          "51-100",
          "101-200",
          "51-100",
          "11-50",
          "101-200",
          "11-50",
          "51-100",
          "101-200",
          "51-100",
          "0-10",
          "11-50",
          "101-200",
          "201-500",
          "11-50",
          "11-50",
          "51-100",
          "51-100",
          "11-50",
          "0-10",
          "51-100",
          "11-50",
          "0-10",
          "201-500",
          "101-200",
          "101-200",
          "51-100",
          "51-100",
          "501+",
          "51-100",
          "51-100",
          "11-50",
          "51-100",
          "51-100",
          "11-50",
          "51-100",
          "11-50",
          "101-200",
          "11-50",
          "0-10",
          "51-100",
          "51-100",
          "11-50",
          "51-100",
          "11-50",
          "11-50",
          "51-100",
          "101-200",
          "51-100",
          "11-50",
          "51-100",
          "11-50",
          "11-50",
          "11-50",
          "11-50",
          "201-500",
          "11-50",
          "0-10",
          "11-50",
          "51-100",
          "11-50",
          "51-100",
          "51-100",
          "11-50",
          "201-500",
          "11-50",
          "11-50",
          "51-100",
          "11-50",
          "11-50",
          "11-50",
          "101-200",
          "11-50",
          "101-200",
          "51-100",
          "11-50",
          "11-50",
          "11-50",
          "0-10",
          "11-50",
          "0-10",
          "0-10",
          "0-10",
          "11-50",
          "0-10",
          "11-50",
          "0-10",
          "51-100",
          "11-50",
          "0-10",
          "51-100",
          "51-100",
          "11-50",
          "11-50",
          "11-50",
          "51-100",
          "51-100",
          "51-100",
          "11-50",
          "0-10",
          "11-50",
          "11-50",
          "101-200",
          "11-50",
          "11-50",
          "11-50",
          "11-50",
          "0-10",
          "101-200",
          "51-100",
          "11-50",
          "51-100",
          "11-50",
          "0-10",
          "51-100",
          "11-50",
          "51-100",
          "0-10",
          "51-100",
          "11-50",
          "0-10",
          "101-200",
          "11-50",
          "11-50",
          "11-50",
          "11-50",
          "11-50",
          "11-50",
          "11-50",
          "51-100",
          "201-500",
          "11-50",
          "11-50",
          "51-100",
          "51-100",
          "11-50",
          "11-50",
          "51-100",
          "11-50",
          "11-50",
          "11-50",
          "11-50",
          "11-50",
          "11-50",
          "11-50",
          "0-10",
          "51-100",
          "11-50",
          "11-50",
          "11-50",
          "11-50",
          "11-50",
          "0-10",
          "11-50",
          "51-100",
          "101-200",
          "0-10",
          "101-200",
          "51-100",
          "201-500",
          "11-50",
          "51-100",
          "11-50",
          "51-100",
          "0-10",
          "11-50",
          "51-100",
          "201-500",
          "51-100",
          "51-100",
          "11-50",
          "11-50",
          "11-50",
          "11-50",
          "11-50",
          "11-50",
          "0-10",
          "11-50",
          "0-10",
          "11-50",
          "51-100",
          "51-100",
          "11-50",
          "11-50",
          "201-500",
          "51-100",
          "0-10",
          "11-50",
          "0-10",
          "11-50",
          "0-10",
          "11-50",
          "11-50",
          "11-50",
          "11-50",
          "51-100",
          "11-50",
          "101-200",
          "11-50",
          "201-500",
          "11-50",
          "11-50",
          "0-10",
          "201-500",
          "501+",
          "11-50",
          "0-10",
          "101-200",
          "11-50",
          "501+",
          "201-500",
          "11-50",
          "11-50",
          "11-50",
          "201-500",
          "51-100",
          "11-50",
          "501+",
          "11-50",
          "201-500",
          "0-10",
          "11-50",
          "11-50",
          "0-10",
          "101-200",
          "201-500",
          "101-200",
          "101-200",
          "0-10",
          "11-50",
          "11-50",
          "0-10",
          "11-50",
          "11-50",
          "11-50",
          "51-100",
          "51-100",
          "51-100",
          "0-10",
          "11-50",
          "11-50",
          "11-50",
          "11-50",
          "11-50",
          "11-50",
          "11-50",
          "101-200",
          "11-50",
          "11-50",
          "11-50",
          "11-50",
          "11-50",
          "11-50",
          "201-500",
          "11-50",
          "501+",
          "0-10",
          "11-50",
          "51-100",
          "101-200",
          "11-50",
          "0-10",
          "101-200",
          "51-100",
          "11-50",
          "0-10",
          "101-200",
          "11-50",
          "0-10",
          "11-50",
          "201-500",
          "201-500",
          "51-100",
          "101-200",
          "11-50",
          "11-50",
          "11-50",
          "501+",
          "101-200",
          "51-100",
          "51-100",
          "51-100",
          "501+",
          "51-100",
          "0-10",
          "201-500",
          "51-100",
          "101-200",
          "51-100",
          "11-50",
          "11-50",
          "51-100",
          "101-200",
          "11-50",
          "11-50",
          "201-500",
          "51-100",
          "11-50",
          "51-100",
          "51-100",
          "101-200",
          "51-100",
          "101-200",
          "51-100",
          "11-50",
          "51-100",
          "11-50",
          "11-50",
          "101-200",
          "51-100",
          "101-200",
          "11-50",
          "0-10",
          "101-200",
          "51-100",
          "11-50",
          "11-50",
          "11-50",
          "51-100",
          "51-100",
          "11-50",
          "51-100",
          "11-50",
          "101-200",
          "51-100",
          "0-10",
          "51-100",
          "11-50",
          "0-10",
          "11-50",
          "501+",
          "11-50",
          "201-500",
          "11-50",
          "11-50",
          "51-100",
          "0-10",
          "101-200",
          "11-50",
          "101-200",
          "11-50",
          "11-50",
          "101-200",
          "11-50",
          "0-10",
          "11-50",
          "51-100",
          "51-100",
          "101-200",
          "51-100",
          "51-100",
          "11-50",
          "11-50",
          "11-50",
          "11-50",
          "51-100",
          "11-50",
          "11-50",
          "51-100",
          "51-100",
          "11-50",
          "201-500",
          "101-200",
          "101-200",
          "101-200",
          "0-10",
          "51-100",
          "11-50",
          "11-50",
          "11-50",
          "11-50",
          "51-100",
          "51-100",
          "11-50",
          "11-50",
          "0-10",
          "11-50",
          "51-100",
          "0-10",
          "0-10",
          "0-10",
          "0-10",
          "11-50",
          "51-100",
          "11-50",
          "11-50",
          "101-200",
          "11-50",
          "101-200",
          "51-100",
          "11-50",
          "11-50",
          "51-100",
          "51-100",
          "11-50",
          "51-100",
          "51-100",
          "11-50",
          "51-100",
          "11-50",
          "11-50",
          "11-50",
          "101-200",
          "51-100",
          "51-100",
          "11-50",
          "101-200",
          "11-50",
          "11-50",
          "0-10",
          "11-50",
          "11-50",
          "51-100",
          "101-200",
          "51-100",
          "11-50",
          "51-100",
          "0-10",
          "51-100",
          "11-50",
          "201-500",
          "51-100",
          "101-200",
          "51-100",
          "0-10",
          "101-200",
          "11-50",
          "11-50",
          "51-100",
          "101-200",
          "11-50",
          "201-500",
          "101-200",
          "51-100",
          "51-100",
          "0-10",
          "101-200",
          "51-100",
          "0-10",
          "101-200",
          "101-200",
          "11-50",
          "201-500",
          "51-100",
          "101-200",
          "51-100",
          "101-200",
          "51-100",
          "51-100",
          "51-100",
          "201-500",
          "101-200",
          "11-50",
          "51-100",
          "51-100",
          "101-200",
          "51-100",
          "51-100",
          "101-200",
          "51-100",
          "11-50",
          "11-50",
          "201-500",
          "11-50",
          "11-50",
          "11-50",
          "51-100",
          "201-500",
          "51-100",
          "51-100",
          "11-50",
          "51-100",
          "101-200",
          "51-100",
          "11-50",
          "201-500",
          "101-200",
          "11-50",
          "11-50",
          "201-500",
          "501+",
          "11-50",
          "201-500",
          "51-100",
          "51-100",
          "201-500",
          "11-50",
          "51-100",
          "11-50",
          "51-100",
          "51-100",
          "11-50",
          "11-50",
          "101-200",
          "11-50",
          "101-200",
          "11-50",
          "101-200",
          "101-200",
          "11-50",
          "51-100",
          "51-100",
          "11-50",
          "0-10",
          "11-50",
          "51-100",
          "101-200",
          "0-10",
          "0-10",
          "11-50",
          "101-200",
          "11-50",
          "101-200",
          "11-50",
          "51-100",
          "11-50",
          "11-50",
          "11-50",
          "11-50",
          "11-50",
          "11-50",
          "101-200",
          "11-50",
          "51-100",
          "51-100",
          "51-100",
          "11-50",
          "101-200",
          "11-50",
          "51-100",
          "11-50",
          "51-100",
          "11-50",
          "11-50",
          "101-200",
          "11-50",
          "11-50",
          "51-100",
          "51-100",
          "11-50",
          "501+",
          "11-50",
          "11-50",
          "0-10",
          "11-50",
          "11-50",
          "51-100",
          "11-50",
          "11-50",
          "11-50",
          "11-50",
          "201-500",
          "11-50",
          "51-100",
          "0-10",
          "51-100",
          "11-50",
          "51-100",
          "11-50",
          "51-100",
          "11-50",
          "11-50",
          "51-100",
          "51-100",
          "101-200",
          "11-50",
          "11-50",
          "0-10",
          "11-50",
          "11-50",
          "11-50",
          "11-50",
          "0-10",
          "51-100",
          "11-50",
          "51-100",
          "0-10",
          "11-50",
          "101-200",
          "101-200",
          "201-500",
          "0-10",
          "101-200",
          "101-200",
          "11-50",
          "101-200",
          "0-10",
          "0-10",
          "501+",
          "101-200",
          "11-50",
          "101-200",
          "201-500",
          "201-500",
          "51-100",
          "11-50",
          "0-10",
          "201-500",
          "0-10",
          "11-50",
          "0-10",
          "51-100",
          "0-10",
          "11-50",
          "11-50",
          "11-50",
          "11-50",
          "51-100",
          "201-500",
          "11-50",
          "51-100",
          "51-100",
          "101-200",
          "201-500",
          "11-50",
          "101-200",
          "11-50",
          "51-100",
          "51-100",
          "51-100",
          "201-500",
          "11-50",
          "11-50",
          "11-50",
          "51-100",
          "51-100",
          "11-50",
          "101-200",
          "51-100",
          "101-200",
          "0-10",
          "11-50",
          "501+",
          "501+",
          "11-50",
          "11-50",
          "201-500",
          "11-50",
          "51-100",
          "11-50",
          "0-10",
          "0-10",
          "101-200",
          "0-10",
          "501+",
          "0-10",
          "0-10",
          "11-50",
          "11-50",
          "201-500",
          "11-50",
          "11-50",
          "11-50",
          "51-100",
          "201-500",
          "11-50",
          "201-500",
          "11-50",
          "0-10",
          "11-50",
          "11-50",
          "11-50",
          "0-10",
          "51-100",
          "201-500",
          "11-50",
          "11-50",
          "11-50",
          "51-100",
          "201-500",
          "11-50",
          "11-50",
          "11-50",
          "101-200",
          "51-100",
          "51-100",
          "11-50",
          "51-100",
          "11-50",
          "51-100",
          "101-200",
          "11-50",
          "201-500",
          "0-10",
          "11-50",
          "51-100",
          "0-10",
          "11-50",
          "11-50",
          "51-100",
          "501+",
          "0-10",
          "0-10",
          "11-50",
          "0-10",
          "101-200",
          "0-10",
          "11-50",
          "11-50",
          "51-100",
          "0-10",
          "11-50",
          "11-50",
          "51-100",
          "11-50",
          "11-50",
          "0-10",
          "11-50",
          "11-50",
          "11-50",
          "0-10",
          "11-50",
          "11-50",
          "51-100",
          "201-500",
          "51-100",
          "11-50",
          "11-50",
          "51-100",
          "11-50",
          "0-10",
          "51-100",
          "11-50",
          "11-50",
          "11-50",
          "11-50",
          "51-100",
          "11-50",
          "101-200",
          "11-50",
          "51-100",
          "11-50",
          "11-50",
          "11-50",
          "11-50",
          "101-200",
          "11-50",
          "51-100",
          "11-50",
          "0-10",
          "11-50",
          "11-50",
          "0-10",
          "11-50",
          "11-50",
          "0-10",
          "11-50",
          "0-10",
          "11-50",
          "11-50",
          "11-50",
          "101-200",
          "11-50",
          "0-10",
          "0-10",
          "11-50",
          "51-100",
          "0-10",
          "11-50",
          "11-50",
          "51-100",
          "201-500",
          "51-100",
          "0-10",
          "11-50",
          "11-50",
          "11-50",
          "11-50",
          "51-100",
          "11-50",
          "11-50",
          "201-500",
          "51-100",
          "51-100",
          "11-50",
          "11-50",
          "11-50",
          "11-50",
          "0-10",
          "51-100",
          "201-500",
          "201-500",
          "51-100",
          "101-200",
          "201-500",
          "11-50",
          "201-500",
          "11-50",
          "51-100",
          "201-500",
          "11-50",
          "11-50",
          "0-10",
          "11-50",
          "11-50",
          "101-200",
          "11-50",
          "51-100",
          "11-50",
          "51-100",
          "11-50",
          "11-50",
          "11-50",
          "11-50",
          "11-50",
          "101-200",
          "51-100",
          "11-50",
          "11-50",
          "11-50",
          "51-100",
          "51-100",
          "0-10",
          "51-100",
          "11-50",
          "11-50",
          "51-100",
          "0-10",
          "11-50",
          "11-50",
          "11-50",
          "101-200",
          "51-100",
          "51-100",
          "11-50",
          "51-100",
          "0-10",
          "11-50",
          "51-100",
          "101-200",
          "101-200",
          "11-50",
          "11-50",
          "11-50",
          "11-50",
          "11-50",
          "11-50",
          "501+",
          "201-500",
          "11-50",
          "0-10",
          "11-50",
          "51-100",
          "11-50",
          "11-50",
          "51-100",
          "201-500",
          "51-100",
          "11-50",
          "51-100",
          "101-200",
          "101-200",
          "11-50",
          "101-200",
          "11-50",
          "11-50",
          "201-500",
          "201-500",
          "11-50",
          "51-100",
          "201-500",
          "51-100",
          "101-200",
          "11-50",
          "11-50",
          "201-500",
          "11-50",
          "11-50",
          "11-50",
          "11-50",
          "51-100",
          "101-200",
          "101-200",
          "51-100",
          "51-100",
          "101-200",
          "11-50",
          "101-200",
          "51-100",
          "51-100",
          "51-100",
          "11-50",
          "11-50",
          "51-100",
          "11-50",
          "11-50",
          "101-200",
          "51-100",
          "11-50",
          "51-100",
          "51-100",
          "201-500",
          "51-100",
          "51-100",
          "11-50",
          "11-50",
          "0-10",
          "11-50",
          "11-50",
          "11-50",
          "11-50",
          "51-100",
          "11-50",
          "11-50",
          "0-10",
          "11-50",
          "11-50",
          "101-200",
          "201-500",
          "11-50",
          "51-100",
          "0-10",
          "0-10",
          "101-200",
          "51-100",
          "11-50",
          "101-200",
          "101-200",
          "11-50",
          "0-10",
          "11-50",
          "0-10",
          "0-10",
          "11-50",
          "0-10",
          "11-50",
          "0-10",
          "11-50",
          "11-50",
          "11-50",
          "0-10",
          "11-50",
          "51-100",
          "51-100",
          "11-50",
          "11-50",
          "0-10",
          "11-50",
          "0-10",
          "201-500",
          "11-50",
          "201-500",
          "201-500",
          "501+",
          "201-500",
          "11-50",
          "11-50",
          "101-200",
          "11-50",
          "11-50",
          "101-200",
          "201-500",
          "11-50",
          "11-50",
          "11-50",
          "11-50",
          "0-10",
          "11-50",
          "11-50",
          "201-500",
          "101-200",
          "51-100",
          "101-200",
          "101-200",
          "51-100",
          "11-50",
          "101-200",
          "101-200",
          "51-100",
          "101-200",
          "11-50",
          "201-500",
          "201-500",
          "101-200",
          "101-200",
          "501+",
          "501+",
          "11-50",
          "51-100",
          "0-10",
          "51-100",
          "11-50",
          "0-10",
          "51-100",
          "11-50",
          "51-100",
          "101-200",
          "51-100",
          "501+",
          "11-50",
          "0-10",
          "11-50",
          "201-500",
          "51-100",
          "51-100",
          "101-200",
          "11-50",
          "501+",
          "11-50",
          "51-100",
          "11-50",
          "11-50",
          "0-10",
          "11-50",
          "101-200",
          "11-50",
          "0-10",
          "0-10",
          "0-10",
          "0-10",
          "11-50",
          "11-50",
          "11-50",
          "11-50",
          "11-50",
          "11-50",
          "11-50",
          "11-50",
          "11-50",
          "11-50",
          "0-10",
          "51-100",
          "0-10",
          "101-200",
          "11-50",
          "11-50",
          "11-50",
          "101-200",
          "11-50",
          "101-200",
          "501+",
          "0-10",
          "11-50",
          "0-10",
          "11-50",
          "11-50",
          "0-10",
          "0-10",
          "11-50",
          "0-10",
          "0-10",
          "11-50",
          "51-100",
          "0-10",
          "11-50",
          "101-200",
          "11-50",
          "0-10",
          "51-100",
          "11-50",
          "11-50",
          "0-10",
          "11-50",
          "0-10",
          "11-50",
          "101-200",
          "11-50",
          "0-10",
          "11-50",
          "11-50",
          "11-50",
          "11-50",
          "101-200",
          "51-100",
          "11-50",
          "11-50",
          "11-50",
          "11-50",
          "51-100",
          "201-500",
          "11-50",
          "201-500",
          "11-50",
          "101-200",
          "51-100",
          "51-100",
          "51-100",
          "11-50",
          "11-50",
          "11-50",
          "11-50",
          "11-50",
          "201-500",
          "51-100",
          "11-50",
          "11-50",
          "11-50",
          "51-100",
          "51-100",
          "101-200",
          "11-50",
          "101-200",
          "51-100",
          "201-500",
          "51-100",
          "11-50",
          "11-50",
          "11-50",
          "101-200",
          "51-100",
          "11-50",
          "101-200",
          "0-10",
          "11-50",
          "201-500",
          "51-100",
          "51-100",
          "51-100",
          "11-50",
          "0-10",
          "0-10",
          "11-50",
          "11-50",
          "51-100",
          "201-500",
          "11-50",
          "0-10",
          "51-100",
          "0-10",
          "11-50",
          "51-100",
          "101-200",
          "0-10",
          "51-100",
          "0-10",
          "101-200",
          "201-500",
          "11-50",
          "201-500",
          "51-100",
          "101-200",
          "11-50",
          "11-50",
          "51-100",
          "101-200",
          "101-200",
          "51-100",
          "11-50",
          "101-200",
          "11-50",
          "0-10",
          "11-50",
          "51-100",
          "11-50",
          "11-50",
          "11-50",
          "11-50",
          "201-500",
          "101-200",
          "101-200",
          "51-100",
          "0-10",
          "51-100",
          "11-50",
          "201-500",
          "11-50",
          "101-200",
          "51-100",
          "11-50",
          "11-50",
          "101-200",
          "51-100",
          "101-200",
          "11-50",
          "0-10",
          "51-100",
          "201-500",
          "51-100",
          "51-100",
          "0-10",
          "11-50",
          "11-50",
          "11-50",
          "51-100",
          "0-10",
          "101-200",
          "11-50",
          "11-50",
          "51-100",
          "51-100",
          "11-50",
          "11-50",
          "11-50",
          "0-10",
          "51-100",
          "51-100",
          "11-50",
          "11-50",
          "11-50",
          "51-100",
          "0-10",
          "11-50",
          "51-100",
          "11-50",
          "11-50",
          "101-200",
          "11-50",
          "51-100",
          "11-50",
          "101-200",
          "11-50",
          "101-200",
          "11-50",
          "51-100",
          "51-100",
          "11-50",
          "11-50",
          "501+",
          "101-200",
          "0-10",
          "0-10",
          "101-200",
          "11-50",
          "11-50",
          "51-100",
          "0-10",
          "11-50",
          "11-50",
          "11-50",
          "11-50",
          "51-100",
          "11-50",
          "51-100",
          "11-50",
          "0-10",
          "51-100",
          "11-50",
          "11-50",
          "11-50",
          "0-10",
          "51-100",
          "11-50",
          "11-50",
          "11-50",
          "0-10",
          "11-50",
          "11-50",
          "11-50",
          "101-200",
          "51-100",
          "51-100",
          "0-10",
          "11-50",
          "0-10",
          "11-50",
          "51-100",
          "11-50",
          "0-10",
          "0-10",
          "0-10",
          "11-50",
          "51-100",
          "0-10",
          "0-10",
          "11-50",
          "11-50",
          "51-100",
          "51-100",
          "0-10",
          "11-50",
          "51-100",
          "11-50",
          "11-50",
          "0-10",
          "11-50",
          "11-50",
          "51-100",
          "11-50",
          "11-50",
          "51-100",
          "11-50",
          "101-200",
          "11-50",
          "11-50",
          "11-50",
          "11-50",
          "11-50",
          "11-50",
          "0-10",
          "11-50",
          "0-10",
          "11-50",
          "0-10",
          "0-10",
          "0-10",
          "0-10",
          "11-50",
          "11-50",
          "0-10",
          "51-100",
          "0-10",
          "11-50",
          "0-10",
          "11-50",
          "11-50",
          "0-10",
          "101-200",
          "11-50",
          "11-50",
          "11-50",
          "11-50",
          "11-50",
          "51-100",
          "11-50",
          "11-50",
          "11-50",
          "11-50",
          "11-50",
          "11-50",
          "11-50",
          "0-10",
          "11-50",
          "11-50",
          "11-50",
          "51-100",
          "11-50",
          "11-50",
          "11-50",
          "51-100",
          "11-50",
          "0-10",
          "51-100",
          "11-50",
          "11-50",
          "11-50",
          "11-50",
          "0-10",
          "0-10",
          "11-50",
          "11-50",
          "11-50",
          "11-50",
          "11-50",
          "11-50",
          "101-200",
          "201-500",
          "51-100",
          "101-200",
          "11-50",
          "201-500",
          "101-200",
          "101-200",
          "51-100",
          "51-100",
          "101-200",
          "51-100",
          "11-50",
          "101-200",
          "51-100",
          "101-200",
          "0-10",
          "201-500",
          "51-100",
          "11-50",
          "101-200",
          "201-500",
          "101-200",
          "11-50",
          "11-50",
          "201-500",
          "51-100",
          "51-100",
          "51-100",
          "101-200",
          "11-50",
          "11-50",
          "11-50",
          "51-100",
          "201-500",
          "101-200",
          "0-10",
          "51-100",
          "51-100",
          "11-50",
          "51-100",
          "11-50",
          "51-100",
          "11-50",
          "11-50",
          "51-100",
          "0-10",
          "51-100",
          "11-50",
          "501+",
          "101-200",
          "11-50",
          "11-50",
          "0-10",
          "0-10",
          "0-10",
          "0-10",
          "0-10",
          "0-10",
          "0-10",
          "0-10",
          "0-10",
          "0-10",
          "0-10",
          "0-10",
          "0-10",
          "0-10",
          "0-10",
          "51-100",
          "11-50",
          "11-50",
          "51-100",
          "51-100",
          "51-100",
          "0-10",
          "11-50",
          "11-50",
          "11-50",
          "11-50",
          "101-200",
          "11-50",
          "51-100",
          "51-100"
         ],
         "x0": " ",
         "xaxis": "x",
         "y": {
          "bdata": "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",
          "dtype": "f8"
         },
         "y0": " ",
         "yaxis": "y"
        }
       ],
       "layout": {
        "boxmode": "group",
        "legend": {
         "tracegroupgap": 0
        },
        "template": {
         "data": {
          "bar": [
           {
            "error_x": {
             "color": "#2a3f5f"
            },
            "error_y": {
             "color": "#2a3f5f"
            },
            "marker": {
             "line": {
              "color": "white",
              "width": 0.5
             },
             "pattern": {
              "fillmode": "overlay",
              "size": 10,
              "solidity": 0.2
             }
            },
            "type": "bar"
           }
          ],
          "barpolar": [
           {
            "marker": {
             "line": {
              "color": "white",
              "width": 0.5
             },
             "pattern": {
              "fillmode": "overlay",
              "size": 10,
              "solidity": 0.2
             }
            },
            "type": "barpolar"
           }
          ],
          "carpet": [
           {
            "aaxis": {
             "endlinecolor": "#2a3f5f",
             "gridcolor": "#C8D4E3",
             "linecolor": "#C8D4E3",
             "minorgridcolor": "#C8D4E3",
             "startlinecolor": "#2a3f5f"
            },
            "baxis": {
             "endlinecolor": "#2a3f5f",
             "gridcolor": "#C8D4E3",
             "linecolor": "#C8D4E3",
             "minorgridcolor": "#C8D4E3",
             "startlinecolor": "#2a3f5f"
            },
            "type": "carpet"
           }
          ],
          "choropleth": [
           {
            "colorbar": {
             "outlinewidth": 0,
             "ticks": ""
            },
            "type": "choropleth"
           }
          ],
          "contour": [
           {
            "colorbar": {
             "outlinewidth": 0,
             "ticks": ""
            },
            "colorscale": [
             [
              0,
              "#0d0887"
             ],
             [
              0.1111111111111111,
              "#46039f"
             ],
             [
              0.2222222222222222,
              "#7201a8"
             ],
             [
              0.3333333333333333,
              "#9c179e"
             ],
             [
              0.4444444444444444,
              "#bd3786"
             ],
             [
              0.5555555555555556,
              "#d8576b"
             ],
             [
              0.6666666666666666,
              "#ed7953"
             ],
             [
              0.7777777777777778,
              "#fb9f3a"
             ],
             [
              0.8888888888888888,
              "#fdca26"
             ],
             [
              1,
              "#f0f921"
             ]
            ],
            "type": "contour"
           }
          ],
          "contourcarpet": [
           {
            "colorbar": {
             "outlinewidth": 0,
             "ticks": ""
            },
            "type": "contourcarpet"
           }
          ],
          "heatmap": [
           {
            "colorbar": {
             "outlinewidth": 0,
             "ticks": ""
            },
            "colorscale": [
             [
              0,
              "#0d0887"
             ],
             [
              0.1111111111111111,
              "#46039f"
             ],
             [
              0.2222222222222222,
              "#7201a8"
             ],
             [
              0.3333333333333333,
              "#9c179e"
             ],
             [
              0.4444444444444444,
              "#bd3786"
             ],
             [
              0.5555555555555556,
              "#d8576b"
             ],
             [
              0.6666666666666666,
              "#ed7953"
             ],
             [
              0.7777777777777778,
              "#fb9f3a"
             ],
             [
              0.8888888888888888,
              "#fdca26"
             ],
             [
              1,
              "#f0f921"
             ]
            ],
            "type": "heatmap"
           }
          ],
          "histogram": [
           {
            "marker": {
             "pattern": {
              "fillmode": "overlay",
              "size": 10,
              "solidity": 0.2
             }
            },
            "type": "histogram"
           }
          ],
          "histogram2d": [
           {
            "colorbar": {
             "outlinewidth": 0,
             "ticks": ""
            },
            "colorscale": [
             [
              0,
              "#0d0887"
             ],
             [
              0.1111111111111111,
              "#46039f"
             ],
             [
              0.2222222222222222,
              "#7201a8"
             ],
             [
              0.3333333333333333,
              "#9c179e"
             ],
             [
              0.4444444444444444,
              "#bd3786"
             ],
             [
              0.5555555555555556,
              "#d8576b"
             ],
             [
              0.6666666666666666,
              "#ed7953"
             ],
             [
              0.7777777777777778,
              "#fb9f3a"
             ],
             [
              0.8888888888888888,
              "#fdca26"
             ],
             [
              1,
              "#f0f921"
             ]
            ],
            "type": "histogram2d"
           }
          ],
          "histogram2dcontour": [
           {
            "colorbar": {
             "outlinewidth": 0,
             "ticks": ""
            },
            "colorscale": [
             [
              0,
              "#0d0887"
             ],
             [
              0.1111111111111111,
              "#46039f"
             ],
             [
              0.2222222222222222,
              "#7201a8"
             ],
             [
              0.3333333333333333,
              "#9c179e"
             ],
             [
              0.4444444444444444,
              "#bd3786"
             ],
             [
              0.5555555555555556,
              "#d8576b"
             ],
             [
              0.6666666666666666,
              "#ed7953"
             ],
             [
              0.7777777777777778,
              "#fb9f3a"
             ],
             [
              0.8888888888888888,
              "#fdca26"
             ],
             [
              1,
              "#f0f921"
             ]
            ],
            "type": "histogram2dcontour"
           }
          ],
          "mesh3d": [
           {
            "colorbar": {
             "outlinewidth": 0,
             "ticks": ""
            },
            "type": "mesh3d"
           }
          ],
          "parcoords": [
           {
            "line": {
             "colorbar": {
              "outlinewidth": 0,
              "ticks": ""
             }
            },
            "type": "parcoords"
           }
          ],
          "pie": [
           {
            "automargin": true,
            "type": "pie"
           }
          ],
          "scatter": [
           {
            "fillpattern": {
             "fillmode": "overlay",
             "size": 10,
             "solidity": 0.2
            },
            "type": "scatter"
           }
          ],
          "scatter3d": [
           {
            "line": {
             "colorbar": {
              "outlinewidth": 0,
              "ticks": ""
             }
            },
            "marker": {
             "colorbar": {
              "outlinewidth": 0,
              "ticks": ""
             }
            },
            "type": "scatter3d"
           }
          ],
          "scattercarpet": [
           {
            "marker": {
             "colorbar": {
              "outlinewidth": 0,
              "ticks": ""
             }
            },
            "type": "scattercarpet"
           }
          ],
          "scattergeo": [
           {
            "marker": {
             "colorbar": {
              "outlinewidth": 0,
              "ticks": ""
             }
            },
            "type": "scattergeo"
           }
          ],
          "scattergl": [
           {
            "marker": {
             "colorbar": {
              "outlinewidth": 0,
              "ticks": ""
             }
            },
            "type": "scattergl"
           }
          ],
          "scattermap": [
           {
            "marker": {
             "colorbar": {
              "outlinewidth": 0,
              "ticks": ""
             }
            },
            "type": "scattermap"
           }
          ],
          "scattermapbox": [
           {
            "marker": {
             "colorbar": {
              "outlinewidth": 0,
              "ticks": ""
             }
            },
            "type": "scattermapbox"
           }
          ],
          "scatterpolar": [
           {
            "marker": {
             "colorbar": {
              "outlinewidth": 0,
              "ticks": ""
             }
            },
            "type": "scatterpolar"
           }
          ],
          "scatterpolargl": [
           {
            "marker": {
             "colorbar": {
              "outlinewidth": 0,
              "ticks": ""
             }
            },
            "type": "scatterpolargl"
           }
          ],
          "scatterternary": [
           {
            "marker": {
             "colorbar": {
              "outlinewidth": 0,
              "ticks": ""
             }
            },
            "type": "scatterternary"
           }
          ],
          "surface": [
           {
            "colorbar": {
             "outlinewidth": 0,
             "ticks": ""
            },
            "colorscale": [
             [
              0,
              "#0d0887"
             ],
             [
              0.1111111111111111,
              "#46039f"
             ],
             [
              0.2222222222222222,
              "#7201a8"
             ],
             [
              0.3333333333333333,
              "#9c179e"
             ],
             [
              0.4444444444444444,
              "#bd3786"
             ],
             [
              0.5555555555555556,
              "#d8576b"
             ],
             [
              0.6666666666666666,
              "#ed7953"
             ],
             [
              0.7777777777777778,
              "#fb9f3a"
             ],
             [
              0.8888888888888888,
              "#fdca26"
             ],
             [
              1,
              "#f0f921"
             ]
            ],
            "type": "surface"
           }
          ],
          "table": [
           {
            "cells": {
             "fill": {
              "color": "#EBF0F8"
             },
             "line": {
              "color": "white"
             }
            },
            "header": {
             "fill": {
              "color": "#C8D4E3"
             },
             "line": {
              "color": "white"
             }
            },
            "type": "table"
           }
          ]
         },
         "layout": {
          "annotationdefaults": {
           "arrowcolor": "#2a3f5f",
           "arrowhead": 0,
           "arrowwidth": 1
          },
          "autotypenumbers": "strict",
          "coloraxis": {
           "colorbar": {
            "outlinewidth": 0,
            "ticks": ""
           }
          },
          "colorscale": {
           "diverging": [
            [
             0,
             "#8e0152"
            ],
            [
             0.1,
             "#c51b7d"
            ],
            [
             0.2,
             "#de77ae"
            ],
            [
             0.3,
             "#f1b6da"
            ],
            [
             0.4,
             "#fde0ef"
            ],
            [
             0.5,
             "#f7f7f7"
            ],
            [
             0.6,
             "#e6f5d0"
            ],
            [
             0.7,
             "#b8e186"
            ],
            [
             0.8,
             "#7fbc41"
            ],
            [
             0.9,
             "#4d9221"
            ],
            [
             1,
             "#276419"
            ]
           ],
           "sequential": [
            [
             0,
             "#0d0887"
            ],
            [
             0.1111111111111111,
             "#46039f"
            ],
            [
             0.2222222222222222,
             "#7201a8"
            ],
            [
             0.3333333333333333,
             "#9c179e"
            ],
            [
             0.4444444444444444,
             "#bd3786"
            ],
            [
             0.5555555555555556,
             "#d8576b"
            ],
            [
             0.6666666666666666,
             "#ed7953"
            ],
            [
             0.7777777777777778,
             "#fb9f3a"
            ],
            [
             0.8888888888888888,
             "#fdca26"
            ],
            [
             1,
             "#f0f921"
            ]
           ],
           "sequentialminus": [
            [
             0,
             "#0d0887"
            ],
            [
             0.1111111111111111,
             "#46039f"
            ],
            [
             0.2222222222222222,
             "#7201a8"
            ],
            [
             0.3333333333333333,
             "#9c179e"
            ],
            [
             0.4444444444444444,
             "#bd3786"
            ],
            [
             0.5555555555555556,
             "#d8576b"
            ],
            [
             0.6666666666666666,
             "#ed7953"
            ],
            [
             0.7777777777777778,
             "#fb9f3a"
            ],
            [
             0.8888888888888888,
             "#fdca26"
            ],
            [
             1,
             "#f0f921"
            ]
           ]
          },
          "colorway": [
           "#636efa",
           "#EF553B",
           "#00cc96",
           "#ab63fa",
           "#FFA15A",
           "#19d3f3",
           "#FF6692",
           "#B6E880",
           "#FF97FF",
           "#FECB52"
          ],
          "font": {
           "color": "#2a3f5f"
          },
          "geo": {
           "bgcolor": "white",
           "lakecolor": "white",
           "landcolor": "white",
           "showlakes": true,
           "showland": true,
           "subunitcolor": "#C8D4E3"
          },
          "hoverlabel": {
           "align": "left"
          },
          "hovermode": "closest",
          "mapbox": {
           "style": "light"
          },
          "paper_bgcolor": "white",
          "plot_bgcolor": "white",
          "polar": {
           "angularaxis": {
            "gridcolor": "#EBF0F8",
            "linecolor": "#EBF0F8",
            "ticks": ""
           },
           "bgcolor": "white",
           "radialaxis": {
            "gridcolor": "#EBF0F8",
            "linecolor": "#EBF0F8",
            "ticks": ""
           }
          },
          "scene": {
           "xaxis": {
            "backgroundcolor": "white",
            "gridcolor": "#DFE8F3",
            "gridwidth": 2,
            "linecolor": "#EBF0F8",
            "showbackground": true,
            "ticks": "",
            "zerolinecolor": "#EBF0F8"
           },
           "yaxis": {
            "backgroundcolor": "white",
            "gridcolor": "#DFE8F3",
            "gridwidth": 2,
            "linecolor": "#EBF0F8",
            "showbackground": true,
            "ticks": "",
            "zerolinecolor": "#EBF0F8"
           },
           "zaxis": {
            "backgroundcolor": "white",
            "gridcolor": "#DFE8F3",
            "gridwidth": 2,
            "linecolor": "#EBF0F8",
            "showbackground": true,
            "ticks": "",
            "zerolinecolor": "#EBF0F8"
           }
          },
          "shapedefaults": {
           "line": {
            "color": "#2a3f5f"
           }
          },
          "ternary": {
           "aaxis": {
            "gridcolor": "#DFE8F3",
            "linecolor": "#A2B1C6",
            "ticks": ""
           },
           "baxis": {
            "gridcolor": "#DFE8F3",
            "linecolor": "#A2B1C6",
            "ticks": ""
           },
           "bgcolor": "white",
           "caxis": {
            "gridcolor": "#DFE8F3",
            "linecolor": "#A2B1C6",
            "ticks": ""
           }
          },
          "title": {
           "x": 0.05
          },
          "xaxis": {
           "automargin": true,
           "gridcolor": "#EBF0F8",
           "linecolor": "#EBF0F8",
           "ticks": "",
           "title": {
            "standoff": 15
           },
           "zerolinecolor": "#EBF0F8",
           "zerolinewidth": 2
          },
          "yaxis": {
           "automargin": true,
           "gridcolor": "#EBF0F8",
           "linecolor": "#EBF0F8",
           "ticks": "",
           "title": {
            "standoff": 15
           },
           "zerolinecolor": "#EBF0F8",
           "zerolinewidth": 2
          }
         }
        },
        "title": {
         "text": "Distribuzione delle durate delle partite in base alla differenza di ranking"
        },
        "xaxis": {
         "anchor": "y",
         "categoryarray": [
          "0-10",
          "11-50",
          "51-100",
          "101-200",
          "201-500",
          "501+"
         ],
         "categoryorder": "array",
         "domain": [
          0,
          1
         ],
         "title": {
          "text": "Differenza di Ranking"
         }
        },
        "yaxis": {
         "anchor": "x",
         "domain": [
          0,
          1
         ],
         "title": {
          "text": "Durata (minuti)"
         }
        }
       }
      }
     },
     "metadata": {},
     "output_type": "display_data"
    }
   ],
   "source": [
    "# Calcola la differenza di ranking tra vincitore e perdente\n",
    "df['rank_diff'] = abs(df['winner_rank'] - df['loser_rank'])\n",
    " \n",
    "# Filtra le righe con valori validi per 'minutes' e 'rank_diff'\n",
    "df_filtered = df.dropna(subset=['minutes', 'rank_diff'])\n",
    " \n",
    "# Crea un boxplot per mostrare la distribuzione delle durate delle partite in base alla differenza di ranking\n",
    "fig = px.box(\n",
    "    df_filtered,\n",
    "    x=pd.cut(df_filtered['rank_diff'], bins=[0, 10, 50, 100, 200, 500, 1000], labels=['0-10', '11-50', '51-100', '101-200', '201-500', '501+']),\n",
    "    y='minutes',\n",
    "    title='Distribuzione delle durate delle partite in base alla differenza di ranking',\n",
    "    labels={'x': 'Differenza di Ranking', 'minutes': 'Durata (minuti)'},\n",
    "    color_discrete_sequence=['#d2f644']\n",
    ")\n",
    " \n",
    "fig.update_layout(template='plotly_white')\n",
    "fig.update_xaxes(categoryorder='array', categoryarray=['0-10', '11-50', '51-100', '101-200', '201-500', '501+'])\n",
    "fig.show()"
   ]
  },
  {
   "cell_type": "markdown",
   "metadata": {},
   "source": [
    "# 16.Quanto frequentemente un giocatore con un ranking minore sconfigge uno con un ranking maggiore?"
   ]
  },
  {
   "cell_type": "code",
   "execution_count": 29,
   "metadata": {},
   "outputs": [
    {
     "data": {
      "application/vnd.plotly.v1+json": {
       "config": {
        "plotlyServerURL": "https://plot.ly"
       },
       "data": [
        {
         "hovertemplate": "Categoria=%{x}<br>Frequenza=%{text}<extra></extra>",
         "insidetextanchor": "middle",
         "legendgroup": "Upset",
         "marker": {
          "color": "#000000",
          "pattern": {
           "shape": ""
          }
         },
         "name": "Upset",
         "orientation": "v",
         "showlegend": true,
         "text": {
          "bdata": "AAAAAADckEA=",
          "dtype": "f8"
         },
         "textfont": {
          "color": "white",
          "size": 14
         },
         "textposition": "inside",
         "type": "bar",
         "x": [
          "Upset"
         ],
         "xaxis": "x",
         "y": {
          "bdata": "NwQ=",
          "dtype": "i2"
         },
         "yaxis": "y"
        },
        {
         "hovertemplate": "Categoria=%{x}<br>Frequenza=%{text}<extra></extra>",
         "insidetextanchor": "middle",
         "legendgroup": "Non-Upset",
         "marker": {
          "color": "#d2f644",
          "pattern": {
           "shape": ""
          }
         },
         "name": "Non-Upset",
         "orientation": "v",
         "showlegend": true,
         "text": {
          "bdata": "AAAAAADMnUA=",
          "dtype": "f8"
         },
         "textfont": {
          "color": "white",
          "size": 14
         },
         "textposition": "inside",
         "type": "bar",
         "x": [
          "Non-Upset"
         ],
         "xaxis": "x",
         "y": {
          "bdata": "cwc=",
          "dtype": "i2"
         },
         "yaxis": "y"
        }
       ],
       "layout": {
        "barmode": "relative",
        "legend": {
         "title": {
          "text": "Categoria"
         },
         "tracegroupgap": 0
        },
        "template": {
         "data": {
          "bar": [
           {
            "error_x": {
             "color": "#2a3f5f"
            },
            "error_y": {
             "color": "#2a3f5f"
            },
            "marker": {
             "line": {
              "color": "white",
              "width": 0.5
             },
             "pattern": {
              "fillmode": "overlay",
              "size": 10,
              "solidity": 0.2
             }
            },
            "type": "bar"
           }
          ],
          "barpolar": [
           {
            "marker": {
             "line": {
              "color": "white",
              "width": 0.5
             },
             "pattern": {
              "fillmode": "overlay",
              "size": 10,
              "solidity": 0.2
             }
            },
            "type": "barpolar"
           }
          ],
          "carpet": [
           {
            "aaxis": {
             "endlinecolor": "#2a3f5f",
             "gridcolor": "#C8D4E3",
             "linecolor": "#C8D4E3",
             "minorgridcolor": "#C8D4E3",
             "startlinecolor": "#2a3f5f"
            },
            "baxis": {
             "endlinecolor": "#2a3f5f",
             "gridcolor": "#C8D4E3",
             "linecolor": "#C8D4E3",
             "minorgridcolor": "#C8D4E3",
             "startlinecolor": "#2a3f5f"
            },
            "type": "carpet"
           }
          ],
          "choropleth": [
           {
            "colorbar": {
             "outlinewidth": 0,
             "ticks": ""
            },
            "type": "choropleth"
           }
          ],
          "contour": [
           {
            "colorbar": {
             "outlinewidth": 0,
             "ticks": ""
            },
            "colorscale": [
             [
              0,
              "#0d0887"
             ],
             [
              0.1111111111111111,
              "#46039f"
             ],
             [
              0.2222222222222222,
              "#7201a8"
             ],
             [
              0.3333333333333333,
              "#9c179e"
             ],
             [
              0.4444444444444444,
              "#bd3786"
             ],
             [
              0.5555555555555556,
              "#d8576b"
             ],
             [
              0.6666666666666666,
              "#ed7953"
             ],
             [
              0.7777777777777778,
              "#fb9f3a"
             ],
             [
              0.8888888888888888,
              "#fdca26"
             ],
             [
              1,
              "#f0f921"
             ]
            ],
            "type": "contour"
           }
          ],
          "contourcarpet": [
           {
            "colorbar": {
             "outlinewidth": 0,
             "ticks": ""
            },
            "type": "contourcarpet"
           }
          ],
          "heatmap": [
           {
            "colorbar": {
             "outlinewidth": 0,
             "ticks": ""
            },
            "colorscale": [
             [
              0,
              "#0d0887"
             ],
             [
              0.1111111111111111,
              "#46039f"
             ],
             [
              0.2222222222222222,
              "#7201a8"
             ],
             [
              0.3333333333333333,
              "#9c179e"
             ],
             [
              0.4444444444444444,
              "#bd3786"
             ],
             [
              0.5555555555555556,
              "#d8576b"
             ],
             [
              0.6666666666666666,
              "#ed7953"
             ],
             [
              0.7777777777777778,
              "#fb9f3a"
             ],
             [
              0.8888888888888888,
              "#fdca26"
             ],
             [
              1,
              "#f0f921"
             ]
            ],
            "type": "heatmap"
           }
          ],
          "histogram": [
           {
            "marker": {
             "pattern": {
              "fillmode": "overlay",
              "size": 10,
              "solidity": 0.2
             }
            },
            "type": "histogram"
           }
          ],
          "histogram2d": [
           {
            "colorbar": {
             "outlinewidth": 0,
             "ticks": ""
            },
            "colorscale": [
             [
              0,
              "#0d0887"
             ],
             [
              0.1111111111111111,
              "#46039f"
             ],
             [
              0.2222222222222222,
              "#7201a8"
             ],
             [
              0.3333333333333333,
              "#9c179e"
             ],
             [
              0.4444444444444444,
              "#bd3786"
             ],
             [
              0.5555555555555556,
              "#d8576b"
             ],
             [
              0.6666666666666666,
              "#ed7953"
             ],
             [
              0.7777777777777778,
              "#fb9f3a"
             ],
             [
              0.8888888888888888,
              "#fdca26"
             ],
             [
              1,
              "#f0f921"
             ]
            ],
            "type": "histogram2d"
           }
          ],
          "histogram2dcontour": [
           {
            "colorbar": {
             "outlinewidth": 0,
             "ticks": ""
            },
            "colorscale": [
             [
              0,
              "#0d0887"
             ],
             [
              0.1111111111111111,
              "#46039f"
             ],
             [
              0.2222222222222222,
              "#7201a8"
             ],
             [
              0.3333333333333333,
              "#9c179e"
             ],
             [
              0.4444444444444444,
              "#bd3786"
             ],
             [
              0.5555555555555556,
              "#d8576b"
             ],
             [
              0.6666666666666666,
              "#ed7953"
             ],
             [
              0.7777777777777778,
              "#fb9f3a"
             ],
             [
              0.8888888888888888,
              "#fdca26"
             ],
             [
              1,
              "#f0f921"
             ]
            ],
            "type": "histogram2dcontour"
           }
          ],
          "mesh3d": [
           {
            "colorbar": {
             "outlinewidth": 0,
             "ticks": ""
            },
            "type": "mesh3d"
           }
          ],
          "parcoords": [
           {
            "line": {
             "colorbar": {
              "outlinewidth": 0,
              "ticks": ""
             }
            },
            "type": "parcoords"
           }
          ],
          "pie": [
           {
            "automargin": true,
            "type": "pie"
           }
          ],
          "scatter": [
           {
            "fillpattern": {
             "fillmode": "overlay",
             "size": 10,
             "solidity": 0.2
            },
            "type": "scatter"
           }
          ],
          "scatter3d": [
           {
            "line": {
             "colorbar": {
              "outlinewidth": 0,
              "ticks": ""
             }
            },
            "marker": {
             "colorbar": {
              "outlinewidth": 0,
              "ticks": ""
             }
            },
            "type": "scatter3d"
           }
          ],
          "scattercarpet": [
           {
            "marker": {
             "colorbar": {
              "outlinewidth": 0,
              "ticks": ""
             }
            },
            "type": "scattercarpet"
           }
          ],
          "scattergeo": [
           {
            "marker": {
             "colorbar": {
              "outlinewidth": 0,
              "ticks": ""
             }
            },
            "type": "scattergeo"
           }
          ],
          "scattergl": [
           {
            "marker": {
             "colorbar": {
              "outlinewidth": 0,
              "ticks": ""
             }
            },
            "type": "scattergl"
           }
          ],
          "scattermap": [
           {
            "marker": {
             "colorbar": {
              "outlinewidth": 0,
              "ticks": ""
             }
            },
            "type": "scattermap"
           }
          ],
          "scattermapbox": [
           {
            "marker": {
             "colorbar": {
              "outlinewidth": 0,
              "ticks": ""
             }
            },
            "type": "scattermapbox"
           }
          ],
          "scatterpolar": [
           {
            "marker": {
             "colorbar": {
              "outlinewidth": 0,
              "ticks": ""
             }
            },
            "type": "scatterpolar"
           }
          ],
          "scatterpolargl": [
           {
            "marker": {
             "colorbar": {
              "outlinewidth": 0,
              "ticks": ""
             }
            },
            "type": "scatterpolargl"
           }
          ],
          "scatterternary": [
           {
            "marker": {
             "colorbar": {
              "outlinewidth": 0,
              "ticks": ""
             }
            },
            "type": "scatterternary"
           }
          ],
          "surface": [
           {
            "colorbar": {
             "outlinewidth": 0,
             "ticks": ""
            },
            "colorscale": [
             [
              0,
              "#0d0887"
             ],
             [
              0.1111111111111111,
              "#46039f"
             ],
             [
              0.2222222222222222,
              "#7201a8"
             ],
             [
              0.3333333333333333,
              "#9c179e"
             ],
             [
              0.4444444444444444,
              "#bd3786"
             ],
             [
              0.5555555555555556,
              "#d8576b"
             ],
             [
              0.6666666666666666,
              "#ed7953"
             ],
             [
              0.7777777777777778,
              "#fb9f3a"
             ],
             [
              0.8888888888888888,
              "#fdca26"
             ],
             [
              1,
              "#f0f921"
             ]
            ],
            "type": "surface"
           }
          ],
          "table": [
           {
            "cells": {
             "fill": {
              "color": "#EBF0F8"
             },
             "line": {
              "color": "white"
             }
            },
            "header": {
             "fill": {
              "color": "#C8D4E3"
             },
             "line": {
              "color": "white"
             }
            },
            "type": "table"
           }
          ]
         },
         "layout": {
          "annotationdefaults": {
           "arrowcolor": "#2a3f5f",
           "arrowhead": 0,
           "arrowwidth": 1
          },
          "autotypenumbers": "strict",
          "coloraxis": {
           "colorbar": {
            "outlinewidth": 0,
            "ticks": ""
           }
          },
          "colorscale": {
           "diverging": [
            [
             0,
             "#8e0152"
            ],
            [
             0.1,
             "#c51b7d"
            ],
            [
             0.2,
             "#de77ae"
            ],
            [
             0.3,
             "#f1b6da"
            ],
            [
             0.4,
             "#fde0ef"
            ],
            [
             0.5,
             "#f7f7f7"
            ],
            [
             0.6,
             "#e6f5d0"
            ],
            [
             0.7,
             "#b8e186"
            ],
            [
             0.8,
             "#7fbc41"
            ],
            [
             0.9,
             "#4d9221"
            ],
            [
             1,
             "#276419"
            ]
           ],
           "sequential": [
            [
             0,
             "#0d0887"
            ],
            [
             0.1111111111111111,
             "#46039f"
            ],
            [
             0.2222222222222222,
             "#7201a8"
            ],
            [
             0.3333333333333333,
             "#9c179e"
            ],
            [
             0.4444444444444444,
             "#bd3786"
            ],
            [
             0.5555555555555556,
             "#d8576b"
            ],
            [
             0.6666666666666666,
             "#ed7953"
            ],
            [
             0.7777777777777778,
             "#fb9f3a"
            ],
            [
             0.8888888888888888,
             "#fdca26"
            ],
            [
             1,
             "#f0f921"
            ]
           ],
           "sequentialminus": [
            [
             0,
             "#0d0887"
            ],
            [
             0.1111111111111111,
             "#46039f"
            ],
            [
             0.2222222222222222,
             "#7201a8"
            ],
            [
             0.3333333333333333,
             "#9c179e"
            ],
            [
             0.4444444444444444,
             "#bd3786"
            ],
            [
             0.5555555555555556,
             "#d8576b"
            ],
            [
             0.6666666666666666,
             "#ed7953"
            ],
            [
             0.7777777777777778,
             "#fb9f3a"
            ],
            [
             0.8888888888888888,
             "#fdca26"
            ],
            [
             1,
             "#f0f921"
            ]
           ]
          },
          "colorway": [
           "#636efa",
           "#EF553B",
           "#00cc96",
           "#ab63fa",
           "#FFA15A",
           "#19d3f3",
           "#FF6692",
           "#B6E880",
           "#FF97FF",
           "#FECB52"
          ],
          "font": {
           "color": "#2a3f5f"
          },
          "geo": {
           "bgcolor": "white",
           "lakecolor": "white",
           "landcolor": "white",
           "showlakes": true,
           "showland": true,
           "subunitcolor": "#C8D4E3"
          },
          "hoverlabel": {
           "align": "left"
          },
          "hovermode": "closest",
          "mapbox": {
           "style": "light"
          },
          "paper_bgcolor": "white",
          "plot_bgcolor": "white",
          "polar": {
           "angularaxis": {
            "gridcolor": "#EBF0F8",
            "linecolor": "#EBF0F8",
            "ticks": ""
           },
           "bgcolor": "white",
           "radialaxis": {
            "gridcolor": "#EBF0F8",
            "linecolor": "#EBF0F8",
            "ticks": ""
           }
          },
          "scene": {
           "xaxis": {
            "backgroundcolor": "white",
            "gridcolor": "#DFE8F3",
            "gridwidth": 2,
            "linecolor": "#EBF0F8",
            "showbackground": true,
            "ticks": "",
            "zerolinecolor": "#EBF0F8"
           },
           "yaxis": {
            "backgroundcolor": "white",
            "gridcolor": "#DFE8F3",
            "gridwidth": 2,
            "linecolor": "#EBF0F8",
            "showbackground": true,
            "ticks": "",
            "zerolinecolor": "#EBF0F8"
           },
           "zaxis": {
            "backgroundcolor": "white",
            "gridcolor": "#DFE8F3",
            "gridwidth": 2,
            "linecolor": "#EBF0F8",
            "showbackground": true,
            "ticks": "",
            "zerolinecolor": "#EBF0F8"
           }
          },
          "shapedefaults": {
           "line": {
            "color": "#2a3f5f"
           }
          },
          "ternary": {
           "aaxis": {
            "gridcolor": "#DFE8F3",
            "linecolor": "#A2B1C6",
            "ticks": ""
           },
           "baxis": {
            "gridcolor": "#DFE8F3",
            "linecolor": "#A2B1C6",
            "ticks": ""
           },
           "bgcolor": "white",
           "caxis": {
            "gridcolor": "#DFE8F3",
            "linecolor": "#A2B1C6",
            "ticks": ""
           }
          },
          "title": {
           "x": 0.05
          },
          "xaxis": {
           "automargin": true,
           "gridcolor": "#EBF0F8",
           "linecolor": "#EBF0F8",
           "ticks": "",
           "title": {
            "standoff": 15
           },
           "zerolinecolor": "#EBF0F8",
           "zerolinewidth": 2
          },
          "yaxis": {
           "automargin": true,
           "gridcolor": "#EBF0F8",
           "linecolor": "#EBF0F8",
           "ticks": "",
           "title": {
            "standoff": 15
           },
           "zerolinecolor": "#EBF0F8",
           "zerolinewidth": 2
          }
         }
        },
        "title": {
         "text": "Frequenza di upset (giocatore con ranking minore che vince): 36.14%"
        },
        "xaxis": {
         "anchor": "y",
         "categoryarray": [
          "Upset",
          "Non-Upset"
         ],
         "categoryorder": "array",
         "domain": [
          0,
          1
         ],
         "title": {
          "text": "Categoria"
         }
        },
        "yaxis": {
         "anchor": "x",
         "domain": [
          0,
          1
         ],
         "title": {
          "text": "Frequenza"
         }
        }
       }
      }
     },
     "metadata": {},
     "output_type": "display_data"
    }
   ],
   "source": [
    "# Filtra gli upset\n",
    "upsets = df[df['winner_rank'] > df['loser_rank']]\n",
    "total_matches = len(df)\n",
    "upset_frequency = len(upsets) / total_matches\n",
    "\n",
    "# Prepara i dati\n",
    "upset_data = pd.DataFrame({\n",
    "    'Categoria': ['Upset', 'Non-Upset'],\n",
    "    'Frequenza': [len(upsets), total_matches - len(upsets)]\n",
    "})\n",
    "\n",
    "# Grafico con numeri DENTRO le colonne\n",
    "fig = px.bar(\n",
    "    upset_data,\n",
    "    x='Categoria',\n",
    "    y='Frequenza',\n",
    "    text='Frequenza',\n",
    "    title=f\"Frequenza di upset (giocatore con ranking minore che vince): {upset_frequency:.2%}\",\n",
    "    color='Categoria',\n",
    "    color_discrete_sequence=['#000000', '#d2f644']\n",
    ")\n",
    "\n",
    "# Etichette centrali e font leggibile\n",
    "fig.update_traces(\n",
    "    textposition='inside',\n",
    "    textfont_size=14,\n",
    "    textfont_color='white',\n",
    "    insidetextanchor='middle'\n",
    ")\n",
    "\n",
    "fig.update_layout(template='plotly_white')\n",
    "fig.show()"
   ]
  },
  {
   "cell_type": "markdown",
   "metadata": {},
   "source": [
    "# 17.Quanto frequentemente un giocatore fuori dalla top 100 sconfigge un giocatore in top 10?"
   ]
  },
  {
   "cell_type": "markdown",
   "metadata": {},
   "source": [
    "#  "
   ]
  },
  {
   "cell_type": "code",
   "execution_count": 20,
   "metadata": {},
   "outputs": [
    {
     "data": {
      "application/vnd.plotly.v1+json": {
       "config": {
        "plotlyServerURL": "https://plot.ly"
       },
       "data": [
        {
         "hovertemplate": "Soglia=%{x}<br>Frequenza (%)=%{text}<extra></extra>",
         "legendgroup": "Top 10",
         "marker": {
          "color": "rgb(237, 239, 93)",
          "pattern": {
           "shape": ""
          }
         },
         "name": "Top 10",
         "orientation": "v",
         "showlegend": true,
         "text": {
          "bdata": "3xWZL00cJkA=",
          "dtype": "f8"
         },
         "textposition": "outside",
         "texttemplate": "%{text:.1f}%",
         "type": "bar",
         "x": [
          "Top 10"
         ],
         "xaxis": "x",
         "y": {
          "bdata": "3xWZL00cJkA=",
          "dtype": "f8"
         },
         "yaxis": "y"
        },
        {
         "hovertemplate": "Soglia=%{x}<br>Frequenza (%)=%{text}<extra></extra>",
         "legendgroup": "Top 20",
         "marker": {
          "color": "rgb(169, 220, 103)",
          "pattern": {
           "shape": ""
          }
         },
         "name": "Top 20",
         "orientation": "v",
         "showlegend": true,
         "text": {
          "bdata": "i4b449blJUA=",
          "dtype": "f8"
         },
         "textposition": "outside",
         "texttemplate": "%{text:.1f}%",
         "type": "bar",
         "x": [
          "Top 20"
         ],
         "xaxis": "x",
         "y": {
          "bdata": "i4b449blJUA=",
          "dtype": "f8"
         },
         "yaxis": "y"
        },
        {
         "hovertemplate": "Soglia=%{x}<br>Frequenza (%)=%{text}<extra></extra>",
         "legendgroup": "Top 50",
         "marker": {
          "color": "rgb(110, 197, 116)",
          "pattern": {
           "shape": ""
          }
         },
         "name": "Top 50",
         "orientation": "v",
         "showlegend": true,
         "text": {
          "bdata": "Ce0ltJfQKEA=",
          "dtype": "f8"
         },
         "textposition": "outside",
         "texttemplate": "%{text:.1f}%",
         "type": "bar",
         "x": [
          "Top 50"
         ],
         "xaxis": "x",
         "y": {
          "bdata": "Ce0ltJfQKEA=",
          "dtype": "f8"
         },
         "yaxis": "y"
        },
        {
         "hovertemplate": "Soglia=%{x}<br>Frequenza (%)=%{text}<extra></extra>",
         "legendgroup": "Top 100",
         "marker": {
          "color": "rgb(57, 171, 126)",
          "pattern": {
           "shape": ""
          }
         },
         "name": "Top 100",
         "orientation": "v",
         "showlegend": true,
         "text": {
          "bdata": "ZVQwmpHbLkA=",
          "dtype": "f8"
         },
         "textposition": "outside",
         "texttemplate": "%{text:.1f}%",
         "type": "bar",
         "x": [
          "Top 100"
         ],
         "xaxis": "x",
         "y": {
          "bdata": "ZVQwmpHbLkA=",
          "dtype": "f8"
         },
         "yaxis": "y"
        }
       ],
       "layout": {
        "barmode": "relative",
        "legend": {
         "title": {
          "text": "Soglia"
         },
         "tracegroupgap": 0
        },
        "showlegend": false,
        "template": {
         "data": {
          "bar": [
           {
            "error_x": {
             "color": "#2a3f5f"
            },
            "error_y": {
             "color": "#2a3f5f"
            },
            "marker": {
             "line": {
              "color": "white",
              "width": 0.5
             },
             "pattern": {
              "fillmode": "overlay",
              "size": 10,
              "solidity": 0.2
             }
            },
            "type": "bar"
           }
          ],
          "barpolar": [
           {
            "marker": {
             "line": {
              "color": "white",
              "width": 0.5
             },
             "pattern": {
              "fillmode": "overlay",
              "size": 10,
              "solidity": 0.2
             }
            },
            "type": "barpolar"
           }
          ],
          "carpet": [
           {
            "aaxis": {
             "endlinecolor": "#2a3f5f",
             "gridcolor": "#C8D4E3",
             "linecolor": "#C8D4E3",
             "minorgridcolor": "#C8D4E3",
             "startlinecolor": "#2a3f5f"
            },
            "baxis": {
             "endlinecolor": "#2a3f5f",
             "gridcolor": "#C8D4E3",
             "linecolor": "#C8D4E3",
             "minorgridcolor": "#C8D4E3",
             "startlinecolor": "#2a3f5f"
            },
            "type": "carpet"
           }
          ],
          "choropleth": [
           {
            "colorbar": {
             "outlinewidth": 0,
             "ticks": ""
            },
            "type": "choropleth"
           }
          ],
          "contour": [
           {
            "colorbar": {
             "outlinewidth": 0,
             "ticks": ""
            },
            "colorscale": [
             [
              0,
              "#0d0887"
             ],
             [
              0.1111111111111111,
              "#46039f"
             ],
             [
              0.2222222222222222,
              "#7201a8"
             ],
             [
              0.3333333333333333,
              "#9c179e"
             ],
             [
              0.4444444444444444,
              "#bd3786"
             ],
             [
              0.5555555555555556,
              "#d8576b"
             ],
             [
              0.6666666666666666,
              "#ed7953"
             ],
             [
              0.7777777777777778,
              "#fb9f3a"
             ],
             [
              0.8888888888888888,
              "#fdca26"
             ],
             [
              1,
              "#f0f921"
             ]
            ],
            "type": "contour"
           }
          ],
          "contourcarpet": [
           {
            "colorbar": {
             "outlinewidth": 0,
             "ticks": ""
            },
            "type": "contourcarpet"
           }
          ],
          "heatmap": [
           {
            "colorbar": {
             "outlinewidth": 0,
             "ticks": ""
            },
            "colorscale": [
             [
              0,
              "#0d0887"
             ],
             [
              0.1111111111111111,
              "#46039f"
             ],
             [
              0.2222222222222222,
              "#7201a8"
             ],
             [
              0.3333333333333333,
              "#9c179e"
             ],
             [
              0.4444444444444444,
              "#bd3786"
             ],
             [
              0.5555555555555556,
              "#d8576b"
             ],
             [
              0.6666666666666666,
              "#ed7953"
             ],
             [
              0.7777777777777778,
              "#fb9f3a"
             ],
             [
              0.8888888888888888,
              "#fdca26"
             ],
             [
              1,
              "#f0f921"
             ]
            ],
            "type": "heatmap"
           }
          ],
          "histogram": [
           {
            "marker": {
             "pattern": {
              "fillmode": "overlay",
              "size": 10,
              "solidity": 0.2
             }
            },
            "type": "histogram"
           }
          ],
          "histogram2d": [
           {
            "colorbar": {
             "outlinewidth": 0,
             "ticks": ""
            },
            "colorscale": [
             [
              0,
              "#0d0887"
             ],
             [
              0.1111111111111111,
              "#46039f"
             ],
             [
              0.2222222222222222,
              "#7201a8"
             ],
             [
              0.3333333333333333,
              "#9c179e"
             ],
             [
              0.4444444444444444,
              "#bd3786"
             ],
             [
              0.5555555555555556,
              "#d8576b"
             ],
             [
              0.6666666666666666,
              "#ed7953"
             ],
             [
              0.7777777777777778,
              "#fb9f3a"
             ],
             [
              0.8888888888888888,
              "#fdca26"
             ],
             [
              1,
              "#f0f921"
             ]
            ],
            "type": "histogram2d"
           }
          ],
          "histogram2dcontour": [
           {
            "colorbar": {
             "outlinewidth": 0,
             "ticks": ""
            },
            "colorscale": [
             [
              0,
              "#0d0887"
             ],
             [
              0.1111111111111111,
              "#46039f"
             ],
             [
              0.2222222222222222,
              "#7201a8"
             ],
             [
              0.3333333333333333,
              "#9c179e"
             ],
             [
              0.4444444444444444,
              "#bd3786"
             ],
             [
              0.5555555555555556,
              "#d8576b"
             ],
             [
              0.6666666666666666,
              "#ed7953"
             ],
             [
              0.7777777777777778,
              "#fb9f3a"
             ],
             [
              0.8888888888888888,
              "#fdca26"
             ],
             [
              1,
              "#f0f921"
             ]
            ],
            "type": "histogram2dcontour"
           }
          ],
          "mesh3d": [
           {
            "colorbar": {
             "outlinewidth": 0,
             "ticks": ""
            },
            "type": "mesh3d"
           }
          ],
          "parcoords": [
           {
            "line": {
             "colorbar": {
              "outlinewidth": 0,
              "ticks": ""
             }
            },
            "type": "parcoords"
           }
          ],
          "pie": [
           {
            "automargin": true,
            "type": "pie"
           }
          ],
          "scatter": [
           {
            "fillpattern": {
             "fillmode": "overlay",
             "size": 10,
             "solidity": 0.2
            },
            "type": "scatter"
           }
          ],
          "scatter3d": [
           {
            "line": {
             "colorbar": {
              "outlinewidth": 0,
              "ticks": ""
             }
            },
            "marker": {
             "colorbar": {
              "outlinewidth": 0,
              "ticks": ""
             }
            },
            "type": "scatter3d"
           }
          ],
          "scattercarpet": [
           {
            "marker": {
             "colorbar": {
              "outlinewidth": 0,
              "ticks": ""
             }
            },
            "type": "scattercarpet"
           }
          ],
          "scattergeo": [
           {
            "marker": {
             "colorbar": {
              "outlinewidth": 0,
              "ticks": ""
             }
            },
            "type": "scattergeo"
           }
          ],
          "scattergl": [
           {
            "marker": {
             "colorbar": {
              "outlinewidth": 0,
              "ticks": ""
             }
            },
            "type": "scattergl"
           }
          ],
          "scattermap": [
           {
            "marker": {
             "colorbar": {
              "outlinewidth": 0,
              "ticks": ""
             }
            },
            "type": "scattermap"
           }
          ],
          "scattermapbox": [
           {
            "marker": {
             "colorbar": {
              "outlinewidth": 0,
              "ticks": ""
             }
            },
            "type": "scattermapbox"
           }
          ],
          "scatterpolar": [
           {
            "marker": {
             "colorbar": {
              "outlinewidth": 0,
              "ticks": ""
             }
            },
            "type": "scatterpolar"
           }
          ],
          "scatterpolargl": [
           {
            "marker": {
             "colorbar": {
              "outlinewidth": 0,
              "ticks": ""
             }
            },
            "type": "scatterpolargl"
           }
          ],
          "scatterternary": [
           {
            "marker": {
             "colorbar": {
              "outlinewidth": 0,
              "ticks": ""
             }
            },
            "type": "scatterternary"
           }
          ],
          "surface": [
           {
            "colorbar": {
             "outlinewidth": 0,
             "ticks": ""
            },
            "colorscale": [
             [
              0,
              "#0d0887"
             ],
             [
              0.1111111111111111,
              "#46039f"
             ],
             [
              0.2222222222222222,
              "#7201a8"
             ],
             [
              0.3333333333333333,
              "#9c179e"
             ],
             [
              0.4444444444444444,
              "#bd3786"
             ],
             [
              0.5555555555555556,
              "#d8576b"
             ],
             [
              0.6666666666666666,
              "#ed7953"
             ],
             [
              0.7777777777777778,
              "#fb9f3a"
             ],
             [
              0.8888888888888888,
              "#fdca26"
             ],
             [
              1,
              "#f0f921"
             ]
            ],
            "type": "surface"
           }
          ],
          "table": [
           {
            "cells": {
             "fill": {
              "color": "#EBF0F8"
             },
             "line": {
              "color": "white"
             }
            },
            "header": {
             "fill": {
              "color": "#C8D4E3"
             },
             "line": {
              "color": "white"
             }
            },
            "type": "table"
           }
          ]
         },
         "layout": {
          "annotationdefaults": {
           "arrowcolor": "#2a3f5f",
           "arrowhead": 0,
           "arrowwidth": 1
          },
          "autotypenumbers": "strict",
          "coloraxis": {
           "colorbar": {
            "outlinewidth": 0,
            "ticks": ""
           }
          },
          "colorscale": {
           "diverging": [
            [
             0,
             "#8e0152"
            ],
            [
             0.1,
             "#c51b7d"
            ],
            [
             0.2,
             "#de77ae"
            ],
            [
             0.3,
             "#f1b6da"
            ],
            [
             0.4,
             "#fde0ef"
            ],
            [
             0.5,
             "#f7f7f7"
            ],
            [
             0.6,
             "#e6f5d0"
            ],
            [
             0.7,
             "#b8e186"
            ],
            [
             0.8,
             "#7fbc41"
            ],
            [
             0.9,
             "#4d9221"
            ],
            [
             1,
             "#276419"
            ]
           ],
           "sequential": [
            [
             0,
             "#0d0887"
            ],
            [
             0.1111111111111111,
             "#46039f"
            ],
            [
             0.2222222222222222,
             "#7201a8"
            ],
            [
             0.3333333333333333,
             "#9c179e"
            ],
            [
             0.4444444444444444,
             "#bd3786"
            ],
            [
             0.5555555555555556,
             "#d8576b"
            ],
            [
             0.6666666666666666,
             "#ed7953"
            ],
            [
             0.7777777777777778,
             "#fb9f3a"
            ],
            [
             0.8888888888888888,
             "#fdca26"
            ],
            [
             1,
             "#f0f921"
            ]
           ],
           "sequentialminus": [
            [
             0,
             "#0d0887"
            ],
            [
             0.1111111111111111,
             "#46039f"
            ],
            [
             0.2222222222222222,
             "#7201a8"
            ],
            [
             0.3333333333333333,
             "#9c179e"
            ],
            [
             0.4444444444444444,
             "#bd3786"
            ],
            [
             0.5555555555555556,
             "#d8576b"
            ],
            [
             0.6666666666666666,
             "#ed7953"
            ],
            [
             0.7777777777777778,
             "#fb9f3a"
            ],
            [
             0.8888888888888888,
             "#fdca26"
            ],
            [
             1,
             "#f0f921"
            ]
           ]
          },
          "colorway": [
           "#636efa",
           "#EF553B",
           "#00cc96",
           "#ab63fa",
           "#FFA15A",
           "#19d3f3",
           "#FF6692",
           "#B6E880",
           "#FF97FF",
           "#FECB52"
          ],
          "font": {
           "color": "#2a3f5f"
          },
          "geo": {
           "bgcolor": "white",
           "lakecolor": "white",
           "landcolor": "white",
           "showlakes": true,
           "showland": true,
           "subunitcolor": "#C8D4E3"
          },
          "hoverlabel": {
           "align": "left"
          },
          "hovermode": "closest",
          "mapbox": {
           "style": "light"
          },
          "paper_bgcolor": "white",
          "plot_bgcolor": "white",
          "polar": {
           "angularaxis": {
            "gridcolor": "#EBF0F8",
            "linecolor": "#EBF0F8",
            "ticks": ""
           },
           "bgcolor": "white",
           "radialaxis": {
            "gridcolor": "#EBF0F8",
            "linecolor": "#EBF0F8",
            "ticks": ""
           }
          },
          "scene": {
           "xaxis": {
            "backgroundcolor": "white",
            "gridcolor": "#DFE8F3",
            "gridwidth": 2,
            "linecolor": "#EBF0F8",
            "showbackground": true,
            "ticks": "",
            "zerolinecolor": "#EBF0F8"
           },
           "yaxis": {
            "backgroundcolor": "white",
            "gridcolor": "#DFE8F3",
            "gridwidth": 2,
            "linecolor": "#EBF0F8",
            "showbackground": true,
            "ticks": "",
            "zerolinecolor": "#EBF0F8"
           },
           "zaxis": {
            "backgroundcolor": "white",
            "gridcolor": "#DFE8F3",
            "gridwidth": 2,
            "linecolor": "#EBF0F8",
            "showbackground": true,
            "ticks": "",
            "zerolinecolor": "#EBF0F8"
           }
          },
          "shapedefaults": {
           "line": {
            "color": "#2a3f5f"
           }
          },
          "ternary": {
           "aaxis": {
            "gridcolor": "#DFE8F3",
            "linecolor": "#A2B1C6",
            "ticks": ""
           },
           "baxis": {
            "gridcolor": "#DFE8F3",
            "linecolor": "#A2B1C6",
            "ticks": ""
           },
           "bgcolor": "white",
           "caxis": {
            "gridcolor": "#DFE8F3",
            "linecolor": "#A2B1C6",
            "ticks": ""
           }
          },
          "title": {
           "x": 0.05
          },
          "xaxis": {
           "automargin": true,
           "gridcolor": "#EBF0F8",
           "linecolor": "#EBF0F8",
           "ticks": "",
           "title": {
            "standoff": 15
           },
           "zerolinecolor": "#EBF0F8",
           "zerolinewidth": 2
          },
          "yaxis": {
           "automargin": true,
           "gridcolor": "#EBF0F8",
           "linecolor": "#EBF0F8",
           "ticks": "",
           "title": {
            "standoff": 15
           },
           "zerolinecolor": "#EBF0F8",
           "zerolinewidth": 2
          }
         }
        },
        "title": {
         "text": "Frequenza di vittorie da parte di giocatori fuori dalla Top 100 contro Top X"
        },
        "xaxis": {
         "anchor": "y",
         "categoryarray": [
          "Top 10",
          "Top 20",
          "Top 50",
          "Top 100"
         ],
         "categoryorder": "array",
         "domain": [
          0,
          1
         ],
         "title": {
          "text": "Soglia"
         }
        },
        "yaxis": {
         "anchor": "x",
         "domain": [
          0,
          1
         ],
         "range": [
          0,
          20
         ],
         "title": {
          "text": "Frequenza (%)"
         }
        }
       }
      }
     },
     "metadata": {},
     "output_type": "display_data"
    }
   ],
   "source": [
    "# Convertiamo le colonne di ranking a numeri interi, ignorando i valori nulli\n",
    "df['winner_rank'] = pd.to_numeric(df['winner_rank'], errors='coerce')\n",
    "df['loser_rank'] = pd.to_numeric(df['loser_rank'], errors='coerce')\n",
    " \n",
    "# Rimuoviamo i match senza ranking\n",
    "ranked_matches = df.dropna(subset=['winner_rank', 'loser_rank'])\n",
    " \n",
    "# Definiamo una funzione per calcolare la frequenza di upset fuori top 100 vs soglia top X\n",
    "def count_upsets(threshold):\n",
    "    condition = (ranked_matches['winner_rank'] > 100) & (ranked_matches['loser_rank'] <= threshold)\n",
    "    total = ranked_matches[ranked_matches['loser_rank'] <= threshold].shape[0]\n",
    "    upsets = condition.sum()\n",
    "    return upsets, total, upsets / total if total > 0 else 0\n",
    " \n",
    "# Calcolo per Top 10, 20, 50, 100\n",
    "upset_stats = {\n",
    "    'Top 10': count_upsets(10),\n",
    "    'Top 20': count_upsets(20),\n",
    "    'Top 50': count_upsets(50),\n",
    "    'Top 100': count_upsets(100)\n",
    "}\n",
    " \n",
    "# Prepara i dati per il grafico\n",
    "upset_df = pd.DataFrame([\n",
    "    {'Soglia': key, 'Frequenza': val[2] * 100} for key, val in upset_stats.items()\n",
    "])\n",
    " \n",
    "# Ordina le soglie per Top 10, 20, 50, 100\n",
    "upset_df['Soglia'] = pd.Categorical(upset_df['Soglia'], categories=['Top 10', 'Top 20', 'Top 50', 'Top 100'], ordered=True)\n",
    "upset_df = upset_df.sort_values('Soglia')\n",
    " \n",
    "# Crea il grafico a barre\n",
    "fig = px.bar(\n",
    "    upset_df,\n",
    "    x='Soglia',\n",
    "    y='Frequenza',\n",
    "    text='Frequenza',\n",
    "    title='Frequenza di vittorie da parte di giocatori fuori dalla Top 100 contro Top X',\n",
    "    labels={'Frequenza': 'Frequenza (%)'},\n",
    "    color='Soglia',\n",
    "    color_discrete_sequence=px.colors.sequential.Aggrnyl[::-1]\n",
    ")\n",
    " \n",
    "fig.update_traces(texttemplate='%{text:.1f}%', textposition='outside')\n",
    "fig.update_layout(yaxis_range=[0, 20], template='plotly_white', showlegend=False)\n",
    " \n",
    "fig.show()\n",
    " "
   ]
  },
  {
   "cell_type": "markdown",
   "metadata": {},
   "source": [
    "# 18. Esiste una correlazione fra il numero di ace effettuati dai due giocatori?"
   ]
  },
  {
   "cell_type": "code",
   "execution_count": 21,
   "metadata": {},
   "outputs": [
    {
     "data": {
      "image/png": "[encoded data removed]",
      "text/plain": [
       "<Figure size 1000x600 with 1 Axes>"
      ]
     },
     "metadata": {},
     "output_type": "display_data"
    },
    {
     "name": "stdout",
     "output_type": "stream",
     "text": [
      "Correlazione tra numero di ace dei vincitori e dei perdenti: 0.30\n"
     ]
    }
   ],
   "source": [
    "# Creare il grafico a dispersione (scatter plot)\n",
    "plt.figure(figsize=(10, 6))\n",
    " \n",
    "# Creiamo il grafico a dispersione tra ace dei vincitori e dei perdenti\n",
    "sns.scatterplot(x=df['w_ace'], y=df['l_ace'], color='#d2f644', edgecolor='black')\n",
    " \n",
    "# Aggiungere una linea di regressione per mostrare la correlazione\n",
    "sns.regplot(x=df['w_ace'], y=df['l_ace'], scatter=False, color='black')\n",
    " \n",
    "# Aggiungere il titolo e le etichette\n",
    "plt.title('Correlazione tra numero di ace effettuati dai vincitori e dai perdenti', fontsize=16)\n",
    "plt.xlabel('Numero di ace (Vincitori)', fontsize=14)\n",
    "plt.ylabel('Numero di ace (Perdenti)', fontsize=14)\n",
    " \n",
    "# Mostrare il grafico\n",
    "plt.show()\n",
    " \n",
    "correlation = df['w_ace'].corr(df['l_ace'])\n",
    "print(f\"Correlazione tra numero di ace dei vincitori e dei perdenti: {correlation:.2f}\")"
   ]
  },
  {
   "cell_type": "markdown",
   "metadata": {},
   "source": [
    "# 19. Qual è la distribuzione del ranking di una wild card in un APT 500?"
   ]
  },
  {
   "cell_type": "code",
   "execution_count": 22,
   "metadata": {},
   "outputs": [
    {
     "data": {
      "image/png": "[encoded data removed]",
      "text/plain": [
       "<Figure size 1000x600 with 1 Axes>"
      ]
     },
     "metadata": {},
     "output_type": "display_data"
    }
   ],
   "source": [
    "# Filtra i dati per i tornei di livello ATP 500 e per i giocatori con entry 'WC' (wild card)\n",
    "wild_card_data = df[(df['tourney_level'] == 'A') & (df['winner_entry'] == 'WC')]\n",
    " \n",
    "# Estrai i ranking dei vincitori wild card\n",
    "wild_card_ranking = wild_card_data['winner_rank'].dropna()\n",
    " \n",
    "# Crea un grafico per mostrare la distribuzione del ranking\n",
    "plt.figure(figsize=(10, 6))\n",
    "sns.histplot(wild_card_ranking, bins=20, kde=True, color='#d2f644', edgecolor='black')\n",
    "plt.title('Distribuzione del Ranking di una Wild Card in un ATP 500', fontsize=16)\n",
    "plt.xlabel('Ranking', fontsize=14)\n",
    "plt.ylabel('Frequenza', fontsize=14)\n",
    "plt.grid(True)\n",
    "plt.show()"
   ]
  },
  {
   "cell_type": "markdown",
   "metadata": {},
   "source": [
    "# 20.Come posso stimare la probabilità di vittoria fra due giocatori in base al loro ranking? E qual è l’errore medio di questa stima?"
   ]
  },
  {
   "cell_type": "code",
   "execution_count": 32,
   "metadata": {},
   "outputs": [
    {
     "data": {
      "application/vnd.plotly.v1+json": {
       "config": {
        "plotlyServerURL": "https://plot.ly"
       },
       "data": [
        {
         "hovertemplate": "variable=predicted_prob<br>Differenza di ranking (avversario - giocatore)=%{x}<br>Probabilità di vittoria=%{y}<extra></extra>",
         "legendgroup": "predicted_prob",
         "line": {
          "color": "#d2f644",
          "dash": "solid"
         },
         "marker": {
          "symbol": "circle"
         },
         "mode": "lines+markers",
         "name": "predicted_prob",
         "orientation": "v",
         "showlegend": true,
         "type": "scatter",
         "x": {
          "bdata": "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",
          "dtype": "f8"
         },
         "xaxis": "x",
         "y": {
          "bdata": "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",
          "dtype": "f8"
         },
         "yaxis": "y"
        },
        {
         "hovertemplate": "variable=true_win_rate<br>Differenza di ranking (avversario - giocatore)=%{x}<br>Probabilità di vittoria=%{y}<extra></extra>",
         "legendgroup": "true_win_rate",
         "line": {
          "color": "#000000",
          "dash": "solid"
         },
         "marker": {
          "symbol": "circle"
         },
         "mode": "lines+markers",
         "name": "true_win_rate",
         "orientation": "v",
         "showlegend": true,
         "type": "scatter",
         "x": {
          "bdata": "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",
          "dtype": "f8"
         },
         "xaxis": "x",
         "y": {
          "bdata": "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",
          "dtype": "f8"
         },
         "yaxis": "y"
        }
       ],
       "layout": {
        "legend": {
         "title": {
          "text": "Tipo di stima"
         },
         "tracegroupgap": 0
        },
        "template": {
         "data": {
          "bar": [
           {
            "error_x": {
             "color": "#2a3f5f"
            },
            "error_y": {
             "color": "#2a3f5f"
            },
            "marker": {
             "line": {
              "color": "white",
              "width": 0.5
             },
             "pattern": {
              "fillmode": "overlay",
              "size": 10,
              "solidity": 0.2
             }
            },
            "type": "bar"
           }
          ],
          "barpolar": [
           {
            "marker": {
             "line": {
              "color": "white",
              "width": 0.5
             },
             "pattern": {
              "fillmode": "overlay",
              "size": 10,
              "solidity": 0.2
             }
            },
            "type": "barpolar"
           }
          ],
          "carpet": [
           {
            "aaxis": {
             "endlinecolor": "#2a3f5f",
             "gridcolor": "#C8D4E3",
             "linecolor": "#C8D4E3",
             "minorgridcolor": "#C8D4E3",
             "startlinecolor": "#2a3f5f"
            },
            "baxis": {
             "endlinecolor": "#2a3f5f",
             "gridcolor": "#C8D4E3",
             "linecolor": "#C8D4E3",
             "minorgridcolor": "#C8D4E3",
             "startlinecolor": "#2a3f5f"
            },
            "type": "carpet"
           }
          ],
          "choropleth": [
           {
            "colorbar": {
             "outlinewidth": 0,
             "ticks": ""
            },
            "type": "choropleth"
           }
          ],
          "contour": [
           {
            "colorbar": {
             "outlinewidth": 0,
             "ticks": ""
            },
            "colorscale": [
             [
              0,
              "#0d0887"
             ],
             [
              0.1111111111111111,
              "#46039f"
             ],
             [
              0.2222222222222222,
              "#7201a8"
             ],
             [
              0.3333333333333333,
              "#9c179e"
             ],
             [
              0.4444444444444444,
              "#bd3786"
             ],
             [
              0.5555555555555556,
              "#d8576b"
             ],
             [
              0.6666666666666666,
              "#ed7953"
             ],
             [
              0.7777777777777778,
              "#fb9f3a"
             ],
             [
              0.8888888888888888,
              "#fdca26"
             ],
             [
              1,
              "#f0f921"
             ]
            ],
            "type": "contour"
           }
          ],
          "contourcarpet": [
           {
            "colorbar": {
             "outlinewidth": 0,
             "ticks": ""
            },
            "type": "contourcarpet"
           }
          ],
          "heatmap": [
           {
            "colorbar": {
             "outlinewidth": 0,
             "ticks": ""
            },
            "colorscale": [
             [
              0,
              "#0d0887"
             ],
             [
              0.1111111111111111,
              "#46039f"
             ],
             [
              0.2222222222222222,
              "#7201a8"
             ],
             [
              0.3333333333333333,
              "#9c179e"
             ],
             [
              0.4444444444444444,
              "#bd3786"
             ],
             [
              0.5555555555555556,
              "#d8576b"
             ],
             [
              0.6666666666666666,
              "#ed7953"
             ],
             [
              0.7777777777777778,
              "#fb9f3a"
             ],
             [
              0.8888888888888888,
              "#fdca26"
             ],
             [
              1,
              "#f0f921"
             ]
            ],
            "type": "heatmap"
           }
          ],
          "histogram": [
           {
            "marker": {
             "pattern": {
              "fillmode": "overlay",
              "size": 10,
              "solidity": 0.2
             }
            },
            "type": "histogram"
           }
          ],
          "histogram2d": [
           {
            "colorbar": {
             "outlinewidth": 0,
             "ticks": ""
            },
            "colorscale": [
             [
              0,
              "#0d0887"
             ],
             [
              0.1111111111111111,
              "#46039f"
             ],
             [
              0.2222222222222222,
              "#7201a8"
             ],
             [
              0.3333333333333333,
              "#9c179e"
             ],
             [
              0.4444444444444444,
              "#bd3786"
             ],
             [
              0.5555555555555556,
              "#d8576b"
             ],
             [
              0.6666666666666666,
              "#ed7953"
             ],
             [
              0.7777777777777778,
              "#fb9f3a"
             ],
             [
              0.8888888888888888,
              "#fdca26"
             ],
             [
              1,
              "#f0f921"
             ]
            ],
            "type": "histogram2d"
           }
          ],
          "histogram2dcontour": [
           {
            "colorbar": {
             "outlinewidth": 0,
             "ticks": ""
            },
            "colorscale": [
             [
              0,
              "#0d0887"
             ],
             [
              0.1111111111111111,
              "#46039f"
             ],
             [
              0.2222222222222222,
              "#7201a8"
             ],
             [
              0.3333333333333333,
              "#9c179e"
             ],
             [
              0.4444444444444444,
              "#bd3786"
             ],
             [
              0.5555555555555556,
              "#d8576b"
             ],
             [
              0.6666666666666666,
              "#ed7953"
             ],
             [
              0.7777777777777778,
              "#fb9f3a"
             ],
             [
              0.8888888888888888,
              "#fdca26"
             ],
             [
              1,
              "#f0f921"
             ]
            ],
            "type": "histogram2dcontour"
           }
          ],
          "mesh3d": [
           {
            "colorbar": {
             "outlinewidth": 0,
             "ticks": ""
            },
            "type": "mesh3d"
           }
          ],
          "parcoords": [
           {
            "line": {
             "colorbar": {
              "outlinewidth": 0,
              "ticks": ""
             }
            },
            "type": "parcoords"
           }
          ],
          "pie": [
           {
            "automargin": true,
            "type": "pie"
           }
          ],
          "scatter": [
           {
            "fillpattern": {
             "fillmode": "overlay",
             "size": 10,
             "solidity": 0.2
            },
            "type": "scatter"
           }
          ],
          "scatter3d": [
           {
            "line": {
             "colorbar": {
              "outlinewidth": 0,
              "ticks": ""
             }
            },
            "marker": {
             "colorbar": {
              "outlinewidth": 0,
              "ticks": ""
             }
            },
            "type": "scatter3d"
           }
          ],
          "scattercarpet": [
           {
            "marker": {
             "colorbar": {
              "outlinewidth": 0,
              "ticks": ""
             }
            },
            "type": "scattercarpet"
           }
          ],
          "scattergeo": [
           {
            "marker": {
             "colorbar": {
              "outlinewidth": 0,
              "ticks": ""
             }
            },
            "type": "scattergeo"
           }
          ],
          "scattergl": [
           {
            "marker": {
             "colorbar": {
              "outlinewidth": 0,
              "ticks": ""
             }
            },
            "type": "scattergl"
           }
          ],
          "scattermap": [
           {
            "marker": {
             "colorbar": {
              "outlinewidth": 0,
              "ticks": ""
             }
            },
            "type": "scattermap"
           }
          ],
          "scattermapbox": [
           {
            "marker": {
             "colorbar": {
              "outlinewidth": 0,
              "ticks": ""
             }
            },
            "type": "scattermapbox"
           }
          ],
          "scatterpolar": [
           {
            "marker": {
             "colorbar": {
              "outlinewidth": 0,
              "ticks": ""
             }
            },
            "type": "scatterpolar"
           }
          ],
          "scatterpolargl": [
           {
            "marker": {
             "colorbar": {
              "outlinewidth": 0,
              "ticks": ""
             }
            },
            "type": "scatterpolargl"
           }
          ],
          "scatterternary": [
           {
            "marker": {
             "colorbar": {
              "outlinewidth": 0,
              "ticks": ""
             }
            },
            "type": "scatterternary"
           }
          ],
          "surface": [
           {
            "colorbar": {
             "outlinewidth": 0,
             "ticks": ""
            },
            "colorscale": [
             [
              0,
              "#0d0887"
             ],
             [
              0.1111111111111111,
              "#46039f"
             ],
             [
              0.2222222222222222,
              "#7201a8"
             ],
             [
              0.3333333333333333,
              "#9c179e"
             ],
             [
              0.4444444444444444,
              "#bd3786"
             ],
             [
              0.5555555555555556,
              "#d8576b"
             ],
             [
              0.6666666666666666,
              "#ed7953"
             ],
             [
              0.7777777777777778,
              "#fb9f3a"
             ],
             [
              0.8888888888888888,
              "#fdca26"
             ],
             [
              1,
              "#f0f921"
             ]
            ],
            "type": "surface"
           }
          ],
          "table": [
           {
            "cells": {
             "fill": {
              "color": "#EBF0F8"
             },
             "line": {
              "color": "white"
             }
            },
            "header": {
             "fill": {
              "color": "#C8D4E3"
             },
             "line": {
              "color": "white"
             }
            },
            "type": "table"
           }
          ]
         },
         "layout": {
          "annotationdefaults": {
           "arrowcolor": "#2a3f5f",
           "arrowhead": 0,
           "arrowwidth": 1
          },
          "autotypenumbers": "strict",
          "coloraxis": {
           "colorbar": {
            "outlinewidth": 0,
            "ticks": ""
           }
          },
          "colorscale": {
           "diverging": [
            [
             0,
             "#8e0152"
            ],
            [
             0.1,
             "#c51b7d"
            ],
            [
             0.2,
             "#de77ae"
            ],
            [
             0.3,
             "#f1b6da"
            ],
            [
             0.4,
             "#fde0ef"
            ],
            [
             0.5,
             "#f7f7f7"
            ],
            [
             0.6,
             "#e6f5d0"
            ],
            [
             0.7,
             "#b8e186"
            ],
            [
             0.8,
             "#7fbc41"
            ],
            [
             0.9,
             "#4d9221"
            ],
            [
             1,
             "#276419"
            ]
           ],
           "sequential": [
            [
             0,
             "#0d0887"
            ],
            [
             0.1111111111111111,
             "#46039f"
            ],
            [
             0.2222222222222222,
             "#7201a8"
            ],
            [
             0.3333333333333333,
             "#9c179e"
            ],
            [
             0.4444444444444444,
             "#bd3786"
            ],
            [
             0.5555555555555556,
             "#d8576b"
            ],
            [
             0.6666666666666666,
             "#ed7953"
            ],
            [
             0.7777777777777778,
             "#fb9f3a"
            ],
            [
             0.8888888888888888,
             "#fdca26"
            ],
            [
             1,
             "#f0f921"
            ]
           ],
           "sequentialminus": [
            [
             0,
             "#0d0887"
            ],
            [
             0.1111111111111111,
             "#46039f"
            ],
            [
             0.2222222222222222,
             "#7201a8"
            ],
            [
             0.3333333333333333,
             "#9c179e"
            ],
            [
             0.4444444444444444,
             "#bd3786"
            ],
            [
             0.5555555555555556,
             "#d8576b"
            ],
            [
             0.6666666666666666,
             "#ed7953"
            ],
            [
             0.7777777777777778,
             "#fb9f3a"
            ],
            [
             0.8888888888888888,
             "#fdca26"
            ],
            [
             1,
             "#f0f921"
            ]
           ]
          },
          "colorway": [
           "#636efa",
           "#EF553B",
           "#00cc96",
           "#ab63fa",
           "#FFA15A",
           "#19d3f3",
           "#FF6692",
           "#B6E880",
           "#FF97FF",
           "#FECB52"
          ],
          "font": {
           "color": "#2a3f5f"
          },
          "geo": {
           "bgcolor": "white",
           "lakecolor": "white",
           "landcolor": "white",
           "showlakes": true,
           "showland": true,
           "subunitcolor": "#C8D4E3"
          },
          "hoverlabel": {
           "align": "left"
          },
          "hovermode": "closest",
          "mapbox": {
           "style": "light"
          },
          "paper_bgcolor": "white",
          "plot_bgcolor": "white",
          "polar": {
           "angularaxis": {
            "gridcolor": "#EBF0F8",
            "linecolor": "#EBF0F8",
            "ticks": ""
           },
           "bgcolor": "white",
           "radialaxis": {
            "gridcolor": "#EBF0F8",
            "linecolor": "#EBF0F8",
            "ticks": ""
           }
          },
          "scene": {
           "xaxis": {
            "backgroundcolor": "white",
            "gridcolor": "#DFE8F3",
            "gridwidth": 2,
            "linecolor": "#EBF0F8",
            "showbackground": true,
            "ticks": "",
            "zerolinecolor": "#EBF0F8"
           },
           "yaxis": {
            "backgroundcolor": "white",
            "gridcolor": "#DFE8F3",
            "gridwidth": 2,
            "linecolor": "#EBF0F8",
            "showbackground": true,
            "ticks": "",
            "zerolinecolor": "#EBF0F8"
           },
           "zaxis": {
            "backgroundcolor": "white",
            "gridcolor": "#DFE8F3",
            "gridwidth": 2,
            "linecolor": "#EBF0F8",
            "showbackground": true,
            "ticks": "",
            "zerolinecolor": "#EBF0F8"
           }
          },
          "shapedefaults": {
           "line": {
            "color": "#2a3f5f"
           }
          },
          "ternary": {
           "aaxis": {
            "gridcolor": "#DFE8F3",
            "linecolor": "#A2B1C6",
            "ticks": ""
           },
           "baxis": {
            "gridcolor": "#DFE8F3",
            "linecolor": "#A2B1C6",
            "ticks": ""
           },
           "bgcolor": "white",
           "caxis": {
            "gridcolor": "#DFE8F3",
            "linecolor": "#A2B1C6",
            "ticks": ""
           }
          },
          "title": {
           "x": 0.05
          },
          "xaxis": {
           "automargin": true,
           "gridcolor": "#EBF0F8",
           "linecolor": "#EBF0F8",
           "ticks": "",
           "title": {
            "standoff": 15
           },
           "zerolinecolor": "#EBF0F8",
           "zerolinewidth": 2
          },
          "yaxis": {
           "automargin": true,
           "gridcolor": "#EBF0F8",
           "linecolor": "#EBF0F8",
           "ticks": "",
           "title": {
            "standoff": 15
           },
           "zerolinecolor": "#EBF0F8",
           "zerolinewidth": 2
          }
         }
        },
        "title": {
         "text": "Probabilità di vittoria stimata vs osservata (con outlier rimossi)"
        },
        "xaxis": {
         "anchor": "y",
         "domain": [
          0,
          1
         ],
         "title": {
          "text": "Differenza di ranking (avversario - giocatore)"
         }
        },
        "yaxis": {
         "anchor": "x",
         "domain": [
          0,
          1
         ],
         "title": {
          "text": "Probabilità di vittoria"
         }
        }
       }
      }
     },
     "metadata": {},
     "output_type": "display_data"
    }
   ],
   "source": [
    "# Pulizia e preparazione\n",
    "df_clean = df[['winner_rank', 'loser_rank']].dropna()\n",
    "df_clean = df_clean[(df_clean['winner_rank'] > 0) & (df_clean['loser_rank'] > 0)]\n",
    "df_clean['rank_diff'] = df_clean['loser_rank'] - df_clean['winner_rank']\n",
    "\n",
    "# Rimuovi outlier estremi\n",
    "filtered_df = df_clean[(df_clean['rank_diff'] >= -150) & (df_clean['rank_diff'] <= 150)].copy()\n",
    "filtered_df['label'] = 1\n",
    "\n",
    "# Crea versione invertita\n",
    "reverse_df = filtered_df.copy()\n",
    "reverse_df['rank_diff'] = -reverse_df['rank_diff']\n",
    "reverse_df['label'] = 0\n",
    "\n",
    "# Unisci dataset\n",
    "full_df = pd.concat([filtered_df, reverse_df])\n",
    "\n",
    "# Fit modello logistico\n",
    "X = full_df[['rank_diff']]\n",
    "y = full_df['label']\n",
    "model = LogisticRegression()\n",
    "model.fit(X, y)\n",
    "full_df['predicted_prob'] = model.predict_proba(X)[:, 1]\n",
    "\n",
    "# Calcola win rate osservata per bin\n",
    "bin_width = 5\n",
    "full_df['rank_diff_bin'] = (full_df['rank_diff'] // bin_width) * bin_width\n",
    "true_win_rate = full_df.groupby('rank_diff_bin')['label'].mean().reset_index()\n",
    "true_win_rate.columns = ['rank_diff', 'true_win_rate']\n",
    "\n",
    "# Media predizioni per rank_diff\n",
    "plot_df = full_df.groupby('rank_diff')['predicted_prob'].mean().reset_index()\n",
    "plot_df = plot_df.merge(true_win_rate, on='rank_diff', how='left')\n",
    "\n",
    "# Grafico in stile Bellora™\n",
    "fig = px.line(\n",
    "    plot_df,\n",
    "    x='rank_diff',\n",
    "    y=['predicted_prob', 'true_win_rate'],\n",
    "    labels={\n",
    "        'value': 'Probabilità di vittoria',\n",
    "        'rank_diff': 'Differenza di ranking (avversario - giocatore)'\n",
    "    },\n",
    "    title='Probabilità di vittoria stimata vs osservata (con outlier rimossi)',\n",
    "    color_discrete_map={\n",
    "        'predicted_prob': '#d2f644',  # lime\n",
    "        'true_win_rate': '#000000'   # nero\n",
    "    }\n",
    ")\n",
    "\n",
    "fig.update_traces(mode='lines+markers')\n",
    "fig.update_layout(template='plotly_white', legend_title_text='Tipo di stima')\n",
    "fig.show()"
   ]
  }
 ],
 "metadata": {
  "kernelspec": {
   "display_name": "Python 3",
   "language": "python",
   "name": "python3"
  },
  "language_info": {
   "codemirror_mode": {
    "name": "ipython",
    "version": 3
   },
   "file_extension": ".py",
   "mimetype": "text/x-python",
   "name": "python",
   "nbconvert_exporter": "python",
   "pygments_lexer": "ipython3",
   "version": "3.13.2"
  }
 },
 "nbformat": 4,
 "nbformat_minor": 2
}
